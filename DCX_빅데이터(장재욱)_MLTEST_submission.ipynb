{
 "cells": [
  {
   "cell_type": "markdown",
   "metadata": {},
   "source": [
    "### 머신러닝 시험 답안지(MLTEST_submission)\n",
    "- 파일명에 본인 성명 기입하시오(Enter your name in the file name.)\n",
    "- 수업 중 배웠던 내용을 상기하여 최선을 다해 문제 풀어주세요.(Recall what you learned in class and do your best to solve the problem.)"
   ]
  },
  {
   "cell_type": "markdown",
   "metadata": {},
   "source": [
    "#### Question1"
   ]
  },
  {
   "cell_type": "markdown",
   "metadata": {},
   "source": [
    "문제 1-1. "
   ]
  },
  {
   "cell_type": "markdown",
   "metadata": {
    "ExecuteTime": {
     "end_time": "2023-09-25T01:07:44.104211Z",
     "start_time": "2023-09-25T01:07:44.099327Z"
    }
   },
   "source": [
    "    지도 학습 : 1, 2, 3, 5, 8 "
   ]
  },
  {
   "cell_type": "markdown",
   "metadata": {
    "ExecuteTime": {
     "end_time": "2023-09-25T01:08:26.607204Z",
     "start_time": "2023-09-25T01:08:26.603301Z"
    }
   },
   "source": [
    "    비지도 학습 : 4, 6, 7 "
   ]
  },
  {
   "cell_type": "markdown",
   "metadata": {},
   "source": [
    "문제 1-2."
   ]
  },
  {
   "cell_type": "markdown",
   "metadata": {
    "ExecuteTime": {
     "end_time": "2023-09-25T01:10:23.879107Z",
     "start_time": "2023-09-25T01:10:23.874255Z"
    }
   },
   "source": [
    "    : ㅁ => ㄱ => ㄷ => ㄴ => ㄹ "
   ]
  },
  {
   "cell_type": "markdown",
   "metadata": {},
   "source": [
    "#### Question2"
   ]
  },
  {
   "cell_type": "markdown",
   "metadata": {},
   "source": [
    "문제 2-1."
   ]
  },
  {
   "cell_type": "markdown",
   "metadata": {},
   "source": [
    "    : a, b, a, b "
   ]
  },
  {
   "cell_type": "markdown",
   "metadata": {},
   "source": [
    "#### Question3"
   ]
  },
  {
   "cell_type": "markdown",
   "metadata": {},
   "source": [
    "문제 3-1."
   ]
  },
  {
   "cell_type": "markdown",
   "metadata": {},
   "source": [
    "    : 지도 학습 (예:KNN 모델을 이용한 머신러닝)"
   ]
  },
  {
   "cell_type": "markdown",
   "metadata": {},
   "source": [
    "문제 3-2."
   ]
  },
  {
   "cell_type": "markdown",
   "metadata": {
    "ExecuteTime": {
     "end_time": "2023-09-25T01:24:37.376368Z",
     "start_time": "2023-09-25T01:24:37.371483Z"
    }
   },
   "source": [
    "    : 비지도 학습"
   ]
  },
  {
   "cell_type": "markdown",
   "metadata": {},
   "source": [
    "#### Question4"
   ]
  },
  {
   "cell_type": "markdown",
   "metadata": {},
   "source": [
    "문제 4-1."
   ]
  },
  {
   "cell_type": "markdown",
   "metadata": {},
   "source": [
    "    : 2, 3 "
   ]
  },
  {
   "cell_type": "markdown",
   "metadata": {},
   "source": [
    "문제 4-2."
   ]
  },
  {
   "cell_type": "markdown",
   "metadata": {},
   "source": [
    "    : 과대적합 "
   ]
  },
  {
   "cell_type": "markdown",
   "metadata": {},
   "source": [
    "문제 4-3."
   ]
  },
  {
   "cell_type": "markdown",
   "metadata": {},
   "source": [
    "    : 0.3 (30%)"
   ]
  },
  {
   "cell_type": "markdown",
   "metadata": {},
   "source": [
    "#### Question5"
   ]
  },
  {
   "cell_type": "markdown",
   "metadata": {},
   "source": [
    "문제 5-1."
   ]
  },
  {
   "cell_type": "markdown",
   "metadata": {},
   "source": [
    "    : 1"
   ]
  },
  {
   "cell_type": "markdown",
   "metadata": {},
   "source": [
    "#### Question6"
   ]
  },
  {
   "cell_type": "markdown",
   "metadata": {},
   "source": [
    "문제 6-1."
   ]
  },
  {
   "cell_type": "markdown",
   "metadata": {},
   "source": [
    "    : 4, 5 "
   ]
  },
  {
   "cell_type": "markdown",
   "metadata": {},
   "source": [
    "문제 6-2."
   ]
  },
  {
   "cell_type": "code",
   "execution_count": 8,
   "metadata": {
    "ExecuteTime": {
     "end_time": "2023-09-25T01:33:48.685100Z",
     "start_time": "2023-09-25T01:33:48.680196Z"
    }
   },
   "outputs": [],
   "source": [
    "# 도구 불러오기(Bring up tools)\n",
    "from sklearn.datasets import load_iris\n",
    "from sklearn.model_selection import train_test_split\n",
    "from sklearn.neighbors import KNeighborsClassifier\n",
    "from sklearn.model_selection import cross_val_score"
   ]
  },
  {
   "cell_type": "code",
   "execution_count": 9,
   "metadata": {
    "ExecuteTime": {
     "end_time": "2023-09-25T01:35:27.093433Z",
     "start_time": "2023-09-25T01:35:27.082720Z"
    }
   },
   "outputs": [],
   "source": [
    "# (1) iris data 불러오기 (Import iris data)"
   ]
  },
  {
   "cell_type": "code",
   "execution_count": 10,
   "metadata": {
    "ExecuteTime": {
     "end_time": "2023-09-25T01:35:36.784152Z",
     "start_time": "2023-09-25T01:35:36.778298Z"
    }
   },
   "outputs": [],
   "source": [
    "iris=load_iris()"
   ]
  },
  {
   "cell_type": "code",
   "execution_count": 11,
   "metadata": {
    "ExecuteTime": {
     "end_time": "2023-09-25T01:35:37.772735Z",
     "start_time": "2023-09-25T01:35:37.769810Z"
    }
   },
   "outputs": [],
   "source": [
    "# (2) iris data 문제와 답 분리 (iris data problem and answer separation)"
   ]
  },
  {
   "cell_type": "code",
   "execution_count": 16,
   "metadata": {
    "ExecuteTime": {
     "end_time": "2023-09-25T01:37:28.400059Z",
     "start_time": "2023-09-25T01:37:28.394229Z"
    }
   },
   "outputs": [
    {
     "data": {
      "text/plain": [
       "((150, 4), (150,))"
      ]
     },
     "execution_count": 16,
     "metadata": {},
     "output_type": "execute_result"
    }
   ],
   "source": [
    "X=iris['data']\n",
    "y=iris['target']\n",
    "X.shape,y.shape"
   ]
  },
  {
   "cell_type": "code",
   "execution_count": 17,
   "metadata": {
    "ExecuteTime": {
     "end_time": "2023-09-25T01:37:29.278223Z",
     "start_time": "2023-09-25T01:37:29.274319Z"
    }
   },
   "outputs": [],
   "source": [
    "# (3) 분리된 문제와 답을 train data와 test data로 분리(Separate problems and answers into train data and test data)"
   ]
  },
  {
   "cell_type": "code",
   "execution_count": 18,
   "metadata": {
    "ExecuteTime": {
     "end_time": "2023-09-25T01:38:22.583271Z",
     "start_time": "2023-09-25T01:38:22.570583Z"
    }
   },
   "outputs": [],
   "source": [
    "X_train,X_test,y_train,y_test=train_test_split(X,y,test_size=0.3,random_state=555)"
   ]
  },
  {
   "cell_type": "code",
   "execution_count": 19,
   "metadata": {
    "ExecuteTime": {
     "end_time": "2023-09-25T01:38:23.117121Z",
     "start_time": "2023-09-25T01:38:23.114195Z"
    }
   },
   "outputs": [],
   "source": [
    "# (4) KNN분류기 모델 생성 (이웃 수는 3) (Create a KNN classifier model (the number of neighbors is 3))"
   ]
  },
  {
   "cell_type": "code",
   "execution_count": 20,
   "metadata": {
    "ExecuteTime": {
     "end_time": "2023-09-25T01:38:56.757433Z",
     "start_time": "2023-09-25T01:38:56.754503Z"
    }
   },
   "outputs": [],
   "source": [
    "model_knn=KNeighborsClassifier(n_neighbors=3)"
   ]
  },
  {
   "cell_type": "code",
   "execution_count": 21,
   "metadata": {
    "ExecuteTime": {
     "end_time": "2023-09-25T01:38:57.277102Z",
     "start_time": "2023-09-25T01:38:57.274174Z"
    }
   },
   "outputs": [],
   "source": [
    "# (5) 교차검증 실행 (5 조각으로 나눠 진행) (Cross-validation run (split into 5 pieces))"
   ]
  },
  {
   "cell_type": "code",
   "execution_count": 24,
   "metadata": {
    "ExecuteTime": {
     "end_time": "2023-09-25T01:41:35.054330Z",
     "start_time": "2023-09-25T01:41:35.050426Z"
    }
   },
   "outputs": [],
   "source": [
    "import warnings\n",
    "warnings.filterwarnings('ignore')"
   ]
  },
  {
   "cell_type": "code",
   "execution_count": 27,
   "metadata": {
    "ExecuteTime": {
     "end_time": "2023-09-25T01:41:50.664291Z",
     "start_time": "2023-09-25T01:41:50.649653Z"
    }
   },
   "outputs": [
    {
     "data": {
      "text/plain": [
       "array([1.        , 0.9047619 , 1.        , 0.95238095, 1.        ])"
      ]
     },
     "execution_count": 27,
     "metadata": {},
     "output_type": "execute_result"
    }
   ],
   "source": [
    "result=cross_val_score(model_knn,X_train,y_train,cv=5)\n",
    "result"
   ]
  },
  {
   "cell_type": "code",
   "execution_count": 28,
   "metadata": {
    "ExecuteTime": {
     "end_time": "2023-09-25T01:41:51.053023Z",
     "start_time": "2023-09-25T01:41:51.050066Z"
    }
   },
   "outputs": [],
   "source": [
    "# (6) 결과 확인(실행결과 참고) (Check the result (refer to the execution result))"
   ]
  },
  {
   "cell_type": "code",
   "execution_count": 29,
   "metadata": {
    "ExecuteTime": {
     "end_time": "2023-09-25T01:42:19.748652Z",
     "start_time": "2023-09-25T01:42:19.737916Z"
    }
   },
   "outputs": [
    {
     "data": {
      "text/plain": [
       "0.9714285714285713"
      ]
     },
     "execution_count": 29,
     "metadata": {},
     "output_type": "execute_result"
    }
   ],
   "source": [
    "result.mean()"
   ]
  },
  {
   "cell_type": "markdown",
   "metadata": {},
   "source": [
    "#### Question7"
   ]
  },
  {
   "cell_type": "markdown",
   "metadata": {},
   "source": [
    "문제 7-1."
   ]
  },
  {
   "cell_type": "markdown",
   "metadata": {},
   "source": [
    "    : 2"
   ]
  },
  {
   "cell_type": "markdown",
   "metadata": {},
   "source": [
    "#### Question8"
   ]
  },
  {
   "cell_type": "markdown",
   "metadata": {},
   "source": [
    "문제 8-1."
   ]
  },
  {
   "cell_type": "markdown",
   "metadata": {},
   "source": [
    "    : 원핫인코딩 (0,1)"
   ]
  },
  {
   "cell_type": "markdown",
   "metadata": {},
   "source": [
    "문제 8-2."
   ]
  },
  {
   "cell_type": "markdown",
   "metadata": {},
   "source": [
    "    : 1, 4 "
   ]
  },
  {
   "cell_type": "markdown",
   "metadata": {},
   "source": [
    "#### Question9"
   ]
  },
  {
   "cell_type": "markdown",
   "metadata": {},
   "source": [
    "문제 9-1."
   ]
  },
  {
   "cell_type": "markdown",
   "metadata": {},
   "source": [
    "    : 1, 2, 3, 6, 8 "
   ]
  },
  {
   "cell_type": "markdown",
   "metadata": {},
   "source": [
    "문제 9-2."
   ]
  },
  {
   "cell_type": "markdown",
   "metadata": {},
   "source": [
    "    : 1, 2, 5, 7 "
   ]
  },
  {
   "cell_type": "markdown",
   "metadata": {},
   "source": [
    "문제 9-3."
   ]
  },
  {
   "cell_type": "markdown",
   "metadata": {},
   "source": [
    "    1번 : max_depth\n",
    "    2번 : max_leaf_nodes\n",
    "    3번 : min_samples_leaf\n",
    "    4번 : min_samples_split"
   ]
  },
  {
   "cell_type": "markdown",
   "metadata": {},
   "source": [
    "#### Question10"
   ]
  },
  {
   "cell_type": "markdown",
   "metadata": {},
   "source": [
    "문제 10-1."
   ]
  },
  {
   "cell_type": "markdown",
   "metadata": {},
   "source": [
    "    : 3, 5, 6 "
   ]
  },
  {
   "cell_type": "markdown",
   "metadata": {},
   "source": [
    "문제 10-2."
   ]
  },
  {
   "cell_type": "markdown",
   "metadata": {},
   "source": [
    "    : 1, 3, 5 "
   ]
  },
  {
   "cell_type": "markdown",
   "metadata": {},
   "source": [
    "#### Question11"
   ]
  },
  {
   "cell_type": "markdown",
   "metadata": {},
   "source": [
    "문제 11-1."
   ]
  },
  {
   "cell_type": "markdown",
   "metadata": {},
   "source": [
    "    : 1, 3, 5, "
   ]
  },
  {
   "cell_type": "markdown",
   "metadata": {},
   "source": [
    "#### Question12"
   ]
  },
  {
   "cell_type": "markdown",
   "metadata": {},
   "source": [
    "문제 12-1."
   ]
  },
  {
   "cell_type": "markdown",
   "metadata": {},
   "source": [
    "    : 2, 3, 4, 5 "
   ]
  },
  {
   "cell_type": "markdown",
   "metadata": {},
   "source": [
    "### 수고하셨습니다 ."
   ]
  }
 ],
 "metadata": {
  "kernelspec": {
   "display_name": "Python 3 (ipykernel)",
   "language": "python",
   "name": "python3"
  },
  "language_info": {
   "codemirror_mode": {
    "name": "ipython",
    "version": 3
   },
   "file_extension": ".py",
   "mimetype": "text/x-python",
   "name": "python",
   "nbconvert_exporter": "python",
   "pygments_lexer": "ipython3",
   "version": "3.9.13"
  },
  "toc": {
   "base_numbering": 1,
   "nav_menu": {},
   "number_sections": true,
   "sideBar": true,
   "skip_h1_title": false,
   "title_cell": "Table of Contents",
   "title_sidebar": "Contents",
   "toc_cell": false,
   "toc_position": {},
   "toc_section_display": true,
   "toc_window_display": false
  },
  "varInspector": {
   "cols": {
    "lenName": 16,
    "lenType": 16,
    "lenVar": 40
   },
   "kernels_config": {
    "python": {
     "delete_cmd_postfix": "",
     "delete_cmd_prefix": "del ",
     "library": "var_list.py",
     "varRefreshCmd": "print(var_dic_list())"
    },
    "r": {
     "delete_cmd_postfix": ") ",
     "delete_cmd_prefix": "rm(",
     "library": "var_list.r",
     "varRefreshCmd": "cat(var_dic_list()) "
    }
   },
   "types_to_exclude": [
    "module",
    "function",
    "builtin_function_or_method",
    "instance",
    "_Feature"
   ],
   "window_display": false
  }
 },
 "nbformat": 4,
 "nbformat_minor": 4
}
