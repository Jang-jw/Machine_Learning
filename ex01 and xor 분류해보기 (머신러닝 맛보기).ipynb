{
 "cells": [
  {
   "cell_type": "markdown",
   "id": "72f6ea3b",
   "metadata": {},
   "source": [
    "### 목표 설정\n",
    "- 논리연산자 and 와 xor 의 값을 예측해보자!"
   ]
  },
  {
   "cell_type": "code",
   "execution_count": 1,
   "id": "dd7ab96f",
   "metadata": {
    "ExecuteTime": {
     "end_time": "2023-08-30T08:38:30.165905Z",
     "start_time": "2023-08-30T08:38:29.563991Z"
    }
   },
   "outputs": [],
   "source": [
    "import pandas as pd"
   ]
  },
  {
   "cell_type": "code",
   "execution_count": 2,
   "id": "a49864e4",
   "metadata": {
    "ExecuteTime": {
     "end_time": "2023-08-30T08:38:46.651395Z",
     "start_time": "2023-08-30T08:38:46.625464Z"
    }
   },
   "outputs": [
    {
     "data": {
      "text/html": [
       "<div>\n",
       "<style scoped>\n",
       "    .dataframe tbody tr th:only-of-type {\n",
       "        vertical-align: middle;\n",
       "    }\n",
       "\n",
       "    .dataframe tbody tr th {\n",
       "        vertical-align: top;\n",
       "    }\n",
       "\n",
       "    .dataframe thead th {\n",
       "        text-align: right;\n",
       "    }\n",
       "</style>\n",
       "<table border=\"1\" class=\"dataframe\">\n",
       "  <thead>\n",
       "    <tr style=\"text-align: right;\">\n",
       "      <th></th>\n",
       "      <th>A</th>\n",
       "      <th>B</th>\n",
       "      <th>A and B</th>\n",
       "    </tr>\n",
       "  </thead>\n",
       "  <tbody>\n",
       "    <tr>\n",
       "      <th>0</th>\n",
       "      <td>1</td>\n",
       "      <td>0</td>\n",
       "      <td>0</td>\n",
       "    </tr>\n",
       "    <tr>\n",
       "      <th>1</th>\n",
       "      <td>0</td>\n",
       "      <td>0</td>\n",
       "      <td>0</td>\n",
       "    </tr>\n",
       "    <tr>\n",
       "      <th>2</th>\n",
       "      <td>0</td>\n",
       "      <td>1</td>\n",
       "      <td>0</td>\n",
       "    </tr>\n",
       "    <tr>\n",
       "      <th>3</th>\n",
       "      <td>1</td>\n",
       "      <td>1</td>\n",
       "      <td>1</td>\n",
       "    </tr>\n",
       "    <tr>\n",
       "      <th>4</th>\n",
       "      <td>1</td>\n",
       "      <td>0</td>\n",
       "      <td>0</td>\n",
       "    </tr>\n",
       "    <tr>\n",
       "      <th>5</th>\n",
       "      <td>0</td>\n",
       "      <td>1</td>\n",
       "      <td>0</td>\n",
       "    </tr>\n",
       "    <tr>\n",
       "      <th>6</th>\n",
       "      <td>0</td>\n",
       "      <td>1</td>\n",
       "      <td>0</td>\n",
       "    </tr>\n",
       "    <tr>\n",
       "      <th>7</th>\n",
       "      <td>1</td>\n",
       "      <td>1</td>\n",
       "      <td>1</td>\n",
       "    </tr>\n",
       "  </tbody>\n",
       "</table>\n",
       "</div>"
      ],
      "text/plain": [
       "   A  B  A and B\n",
       "0  1  0        0\n",
       "1  0  0        0\n",
       "2  0  1        0\n",
       "3  1  1        1\n",
       "4  1  0        0\n",
       "5  0  1        0\n",
       "6  0  1        0\n",
       "7  1  1        1"
      ]
     },
     "execution_count": 2,
     "metadata": {},
     "output_type": "execute_result"
    }
   ],
   "source": [
    "# and 게이트 만들기 - DataFrame 을 이용해서 논리게이트를 만들어보자\n",
    "and_data={\n",
    "          'A':[1,0,0,1,1,0,0,1],\n",
    "          'B':[0,0,1,1,0,1,1,1],\n",
    "    'A and B':[0,0,0,1,0,0,0,1]\n",
    "}\n",
    "df_and=pd.DataFrame(and_data)\n",
    "df_and"
   ]
  },
  {
   "cell_type": "code",
   "execution_count": 29,
   "id": "582075e1",
   "metadata": {
    "ExecuteTime": {
     "end_time": "2023-08-30T16:25:42.038005Z",
     "start_time": "2023-08-30T16:25:42.024573Z"
    }
   },
   "outputs": [],
   "source": [
    "# 머신러닝을 진행하기 위한 데이터 분할 \n",
    "# 문제와 정답 데이터를 분리 \n",
    "X=df_and.iloc[:,:2]\n",
    "y=df_and.iloc[:,2]"
   ]
  },
  {
   "cell_type": "code",
   "execution_count": 31,
   "id": "1d72e3c4",
   "metadata": {
    "ExecuteTime": {
     "end_time": "2023-08-30T16:26:28.173030Z",
     "start_time": "2023-08-30T16:26:28.160298Z"
    }
   },
   "outputs": [
    {
     "data": {
      "text/html": [
       "<div>\n",
       "<style scoped>\n",
       "    .dataframe tbody tr th:only-of-type {\n",
       "        vertical-align: middle;\n",
       "    }\n",
       "\n",
       "    .dataframe tbody tr th {\n",
       "        vertical-align: top;\n",
       "    }\n",
       "\n",
       "    .dataframe thead th {\n",
       "        text-align: right;\n",
       "    }\n",
       "</style>\n",
       "<table border=\"1\" class=\"dataframe\">\n",
       "  <thead>\n",
       "    <tr style=\"text-align: right;\">\n",
       "      <th></th>\n",
       "      <th>A</th>\n",
       "      <th>B</th>\n",
       "    </tr>\n",
       "  </thead>\n",
       "  <tbody>\n",
       "    <tr>\n",
       "      <th>0</th>\n",
       "      <td>1</td>\n",
       "      <td>0</td>\n",
       "    </tr>\n",
       "    <tr>\n",
       "      <th>1</th>\n",
       "      <td>0</td>\n",
       "      <td>0</td>\n",
       "    </tr>\n",
       "    <tr>\n",
       "      <th>2</th>\n",
       "      <td>0</td>\n",
       "      <td>1</td>\n",
       "    </tr>\n",
       "    <tr>\n",
       "      <th>3</th>\n",
       "      <td>1</td>\n",
       "      <td>1</td>\n",
       "    </tr>\n",
       "    <tr>\n",
       "      <th>4</th>\n",
       "      <td>1</td>\n",
       "      <td>0</td>\n",
       "    </tr>\n",
       "    <tr>\n",
       "      <th>5</th>\n",
       "      <td>0</td>\n",
       "      <td>1</td>\n",
       "    </tr>\n",
       "    <tr>\n",
       "      <th>6</th>\n",
       "      <td>0</td>\n",
       "      <td>1</td>\n",
       "    </tr>\n",
       "    <tr>\n",
       "      <th>7</th>\n",
       "      <td>1</td>\n",
       "      <td>1</td>\n",
       "    </tr>\n",
       "  </tbody>\n",
       "</table>\n",
       "</div>"
      ],
      "text/plain": [
       "   A  B\n",
       "0  1  0\n",
       "1  0  0\n",
       "2  0  1\n",
       "3  1  1\n",
       "4  1  0\n",
       "5  0  1\n",
       "6  0  1\n",
       "7  1  1"
      ]
     },
     "execution_count": 31,
     "metadata": {},
     "output_type": "execute_result"
    }
   ],
   "source": [
    "X"
   ]
  },
  {
   "cell_type": "code",
   "execution_count": 32,
   "id": "5902248b",
   "metadata": {
    "ExecuteTime": {
     "end_time": "2023-08-30T16:26:29.048014Z",
     "start_time": "2023-08-30T16:26:29.040844Z"
    }
   },
   "outputs": [
    {
     "data": {
      "text/plain": [
       "0    0\n",
       "1    0\n",
       "2    0\n",
       "3    1\n",
       "4    0\n",
       "5    0\n",
       "6    0\n",
       "7    1\n",
       "Name: A and B, dtype: int64"
      ]
     },
     "execution_count": 32,
     "metadata": {},
     "output_type": "execute_result"
    }
   ],
   "source": [
    "y"
   ]
  },
  {
   "cell_type": "code",
   "execution_count": 9,
   "id": "9009aa7b",
   "metadata": {
    "ExecuteTime": {
     "end_time": "2023-08-30T08:45:25.173727Z",
     "start_time": "2023-08-30T08:45:25.159799Z"
    }
   },
   "outputs": [
    {
     "name": "stdout",
     "output_type": "stream",
     "text": [
      "(8, 2)\n",
      "(8,)\n"
     ]
    }
   ],
   "source": [
    "print(X.shape)\n",
    "print(y.shape)"
   ]
  },
  {
   "cell_type": "code",
   "execution_count": 12,
   "id": "5205cc1c",
   "metadata": {
    "ExecuteTime": {
     "end_time": "2023-08-30T08:49:33.794410Z",
     "start_time": "2023-08-30T08:49:33.776476Z"
    }
   },
   "outputs": [],
   "source": [
    "# 훈련 데이터셋 / 정답 데이터셋으로 분리 \n",
    "X_train=X.iloc[:6,:]\n",
    "X_test=X.iloc[6:,:]\n",
    "y_train=y[:6]\n",
    "y_test=y[6:]"
   ]
  },
  {
   "cell_type": "code",
   "execution_count": 33,
   "id": "cb69f9bc",
   "metadata": {
    "ExecuteTime": {
     "end_time": "2023-08-30T16:29:30.186030Z",
     "start_time": "2023-08-30T16:29:30.181043Z"
    }
   },
   "outputs": [
    {
     "name": "stdout",
     "output_type": "stream",
     "text": [
      "(6, 2)\n",
      "(2, 2)\n",
      "(6,)\n",
      "(2,)\n"
     ]
    }
   ],
   "source": [
    "print(X_train.shape)\n",
    "print(X_test.shape)\n",
    "print(y_train.shape)\n",
    "print(y_test.shape)"
   ]
  },
  {
   "cell_type": "code",
   "execution_count": 34,
   "id": "dddf2018",
   "metadata": {
    "ExecuteTime": {
     "end_time": "2023-08-31T05:19:42.509203Z",
     "start_time": "2023-08-31T05:19:42.492273Z"
    }
   },
   "outputs": [],
   "source": [
    "# 머신러닝 모델을 사용해서 학습과 평가 / 예측을 진행해보자. \n",
    "# sklearn - 머신러닝에 관련된 모델 / 유용한 기능 / 데이터가 모여있는 라이브러리 "
   ]
  },
  {
   "cell_type": "code",
   "execution_count": 35,
   "id": "5cd45839",
   "metadata": {
    "ExecuteTime": {
     "end_time": "2023-08-31T05:21:58.740078Z",
     "start_time": "2023-08-31T05:21:58.723125Z"
    }
   },
   "outputs": [],
   "source": [
    "# 모델 import - 모델은 이미 구현된 알고리즘 \n",
    "from sklearn.neighbors import KNeighborsClassifier"
   ]
  },
  {
   "cell_type": "code",
   "execution_count": 36,
   "id": "cce56fec",
   "metadata": {
    "ExecuteTime": {
     "end_time": "2023-08-31T05:23:18.636969Z",
     "start_time": "2023-08-31T05:23:18.627994Z"
    }
   },
   "outputs": [],
   "source": [
    "# 모델 객체 생성 - 모델을 사용하기 쉽도록 튜닝하고 변수에 저장 \n",
    "knn_and=KNeighborsClassifier(n_neighbors=1)"
   ]
  },
  {
   "cell_type": "code",
   "execution_count": 38,
   "id": "21bb8da3",
   "metadata": {
    "ExecuteTime": {
     "end_time": "2023-08-31T05:25:38.299247Z",
     "start_time": "2023-08-31T05:25:38.275287Z"
    }
   },
   "outputs": [
    {
     "data": {
      "text/plain": [
       "KNeighborsClassifier(n_neighbors=1)"
      ]
     },
     "execution_count": 38,
     "metadata": {},
     "output_type": "execute_result"
    }
   ],
   "source": [
    "# 모델 학습 = fit(훈련용 문제데이터, 훈련용 정답데이터) \n",
    "knn_and.fit(X_train,y_train)"
   ]
  },
  {
   "cell_type": "code",
   "execution_count": 40,
   "id": "ef3e25bd",
   "metadata": {
    "ExecuteTime": {
     "end_time": "2023-08-31T05:30:30.751146Z",
     "start_time": "2023-08-31T05:30:30.747183Z"
    }
   },
   "outputs": [],
   "source": [
    "# 경고창을 무시\n",
    "import warnings\n",
    "warnings.filterwarnings('ignore')"
   ]
  },
  {
   "cell_type": "code",
   "execution_count": 43,
   "id": "00b8e183",
   "metadata": {
    "ExecuteTime": {
     "end_time": "2023-08-31T05:32:44.216697Z",
     "start_time": "2023-08-31T05:32:44.202905Z"
    }
   },
   "outputs": [],
   "source": [
    "# 모델 데이터 예측 - predict()\n",
    "pre=knn_and.predict(X_test) # 문제를 풀었던 답안지 "
   ]
  },
  {
   "cell_type": "code",
   "execution_count": 44,
   "id": "b6bde2f0",
   "metadata": {
    "ExecuteTime": {
     "end_time": "2023-08-31T05:32:50.391905Z",
     "start_time": "2023-08-31T05:32:50.386918Z"
    }
   },
   "outputs": [],
   "source": [
    "# 모델 예측 데이터 평가\n",
    "from sklearn.metrics import accuracy_score # 정확도 "
   ]
  },
  {
   "cell_type": "code",
   "execution_count": 45,
   "id": "77614700",
   "metadata": {
    "ExecuteTime": {
     "end_time": "2023-08-31T05:33:12.870021Z",
     "start_time": "2023-08-31T05:33:12.851074Z"
    }
   },
   "outputs": [
    {
     "data": {
      "text/plain": [
       "1.0"
      ]
     },
     "execution_count": 45,
     "metadata": {},
     "output_type": "execute_result"
    }
   ],
   "source": [
    "accuracy_score(y_test, pre)"
   ]
  },
  {
   "cell_type": "code",
   "execution_count": 46,
   "id": "4f568445",
   "metadata": {
    "ExecuteTime": {
     "end_time": "2023-08-31T05:35:53.413830Z",
     "start_time": "2023-08-31T05:35:53.402834Z"
    }
   },
   "outputs": [
    {
     "data": {
      "text/html": [
       "<div>\n",
       "<style scoped>\n",
       "    .dataframe tbody tr th:only-of-type {\n",
       "        vertical-align: middle;\n",
       "    }\n",
       "\n",
       "    .dataframe tbody tr th {\n",
       "        vertical-align: top;\n",
       "    }\n",
       "\n",
       "    .dataframe thead th {\n",
       "        text-align: right;\n",
       "    }\n",
       "</style>\n",
       "<table border=\"1\" class=\"dataframe\">\n",
       "  <thead>\n",
       "    <tr style=\"text-align: right;\">\n",
       "      <th></th>\n",
       "      <th>A</th>\n",
       "      <th>B</th>\n",
       "      <th>A xor B</th>\n",
       "    </tr>\n",
       "  </thead>\n",
       "  <tbody>\n",
       "    <tr>\n",
       "      <th>0</th>\n",
       "      <td>1</td>\n",
       "      <td>0</td>\n",
       "      <td>1</td>\n",
       "    </tr>\n",
       "    <tr>\n",
       "      <th>1</th>\n",
       "      <td>0</td>\n",
       "      <td>0</td>\n",
       "      <td>0</td>\n",
       "    </tr>\n",
       "    <tr>\n",
       "      <th>2</th>\n",
       "      <td>0</td>\n",
       "      <td>1</td>\n",
       "      <td>1</td>\n",
       "    </tr>\n",
       "    <tr>\n",
       "      <th>3</th>\n",
       "      <td>1</td>\n",
       "      <td>1</td>\n",
       "      <td>0</td>\n",
       "    </tr>\n",
       "    <tr>\n",
       "      <th>4</th>\n",
       "      <td>1</td>\n",
       "      <td>0</td>\n",
       "      <td>1</td>\n",
       "    </tr>\n",
       "    <tr>\n",
       "      <th>5</th>\n",
       "      <td>0</td>\n",
       "      <td>1</td>\n",
       "      <td>1</td>\n",
       "    </tr>\n",
       "    <tr>\n",
       "      <th>6</th>\n",
       "      <td>0</td>\n",
       "      <td>1</td>\n",
       "      <td>1</td>\n",
       "    </tr>\n",
       "    <tr>\n",
       "      <th>7</th>\n",
       "      <td>1</td>\n",
       "      <td>1</td>\n",
       "      <td>0</td>\n",
       "    </tr>\n",
       "  </tbody>\n",
       "</table>\n",
       "</div>"
      ],
      "text/plain": [
       "   A  B  A xor B\n",
       "0  1  0        1\n",
       "1  0  0        0\n",
       "2  0  1        1\n",
       "3  1  1        0\n",
       "4  1  0        1\n",
       "5  0  1        1\n",
       "6  0  1        1\n",
       "7  1  1        0"
      ]
     },
     "execution_count": 46,
     "metadata": {},
     "output_type": "execute_result"
    }
   ],
   "source": [
    "# xor 게이트 만들기 - DataFrame 을 이용해서 논리게이트를 만들어보자\n",
    "xor_data={\n",
    "          'A':[1,0,0,1,1,0,0,1],\n",
    "          'B':[0,0,1,1,0,1,1,1],\n",
    "    'A xor B':[1,0,1,0,1,1,1,0]\n",
    "}\n",
    "df_xor=pd.DataFrame(xor_data)\n",
    "df_xor"
   ]
  },
  {
   "cell_type": "code",
   "execution_count": 47,
   "id": "aebca00c",
   "metadata": {
    "ExecuteTime": {
     "end_time": "2023-08-31T05:37:02.840358Z",
     "start_time": "2023-08-31T05:37:02.834375Z"
    }
   },
   "outputs": [],
   "source": [
    "# 머신러닝을 진행하기 위한 데이터 분할 \n",
    "# 문제와 정답 데이터를 분리 \n",
    "X=df_xor.iloc[:,:2]\n",
    "y=df_xor.iloc[:,2]"
   ]
  },
  {
   "cell_type": "code",
   "execution_count": 48,
   "id": "f351ff20",
   "metadata": {
    "ExecuteTime": {
     "end_time": "2023-08-31T05:37:26.637429Z",
     "start_time": "2023-08-31T05:37:26.625430Z"
    }
   },
   "outputs": [],
   "source": [
    "# 훈련 데이터셋 / 정답 데이터셋으로 분리 \n",
    "X_train=X.iloc[:6,:]\n",
    "X_test=X.iloc[6:,:]\n",
    "y_train=y[:6]\n",
    "y_test=y[6:]"
   ]
  },
  {
   "cell_type": "code",
   "execution_count": 49,
   "id": "13b710b0",
   "metadata": {
    "ExecuteTime": {
     "end_time": "2023-08-31T05:37:37.741374Z",
     "start_time": "2023-08-31T05:37:37.737356Z"
    }
   },
   "outputs": [
    {
     "name": "stdout",
     "output_type": "stream",
     "text": [
      "(6, 2)\n",
      "(2, 2)\n",
      "(6,)\n",
      "(2,)\n"
     ]
    }
   ],
   "source": [
    "print(X_train.shape)\n",
    "print(X_test.shape)\n",
    "print(y_train.shape)\n",
    "print(y_test.shape)"
   ]
  },
  {
   "cell_type": "code",
   "execution_count": 50,
   "id": "6c803f6d",
   "metadata": {
    "ExecuteTime": {
     "end_time": "2023-08-31T05:39:38.207359Z",
     "start_time": "2023-08-31T05:39:38.194394Z"
    }
   },
   "outputs": [],
   "source": [
    "# 모델 객체 생성\n",
    "knn_xor=KNeighborsClassifier(n_neighbors=1)"
   ]
  },
  {
   "cell_type": "code",
   "execution_count": 51,
   "id": "8318a526",
   "metadata": {
    "ExecuteTime": {
     "end_time": "2023-08-31T05:40:07.474508Z",
     "start_time": "2023-08-31T05:40:07.457544Z"
    }
   },
   "outputs": [
    {
     "data": {
      "text/plain": [
       "KNeighborsClassifier(n_neighbors=1)"
      ]
     },
     "execution_count": 51,
     "metadata": {},
     "output_type": "execute_result"
    }
   ],
   "source": [
    "# 모델 학습\n",
    "knn_xor.fit(X_train,y_train)"
   ]
  },
  {
   "cell_type": "code",
   "execution_count": 52,
   "id": "a3a47b06",
   "metadata": {
    "ExecuteTime": {
     "end_time": "2023-08-31T05:40:39.473990Z",
     "start_time": "2023-08-31T05:40:39.458042Z"
    }
   },
   "outputs": [
    {
     "data": {
      "text/plain": [
       "array([1, 0], dtype=int64)"
      ]
     },
     "execution_count": 52,
     "metadata": {},
     "output_type": "execute_result"
    }
   ],
   "source": [
    "# 모델 데이터 예측\n",
    "knn_xor.predict(X_test)"
   ]
  },
  {
   "cell_type": "code",
   "execution_count": 53,
   "id": "9395015b",
   "metadata": {
    "ExecuteTime": {
     "end_time": "2023-08-31T05:42:27.456789Z",
     "start_time": "2023-08-31T05:42:27.449847Z"
    }
   },
   "outputs": [
    {
     "data": {
      "text/plain": [
       "1.0"
      ]
     },
     "execution_count": 53,
     "metadata": {},
     "output_type": "execute_result"
    }
   ],
   "source": [
    "# 모델 데이터 예측 평가\n",
    "# score(평가용 문제 데이터, 평가용 정답 데이터) : 간단하게 모델의 성능을 평가하는 함수 \n",
    "knn_xor.score(X_test,y_test)"
   ]
  },
  {
   "cell_type": "code",
   "execution_count": null,
   "id": "56fa7a19",
   "metadata": {},
   "outputs": [],
   "source": []
  }
 ],
 "metadata": {
  "kernelspec": {
   "display_name": "Python 3 (ipykernel)",
   "language": "python",
   "name": "python3"
  },
  "language_info": {
   "codemirror_mode": {
    "name": "ipython",
    "version": 3
   },
   "file_extension": ".py",
   "mimetype": "text/x-python",
   "name": "python",
   "nbconvert_exporter": "python",
   "pygments_lexer": "ipython3",
   "version": "3.9.13"
  },
  "toc": {
   "base_numbering": 1,
   "nav_menu": {},
   "number_sections": true,
   "sideBar": true,
   "skip_h1_title": false,
   "title_cell": "Table of Contents",
   "title_sidebar": "Contents",
   "toc_cell": false,
   "toc_position": {},
   "toc_section_display": true,
   "toc_window_display": false
  },
  "varInspector": {
   "cols": {
    "lenName": 16,
    "lenType": 16,
    "lenVar": 40
   },
   "kernels_config": {
    "python": {
     "delete_cmd_postfix": "",
     "delete_cmd_prefix": "del ",
     "library": "var_list.py",
     "varRefreshCmd": "print(var_dic_list())"
    },
    "r": {
     "delete_cmd_postfix": ") ",
     "delete_cmd_prefix": "rm(",
     "library": "var_list.r",
     "varRefreshCmd": "cat(var_dic_list()) "
    }
   },
   "types_to_exclude": [
    "module",
    "function",
    "builtin_function_or_method",
    "instance",
    "_Feature"
   ],
   "window_display": false
  }
 },
 "nbformat": 4,
 "nbformat_minor": 5
}
