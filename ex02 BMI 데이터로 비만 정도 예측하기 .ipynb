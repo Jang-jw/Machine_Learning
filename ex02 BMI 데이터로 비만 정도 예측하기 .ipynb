{
 "cells": [
  {
   "cell_type": "markdown",
   "id": "d34976b7",
   "metadata": {},
   "source": [
    "### 문제 정의\n",
    "- 500명의 성별, 키, 몸무게, 비만도(정답)를 이용해서 비만 정도를 판단하는 모델을 만들어보자."
   ]
  },
  {
   "cell_type": "markdown",
   "id": "1728fc9e",
   "metadata": {},
   "source": [
    "### 데이터 수집 (csv 파일 불러오기)"
   ]
  },
  {
   "cell_type": "code",
   "execution_count": 2,
   "id": "ee3e8b00",
   "metadata": {
    "ExecuteTime": {
     "end_time": "2023-08-31T06:17:24.607538Z",
     "start_time": "2023-08-31T06:17:23.653630Z"
    }
   },
   "outputs": [],
   "source": [
    "# 필요한 라이브러리 import\n",
    "import pandas as pd\n",
    "import numpy as np\n",
    "from matplotlib import pyplot as plt"
   ]
  },
  {
   "cell_type": "code",
   "execution_count": 4,
   "id": "5aedd842",
   "metadata": {
    "ExecuteTime": {
     "end_time": "2023-08-31T06:18:36.944924Z",
     "start_time": "2023-08-31T06:18:36.917764Z"
    }
   },
   "outputs": [
    {
     "data": {
      "text/html": [
       "<div>\n",
       "<style scoped>\n",
       "    .dataframe tbody tr th:only-of-type {\n",
       "        vertical-align: middle;\n",
       "    }\n",
       "\n",
       "    .dataframe tbody tr th {\n",
       "        vertical-align: top;\n",
       "    }\n",
       "\n",
       "    .dataframe thead th {\n",
       "        text-align: right;\n",
       "    }\n",
       "</style>\n",
       "<table border=\"1\" class=\"dataframe\">\n",
       "  <thead>\n",
       "    <tr style=\"text-align: right;\">\n",
       "      <th></th>\n",
       "      <th>Gender</th>\n",
       "      <th>Height</th>\n",
       "      <th>Weight</th>\n",
       "    </tr>\n",
       "    <tr>\n",
       "      <th>Label</th>\n",
       "      <th></th>\n",
       "      <th></th>\n",
       "      <th></th>\n",
       "    </tr>\n",
       "  </thead>\n",
       "  <tbody>\n",
       "    <tr>\n",
       "      <th>Obesity</th>\n",
       "      <td>Male</td>\n",
       "      <td>174</td>\n",
       "      <td>96</td>\n",
       "    </tr>\n",
       "    <tr>\n",
       "      <th>Normal</th>\n",
       "      <td>Male</td>\n",
       "      <td>189</td>\n",
       "      <td>87</td>\n",
       "    </tr>\n",
       "    <tr>\n",
       "      <th>Obesity</th>\n",
       "      <td>Female</td>\n",
       "      <td>185</td>\n",
       "      <td>110</td>\n",
       "    </tr>\n",
       "    <tr>\n",
       "      <th>Overweight</th>\n",
       "      <td>Female</td>\n",
       "      <td>195</td>\n",
       "      <td>104</td>\n",
       "    </tr>\n",
       "    <tr>\n",
       "      <th>Overweight</th>\n",
       "      <td>Male</td>\n",
       "      <td>149</td>\n",
       "      <td>61</td>\n",
       "    </tr>\n",
       "    <tr>\n",
       "      <th>...</th>\n",
       "      <td>...</td>\n",
       "      <td>...</td>\n",
       "      <td>...</td>\n",
       "    </tr>\n",
       "    <tr>\n",
       "      <th>Extreme Obesity</th>\n",
       "      <td>Female</td>\n",
       "      <td>150</td>\n",
       "      <td>153</td>\n",
       "    </tr>\n",
       "    <tr>\n",
       "      <th>Obesity</th>\n",
       "      <td>Female</td>\n",
       "      <td>184</td>\n",
       "      <td>121</td>\n",
       "    </tr>\n",
       "    <tr>\n",
       "      <th>Extreme Obesity</th>\n",
       "      <td>Female</td>\n",
       "      <td>141</td>\n",
       "      <td>136</td>\n",
       "    </tr>\n",
       "    <tr>\n",
       "      <th>Extreme Obesity</th>\n",
       "      <td>Male</td>\n",
       "      <td>150</td>\n",
       "      <td>95</td>\n",
       "    </tr>\n",
       "    <tr>\n",
       "      <th>Extreme Obesity</th>\n",
       "      <td>Male</td>\n",
       "      <td>173</td>\n",
       "      <td>131</td>\n",
       "    </tr>\n",
       "  </tbody>\n",
       "</table>\n",
       "<p>500 rows × 3 columns</p>\n",
       "</div>"
      ],
      "text/plain": [
       "                 Gender  Height  Weight\n",
       "Label                                  \n",
       "Obesity            Male     174      96\n",
       "Normal             Male     189      87\n",
       "Obesity          Female     185     110\n",
       "Overweight       Female     195     104\n",
       "Overweight         Male     149      61\n",
       "...                 ...     ...     ...\n",
       "Extreme Obesity  Female     150     153\n",
       "Obesity          Female     184     121\n",
       "Extreme Obesity  Female     141     136\n",
       "Extreme Obesity    Male     150      95\n",
       "Extreme Obesity    Male     173     131\n",
       "\n",
       "[500 rows x 3 columns]"
      ]
     },
     "execution_count": 4,
     "metadata": {},
     "output_type": "execute_result"
    }
   ],
   "source": [
    "bmi=pd.read_csv('./data/bmi_500.csv', index_col='Label')\n",
    "bmi"
   ]
  },
  {
   "cell_type": "markdown",
   "id": "8fcbe6be",
   "metadata": {},
   "source": [
    "### 데이터 전처리"
   ]
  },
  {
   "cell_type": "code",
   "execution_count": 5,
   "id": "8fbe63d7",
   "metadata": {
    "ExecuteTime": {
     "end_time": "2023-08-31T06:19:15.381609Z",
     "start_time": "2023-08-31T06:19:15.364680Z"
    }
   },
   "outputs": [
    {
     "name": "stdout",
     "output_type": "stream",
     "text": [
      "<class 'pandas.core.frame.DataFrame'>\n",
      "Index: 500 entries, Obesity to Extreme Obesity\n",
      "Data columns (total 3 columns):\n",
      " #   Column  Non-Null Count  Dtype \n",
      "---  ------  --------------  ----- \n",
      " 0   Gender  500 non-null    object\n",
      " 1   Height  500 non-null    int64 \n",
      " 2   Weight  500 non-null    int64 \n",
      "dtypes: int64(2), object(1)\n",
      "memory usage: 15.6+ KB\n"
     ]
    }
   ],
   "source": [
    "# 결측치 확인\n",
    "# info() : 데이터 프레임의 간략한 정보를 제공 \n",
    "bmi.info()"
   ]
  },
  {
   "cell_type": "markdown",
   "id": "e1f49ef5",
   "metadata": {},
   "source": [
    "- 결측치가 없다! => 학습용 데이터라 데이터가 깔끔하다\n",
    "- 전처리 pass!"
   ]
  },
  {
   "cell_type": "markdown",
   "id": "01b0e374",
   "metadata": {},
   "source": [
    "### 탐색적 데이터 분석"
   ]
  },
  {
   "cell_type": "code",
   "execution_count": 6,
   "id": "09216955",
   "metadata": {
    "ExecuteTime": {
     "end_time": "2023-08-31T06:25:00.136587Z",
     "start_time": "2023-08-31T06:25:00.117638Z"
    }
   },
   "outputs": [
    {
     "data": {
      "text/html": [
       "<div>\n",
       "<style scoped>\n",
       "    .dataframe tbody tr th:only-of-type {\n",
       "        vertical-align: middle;\n",
       "    }\n",
       "\n",
       "    .dataframe tbody tr th {\n",
       "        vertical-align: top;\n",
       "    }\n",
       "\n",
       "    .dataframe thead th {\n",
       "        text-align: right;\n",
       "    }\n",
       "</style>\n",
       "<table border=\"1\" class=\"dataframe\">\n",
       "  <thead>\n",
       "    <tr style=\"text-align: right;\">\n",
       "      <th></th>\n",
       "      <th>Height</th>\n",
       "      <th>Weight</th>\n",
       "    </tr>\n",
       "  </thead>\n",
       "  <tbody>\n",
       "    <tr>\n",
       "      <th>count</th>\n",
       "      <td>500.000000</td>\n",
       "      <td>500.000000</td>\n",
       "    </tr>\n",
       "    <tr>\n",
       "      <th>mean</th>\n",
       "      <td>169.944000</td>\n",
       "      <td>106.000000</td>\n",
       "    </tr>\n",
       "    <tr>\n",
       "      <th>std</th>\n",
       "      <td>16.375261</td>\n",
       "      <td>32.382607</td>\n",
       "    </tr>\n",
       "    <tr>\n",
       "      <th>min</th>\n",
       "      <td>140.000000</td>\n",
       "      <td>50.000000</td>\n",
       "    </tr>\n",
       "    <tr>\n",
       "      <th>25%</th>\n",
       "      <td>156.000000</td>\n",
       "      <td>80.000000</td>\n",
       "    </tr>\n",
       "    <tr>\n",
       "      <th>50%</th>\n",
       "      <td>170.500000</td>\n",
       "      <td>106.000000</td>\n",
       "    </tr>\n",
       "    <tr>\n",
       "      <th>75%</th>\n",
       "      <td>184.000000</td>\n",
       "      <td>136.000000</td>\n",
       "    </tr>\n",
       "    <tr>\n",
       "      <th>max</th>\n",
       "      <td>199.000000</td>\n",
       "      <td>160.000000</td>\n",
       "    </tr>\n",
       "  </tbody>\n",
       "</table>\n",
       "</div>"
      ],
      "text/plain": [
       "           Height      Weight\n",
       "count  500.000000  500.000000\n",
       "mean   169.944000  106.000000\n",
       "std     16.375261   32.382607\n",
       "min    140.000000   50.000000\n",
       "25%    156.000000   80.000000\n",
       "50%    170.500000  106.000000\n",
       "75%    184.000000  136.000000\n",
       "max    199.000000  160.000000"
      ]
     },
     "execution_count": 6,
     "metadata": {},
     "output_type": "execute_result"
    }
   ],
   "source": [
    "# 기술 통계치를 확인 \n",
    "bmi.describe()\n",
    "# 데이터 프레임에 수치형과 문자형 데이터가 같이 있을때는 수치형 데이터만 통계치 출력 "
   ]
  },
  {
   "cell_type": "code",
   "execution_count": 7,
   "id": "4adc65ab",
   "metadata": {
    "ExecuteTime": {
     "end_time": "2023-08-31T06:29:59.905402Z",
     "start_time": "2023-08-31T06:29:59.892469Z"
    }
   },
   "outputs": [
    {
     "data": {
      "text/plain": [
       "Index(['Obesity', 'Normal', 'Overweight', 'Extreme Obesity', 'Weak',\n",
       "       'Extremely Weak'],\n",
       "      dtype='object', name='Label')"
      ]
     },
     "execution_count": 7,
     "metadata": {},
     "output_type": "execute_result"
    }
   ],
   "source": [
    "# 정답에 해당하는 인덱스 부분의 고윳값을 살펴보자 \n",
    "bmi.index.unique()"
   ]
  },
  {
   "cell_type": "markdown",
   "id": "243f70bf",
   "metadata": {},
   "source": [
    "- 'Obesity' : 비만 \n",
    "- 'Normal' : 보통 \n",
    "- 'Overweight' : 과체중 \n",
    "- 'Extreme Obesity' : 고도 비만 \n",
    "- 'Weak' : 저체중 \n",
    "- 'Extremely Weak' : 심각한 저체중 "
   ]
  },
  {
   "cell_type": "code",
   "execution_count": 9,
   "id": "8c19f832",
   "metadata": {
    "ExecuteTime": {
     "end_time": "2023-08-31T06:33:49.680995Z",
     "start_time": "2023-08-31T06:33:49.668005Z"
    }
   },
   "outputs": [],
   "source": [
    "# 키와 몸무게 데이터를 산점도로 표시하는 함수를 만들어서 구분을 해보자. "
   ]
  },
  {
   "cell_type": "code",
   "execution_count": 10,
   "id": "2c0f6567",
   "metadata": {
    "ExecuteTime": {
     "end_time": "2023-08-31T06:34:51.551467Z",
     "start_time": "2023-08-31T06:34:51.227857Z"
    }
   },
   "outputs": [
    {
     "data": {
      "image/png": "[encoded data removed]",
      "text/plain": [
       "<Figure size 640x480 with 1 Axes>"
      ]
     },
     "metadata": {},
     "output_type": "display_data"
    }
   ],
   "source": [
    "# scatter() : 산점도를 그려주는 함수 \n",
    "plt.scatter(bmi['Weight'],bmi['Height'])\n",
    "plt.show()"
   ]
  },
  {
   "cell_type": "code",
   "execution_count": 11,
   "id": "214e7417",
   "metadata": {
    "ExecuteTime": {
     "end_time": "2023-08-31T06:37:34.870532Z",
     "start_time": "2023-08-31T06:37:34.851608Z"
    }
   },
   "outputs": [],
   "source": [
    "def myScatter(index,color):\n",
    "    tmp=bmi.loc[index]\n",
    "    plt.scatter(tmp['Weight'],tmp['Height'],\n",
    "               c=color,\n",
    "               label=index\n",
    "               )"
   ]
  },
  {
   "cell_type": "code",
   "execution_count": 18,
   "id": "1a145d4e",
   "metadata": {
    "ExecuteTime": {
     "end_time": "2023-08-31T06:47:13.536579Z",
     "start_time": "2023-08-31T06:47:13.530551Z"
    }
   },
   "outputs": [
    {
     "data": {
      "text/plain": [
       "Index(['Obesity', 'Normal', 'Obesity', 'Overweight', 'Overweight',\n",
       "       'Overweight', 'Extreme Obesity', 'Extreme Obesity', 'Overweight',\n",
       "       'Obesity',\n",
       "       ...\n",
       "       'Normal', 'Extreme Obesity', 'Extremely Weak', 'Weak',\n",
       "       'Extreme Obesity', 'Extreme Obesity', 'Obesity', 'Extreme Obesity',\n",
       "       'Extreme Obesity', 'Extreme Obesity'],\n",
       "      dtype='object', name='Label', length=500)"
      ]
     },
     "execution_count": 18,
     "metadata": {},
     "output_type": "execute_result"
    }
   ],
   "source": [
    "bmi.index"
   ]
  },
  {
   "cell_type": "code",
   "execution_count": 14,
   "id": "d4cbcab8",
   "metadata": {
    "ExecuteTime": {
     "end_time": "2023-08-31T06:41:49.838079Z",
     "start_time": "2023-08-31T06:41:49.651860Z"
    }
   },
   "outputs": [
    {
     "data": {
      "image/png": "[encoded data removed]",
      "text/plain": [
       "<Figure size 500x500 with 1 Axes>"
      ]
     },
     "metadata": {},
     "output_type": "display_data"
    }
   ],
   "source": [
    "# 본격적으로 그래프를 그려보자.\n",
    "plt.figure(figsize=(5,5)) # 전체 그래프의 가로, 세로 크기 설정 \n",
    "\n",
    "myScatter('Obesity','black')\n",
    "myScatter('Extreme Obesity','pink')\n",
    "myScatter('Normal','green')\n",
    "myScatter('Overweight','blue')\n",
    "myScatter('Weak','red')\n",
    "myScatter('Extremely Weak','purple')\n",
    "\n",
    "plt.legend() # 범례 \n",
    "plt.xlabel('Weight')\n",
    "plt.ylabel('Height')\n",
    "plt.show()"
   ]
  },
  {
   "cell_type": "markdown",
   "id": "b306e74c",
   "metadata": {},
   "source": [
    "- 몸무게와 키에 따른 데이터 분포를 직관적으로 확인해 볼 수 있었다. "
   ]
  },
  {
   "cell_type": "markdown",
   "id": "98e4cfba",
   "metadata": {},
   "source": [
    "### 모델링 (모델 선택, 학습, 평가)\n",
    "- 1. 문제와 정답으로 분리\n",
    "- 2. 학습 데이터와 평가 데이터로 분리 \n",
    "- 3. 모델 생성 및 하이퍼 파라미터 조정\n",
    "- 4. 학습 및 평가"
   ]
  },
  {
   "cell_type": "code",
   "execution_count": 19,
   "id": "01ca82b4",
   "metadata": {
    "ExecuteTime": {
     "end_time": "2023-08-31T06:49:11.320588Z",
     "start_time": "2023-08-31T06:49:11.306297Z"
    }
   },
   "outputs": [
    {
     "data": {
      "text/html": [
       "<div>\n",
       "<style scoped>\n",
       "    .dataframe tbody tr th:only-of-type {\n",
       "        vertical-align: middle;\n",
       "    }\n",
       "\n",
       "    .dataframe tbody tr th {\n",
       "        vertical-align: top;\n",
       "    }\n",
       "\n",
       "    .dataframe thead th {\n",
       "        text-align: right;\n",
       "    }\n",
       "</style>\n",
       "<table border=\"1\" class=\"dataframe\">\n",
       "  <thead>\n",
       "    <tr style=\"text-align: right;\">\n",
       "      <th></th>\n",
       "      <th>Gender</th>\n",
       "      <th>Height</th>\n",
       "      <th>Weight</th>\n",
       "      <th>Label</th>\n",
       "    </tr>\n",
       "  </thead>\n",
       "  <tbody>\n",
       "    <tr>\n",
       "      <th>0</th>\n",
       "      <td>Male</td>\n",
       "      <td>174</td>\n",
       "      <td>96</td>\n",
       "      <td>Obesity</td>\n",
       "    </tr>\n",
       "    <tr>\n",
       "      <th>1</th>\n",
       "      <td>Male</td>\n",
       "      <td>189</td>\n",
       "      <td>87</td>\n",
       "      <td>Normal</td>\n",
       "    </tr>\n",
       "    <tr>\n",
       "      <th>2</th>\n",
       "      <td>Female</td>\n",
       "      <td>185</td>\n",
       "      <td>110</td>\n",
       "      <td>Obesity</td>\n",
       "    </tr>\n",
       "    <tr>\n",
       "      <th>3</th>\n",
       "      <td>Female</td>\n",
       "      <td>195</td>\n",
       "      <td>104</td>\n",
       "      <td>Overweight</td>\n",
       "    </tr>\n",
       "    <tr>\n",
       "      <th>4</th>\n",
       "      <td>Male</td>\n",
       "      <td>149</td>\n",
       "      <td>61</td>\n",
       "      <td>Overweight</td>\n",
       "    </tr>\n",
       "  </tbody>\n",
       "</table>\n",
       "</div>"
      ],
      "text/plain": [
       "   Gender  Height  Weight       Label\n",
       "0    Male     174      96     Obesity\n",
       "1    Male     189      87      Normal\n",
       "2  Female     185     110     Obesity\n",
       "3  Female     195     104  Overweight\n",
       "4    Male     149      61  Overweight"
      ]
     },
     "execution_count": 19,
     "metadata": {},
     "output_type": "execute_result"
    }
   ],
   "source": [
    "data=pd.read_csv('./data/bmi_500.csv')\n",
    "data.head()"
   ]
  },
  {
   "cell_type": "code",
   "execution_count": 20,
   "id": "e0ce0caf",
   "metadata": {
    "ExecuteTime": {
     "end_time": "2023-08-31T06:50:58.901063Z",
     "start_time": "2023-08-31T06:50:58.890093Z"
    }
   },
   "outputs": [],
   "source": [
    "# 문제와 정답을 분리해보자. \n",
    "X=data.loc[:,'Height':'Weight']\n",
    "y=data['Label']"
   ]
  },
  {
   "cell_type": "code",
   "execution_count": 21,
   "id": "ec742c72",
   "metadata": {
    "ExecuteTime": {
     "end_time": "2023-08-31T06:51:12.319007Z",
     "start_time": "2023-08-31T06:51:12.306068Z"
    }
   },
   "outputs": [
    {
     "name": "stdout",
     "output_type": "stream",
     "text": [
      "(500, 2)\n",
      "(500,)\n"
     ]
    }
   ],
   "source": [
    "print(X.shape)\n",
    "print(y.shape)"
   ]
  },
  {
   "cell_type": "code",
   "execution_count": 22,
   "id": "0da5ef48",
   "metadata": {
    "ExecuteTime": {
     "end_time": "2023-08-31T06:54:18.539063Z",
     "start_time": "2023-08-31T06:54:18.521112Z"
    }
   },
   "outputs": [],
   "source": [
    "# 학습, 평가 데이터 분리(train 350 : test 50)\n",
    "X_train=X.iloc[:350]\n",
    "X_test=X.iloc[350:]\n",
    "y_train=y[:350]\n",
    "y_test=y[350:]"
   ]
  },
  {
   "cell_type": "code",
   "execution_count": 25,
   "id": "0ba13645",
   "metadata": {
    "ExecuteTime": {
     "end_time": "2023-08-31T06:56:06.770296Z",
     "start_time": "2023-08-31T06:56:06.761306Z"
    }
   },
   "outputs": [
    {
     "name": "stdout",
     "output_type": "stream",
     "text": [
      "(350, 2)\n",
      "(150, 2)\n",
      "(350,)\n",
      "(150,)\n"
     ]
    }
   ],
   "source": [
    "print(X_train.shape)\n",
    "print(X_test.shape)\n",
    "print(y_train.shape)\n",
    "print(y_test.shape)"
   ]
  },
  {
   "cell_type": "code",
   "execution_count": 26,
   "id": "7e3199c0",
   "metadata": {
    "ExecuteTime": {
     "end_time": "2023-08-31T06:57:15.495482Z",
     "start_time": "2023-08-31T06:57:15.488506Z"
    }
   },
   "outputs": [],
   "source": [
    "# 모델 import \n",
    "# knn 모델 불러오기 \n",
    "from sklearn.neighbors import KNeighborsClassifier"
   ]
  },
  {
   "cell_type": "code",
   "execution_count": 65,
   "id": "73b2e767",
   "metadata": {
    "ExecuteTime": {
     "end_time": "2023-08-31T07:33:07.765287Z",
     "start_time": "2023-08-31T07:33:07.757334Z"
    }
   },
   "outputs": [],
   "source": [
    "# 모델 객체 생성\n",
    "knn_model=KNeighborsClassifier(n_neighbors=10)"
   ]
  },
  {
   "cell_type": "code",
   "execution_count": 66,
   "id": "ff9ab87d",
   "metadata": {
    "ExecuteTime": {
     "end_time": "2023-08-31T07:33:08.154579Z",
     "start_time": "2023-08-31T07:33:08.133332Z"
    }
   },
   "outputs": [
    {
     "data": {
      "text/plain": [
       "KNeighborsClassifier(n_neighbors=10)"
      ]
     },
     "execution_count": 66,
     "metadata": {},
     "output_type": "execute_result"
    }
   ],
   "source": [
    "# 모델 학습\n",
    "knn_model.fit(X_train,y_train)"
   ]
  },
  {
   "cell_type": "code",
   "execution_count": 67,
   "id": "866acad4",
   "metadata": {
    "ExecuteTime": {
     "end_time": "2023-08-31T07:33:08.324396Z",
     "start_time": "2023-08-31T07:33:08.317424Z"
    }
   },
   "outputs": [],
   "source": [
    "# 경고창을 무시\n",
    "import warnings\n",
    "warnings.filterwarnings('ignore')"
   ]
  },
  {
   "cell_type": "code",
   "execution_count": 68,
   "id": "1a69f937",
   "metadata": {
    "ExecuteTime": {
     "end_time": "2023-08-31T07:33:08.509345Z",
     "start_time": "2023-08-31T07:33:08.484909Z"
    }
   },
   "outputs": [
    {
     "data": {
      "text/plain": [
       "array(['Normal', 'Normal', 'Normal', 'Extreme Obesity', 'Extremely Weak',\n",
       "       'Obesity', 'Obesity', 'Extreme Obesity', 'Weak', 'Extreme Obesity',\n",
       "       'Weak', 'Extreme Obesity', 'Extreme Obesity', 'Obesity',\n",
       "       'Extreme Obesity', 'Extreme Obesity', 'Overweight', 'Obesity',\n",
       "       'Extreme Obesity', 'Obesity', 'Overweight', 'Extreme Obesity',\n",
       "       'Weak', 'Normal', 'Obesity', 'Extreme Obesity', 'Extreme Obesity',\n",
       "       'Extreme Obesity', 'Extreme Obesity', 'Overweight',\n",
       "       'Extreme Obesity', 'Weak', 'Obesity', 'Extreme Obesity',\n",
       "       'Extreme Obesity', 'Normal', 'Extreme Obesity', 'Obesity',\n",
       "       'Overweight', 'Normal', 'Normal', 'Normal', 'Normal', 'Overweight',\n",
       "       'Extreme Obesity', 'Overweight', 'Overweight', 'Extreme Obesity',\n",
       "       'Overweight', 'Extreme Obesity', 'Overweight', 'Obesity', 'Normal',\n",
       "       'Obesity', 'Obesity', 'Extreme Obesity', 'Normal',\n",
       "       'Extreme Obesity', 'Extreme Obesity', 'Extreme Obesity', 'Weak',\n",
       "       'Obesity', 'Extreme Obesity', 'Extreme Obesity', 'Extreme Obesity',\n",
       "       'Obesity', 'Extreme Obesity', 'Normal', 'Extreme Obesity',\n",
       "       'Normal', 'Weak', 'Extreme Obesity', 'Extreme Obesity', 'Obesity',\n",
       "       'Normal', 'Weak', 'Extreme Obesity', 'Obesity', 'Obesity',\n",
       "       'Obesity', 'Overweight', 'Extreme Obesity', 'Extreme Obesity',\n",
       "       'Obesity', 'Normal', 'Extreme Obesity', 'Extreme Obesity',\n",
       "       'Extreme Obesity', 'Weak', 'Extreme Obesity', 'Obesity', 'Normal',\n",
       "       'Extreme Obesity', 'Extreme Obesity', 'Obesity', 'Extreme Obesity',\n",
       "       'Obesity', 'Obesity', 'Extreme Obesity', 'Extreme Obesity',\n",
       "       'Extreme Obesity', 'Obesity', 'Extreme Obesity', 'Extremely Weak',\n",
       "       'Normal', 'Normal', 'Obesity', 'Overweight', 'Obesity',\n",
       "       'Extreme Obesity', 'Obesity', 'Extreme Obesity', 'Weak',\n",
       "       'Extreme Obesity', 'Normal', 'Extreme Obesity', 'Overweight',\n",
       "       'Extreme Obesity', 'Extreme Obesity', 'Overweight',\n",
       "       'Extreme Obesity', 'Extreme Obesity', 'Normal', 'Extreme Obesity',\n",
       "       'Overweight', 'Obesity', 'Extreme Obesity', 'Normal', 'Normal',\n",
       "       'Extreme Obesity', 'Extreme Obesity', 'Obesity', 'Extreme Obesity',\n",
       "       'Extreme Obesity', 'Obesity', 'Obesity', 'Extreme Obesity',\n",
       "       'Normal', 'Obesity', 'Extreme Obesity', 'Normal',\n",
       "       'Extreme Obesity', 'Extremely Weak', 'Normal', 'Extreme Obesity',\n",
       "       'Extreme Obesity', 'Obesity', 'Extreme Obesity', 'Extreme Obesity',\n",
       "       'Extreme Obesity'], dtype=object)"
      ]
     },
     "execution_count": 68,
     "metadata": {},
     "output_type": "execute_result"
    }
   ],
   "source": [
    "# 모델 예측\n",
    "pre=knn_model.predict(X_test)\n",
    "pre"
   ]
  },
  {
   "cell_type": "code",
   "execution_count": 69,
   "id": "cd3ef042",
   "metadata": {
    "ExecuteTime": {
     "end_time": "2023-08-31T07:33:08.680582Z",
     "start_time": "2023-08-31T07:33:08.653291Z"
    }
   },
   "outputs": [
    {
     "data": {
      "text/plain": [
       "0.94"
      ]
     },
     "execution_count": 69,
     "metadata": {},
     "output_type": "execute_result"
    }
   ],
   "source": [
    "# 모델 평가\n",
    "knn_model.score(X_test, y_test)"
   ]
  },
  {
   "cell_type": "code",
   "execution_count": 70,
   "id": "1b051b6a",
   "metadata": {
    "ExecuteTime": {
     "end_time": "2023-08-31T07:33:08.851166Z",
     "start_time": "2023-08-31T07:33:08.830133Z"
    }
   },
   "outputs": [
    {
     "data": {
      "text/plain": [
       "array(['Normal'], dtype=object)"
      ]
     },
     "execution_count": 70,
     "metadata": {},
     "output_type": "execute_result"
    }
   ],
   "source": [
    "# 학습된 모델에 내 키와 몸무게를 넣어 확인해보기\n",
    "knn_model.predict([[177,78]])"
   ]
  },
  {
   "cell_type": "code",
   "execution_count": 71,
   "id": "fd5adc3f",
   "metadata": {
    "ExecuteTime": {
     "end_time": "2023-08-31T07:33:09.474802Z",
     "start_time": "2023-08-31T07:33:09.461116Z"
    }
   },
   "outputs": [
    {
     "data": {
      "text/plain": [
       "array(['Normal'], dtype=object)"
      ]
     },
     "execution_count": 71,
     "metadata": {},
     "output_type": "execute_result"
    }
   ],
   "source": [
    "# 학습된 모델에 내 키와 몸무게를 넣어 확인해보기\n",
    "knn_model.predict([[165,65]])"
   ]
  },
  {
   "cell_type": "code",
   "execution_count": 73,
   "id": "7f993ff9",
   "metadata": {
    "ExecuteTime": {
     "end_time": "2023-08-31T07:42:53.560389Z",
     "start_time": "2023-08-31T07:42:53.549446Z"
    }
   },
   "outputs": [
    {
     "name": "stdout",
     "output_type": "stream",
     "text": [
      "(350, 2)\n",
      "(150, 2)\n",
      "(350,)\n",
      "(150,)\n"
     ]
    }
   ],
   "source": [
    "print(X_train.shape)\n",
    "print(X_test.shape)\n",
    "print(y_train.shape)\n",
    "print(y_test.shape)"
   ]
  },
  {
   "cell_type": "code",
   "execution_count": 84,
   "id": "39c4d017",
   "metadata": {
    "ExecuteTime": {
     "end_time": "2023-08-31T07:49:27.523130Z",
     "start_time": "2023-08-31T07:49:27.387463Z"
    }
   },
   "outputs": [
    {
     "name": "stdout",
     "output_type": "stream",
     "text": [
      "1 : 0.8933333333333333\n",
      "2 : 0.8933333333333333\n",
      "3 : 0.9\n",
      "4 : 0.8933333333333333\n",
      "5 : 0.9066666666666666\n",
      "6 : 0.9133333333333333\n",
      "7 : 0.9\n",
      "8 : 0.9133333333333333\n",
      "9 : 0.9133333333333333\n",
      "10 : 0.94\n",
      "11 : 0.8866666666666667\n",
      "12 : 0.9133333333333333\n",
      "13 : 0.9133333333333333\n",
      "14 : 0.8866666666666667\n"
     ]
    }
   ],
   "source": [
    "for i in range(1,15):\n",
    "    knn_model=KNeighborsClassifier(n_neighbors=i)\n",
    "    knn_model.fit(X_train,y_train)\n",
    "    pre=knn_model.predict(X_test)\n",
    "    j=knn_model.score(X_test, y_test)\n",
    "    print(i,':',j)"
   ]
  },
  {
   "cell_type": "code",
   "execution_count": null,
   "id": "1dce4883",
   "metadata": {},
   "outputs": [],
   "source": []
  }
 ],
 "metadata": {
  "kernelspec": {
   "display_name": "Python 3 (ipykernel)",
   "language": "python",
   "name": "python3"
  },
  "language_info": {
   "codemirror_mode": {
    "name": "ipython",
    "version": 3
   },
   "file_extension": ".py",
   "mimetype": "text/x-python",
   "name": "python",
   "nbconvert_exporter": "python",
   "pygments_lexer": "ipython3",
   "version": "3.9.13"
  },
  "toc": {
   "base_numbering": 1,
   "nav_menu": {},
   "number_sections": true,
   "sideBar": true,
   "skip_h1_title": false,
   "title_cell": "Table of Contents",
   "title_sidebar": "Contents",
   "toc_cell": false,
   "toc_position": {},
   "toc_section_display": true,
   "toc_window_display": false
  },
  "varInspector": {
   "cols": {
    "lenName": 16,
    "lenType": 16,
    "lenVar": 40
   },
   "kernels_config": {
    "python": {
     "delete_cmd_postfix": "",
     "delete_cmd_prefix": "del ",
     "library": "var_list.py",
     "varRefreshCmd": "print(var_dic_list())"
    },
    "r": {
     "delete_cmd_postfix": ") ",
     "delete_cmd_prefix": "rm(",
     "library": "var_list.r",
     "varRefreshCmd": "cat(var_dic_list()) "
    }
   },
   "types_to_exclude": [
    "module",
    "function",
    "builtin_function_or_method",
    "instance",
    "_Feature"
   ],
   "window_display": false
  }
 },
 "nbformat": 4,
 "nbformat_minor": 5
}
