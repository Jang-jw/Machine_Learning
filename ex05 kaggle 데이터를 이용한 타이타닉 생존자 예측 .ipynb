{
 "cells": [
  {
   "cell_type": "markdown",
   "id": "21f81b80",
   "metadata": {},
   "source": [
    "### 문제 정의 (목표 설정) \n",
    "- 타이타닉 데이터를 학습해서 생존자와 사망자를 예측해 보자. \n",
    "- 머신러닝의 전체 과정을 진행해보면서 프로세스를 이해해보자. "
   ]
  },
  {
   "cell_type": "code",
   "execution_count": 1,
   "id": "2274e3e3",
   "metadata": {
    "ExecuteTime": {
     "end_time": "2023-09-11T00:23:04.213180Z",
     "start_time": "2023-09-11T00:23:02.641927Z"
    }
   },
   "outputs": [],
   "source": [
    "# 필요한 라이브러리 import (numpy / pandas / matplotlib / seaborn)\n",
    "import numpy as np\n",
    "import pandas as pd\n",
    "from matplotlib import pyplot as plt\n",
    "import seaborn as sns "
   ]
  },
  {
   "cell_type": "markdown",
   "id": "8a3fb756",
   "metadata": {},
   "source": [
    "### 데이터 수집 (Kaggle 사이트에서 다운로드)"
   ]
  },
  {
   "cell_type": "code",
   "execution_count": 2,
   "id": "0ca4929e",
   "metadata": {
    "ExecuteTime": {
     "end_time": "2023-09-11T00:23:04.229138Z",
     "start_time": "2023-09-11T00:23:04.214226Z"
    }
   },
   "outputs": [],
   "source": [
    "# 데이터 불러오기 - 기존 passengerId 컬럼을 인덱스로 설정 \n",
    "# index_col = '컬럼명' : 기존의 컬럼을 인덱스로 설정해주는 옵션 \n",
    "train=pd.read_csv('./data/train.csv', index_col='PassengerId')\n",
    "test=pd.read_csv('./data/test.csv', index_col='PassengerId')"
   ]
  },
  {
   "cell_type": "code",
   "execution_count": 3,
   "id": "27f0669c",
   "metadata": {
    "ExecuteTime": {
     "end_time": "2023-09-11T00:23:04.244652Z",
     "start_time": "2023-09-11T00:23:04.231132Z"
    }
   },
   "outputs": [
    {
     "data": {
      "text/plain": [
       "((891, 11), (418, 10))"
      ]
     },
     "execution_count": 3,
     "metadata": {},
     "output_type": "execute_result"
    }
   ],
   "source": [
    "# 데이터 확인 (shape)\n",
    "train.shape, test.shape"
   ]
  },
  {
   "cell_type": "code",
   "execution_count": 4,
   "id": "edf98309",
   "metadata": {
    "ExecuteTime": {
     "end_time": "2023-09-11T00:23:04.260612Z",
     "start_time": "2023-09-11T00:23:04.245626Z"
    }
   },
   "outputs": [],
   "source": [
    "# 질문 : 왜 컬럼의 수가 다를까? \n",
    "# test 에 대한 정답은 kaggle 이 가지고 있음 \n",
    "# 우리는 test 데이터로 예측을 진행해서 Kaggle 에 제출해야 한다. "
   ]
  },
  {
   "cell_type": "code",
   "execution_count": 5,
   "id": "a0596cbd",
   "metadata": {
    "ExecuteTime": {
     "end_time": "2023-09-11T00:23:04.276567Z",
     "start_time": "2023-09-11T00:23:04.261583Z"
    }
   },
   "outputs": [
    {
     "data": {
      "text/html": [
       "<div>\n",
       "<style scoped>\n",
       "    .dataframe tbody tr th:only-of-type {\n",
       "        vertical-align: middle;\n",
       "    }\n",
       "\n",
       "    .dataframe tbody tr th {\n",
       "        vertical-align: top;\n",
       "    }\n",
       "\n",
       "    .dataframe thead th {\n",
       "        text-align: right;\n",
       "    }\n",
       "</style>\n",
       "<table border=\"1\" class=\"dataframe\">\n",
       "  <thead>\n",
       "    <tr style=\"text-align: right;\">\n",
       "      <th></th>\n",
       "      <th>Survived</th>\n",
       "      <th>Pclass</th>\n",
       "      <th>Name</th>\n",
       "      <th>Sex</th>\n",
       "      <th>Age</th>\n",
       "      <th>SibSp</th>\n",
       "      <th>Parch</th>\n",
       "      <th>Ticket</th>\n",
       "      <th>Fare</th>\n",
       "      <th>Cabin</th>\n",
       "      <th>Embarked</th>\n",
       "    </tr>\n",
       "    <tr>\n",
       "      <th>PassengerId</th>\n",
       "      <th></th>\n",
       "      <th></th>\n",
       "      <th></th>\n",
       "      <th></th>\n",
       "      <th></th>\n",
       "      <th></th>\n",
       "      <th></th>\n",
       "      <th></th>\n",
       "      <th></th>\n",
       "      <th></th>\n",
       "      <th></th>\n",
       "    </tr>\n",
       "  </thead>\n",
       "  <tbody>\n",
       "    <tr>\n",
       "      <th>1</th>\n",
       "      <td>0</td>\n",
       "      <td>3</td>\n",
       "      <td>Braund, Mr. Owen Harris</td>\n",
       "      <td>male</td>\n",
       "      <td>22.0</td>\n",
       "      <td>1</td>\n",
       "      <td>0</td>\n",
       "      <td>A/5 21171</td>\n",
       "      <td>7.2500</td>\n",
       "      <td>NaN</td>\n",
       "      <td>S</td>\n",
       "    </tr>\n",
       "    <tr>\n",
       "      <th>2</th>\n",
       "      <td>1</td>\n",
       "      <td>1</td>\n",
       "      <td>Cumings, Mrs. John Bradley (Florence Briggs Th...</td>\n",
       "      <td>female</td>\n",
       "      <td>38.0</td>\n",
       "      <td>1</td>\n",
       "      <td>0</td>\n",
       "      <td>PC 17599</td>\n",
       "      <td>71.2833</td>\n",
       "      <td>C85</td>\n",
       "      <td>C</td>\n",
       "    </tr>\n",
       "    <tr>\n",
       "      <th>3</th>\n",
       "      <td>1</td>\n",
       "      <td>3</td>\n",
       "      <td>Heikkinen, Miss. Laina</td>\n",
       "      <td>female</td>\n",
       "      <td>26.0</td>\n",
       "      <td>0</td>\n",
       "      <td>0</td>\n",
       "      <td>STON/O2. 3101282</td>\n",
       "      <td>7.9250</td>\n",
       "      <td>NaN</td>\n",
       "      <td>S</td>\n",
       "    </tr>\n",
       "    <tr>\n",
       "      <th>4</th>\n",
       "      <td>1</td>\n",
       "      <td>1</td>\n",
       "      <td>Futrelle, Mrs. Jacques Heath (Lily May Peel)</td>\n",
       "      <td>female</td>\n",
       "      <td>35.0</td>\n",
       "      <td>1</td>\n",
       "      <td>0</td>\n",
       "      <td>113803</td>\n",
       "      <td>53.1000</td>\n",
       "      <td>C123</td>\n",
       "      <td>S</td>\n",
       "    </tr>\n",
       "    <tr>\n",
       "      <th>5</th>\n",
       "      <td>0</td>\n",
       "      <td>3</td>\n",
       "      <td>Allen, Mr. William Henry</td>\n",
       "      <td>male</td>\n",
       "      <td>35.0</td>\n",
       "      <td>0</td>\n",
       "      <td>0</td>\n",
       "      <td>373450</td>\n",
       "      <td>8.0500</td>\n",
       "      <td>NaN</td>\n",
       "      <td>S</td>\n",
       "    </tr>\n",
       "  </tbody>\n",
       "</table>\n",
       "</div>"
      ],
      "text/plain": [
       "             Survived  Pclass  \\\n",
       "PassengerId                     \n",
       "1                   0       3   \n",
       "2                   1       1   \n",
       "3                   1       3   \n",
       "4                   1       1   \n",
       "5                   0       3   \n",
       "\n",
       "                                                          Name     Sex   Age  \\\n",
       "PassengerId                                                                    \n",
       "1                                      Braund, Mr. Owen Harris    male  22.0   \n",
       "2            Cumings, Mrs. John Bradley (Florence Briggs Th...  female  38.0   \n",
       "3                                       Heikkinen, Miss. Laina  female  26.0   \n",
       "4                 Futrelle, Mrs. Jacques Heath (Lily May Peel)  female  35.0   \n",
       "5                                     Allen, Mr. William Henry    male  35.0   \n",
       "\n",
       "             SibSp  Parch            Ticket     Fare Cabin Embarked  \n",
       "PassengerId                                                          \n",
       "1                1      0         A/5 21171   7.2500   NaN        S  \n",
       "2                1      0          PC 17599  71.2833   C85        C  \n",
       "3                0      0  STON/O2. 3101282   7.9250   NaN        S  \n",
       "4                1      0            113803  53.1000  C123        S  \n",
       "5                0      0            373450   8.0500   NaN        S  "
      ]
     },
     "execution_count": 5,
     "metadata": {},
     "output_type": "execute_result"
    }
   ],
   "source": [
    "train.head()"
   ]
  },
  {
   "cell_type": "code",
   "execution_count": 6,
   "id": "d48771ad",
   "metadata": {
    "ExecuteTime": {
     "end_time": "2023-09-11T00:23:04.292527Z",
     "start_time": "2023-09-11T00:23:04.277559Z"
    }
   },
   "outputs": [
    {
     "data": {
      "text/html": [
       "<div>\n",
       "<style scoped>\n",
       "    .dataframe tbody tr th:only-of-type {\n",
       "        vertical-align: middle;\n",
       "    }\n",
       "\n",
       "    .dataframe tbody tr th {\n",
       "        vertical-align: top;\n",
       "    }\n",
       "\n",
       "    .dataframe thead th {\n",
       "        text-align: right;\n",
       "    }\n",
       "</style>\n",
       "<table border=\"1\" class=\"dataframe\">\n",
       "  <thead>\n",
       "    <tr style=\"text-align: right;\">\n",
       "      <th></th>\n",
       "      <th>Pclass</th>\n",
       "      <th>Name</th>\n",
       "      <th>Sex</th>\n",
       "      <th>Age</th>\n",
       "      <th>SibSp</th>\n",
       "      <th>Parch</th>\n",
       "      <th>Ticket</th>\n",
       "      <th>Fare</th>\n",
       "      <th>Cabin</th>\n",
       "      <th>Embarked</th>\n",
       "    </tr>\n",
       "    <tr>\n",
       "      <th>PassengerId</th>\n",
       "      <th></th>\n",
       "      <th></th>\n",
       "      <th></th>\n",
       "      <th></th>\n",
       "      <th></th>\n",
       "      <th></th>\n",
       "      <th></th>\n",
       "      <th></th>\n",
       "      <th></th>\n",
       "      <th></th>\n",
       "    </tr>\n",
       "  </thead>\n",
       "  <tbody>\n",
       "    <tr>\n",
       "      <th>892</th>\n",
       "      <td>3</td>\n",
       "      <td>Kelly, Mr. James</td>\n",
       "      <td>male</td>\n",
       "      <td>34.5</td>\n",
       "      <td>0</td>\n",
       "      <td>0</td>\n",
       "      <td>330911</td>\n",
       "      <td>7.8292</td>\n",
       "      <td>NaN</td>\n",
       "      <td>Q</td>\n",
       "    </tr>\n",
       "    <tr>\n",
       "      <th>893</th>\n",
       "      <td>3</td>\n",
       "      <td>Wilkes, Mrs. James (Ellen Needs)</td>\n",
       "      <td>female</td>\n",
       "      <td>47.0</td>\n",
       "      <td>1</td>\n",
       "      <td>0</td>\n",
       "      <td>363272</td>\n",
       "      <td>7.0000</td>\n",
       "      <td>NaN</td>\n",
       "      <td>S</td>\n",
       "    </tr>\n",
       "    <tr>\n",
       "      <th>894</th>\n",
       "      <td>2</td>\n",
       "      <td>Myles, Mr. Thomas Francis</td>\n",
       "      <td>male</td>\n",
       "      <td>62.0</td>\n",
       "      <td>0</td>\n",
       "      <td>0</td>\n",
       "      <td>240276</td>\n",
       "      <td>9.6875</td>\n",
       "      <td>NaN</td>\n",
       "      <td>Q</td>\n",
       "    </tr>\n",
       "    <tr>\n",
       "      <th>895</th>\n",
       "      <td>3</td>\n",
       "      <td>Wirz, Mr. Albert</td>\n",
       "      <td>male</td>\n",
       "      <td>27.0</td>\n",
       "      <td>0</td>\n",
       "      <td>0</td>\n",
       "      <td>315154</td>\n",
       "      <td>8.6625</td>\n",
       "      <td>NaN</td>\n",
       "      <td>S</td>\n",
       "    </tr>\n",
       "    <tr>\n",
       "      <th>896</th>\n",
       "      <td>3</td>\n",
       "      <td>Hirvonen, Mrs. Alexander (Helga E Lindqvist)</td>\n",
       "      <td>female</td>\n",
       "      <td>22.0</td>\n",
       "      <td>1</td>\n",
       "      <td>1</td>\n",
       "      <td>3101298</td>\n",
       "      <td>12.2875</td>\n",
       "      <td>NaN</td>\n",
       "      <td>S</td>\n",
       "    </tr>\n",
       "  </tbody>\n",
       "</table>\n",
       "</div>"
      ],
      "text/plain": [
       "             Pclass                                          Name     Sex  \\\n",
       "PassengerId                                                                 \n",
       "892               3                              Kelly, Mr. James    male   \n",
       "893               3              Wilkes, Mrs. James (Ellen Needs)  female   \n",
       "894               2                     Myles, Mr. Thomas Francis    male   \n",
       "895               3                              Wirz, Mr. Albert    male   \n",
       "896               3  Hirvonen, Mrs. Alexander (Helga E Lindqvist)  female   \n",
       "\n",
       "              Age  SibSp  Parch   Ticket     Fare Cabin Embarked  \n",
       "PassengerId                                                       \n",
       "892          34.5      0      0   330911   7.8292   NaN        Q  \n",
       "893          47.0      1      0   363272   7.0000   NaN        S  \n",
       "894          62.0      0      0   240276   9.6875   NaN        Q  \n",
       "895          27.0      0      0   315154   8.6625   NaN        S  \n",
       "896          22.0      1      1  3101298  12.2875   NaN        S  "
      ]
     },
     "execution_count": 6,
     "metadata": {},
     "output_type": "execute_result"
    }
   ],
   "source": [
    "test.head()"
   ]
  },
  {
   "cell_type": "markdown",
   "id": "1df358f1",
   "metadata": {},
   "source": [
    "**타이타닉 데이터의 구조**\n",
    "- 3개의 파일로 이루어져 있다. \n",
    "- train.csv : 학습용 / 훈련용 데이터 \n",
    "- test.csv : 평가용 데이터 \n",
    "- gender_submission.csv : 제출용 답안지 서식 파일 "
   ]
  },
  {
   "cell_type": "code",
   "execution_count": 7,
   "id": "3303af6a",
   "metadata": {
    "ExecuteTime": {
     "end_time": "2023-09-11T00:23:04.308482Z",
     "start_time": "2023-09-11T00:23:04.293517Z"
    }
   },
   "outputs": [
    {
     "data": {
      "text/plain": [
       "Index(['Survived', 'Pclass', 'Name', 'Sex', 'Age', 'SibSp', 'Parch', 'Ticket',\n",
       "       'Fare', 'Cabin', 'Embarked'],\n",
       "      dtype='object')"
      ]
     },
     "execution_count": 7,
     "metadata": {},
     "output_type": "execute_result"
    }
   ],
   "source": [
    "# 불러온 데이터의 컬럼을 살펴보자.\n",
    "train.columns"
   ]
  },
  {
   "cell_type": "code",
   "execution_count": 8,
   "id": "53f7b210",
   "metadata": {
    "ExecuteTime": {
     "end_time": "2023-09-11T00:23:04.323442Z",
     "start_time": "2023-09-11T00:23:04.311448Z"
    }
   },
   "outputs": [
    {
     "data": {
      "text/plain": [
       "Index(['Pclass', 'Name', 'Sex', 'Age', 'SibSp', 'Parch', 'Ticket', 'Fare',\n",
       "       'Cabin', 'Embarked'],\n",
       "      dtype='object')"
      ]
     },
     "execution_count": 8,
     "metadata": {},
     "output_type": "execute_result"
    }
   ],
   "source": [
    "test.columns"
   ]
  },
  {
   "cell_type": "markdown",
   "id": "fdfbf12e",
   "metadata": {},
   "source": [
    "**타이타닉 데이터 내부의 컬럼 정보**\n",
    "- 'PassengerId : 승객의 번호 \n",
    "- 'Survived' : 생존 여부 (1:생존, 0:사망) / train 에만 존재한다! \n",
    "- 'Pclass' : 승객의 등급 (1 ~ 3) / 1:1등급, 2:2등급, 3:3등급\n",
    "- 'Name' : 승객의 이름 \n",
    "- 'Sex' : 승객의 성별 \n",
    "- 'Age' : 승객의 나이 \n",
    "- 'SibSp' : 동승한 형제자매 또는 배우자의 수 \n",
    "- 'Parch' : 동승한 부모 또는 자식의 수 \n",
    "- 'Ticket' : 티켓 번호 \n",
    "- 'Fare' : 승객이 지불한 요금 \n",
    "- 'Cabin' : 객실의 번호 \n",
    "- 'Embarked' : 승선지 (C:쉘부르크(셰르부르) / Q:퀸즈타운 / S:사우스햄튼)"
   ]
  },
  {
   "cell_type": "code",
   "execution_count": 9,
   "id": "91ce4221",
   "metadata": {
    "ExecuteTime": {
     "end_time": "2023-09-11T00:23:04.339399Z",
     "start_time": "2023-09-11T00:23:04.324414Z"
    }
   },
   "outputs": [
    {
     "name": "stdout",
     "output_type": "stream",
     "text": [
      "<class 'pandas.core.frame.DataFrame'>\n",
      "Int64Index: 891 entries, 1 to 891\n",
      "Data columns (total 11 columns):\n",
      " #   Column    Non-Null Count  Dtype  \n",
      "---  ------    --------------  -----  \n",
      " 0   Survived  891 non-null    int64  \n",
      " 1   Pclass    891 non-null    int64  \n",
      " 2   Name      891 non-null    object \n",
      " 3   Sex       891 non-null    object \n",
      " 4   Age       714 non-null    float64\n",
      " 5   SibSp     891 non-null    int64  \n",
      " 6   Parch     891 non-null    int64  \n",
      " 7   Ticket    891 non-null    object \n",
      " 8   Fare      891 non-null    float64\n",
      " 9   Cabin     204 non-null    object \n",
      " 10  Embarked  889 non-null    object \n",
      "dtypes: float64(2), int64(4), object(5)\n",
      "memory usage: 83.5+ KB\n"
     ]
    }
   ],
   "source": [
    "# 데이터프레임에 대한 간략한 정보\n",
    "# train\n",
    "train.info()"
   ]
  },
  {
   "cell_type": "code",
   "execution_count": 10,
   "id": "8311380e",
   "metadata": {
    "ExecuteTime": {
     "end_time": "2023-09-11T00:23:04.354360Z",
     "start_time": "2023-09-11T00:23:04.341369Z"
    }
   },
   "outputs": [
    {
     "name": "stdout",
     "output_type": "stream",
     "text": [
      "<class 'pandas.core.frame.DataFrame'>\n",
      "Int64Index: 418 entries, 892 to 1309\n",
      "Data columns (total 10 columns):\n",
      " #   Column    Non-Null Count  Dtype  \n",
      "---  ------    --------------  -----  \n",
      " 0   Pclass    418 non-null    int64  \n",
      " 1   Name      418 non-null    object \n",
      " 2   Sex       418 non-null    object \n",
      " 3   Age       332 non-null    float64\n",
      " 4   SibSp     418 non-null    int64  \n",
      " 5   Parch     418 non-null    int64  \n",
      " 6   Ticket    418 non-null    object \n",
      " 7   Fare      417 non-null    float64\n",
      " 8   Cabin     91 non-null     object \n",
      " 9   Embarked  418 non-null    object \n",
      "dtypes: float64(2), int64(3), object(5)\n",
      "memory usage: 35.9+ KB\n"
     ]
    }
   ],
   "source": [
    "# test\n",
    "test.info()"
   ]
  },
  {
   "cell_type": "markdown",
   "id": "1e4221f5",
   "metadata": {},
   "source": [
    "**결측치 정리**\n",
    "- train : Age / Cabin / Embarked\n",
    "- test : Age / Fare / Cabin"
   ]
  },
  {
   "cell_type": "markdown",
   "id": "ff121e6f",
   "metadata": {},
   "source": [
    "### 데이터 전처리"
   ]
  },
  {
   "cell_type": "markdown",
   "id": "587dfa20",
   "metadata": {},
   "source": [
    "**Age 살펴보기**"
   ]
  },
  {
   "cell_type": "code",
   "execution_count": 11,
   "id": "5789389f",
   "metadata": {
    "ExecuteTime": {
     "end_time": "2023-09-11T00:23:04.370318Z",
     "start_time": "2023-09-11T00:23:04.355362Z"
    }
   },
   "outputs": [
    {
     "data": {
      "text/plain": [
       "PassengerId\n",
       "1      22.0\n",
       "2      38.0\n",
       "3      26.0\n",
       "4      35.0\n",
       "5      35.0\n",
       "       ... \n",
       "887    27.0\n",
       "888    19.0\n",
       "889     NaN\n",
       "890    26.0\n",
       "891    32.0\n",
       "Name: Age, Length: 891, dtype: float64"
      ]
     },
     "execution_count": 11,
     "metadata": {},
     "output_type": "execute_result"
    }
   ],
   "source": [
    "# train 의 Age 살펴보기\n",
    "train['Age']"
   ]
  },
  {
   "cell_type": "code",
   "execution_count": 12,
   "id": "19824eb4",
   "metadata": {
    "ExecuteTime": {
     "end_time": "2023-09-11T00:23:04.386248Z",
     "start_time": "2023-09-11T00:23:04.371288Z"
    }
   },
   "outputs": [
    {
     "data": {
      "text/plain": [
       "PassengerId\n",
       "892     34.5\n",
       "893     47.0\n",
       "894     62.0\n",
       "895     27.0\n",
       "896     22.0\n",
       "        ... \n",
       "1305     NaN\n",
       "1306    39.0\n",
       "1307    38.5\n",
       "1308     NaN\n",
       "1309     NaN\n",
       "Name: Age, Length: 418, dtype: float64"
      ]
     },
     "execution_count": 12,
     "metadata": {},
     "output_type": "execute_result"
    }
   ],
   "source": [
    "# test 의 Age 살펴보기\n",
    "test['Age']"
   ]
  },
  {
   "cell_type": "code",
   "execution_count": 13,
   "id": "ccba556b",
   "metadata": {
    "ExecuteTime": {
     "end_time": "2023-09-11T00:23:04.402207Z",
     "start_time": "2023-09-11T00:23:04.387278Z"
    }
   },
   "outputs": [
    {
     "data": {
      "text/plain": [
       "count    714.000000\n",
       "mean      29.699118\n",
       "std       14.526497\n",
       "min        0.420000\n",
       "25%       20.125000\n",
       "50%       28.000000\n",
       "75%       38.000000\n",
       "max       80.000000\n",
       "Name: Age, dtype: float64"
      ]
     },
     "execution_count": 13,
     "metadata": {},
     "output_type": "execute_result"
    }
   ],
   "source": [
    "# 나이의 기술 통계 살펴보기\n",
    "train['Age'].describe()"
   ]
  },
  {
   "cell_type": "markdown",
   "id": "5a51c461",
   "metadata": {},
   "source": [
    "**Age 컬럼의 특성**\n",
    "- 타입은 실수형이다. 나이인데? 어라?\n",
    "- 나이 데이터는 최소값 쪽으로 쏠린 모습을 보인다. (분포가 치우쳐져 있다.)\n",
    "- 0 ~ 80 까지의 데이터를 가지고 있다. : 일반적인 평균을 구하기엔 범위가 넓다. \n",
    "- 다른 컬럼과 상관관계를 살펴보고 연관성 있는 컬럼을 엮어서 상세하게 결측치를 채워보자. "
   ]
  },
  {
   "cell_type": "code",
   "execution_count": 14,
   "id": "7be549dc",
   "metadata": {
    "ExecuteTime": {
     "end_time": "2023-09-11T00:23:04.418164Z",
     "start_time": "2023-09-11T00:23:04.403203Z"
    }
   },
   "outputs": [
    {
     "data": {
      "text/html": [
       "<div>\n",
       "<style scoped>\n",
       "    .dataframe tbody tr th:only-of-type {\n",
       "        vertical-align: middle;\n",
       "    }\n",
       "\n",
       "    .dataframe tbody tr th {\n",
       "        vertical-align: top;\n",
       "    }\n",
       "\n",
       "    .dataframe thead th {\n",
       "        text-align: right;\n",
       "    }\n",
       "</style>\n",
       "<table border=\"1\" class=\"dataframe\">\n",
       "  <thead>\n",
       "    <tr style=\"text-align: right;\">\n",
       "      <th></th>\n",
       "      <th>Survived</th>\n",
       "      <th>Pclass</th>\n",
       "      <th>Age</th>\n",
       "      <th>SibSp</th>\n",
       "      <th>Parch</th>\n",
       "      <th>Fare</th>\n",
       "    </tr>\n",
       "  </thead>\n",
       "  <tbody>\n",
       "    <tr>\n",
       "      <th>Survived</th>\n",
       "      <td>1.000000</td>\n",
       "      <td>-0.338481</td>\n",
       "      <td>-0.077221</td>\n",
       "      <td>-0.035322</td>\n",
       "      <td>0.081629</td>\n",
       "      <td>0.257307</td>\n",
       "    </tr>\n",
       "    <tr>\n",
       "      <th>Pclass</th>\n",
       "      <td>-0.338481</td>\n",
       "      <td>1.000000</td>\n",
       "      <td>-0.369226</td>\n",
       "      <td>0.083081</td>\n",
       "      <td>0.018443</td>\n",
       "      <td>-0.549500</td>\n",
       "    </tr>\n",
       "    <tr>\n",
       "      <th>Age</th>\n",
       "      <td>-0.077221</td>\n",
       "      <td>-0.369226</td>\n",
       "      <td>1.000000</td>\n",
       "      <td>-0.308247</td>\n",
       "      <td>-0.189119</td>\n",
       "      <td>0.096067</td>\n",
       "    </tr>\n",
       "    <tr>\n",
       "      <th>SibSp</th>\n",
       "      <td>-0.035322</td>\n",
       "      <td>0.083081</td>\n",
       "      <td>-0.308247</td>\n",
       "      <td>1.000000</td>\n",
       "      <td>0.414838</td>\n",
       "      <td>0.159651</td>\n",
       "    </tr>\n",
       "    <tr>\n",
       "      <th>Parch</th>\n",
       "      <td>0.081629</td>\n",
       "      <td>0.018443</td>\n",
       "      <td>-0.189119</td>\n",
       "      <td>0.414838</td>\n",
       "      <td>1.000000</td>\n",
       "      <td>0.216225</td>\n",
       "    </tr>\n",
       "    <tr>\n",
       "      <th>Fare</th>\n",
       "      <td>0.257307</td>\n",
       "      <td>-0.549500</td>\n",
       "      <td>0.096067</td>\n",
       "      <td>0.159651</td>\n",
       "      <td>0.216225</td>\n",
       "      <td>1.000000</td>\n",
       "    </tr>\n",
       "  </tbody>\n",
       "</table>\n",
       "</div>"
      ],
      "text/plain": [
       "          Survived    Pclass       Age     SibSp     Parch      Fare\n",
       "Survived  1.000000 -0.338481 -0.077221 -0.035322  0.081629  0.257307\n",
       "Pclass   -0.338481  1.000000 -0.369226  0.083081  0.018443 -0.549500\n",
       "Age      -0.077221 -0.369226  1.000000 -0.308247 -0.189119  0.096067\n",
       "SibSp    -0.035322  0.083081 -0.308247  1.000000  0.414838  0.159651\n",
       "Parch     0.081629  0.018443 -0.189119  0.414838  1.000000  0.216225\n",
       "Fare      0.257307 -0.549500  0.096067  0.159651  0.216225  1.000000"
      ]
     },
     "execution_count": 14,
     "metadata": {},
     "output_type": "execute_result"
    }
   ],
   "source": [
    "# 상관관계 : 각 특성별로 영향도를 수치로 파악할 수 있다. (범위 : 1(반비례) ~ 1(비례))\n",
    "# 절대값이 클수록 (값이 1에 가까울 수록) 영향도가 높다. \n",
    "train.corr() # 수치형 데이터만 나온다. (값이 숫자인 데이터만 나온다.)"
   ]
  },
  {
   "cell_type": "code",
   "execution_count": 15,
   "id": "dc7b72d4",
   "metadata": {
    "ExecuteTime": {
     "end_time": "2023-09-11T00:23:04.434121Z",
     "start_time": "2023-09-11T00:23:04.420158Z"
    }
   },
   "outputs": [],
   "source": [
    "# 상관관계가 높은 데이터를 가지고 피봇테이블을 만들어보자 "
   ]
  },
  {
   "cell_type": "code",
   "execution_count": 16,
   "id": "3a2455cc",
   "metadata": {
    "ExecuteTime": {
     "end_time": "2023-09-11T00:23:04.450078Z",
     "start_time": "2023-09-11T00:23:04.435118Z"
    }
   },
   "outputs": [
    {
     "data": {
      "text/html": [
       "<div>\n",
       "<style scoped>\n",
       "    .dataframe tbody tr th:only-of-type {\n",
       "        vertical-align: middle;\n",
       "    }\n",
       "\n",
       "    .dataframe tbody tr th {\n",
       "        vertical-align: top;\n",
       "    }\n",
       "\n",
       "    .dataframe thead th {\n",
       "        text-align: right;\n",
       "    }\n",
       "</style>\n",
       "<table border=\"1\" class=\"dataframe\">\n",
       "  <thead>\n",
       "    <tr style=\"text-align: right;\">\n",
       "      <th></th>\n",
       "      <th></th>\n",
       "      <th>Age</th>\n",
       "    </tr>\n",
       "    <tr>\n",
       "      <th>Pclass</th>\n",
       "      <th>Sex</th>\n",
       "      <th></th>\n",
       "    </tr>\n",
       "  </thead>\n",
       "  <tbody>\n",
       "    <tr>\n",
       "      <th rowspan=\"2\" valign=\"top\">1</th>\n",
       "      <th>female</th>\n",
       "      <td>34.611765</td>\n",
       "    </tr>\n",
       "    <tr>\n",
       "      <th>male</th>\n",
       "      <td>41.281386</td>\n",
       "    </tr>\n",
       "    <tr>\n",
       "      <th rowspan=\"2\" valign=\"top\">2</th>\n",
       "      <th>female</th>\n",
       "      <td>28.722973</td>\n",
       "    </tr>\n",
       "    <tr>\n",
       "      <th>male</th>\n",
       "      <td>30.740707</td>\n",
       "    </tr>\n",
       "    <tr>\n",
       "      <th rowspan=\"2\" valign=\"top\">3</th>\n",
       "      <th>female</th>\n",
       "      <td>21.750000</td>\n",
       "    </tr>\n",
       "    <tr>\n",
       "      <th>male</th>\n",
       "      <td>26.507589</td>\n",
       "    </tr>\n",
       "  </tbody>\n",
       "</table>\n",
       "</div>"
      ],
      "text/plain": [
       "                     Age\n",
       "Pclass Sex              \n",
       "1      female  34.611765\n",
       "       male    41.281386\n",
       "2      female  28.722973\n",
       "       male    30.740707\n",
       "3      female  21.750000\n",
       "       male    26.507589"
      ]
     },
     "execution_count": 16,
     "metadata": {},
     "output_type": "execute_result"
    }
   ],
   "source": [
    "pt1=train.pivot_table(values='Age', # 데이터로 사용할 컬럼 지정\n",
    "                     index=['Pclass', 'Sex'], # 인덱스를 설정하겠다!\n",
    "                     # 생존 여부에 영향을 많이 미치는 성별도 추가해보겠다. \n",
    "                     # 인덱스를 설정할 때 1차로 Pclass 로 나눈뒤 성별로 한 번더 나누겠다. \n",
    "                     aggfunc='mean' # 데이터 요약시 사용하는 함수를 지정 \n",
    "                     # (mean : 평균 / sum : 합 / count : 갯수)\n",
    "                     )\n",
    "pt1"
   ]
  },
  {
   "cell_type": "markdown",
   "id": "4a200850",
   "metadata": {},
   "source": [
    "- 나이가 많을수록 등급 숫자가 낮아진다? "
   ]
  },
  {
   "cell_type": "code",
   "execution_count": 17,
   "id": "8be512eb",
   "metadata": {
    "ExecuteTime": {
     "end_time": "2023-09-11T00:23:04.466035Z",
     "start_time": "2023-09-11T00:23:04.451076Z"
    }
   },
   "outputs": [
    {
     "data": {
      "text/plain": [
       "Age    41.281386\n",
       "Name: (1, male), dtype: float64"
      ]
     },
     "execution_count": 17,
     "metadata": {},
     "output_type": "execute_result"
    }
   ],
   "source": [
    "# 멀티 인덱스 인덱싱\n",
    "pt1.loc[1,'male']"
   ]
  },
  {
   "cell_type": "code",
   "execution_count": 18,
   "id": "c8109cf2",
   "metadata": {
    "ExecuteTime": {
     "end_time": "2023-09-11T00:23:04.481993Z",
     "start_time": "2023-09-11T00:23:04.467033Z"
    }
   },
   "outputs": [
    {
     "data": {
      "text/plain": [
       "PassengerId\n",
       "1      False\n",
       "2      False\n",
       "3      False\n",
       "4      False\n",
       "5      False\n",
       "       ...  \n",
       "887    False\n",
       "888    False\n",
       "889     True\n",
       "890    False\n",
       "891    False\n",
       "Name: Age, Length: 891, dtype: bool"
      ]
     },
     "execution_count": 18,
     "metadata": {},
     "output_type": "execute_result"
    }
   ],
   "source": [
    "# 결측치 확인 - pd.isna()\n",
    "pd.isna(train['Age'])"
   ]
  },
  {
   "cell_type": "code",
   "execution_count": 19,
   "id": "34487f67",
   "metadata": {
    "ExecuteTime": {
     "end_time": "2023-09-11T00:23:04.497951Z",
     "start_time": "2023-09-11T00:23:04.483987Z"
    }
   },
   "outputs": [
    {
     "data": {
      "text/html": [
       "<div>\n",
       "<style scoped>\n",
       "    .dataframe tbody tr th:only-of-type {\n",
       "        vertical-align: middle;\n",
       "    }\n",
       "\n",
       "    .dataframe tbody tr th {\n",
       "        vertical-align: top;\n",
       "    }\n",
       "\n",
       "    .dataframe thead th {\n",
       "        text-align: right;\n",
       "    }\n",
       "</style>\n",
       "<table border=\"1\" class=\"dataframe\">\n",
       "  <thead>\n",
       "    <tr style=\"text-align: right;\">\n",
       "      <th></th>\n",
       "      <th>Survived</th>\n",
       "      <th>Pclass</th>\n",
       "      <th>Name</th>\n",
       "      <th>Sex</th>\n",
       "      <th>Age</th>\n",
       "      <th>SibSp</th>\n",
       "      <th>Parch</th>\n",
       "      <th>Ticket</th>\n",
       "      <th>Fare</th>\n",
       "      <th>Cabin</th>\n",
       "      <th>Embarked</th>\n",
       "    </tr>\n",
       "    <tr>\n",
       "      <th>PassengerId</th>\n",
       "      <th></th>\n",
       "      <th></th>\n",
       "      <th></th>\n",
       "      <th></th>\n",
       "      <th></th>\n",
       "      <th></th>\n",
       "      <th></th>\n",
       "      <th></th>\n",
       "      <th></th>\n",
       "      <th></th>\n",
       "      <th></th>\n",
       "    </tr>\n",
       "  </thead>\n",
       "  <tbody>\n",
       "    <tr>\n",
       "      <th>1</th>\n",
       "      <td>0</td>\n",
       "      <td>3</td>\n",
       "      <td>Braund, Mr. Owen Harris</td>\n",
       "      <td>male</td>\n",
       "      <td>22.0</td>\n",
       "      <td>1</td>\n",
       "      <td>0</td>\n",
       "      <td>A/5 21171</td>\n",
       "      <td>7.2500</td>\n",
       "      <td>NaN</td>\n",
       "      <td>S</td>\n",
       "    </tr>\n",
       "    <tr>\n",
       "      <th>2</th>\n",
       "      <td>1</td>\n",
       "      <td>1</td>\n",
       "      <td>Cumings, Mrs. John Bradley (Florence Briggs Th...</td>\n",
       "      <td>female</td>\n",
       "      <td>38.0</td>\n",
       "      <td>1</td>\n",
       "      <td>0</td>\n",
       "      <td>PC 17599</td>\n",
       "      <td>71.2833</td>\n",
       "      <td>C85</td>\n",
       "      <td>C</td>\n",
       "    </tr>\n",
       "    <tr>\n",
       "      <th>3</th>\n",
       "      <td>1</td>\n",
       "      <td>3</td>\n",
       "      <td>Heikkinen, Miss. Laina</td>\n",
       "      <td>female</td>\n",
       "      <td>26.0</td>\n",
       "      <td>0</td>\n",
       "      <td>0</td>\n",
       "      <td>STON/O2. 3101282</td>\n",
       "      <td>7.9250</td>\n",
       "      <td>NaN</td>\n",
       "      <td>S</td>\n",
       "    </tr>\n",
       "    <tr>\n",
       "      <th>4</th>\n",
       "      <td>1</td>\n",
       "      <td>1</td>\n",
       "      <td>Futrelle, Mrs. Jacques Heath (Lily May Peel)</td>\n",
       "      <td>female</td>\n",
       "      <td>35.0</td>\n",
       "      <td>1</td>\n",
       "      <td>0</td>\n",
       "      <td>113803</td>\n",
       "      <td>53.1000</td>\n",
       "      <td>C123</td>\n",
       "      <td>S</td>\n",
       "    </tr>\n",
       "    <tr>\n",
       "      <th>5</th>\n",
       "      <td>0</td>\n",
       "      <td>3</td>\n",
       "      <td>Allen, Mr. William Henry</td>\n",
       "      <td>male</td>\n",
       "      <td>35.0</td>\n",
       "      <td>0</td>\n",
       "      <td>0</td>\n",
       "      <td>373450</td>\n",
       "      <td>8.0500</td>\n",
       "      <td>NaN</td>\n",
       "      <td>S</td>\n",
       "    </tr>\n",
       "    <tr>\n",
       "      <th>...</th>\n",
       "      <td>...</td>\n",
       "      <td>...</td>\n",
       "      <td>...</td>\n",
       "      <td>...</td>\n",
       "      <td>...</td>\n",
       "      <td>...</td>\n",
       "      <td>...</td>\n",
       "      <td>...</td>\n",
       "      <td>...</td>\n",
       "      <td>...</td>\n",
       "      <td>...</td>\n",
       "    </tr>\n",
       "    <tr>\n",
       "      <th>887</th>\n",
       "      <td>0</td>\n",
       "      <td>2</td>\n",
       "      <td>Montvila, Rev. Juozas</td>\n",
       "      <td>male</td>\n",
       "      <td>27.0</td>\n",
       "      <td>0</td>\n",
       "      <td>0</td>\n",
       "      <td>211536</td>\n",
       "      <td>13.0000</td>\n",
       "      <td>NaN</td>\n",
       "      <td>S</td>\n",
       "    </tr>\n",
       "    <tr>\n",
       "      <th>888</th>\n",
       "      <td>1</td>\n",
       "      <td>1</td>\n",
       "      <td>Graham, Miss. Margaret Edith</td>\n",
       "      <td>female</td>\n",
       "      <td>19.0</td>\n",
       "      <td>0</td>\n",
       "      <td>0</td>\n",
       "      <td>112053</td>\n",
       "      <td>30.0000</td>\n",
       "      <td>B42</td>\n",
       "      <td>S</td>\n",
       "    </tr>\n",
       "    <tr>\n",
       "      <th>889</th>\n",
       "      <td>0</td>\n",
       "      <td>3</td>\n",
       "      <td>Johnston, Miss. Catherine Helen \"Carrie\"</td>\n",
       "      <td>female</td>\n",
       "      <td>NaN</td>\n",
       "      <td>1</td>\n",
       "      <td>2</td>\n",
       "      <td>W./C. 6607</td>\n",
       "      <td>23.4500</td>\n",
       "      <td>NaN</td>\n",
       "      <td>S</td>\n",
       "    </tr>\n",
       "    <tr>\n",
       "      <th>890</th>\n",
       "      <td>1</td>\n",
       "      <td>1</td>\n",
       "      <td>Behr, Mr. Karl Howell</td>\n",
       "      <td>male</td>\n",
       "      <td>26.0</td>\n",
       "      <td>0</td>\n",
       "      <td>0</td>\n",
       "      <td>111369</td>\n",
       "      <td>30.0000</td>\n",
       "      <td>C148</td>\n",
       "      <td>C</td>\n",
       "    </tr>\n",
       "    <tr>\n",
       "      <th>891</th>\n",
       "      <td>0</td>\n",
       "      <td>3</td>\n",
       "      <td>Dooley, Mr. Patrick</td>\n",
       "      <td>male</td>\n",
       "      <td>32.0</td>\n",
       "      <td>0</td>\n",
       "      <td>0</td>\n",
       "      <td>370376</td>\n",
       "      <td>7.7500</td>\n",
       "      <td>NaN</td>\n",
       "      <td>Q</td>\n",
       "    </tr>\n",
       "  </tbody>\n",
       "</table>\n",
       "<p>891 rows × 11 columns</p>\n",
       "</div>"
      ],
      "text/plain": [
       "             Survived  Pclass  \\\n",
       "PassengerId                     \n",
       "1                   0       3   \n",
       "2                   1       1   \n",
       "3                   1       3   \n",
       "4                   1       1   \n",
       "5                   0       3   \n",
       "...               ...     ...   \n",
       "887                 0       2   \n",
       "888                 1       1   \n",
       "889                 0       3   \n",
       "890                 1       1   \n",
       "891                 0       3   \n",
       "\n",
       "                                                          Name     Sex   Age  \\\n",
       "PassengerId                                                                    \n",
       "1                                      Braund, Mr. Owen Harris    male  22.0   \n",
       "2            Cumings, Mrs. John Bradley (Florence Briggs Th...  female  38.0   \n",
       "3                                       Heikkinen, Miss. Laina  female  26.0   \n",
       "4                 Futrelle, Mrs. Jacques Heath (Lily May Peel)  female  35.0   \n",
       "5                                     Allen, Mr. William Henry    male  35.0   \n",
       "...                                                        ...     ...   ...   \n",
       "887                                      Montvila, Rev. Juozas    male  27.0   \n",
       "888                               Graham, Miss. Margaret Edith  female  19.0   \n",
       "889                   Johnston, Miss. Catherine Helen \"Carrie\"  female   NaN   \n",
       "890                                      Behr, Mr. Karl Howell    male  26.0   \n",
       "891                                        Dooley, Mr. Patrick    male  32.0   \n",
       "\n",
       "             SibSp  Parch            Ticket     Fare Cabin Embarked  \n",
       "PassengerId                                                          \n",
       "1                1      0         A/5 21171   7.2500   NaN        S  \n",
       "2                1      0          PC 17599  71.2833   C85        C  \n",
       "3                0      0  STON/O2. 3101282   7.9250   NaN        S  \n",
       "4                1      0            113803  53.1000  C123        S  \n",
       "5                0      0            373450   8.0500   NaN        S  \n",
       "...            ...    ...               ...      ...   ...      ...  \n",
       "887              0      0            211536  13.0000   NaN        S  \n",
       "888              0      0            112053  30.0000   B42        S  \n",
       "889              1      2        W./C. 6607  23.4500   NaN        S  \n",
       "890              0      0            111369  30.0000  C148        C  \n",
       "891              0      0            370376   7.7500   NaN        Q  \n",
       "\n",
       "[891 rows x 11 columns]"
      ]
     },
     "execution_count": 19,
     "metadata": {},
     "output_type": "execute_result"
    }
   ],
   "source": [
    "train"
   ]
  },
  {
   "cell_type": "code",
   "execution_count": 20,
   "id": "e097eb49",
   "metadata": {
    "ExecuteTime": {
     "end_time": "2023-09-11T00:23:04.528868Z",
     "start_time": "2023-09-11T00:23:04.498948Z"
    }
   },
   "outputs": [
    {
     "data": {
      "text/html": [
       "<div>\n",
       "<style scoped>\n",
       "    .dataframe tbody tr th:only-of-type {\n",
       "        vertical-align: middle;\n",
       "    }\n",
       "\n",
       "    .dataframe tbody tr th {\n",
       "        vertical-align: top;\n",
       "    }\n",
       "\n",
       "    .dataframe thead th {\n",
       "        text-align: right;\n",
       "    }\n",
       "</style>\n",
       "<table border=\"1\" class=\"dataframe\">\n",
       "  <thead>\n",
       "    <tr style=\"text-align: right;\">\n",
       "      <th></th>\n",
       "      <th>Survived</th>\n",
       "      <th>Pclass</th>\n",
       "      <th>Name</th>\n",
       "      <th>Sex</th>\n",
       "      <th>Age</th>\n",
       "      <th>SibSp</th>\n",
       "      <th>Parch</th>\n",
       "      <th>Ticket</th>\n",
       "      <th>Fare</th>\n",
       "      <th>Cabin</th>\n",
       "      <th>Embarked</th>\n",
       "    </tr>\n",
       "    <tr>\n",
       "      <th>PassengerId</th>\n",
       "      <th></th>\n",
       "      <th></th>\n",
       "      <th></th>\n",
       "      <th></th>\n",
       "      <th></th>\n",
       "      <th></th>\n",
       "      <th></th>\n",
       "      <th></th>\n",
       "      <th></th>\n",
       "      <th></th>\n",
       "      <th></th>\n",
       "    </tr>\n",
       "  </thead>\n",
       "  <tbody>\n",
       "    <tr>\n",
       "      <th>6</th>\n",
       "      <td>0</td>\n",
       "      <td>3</td>\n",
       "      <td>Moran, Mr. James</td>\n",
       "      <td>male</td>\n",
       "      <td>NaN</td>\n",
       "      <td>0</td>\n",
       "      <td>0</td>\n",
       "      <td>330877</td>\n",
       "      <td>8.4583</td>\n",
       "      <td>NaN</td>\n",
       "      <td>Q</td>\n",
       "    </tr>\n",
       "    <tr>\n",
       "      <th>18</th>\n",
       "      <td>1</td>\n",
       "      <td>2</td>\n",
       "      <td>Williams, Mr. Charles Eugene</td>\n",
       "      <td>male</td>\n",
       "      <td>NaN</td>\n",
       "      <td>0</td>\n",
       "      <td>0</td>\n",
       "      <td>244373</td>\n",
       "      <td>13.0000</td>\n",
       "      <td>NaN</td>\n",
       "      <td>S</td>\n",
       "    </tr>\n",
       "    <tr>\n",
       "      <th>20</th>\n",
       "      <td>1</td>\n",
       "      <td>3</td>\n",
       "      <td>Masselmani, Mrs. Fatima</td>\n",
       "      <td>female</td>\n",
       "      <td>NaN</td>\n",
       "      <td>0</td>\n",
       "      <td>0</td>\n",
       "      <td>2649</td>\n",
       "      <td>7.2250</td>\n",
       "      <td>NaN</td>\n",
       "      <td>C</td>\n",
       "    </tr>\n",
       "    <tr>\n",
       "      <th>27</th>\n",
       "      <td>0</td>\n",
       "      <td>3</td>\n",
       "      <td>Emir, Mr. Farred Chehab</td>\n",
       "      <td>male</td>\n",
       "      <td>NaN</td>\n",
       "      <td>0</td>\n",
       "      <td>0</td>\n",
       "      <td>2631</td>\n",
       "      <td>7.2250</td>\n",
       "      <td>NaN</td>\n",
       "      <td>C</td>\n",
       "    </tr>\n",
       "    <tr>\n",
       "      <th>29</th>\n",
       "      <td>1</td>\n",
       "      <td>3</td>\n",
       "      <td>O'Dwyer, Miss. Ellen \"Nellie\"</td>\n",
       "      <td>female</td>\n",
       "      <td>NaN</td>\n",
       "      <td>0</td>\n",
       "      <td>0</td>\n",
       "      <td>330959</td>\n",
       "      <td>7.8792</td>\n",
       "      <td>NaN</td>\n",
       "      <td>Q</td>\n",
       "    </tr>\n",
       "    <tr>\n",
       "      <th>...</th>\n",
       "      <td>...</td>\n",
       "      <td>...</td>\n",
       "      <td>...</td>\n",
       "      <td>...</td>\n",
       "      <td>...</td>\n",
       "      <td>...</td>\n",
       "      <td>...</td>\n",
       "      <td>...</td>\n",
       "      <td>...</td>\n",
       "      <td>...</td>\n",
       "      <td>...</td>\n",
       "    </tr>\n",
       "    <tr>\n",
       "      <th>860</th>\n",
       "      <td>0</td>\n",
       "      <td>3</td>\n",
       "      <td>Razi, Mr. Raihed</td>\n",
       "      <td>male</td>\n",
       "      <td>NaN</td>\n",
       "      <td>0</td>\n",
       "      <td>0</td>\n",
       "      <td>2629</td>\n",
       "      <td>7.2292</td>\n",
       "      <td>NaN</td>\n",
       "      <td>C</td>\n",
       "    </tr>\n",
       "    <tr>\n",
       "      <th>864</th>\n",
       "      <td>0</td>\n",
       "      <td>3</td>\n",
       "      <td>Sage, Miss. Dorothy Edith \"Dolly\"</td>\n",
       "      <td>female</td>\n",
       "      <td>NaN</td>\n",
       "      <td>8</td>\n",
       "      <td>2</td>\n",
       "      <td>CA. 2343</td>\n",
       "      <td>69.5500</td>\n",
       "      <td>NaN</td>\n",
       "      <td>S</td>\n",
       "    </tr>\n",
       "    <tr>\n",
       "      <th>869</th>\n",
       "      <td>0</td>\n",
       "      <td>3</td>\n",
       "      <td>van Melkebeke, Mr. Philemon</td>\n",
       "      <td>male</td>\n",
       "      <td>NaN</td>\n",
       "      <td>0</td>\n",
       "      <td>0</td>\n",
       "      <td>345777</td>\n",
       "      <td>9.5000</td>\n",
       "      <td>NaN</td>\n",
       "      <td>S</td>\n",
       "    </tr>\n",
       "    <tr>\n",
       "      <th>879</th>\n",
       "      <td>0</td>\n",
       "      <td>3</td>\n",
       "      <td>Laleff, Mr. Kristo</td>\n",
       "      <td>male</td>\n",
       "      <td>NaN</td>\n",
       "      <td>0</td>\n",
       "      <td>0</td>\n",
       "      <td>349217</td>\n",
       "      <td>7.8958</td>\n",
       "      <td>NaN</td>\n",
       "      <td>S</td>\n",
       "    </tr>\n",
       "    <tr>\n",
       "      <th>889</th>\n",
       "      <td>0</td>\n",
       "      <td>3</td>\n",
       "      <td>Johnston, Miss. Catherine Helen \"Carrie\"</td>\n",
       "      <td>female</td>\n",
       "      <td>NaN</td>\n",
       "      <td>1</td>\n",
       "      <td>2</td>\n",
       "      <td>W./C. 6607</td>\n",
       "      <td>23.4500</td>\n",
       "      <td>NaN</td>\n",
       "      <td>S</td>\n",
       "    </tr>\n",
       "  </tbody>\n",
       "</table>\n",
       "<p>177 rows × 11 columns</p>\n",
       "</div>"
      ],
      "text/plain": [
       "             Survived  Pclass                                      Name  \\\n",
       "PassengerId                                                               \n",
       "6                   0       3                          Moran, Mr. James   \n",
       "18                  1       2              Williams, Mr. Charles Eugene   \n",
       "20                  1       3                   Masselmani, Mrs. Fatima   \n",
       "27                  0       3                   Emir, Mr. Farred Chehab   \n",
       "29                  1       3             O'Dwyer, Miss. Ellen \"Nellie\"   \n",
       "...               ...     ...                                       ...   \n",
       "860                 0       3                          Razi, Mr. Raihed   \n",
       "864                 0       3         Sage, Miss. Dorothy Edith \"Dolly\"   \n",
       "869                 0       3               van Melkebeke, Mr. Philemon   \n",
       "879                 0       3                        Laleff, Mr. Kristo   \n",
       "889                 0       3  Johnston, Miss. Catherine Helen \"Carrie\"   \n",
       "\n",
       "                Sex  Age  SibSp  Parch      Ticket     Fare Cabin Embarked  \n",
       "PassengerId                                                                 \n",
       "6              male  NaN      0      0      330877   8.4583   NaN        Q  \n",
       "18             male  NaN      0      0      244373  13.0000   NaN        S  \n",
       "20           female  NaN      0      0        2649   7.2250   NaN        C  \n",
       "27             male  NaN      0      0        2631   7.2250   NaN        C  \n",
       "29           female  NaN      0      0      330959   7.8792   NaN        Q  \n",
       "...             ...  ...    ...    ...         ...      ...   ...      ...  \n",
       "860            male  NaN      0      0        2629   7.2292   NaN        C  \n",
       "864          female  NaN      8      2    CA. 2343  69.5500   NaN        S  \n",
       "869            male  NaN      0      0      345777   9.5000   NaN        S  \n",
       "879            male  NaN      0      0      349217   7.8958   NaN        S  \n",
       "889          female  NaN      1      2  W./C. 6607  23.4500   NaN        S  \n",
       "\n",
       "[177 rows x 11 columns]"
      ]
     },
     "execution_count": 20,
     "metadata": {},
     "output_type": "execute_result"
    }
   ],
   "source": [
    "# 불리언 인덱싱으로 확인해보기\n",
    "train[pd.isna(train['Age'])]"
   ]
  },
  {
   "cell_type": "markdown",
   "id": "33af6fb8",
   "metadata": {},
   "source": [
    "- 177 개에 대한 데이터의 조건을 맞춰서 나이값을 넣어주기 어렵다.\n",
    "- apply 함수를 이용해서 한 번에 값을 처리해주겠다.\n",
    "- apply() : 다른 함수를 pandas 의 객체에 연결시켜주는 함수 "
   ]
  },
  {
   "cell_type": "code",
   "execution_count": 21,
   "id": "16a542f1",
   "metadata": {
    "ExecuteTime": {
     "end_time": "2023-09-11T00:23:04.559784Z",
     "start_time": "2023-09-11T00:23:04.530863Z"
    }
   },
   "outputs": [],
   "source": [
    "# 나이를 채워주는 함수를 만들어보자.\n",
    "def fill_age(data): # 매개변수 data 에는 train 또는 test 데이터가 들어가게 된다! \n",
    "    # 만약 data 에 Age 컬럼이 결측치라면 피봇 테이블에서 값을 가져와 넣어줘라. \n",
    "    if pd.isna(data['Age']):\n",
    "        # 위에서 만든 피봇 테이블 멀티 인덱싱 값을 리턴 \n",
    "        return pt1.loc[data['Pclass'], data['Sex']]\n",
    "    else:\n",
    "        # Age 컬럼에 결측치가 없다면 기존의 값을 사용하자. \n",
    "        return data['Age']"
   ]
  },
  {
   "cell_type": "code",
   "execution_count": 22,
   "id": "8813f919",
   "metadata": {
    "ExecuteTime": {
     "end_time": "2023-09-11T00:23:04.607656Z",
     "start_time": "2023-09-11T00:23:04.560783Z"
    }
   },
   "outputs": [],
   "source": [
    "# Age 결측치 채우기 \n",
    "train['Age']=train.apply(fill_age, axis=1).astype('int64')"
   ]
  },
  {
   "cell_type": "code",
   "execution_count": 23,
   "id": "cc34b944",
   "metadata": {
    "ExecuteTime": {
     "end_time": "2023-09-11T00:23:04.701406Z",
     "start_time": "2023-09-11T00:23:04.612644Z"
    }
   },
   "outputs": [],
   "source": [
    "test['Age']=test.apply(fill_age, axis=1).astype('int64')"
   ]
  },
  {
   "cell_type": "code",
   "execution_count": 24,
   "id": "646d4a4f",
   "metadata": {
    "ExecuteTime": {
     "end_time": "2023-09-11T00:23:04.716365Z",
     "start_time": "2023-09-11T00:23:04.703401Z"
    }
   },
   "outputs": [
    {
     "name": "stdout",
     "output_type": "stream",
     "text": [
      "<class 'pandas.core.frame.DataFrame'>\n",
      "Int64Index: 891 entries, 1 to 891\n",
      "Data columns (total 11 columns):\n",
      " #   Column    Non-Null Count  Dtype  \n",
      "---  ------    --------------  -----  \n",
      " 0   Survived  891 non-null    int64  \n",
      " 1   Pclass    891 non-null    int64  \n",
      " 2   Name      891 non-null    object \n",
      " 3   Sex       891 non-null    object \n",
      " 4   Age       891 non-null    int64  \n",
      " 5   SibSp     891 non-null    int64  \n",
      " 6   Parch     891 non-null    int64  \n",
      " 7   Ticket    891 non-null    object \n",
      " 8   Fare      891 non-null    float64\n",
      " 9   Cabin     204 non-null    object \n",
      " 10  Embarked  889 non-null    object \n",
      "dtypes: float64(1), int64(5), object(5)\n",
      "memory usage: 83.5+ KB\n"
     ]
    }
   ],
   "source": [
    "train.info()"
   ]
  },
  {
   "cell_type": "code",
   "execution_count": 25,
   "id": "0830b9f2",
   "metadata": {
    "ExecuteTime": {
     "end_time": "2023-09-11T00:23:04.732322Z",
     "start_time": "2023-09-11T00:23:04.717363Z"
    }
   },
   "outputs": [
    {
     "name": "stdout",
     "output_type": "stream",
     "text": [
      "<class 'pandas.core.frame.DataFrame'>\n",
      "Int64Index: 418 entries, 892 to 1309\n",
      "Data columns (total 10 columns):\n",
      " #   Column    Non-Null Count  Dtype  \n",
      "---  ------    --------------  -----  \n",
      " 0   Pclass    418 non-null    int64  \n",
      " 1   Name      418 non-null    object \n",
      " 2   Sex       418 non-null    object \n",
      " 3   Age       418 non-null    int64  \n",
      " 4   SibSp     418 non-null    int64  \n",
      " 5   Parch     418 non-null    int64  \n",
      " 6   Ticket    418 non-null    object \n",
      " 7   Fare      417 non-null    float64\n",
      " 8   Cabin     91 non-null     object \n",
      " 9   Embarked  418 non-null    object \n",
      "dtypes: float64(1), int64(4), object(5)\n",
      "memory usage: 35.9+ KB\n"
     ]
    }
   ],
   "source": [
    "test.info()"
   ]
  },
  {
   "cell_type": "code",
   "execution_count": 26,
   "id": "aeb69800",
   "metadata": {
    "ExecuteTime": {
     "end_time": "2023-09-11T00:23:04.747282Z",
     "start_time": "2023-09-11T00:23:04.735316Z"
    }
   },
   "outputs": [
    {
     "data": {
      "text/plain": [
       "count    891.000000\n",
       "mean      29.191919\n",
       "std       13.313598\n",
       "min        0.000000\n",
       "25%       21.000000\n",
       "50%       26.000000\n",
       "75%       36.000000\n",
       "max       80.000000\n",
       "Name: Age, dtype: float64"
      ]
     },
     "execution_count": 26,
     "metadata": {},
     "output_type": "execute_result"
    }
   ],
   "source": [
    "train['Age'].describe()"
   ]
  },
  {
   "cell_type": "code",
   "execution_count": 27,
   "id": "8e555db3",
   "metadata": {
    "ExecuteTime": {
     "end_time": "2023-09-11T00:23:04.763240Z",
     "start_time": "2023-09-11T00:23:04.749278Z"
    }
   },
   "outputs": [
    {
     "data": {
      "text/plain": [
       "count    418.000000\n",
       "mean      29.437799\n",
       "std       12.967482\n",
       "min        0.000000\n",
       "25%       21.000000\n",
       "50%       26.000000\n",
       "75%       36.000000\n",
       "max       76.000000\n",
       "Name: Age, dtype: float64"
      ]
     },
     "execution_count": 27,
     "metadata": {},
     "output_type": "execute_result"
    }
   ],
   "source": [
    "test['Age'].describe()"
   ]
  },
  {
   "cell_type": "markdown",
   "id": "c38447a5",
   "metadata": {},
   "source": [
    "- Age 결측치 모두 채우기 완료\n",
    "- 상관관계를 이용해서 나이 데이터를 채워줬다!"
   ]
  },
  {
   "cell_type": "markdown",
   "id": "f7a61639",
   "metadata": {},
   "source": [
    "**Embarked 데이터 채워주기**\n",
    "- 결측치 2개 있다. "
   ]
  },
  {
   "cell_type": "code",
   "execution_count": 28,
   "id": "97fe7d13",
   "metadata": {
    "ExecuteTime": {
     "end_time": "2023-09-11T00:23:04.779197Z",
     "start_time": "2023-09-11T00:23:04.765235Z"
    }
   },
   "outputs": [
    {
     "data": {
      "text/plain": [
       "S    644\n",
       "C    168\n",
       "Q     77\n",
       "Name: Embarked, dtype: int64"
      ]
     },
     "execution_count": 28,
     "metadata": {},
     "output_type": "execute_result"
    }
   ],
   "source": [
    "# Enbarked 내부 데이터의 구조는 어떻게 되어있었나? \n",
    "# Q / S / C 라는 알파벳으로 3 가지 값으로 구분이 되어 있었다. \n",
    "# 각각의 갯수를 살펴보자. - 데이터의 분포를 살펴보자. \n",
    "train['Embarked'].value_counts()"
   ]
  },
  {
   "cell_type": "code",
   "execution_count": 29,
   "id": "d40ed8d5",
   "metadata": {
    "ExecuteTime": {
     "end_time": "2023-09-11T00:23:04.795155Z",
     "start_time": "2023-09-11T00:23:04.781192Z"
    }
   },
   "outputs": [],
   "source": [
    "# 결측치를 채워주는 하무 : fillna()\n",
    "train['Embarked']=train['Embarked'].fillna('S')"
   ]
  },
  {
   "cell_type": "code",
   "execution_count": 30,
   "id": "639daecd",
   "metadata": {
    "ExecuteTime": {
     "end_time": "2023-09-11T00:23:04.811112Z",
     "start_time": "2023-09-11T00:23:04.798148Z"
    }
   },
   "outputs": [
    {
     "name": "stdout",
     "output_type": "stream",
     "text": [
      "<class 'pandas.core.frame.DataFrame'>\n",
      "Int64Index: 891 entries, 1 to 891\n",
      "Data columns (total 11 columns):\n",
      " #   Column    Non-Null Count  Dtype  \n",
      "---  ------    --------------  -----  \n",
      " 0   Survived  891 non-null    int64  \n",
      " 1   Pclass    891 non-null    int64  \n",
      " 2   Name      891 non-null    object \n",
      " 3   Sex       891 non-null    object \n",
      " 4   Age       891 non-null    int64  \n",
      " 5   SibSp     891 non-null    int64  \n",
      " 6   Parch     891 non-null    int64  \n",
      " 7   Ticket    891 non-null    object \n",
      " 8   Fare      891 non-null    float64\n",
      " 9   Cabin     204 non-null    object \n",
      " 10  Embarked  891 non-null    object \n",
      "dtypes: float64(1), int64(5), object(5)\n",
      "memory usage: 83.5+ KB\n"
     ]
    }
   ],
   "source": [
    "train.info()"
   ]
  },
  {
   "cell_type": "markdown",
   "id": "087491a9",
   "metadata": {},
   "source": [
    "**Fare 채워주기**\n",
    "- test에 결측치가 있다. "
   ]
  },
  {
   "cell_type": "code",
   "execution_count": 31,
   "id": "08da2b83",
   "metadata": {
    "ExecuteTime": {
     "end_time": "2023-09-11T00:23:04.826072Z",
     "start_time": "2023-09-11T00:23:04.812111Z"
    }
   },
   "outputs": [
    {
     "name": "stdout",
     "output_type": "stream",
     "text": [
      "<class 'pandas.core.frame.DataFrame'>\n",
      "Int64Index: 418 entries, 892 to 1309\n",
      "Data columns (total 10 columns):\n",
      " #   Column    Non-Null Count  Dtype  \n",
      "---  ------    --------------  -----  \n",
      " 0   Pclass    418 non-null    int64  \n",
      " 1   Name      418 non-null    object \n",
      " 2   Sex       418 non-null    object \n",
      " 3   Age       418 non-null    int64  \n",
      " 4   SibSp     418 non-null    int64  \n",
      " 5   Parch     418 non-null    int64  \n",
      " 6   Ticket    418 non-null    object \n",
      " 7   Fare      417 non-null    float64\n",
      " 8   Cabin     91 non-null     object \n",
      " 9   Embarked  418 non-null    object \n",
      "dtypes: float64(1), int64(4), object(5)\n",
      "memory usage: 35.9+ KB\n"
     ]
    }
   ],
   "source": [
    "test.info()"
   ]
  },
  {
   "cell_type": "code",
   "execution_count": 32,
   "id": "eb04db9c",
   "metadata": {
    "ExecuteTime": {
     "end_time": "2023-09-11T00:23:04.841032Z",
     "start_time": "2023-09-11T00:23:04.829064Z"
    }
   },
   "outputs": [
    {
     "data": {
      "text/plain": [
       "count    417.000000\n",
       "mean      35.627188\n",
       "std       55.907576\n",
       "min        0.000000\n",
       "25%        7.895800\n",
       "50%       14.454200\n",
       "75%       31.500000\n",
       "max      512.329200\n",
       "Name: Fare, dtype: float64"
      ]
     },
     "execution_count": 32,
     "metadata": {},
     "output_type": "execute_result"
    }
   ],
   "source": [
    "# Fare 에 대한 기술 통계 살펴보기 \n",
    "test['Fare'].describe()"
   ]
  },
  {
   "cell_type": "markdown",
   "id": "c612b927",
   "metadata": {},
   "source": [
    "- Fare 컬럼은 최대값 / 최소값을 봤을 때 편차가 크고 평균과 사분위수가 한쪽으로 쏠려있다. \n",
    "- 전체 금액을 가지고 평균을 구하면 신뢰성이 많이 떨어질 것 같다. "
   ]
  },
  {
   "cell_type": "code",
   "execution_count": 33,
   "id": "9de4dba4",
   "metadata": {
    "ExecuteTime": {
     "end_time": "2023-09-11T00:23:04.856989Z",
     "start_time": "2023-09-11T00:23:04.842031Z"
    }
   },
   "outputs": [
    {
     "data": {
      "text/html": [
       "<div>\n",
       "<style scoped>\n",
       "    .dataframe tbody tr th:only-of-type {\n",
       "        vertical-align: middle;\n",
       "    }\n",
       "\n",
       "    .dataframe tbody tr th {\n",
       "        vertical-align: top;\n",
       "    }\n",
       "\n",
       "    .dataframe thead th {\n",
       "        text-align: right;\n",
       "    }\n",
       "</style>\n",
       "<table border=\"1\" class=\"dataframe\">\n",
       "  <thead>\n",
       "    <tr style=\"text-align: right;\">\n",
       "      <th></th>\n",
       "      <th>Survived</th>\n",
       "      <th>Pclass</th>\n",
       "      <th>Age</th>\n",
       "      <th>SibSp</th>\n",
       "      <th>Parch</th>\n",
       "      <th>Fare</th>\n",
       "    </tr>\n",
       "  </thead>\n",
       "  <tbody>\n",
       "    <tr>\n",
       "      <th>Survived</th>\n",
       "      <td>1.000000</td>\n",
       "      <td>-0.338481</td>\n",
       "      <td>-0.066538</td>\n",
       "      <td>-0.035322</td>\n",
       "      <td>0.081629</td>\n",
       "      <td>0.257307</td>\n",
       "    </tr>\n",
       "    <tr>\n",
       "      <th>Pclass</th>\n",
       "      <td>-0.338481</td>\n",
       "      <td>1.000000</td>\n",
       "      <td>-0.410104</td>\n",
       "      <td>0.083081</td>\n",
       "      <td>0.018443</td>\n",
       "      <td>-0.549500</td>\n",
       "    </tr>\n",
       "    <tr>\n",
       "      <th>Age</th>\n",
       "      <td>-0.066538</td>\n",
       "      <td>-0.410104</td>\n",
       "      <td>1.000000</td>\n",
       "      <td>-0.251439</td>\n",
       "      <td>-0.178855</td>\n",
       "      <td>0.120173</td>\n",
       "    </tr>\n",
       "    <tr>\n",
       "      <th>SibSp</th>\n",
       "      <td>-0.035322</td>\n",
       "      <td>0.083081</td>\n",
       "      <td>-0.251439</td>\n",
       "      <td>1.000000</td>\n",
       "      <td>0.414838</td>\n",
       "      <td>0.159651</td>\n",
       "    </tr>\n",
       "    <tr>\n",
       "      <th>Parch</th>\n",
       "      <td>0.081629</td>\n",
       "      <td>0.018443</td>\n",
       "      <td>-0.178855</td>\n",
       "      <td>0.414838</td>\n",
       "      <td>1.000000</td>\n",
       "      <td>0.216225</td>\n",
       "    </tr>\n",
       "    <tr>\n",
       "      <th>Fare</th>\n",
       "      <td>0.257307</td>\n",
       "      <td>-0.549500</td>\n",
       "      <td>0.120173</td>\n",
       "      <td>0.159651</td>\n",
       "      <td>0.216225</td>\n",
       "      <td>1.000000</td>\n",
       "    </tr>\n",
       "  </tbody>\n",
       "</table>\n",
       "</div>"
      ],
      "text/plain": [
       "          Survived    Pclass       Age     SibSp     Parch      Fare\n",
       "Survived  1.000000 -0.338481 -0.066538 -0.035322  0.081629  0.257307\n",
       "Pclass   -0.338481  1.000000 -0.410104  0.083081  0.018443 -0.549500\n",
       "Age      -0.066538 -0.410104  1.000000 -0.251439 -0.178855  0.120173\n",
       "SibSp    -0.035322  0.083081 -0.251439  1.000000  0.414838  0.159651\n",
       "Parch     0.081629  0.018443 -0.178855  0.414838  1.000000  0.216225\n",
       "Fare      0.257307 -0.549500  0.120173  0.159651  0.216225  1.000000"
      ]
     },
     "execution_count": 33,
     "metadata": {},
     "output_type": "execute_result"
    }
   ],
   "source": [
    "# 상관계수 살펴보기 - train 사용 \n",
    "train.corr()"
   ]
  },
  {
   "cell_type": "code",
   "execution_count": 34,
   "id": "9be80799",
   "metadata": {
    "ExecuteTime": {
     "end_time": "2023-09-11T00:23:04.871949Z",
     "start_time": "2023-09-11T00:23:04.858984Z"
    }
   },
   "outputs": [
    {
     "data": {
      "text/plain": [
       "PassengerId\n",
       "1       7.2500\n",
       "2      71.2833\n",
       "3       7.9250\n",
       "4      53.1000\n",
       "5       8.0500\n",
       "        ...   \n",
       "887    13.0000\n",
       "888    30.0000\n",
       "889    23.4500\n",
       "890    30.0000\n",
       "891     7.7500\n",
       "Name: Fare, Length: 891, dtype: float64"
      ]
     },
     "execution_count": 34,
     "metadata": {},
     "output_type": "execute_result"
    }
   ],
   "source": [
    "train['Fare']"
   ]
  },
  {
   "cell_type": "code",
   "execution_count": 35,
   "id": "7cce138e",
   "metadata": {
    "ExecuteTime": {
     "end_time": "2023-09-11T00:23:04.887907Z",
     "start_time": "2023-09-11T00:23:04.873946Z"
    }
   },
   "outputs": [
    {
     "data": {
      "text/html": [
       "<div>\n",
       "<style scoped>\n",
       "    .dataframe tbody tr th:only-of-type {\n",
       "        vertical-align: middle;\n",
       "    }\n",
       "\n",
       "    .dataframe tbody tr th {\n",
       "        vertical-align: top;\n",
       "    }\n",
       "\n",
       "    .dataframe thead th {\n",
       "        text-align: right;\n",
       "    }\n",
       "</style>\n",
       "<table border=\"1\" class=\"dataframe\">\n",
       "  <thead>\n",
       "    <tr style=\"text-align: right;\">\n",
       "      <th></th>\n",
       "      <th></th>\n",
       "      <th>Fare</th>\n",
       "    </tr>\n",
       "    <tr>\n",
       "      <th>Pclass</th>\n",
       "      <th>Sex</th>\n",
       "      <th></th>\n",
       "    </tr>\n",
       "  </thead>\n",
       "  <tbody>\n",
       "    <tr>\n",
       "      <th rowspan=\"2\" valign=\"top\">1</th>\n",
       "      <th>female</th>\n",
       "      <td>106.125798</td>\n",
       "    </tr>\n",
       "    <tr>\n",
       "      <th>male</th>\n",
       "      <td>67.226127</td>\n",
       "    </tr>\n",
       "    <tr>\n",
       "      <th rowspan=\"2\" valign=\"top\">2</th>\n",
       "      <th>female</th>\n",
       "      <td>21.970121</td>\n",
       "    </tr>\n",
       "    <tr>\n",
       "      <th>male</th>\n",
       "      <td>19.741782</td>\n",
       "    </tr>\n",
       "    <tr>\n",
       "      <th rowspan=\"2\" valign=\"top\">3</th>\n",
       "      <th>female</th>\n",
       "      <td>16.118810</td>\n",
       "    </tr>\n",
       "    <tr>\n",
       "      <th>male</th>\n",
       "      <td>12.661633</td>\n",
       "    </tr>\n",
       "  </tbody>\n",
       "</table>\n",
       "</div>"
      ],
      "text/plain": [
       "                     Fare\n",
       "Pclass Sex               \n",
       "1      female  106.125798\n",
       "       male     67.226127\n",
       "2      female   21.970121\n",
       "       male     19.741782\n",
       "3      female   16.118810\n",
       "       male     12.661633"
      ]
     },
     "execution_count": 35,
     "metadata": {},
     "output_type": "execute_result"
    }
   ],
   "source": [
    "# 피봇 테이블 만들어보기 [연관관계가 높은 컬럼, 성별], 금액은 평균을 구해볼거임! \n",
    "# train 사용 \n",
    "pt2=train.pivot_table(values='Fare', # 데이터로 사용할 컬럼 지정\n",
    "                     index=['Pclass', 'Sex'], # 인덱스를 설정하겠다!\n",
    "                     # 생존 여부에 영향을 많이 미치는 성별도 추가해보겠다. \n",
    "                     # 인덱스를 설정할 때 1차로 Pclass 로 나눈뒤 성별로 한 번더 나누겠다. \n",
    "                     aggfunc='mean' # 데이터 요약시 사용하는 함수를 지정 \n",
    "                     # (mean : 평균 / sum : 합 / count : 갯수)\n",
    "                     )\n",
    "pt2"
   ]
  },
  {
   "cell_type": "code",
   "execution_count": 36,
   "id": "f304352c",
   "metadata": {
    "ExecuteTime": {
     "end_time": "2023-09-11T00:23:04.902867Z",
     "start_time": "2023-09-11T00:23:04.888905Z"
    }
   },
   "outputs": [
    {
     "data": {
      "text/plain": [
       "PassengerId\n",
       "892     False\n",
       "893     False\n",
       "894     False\n",
       "895     False\n",
       "896     False\n",
       "        ...  \n",
       "1305    False\n",
       "1306    False\n",
       "1307    False\n",
       "1308    False\n",
       "1309    False\n",
       "Name: Fare, Length: 418, dtype: bool"
      ]
     },
     "execution_count": 36,
     "metadata": {},
     "output_type": "execute_result"
    }
   ],
   "source": [
    "# test['Fare']의 비어있는 곳 찾기 - isnull() \n",
    "test['Fare'].isnull()"
   ]
  },
  {
   "cell_type": "code",
   "execution_count": 37,
   "id": "e4dadcdc",
   "metadata": {
    "ExecuteTime": {
     "end_time": "2023-09-11T00:23:04.918824Z",
     "start_time": "2023-09-11T00:23:04.904863Z"
    }
   },
   "outputs": [
    {
     "data": {
      "text/html": [
       "<div>\n",
       "<style scoped>\n",
       "    .dataframe tbody tr th:only-of-type {\n",
       "        vertical-align: middle;\n",
       "    }\n",
       "\n",
       "    .dataframe tbody tr th {\n",
       "        vertical-align: top;\n",
       "    }\n",
       "\n",
       "    .dataframe thead th {\n",
       "        text-align: right;\n",
       "    }\n",
       "</style>\n",
       "<table border=\"1\" class=\"dataframe\">\n",
       "  <thead>\n",
       "    <tr style=\"text-align: right;\">\n",
       "      <th></th>\n",
       "      <th>Pclass</th>\n",
       "      <th>Name</th>\n",
       "      <th>Sex</th>\n",
       "      <th>Age</th>\n",
       "      <th>SibSp</th>\n",
       "      <th>Parch</th>\n",
       "      <th>Ticket</th>\n",
       "      <th>Fare</th>\n",
       "      <th>Cabin</th>\n",
       "      <th>Embarked</th>\n",
       "    </tr>\n",
       "    <tr>\n",
       "      <th>PassengerId</th>\n",
       "      <th></th>\n",
       "      <th></th>\n",
       "      <th></th>\n",
       "      <th></th>\n",
       "      <th></th>\n",
       "      <th></th>\n",
       "      <th></th>\n",
       "      <th></th>\n",
       "      <th></th>\n",
       "      <th></th>\n",
       "    </tr>\n",
       "  </thead>\n",
       "  <tbody>\n",
       "    <tr>\n",
       "      <th>1044</th>\n",
       "      <td>3</td>\n",
       "      <td>Storey, Mr. Thomas</td>\n",
       "      <td>male</td>\n",
       "      <td>60</td>\n",
       "      <td>0</td>\n",
       "      <td>0</td>\n",
       "      <td>3701</td>\n",
       "      <td>NaN</td>\n",
       "      <td>NaN</td>\n",
       "      <td>S</td>\n",
       "    </tr>\n",
       "  </tbody>\n",
       "</table>\n",
       "</div>"
      ],
      "text/plain": [
       "             Pclass                Name   Sex  Age  SibSp  Parch Ticket  Fare  \\\n",
       "PassengerId                                                                     \n",
       "1044              3  Storey, Mr. Thomas  male   60      0      0   3701   NaN   \n",
       "\n",
       "            Cabin Embarked  \n",
       "PassengerId                 \n",
       "1044          NaN        S  "
      ]
     },
     "execution_count": 37,
     "metadata": {},
     "output_type": "execute_result"
    }
   ],
   "source": [
    "# 불리언 인덱싱으로 값을 가져와보자 \n",
    "test[test['Fare'].isnull()]"
   ]
  },
  {
   "cell_type": "code",
   "execution_count": 38,
   "id": "ec407afe",
   "metadata": {
    "ExecuteTime": {
     "end_time": "2023-09-11T00:23:04.934782Z",
     "start_time": "2023-09-11T00:23:04.919822Z"
    }
   },
   "outputs": [],
   "source": [
    "# fillna() 함수 이용해서 값을 채워주자. \n",
    "# test['Fare']=test['Fare'].fillna(12.661633)\n",
    "_3Male=pt2.loc[3,'male']\n",
    "test['Fare']=test['Fare'].fillna(12.661633)"
   ]
  },
  {
   "cell_type": "code",
   "execution_count": 39,
   "id": "a2f041f3",
   "metadata": {
    "ExecuteTime": {
     "end_time": "2023-09-11T00:23:04.950764Z",
     "start_time": "2023-09-11T00:23:04.935810Z"
    }
   },
   "outputs": [
    {
     "data": {
      "text/html": [
       "<div>\n",
       "<style scoped>\n",
       "    .dataframe tbody tr th:only-of-type {\n",
       "        vertical-align: middle;\n",
       "    }\n",
       "\n",
       "    .dataframe tbody tr th {\n",
       "        vertical-align: top;\n",
       "    }\n",
       "\n",
       "    .dataframe thead th {\n",
       "        text-align: right;\n",
       "    }\n",
       "</style>\n",
       "<table border=\"1\" class=\"dataframe\">\n",
       "  <thead>\n",
       "    <tr style=\"text-align: right;\">\n",
       "      <th></th>\n",
       "      <th>Pclass</th>\n",
       "      <th>Name</th>\n",
       "      <th>Sex</th>\n",
       "      <th>Age</th>\n",
       "      <th>SibSp</th>\n",
       "      <th>Parch</th>\n",
       "      <th>Ticket</th>\n",
       "      <th>Fare</th>\n",
       "      <th>Cabin</th>\n",
       "      <th>Embarked</th>\n",
       "    </tr>\n",
       "    <tr>\n",
       "      <th>PassengerId</th>\n",
       "      <th></th>\n",
       "      <th></th>\n",
       "      <th></th>\n",
       "      <th></th>\n",
       "      <th></th>\n",
       "      <th></th>\n",
       "      <th></th>\n",
       "      <th></th>\n",
       "      <th></th>\n",
       "      <th></th>\n",
       "    </tr>\n",
       "  </thead>\n",
       "  <tbody>\n",
       "  </tbody>\n",
       "</table>\n",
       "</div>"
      ],
      "text/plain": [
       "Empty DataFrame\n",
       "Columns: [Pclass, Name, Sex, Age, SibSp, Parch, Ticket, Fare, Cabin, Embarked]\n",
       "Index: []"
      ]
     },
     "execution_count": 39,
     "metadata": {},
     "output_type": "execute_result"
    }
   ],
   "source": [
    "test[test['Fare'].isnull()]"
   ]
  },
  {
   "cell_type": "code",
   "execution_count": 40,
   "id": "685f3c08",
   "metadata": {
    "ExecuteTime": {
     "end_time": "2023-09-11T00:23:04.966721Z",
     "start_time": "2023-09-11T00:23:04.954729Z"
    }
   },
   "outputs": [
    {
     "name": "stdout",
     "output_type": "stream",
     "text": [
      "<class 'pandas.core.frame.DataFrame'>\n",
      "Int64Index: 418 entries, 892 to 1309\n",
      "Data columns (total 10 columns):\n",
      " #   Column    Non-Null Count  Dtype  \n",
      "---  ------    --------------  -----  \n",
      " 0   Pclass    418 non-null    int64  \n",
      " 1   Name      418 non-null    object \n",
      " 2   Sex       418 non-null    object \n",
      " 3   Age       418 non-null    int64  \n",
      " 4   SibSp     418 non-null    int64  \n",
      " 5   Parch     418 non-null    int64  \n",
      " 6   Ticket    418 non-null    object \n",
      " 7   Fare      418 non-null    float64\n",
      " 8   Cabin     91 non-null     object \n",
      " 9   Embarked  418 non-null    object \n",
      "dtypes: float64(1), int64(4), object(5)\n",
      "memory usage: 35.9+ KB\n"
     ]
    }
   ],
   "source": [
    "test.info()"
   ]
  },
  {
   "cell_type": "code",
   "execution_count": 41,
   "id": "c8150f6e",
   "metadata": {
    "ExecuteTime": {
     "end_time": "2023-09-11T00:23:04.982653Z",
     "start_time": "2023-09-11T00:23:04.969689Z"
    }
   },
   "outputs": [
    {
     "name": "stdout",
     "output_type": "stream",
     "text": [
      "<class 'pandas.core.frame.DataFrame'>\n",
      "Int64Index: 418 entries, 892 to 1309\n",
      "Data columns (total 10 columns):\n",
      " #   Column    Non-Null Count  Dtype  \n",
      "---  ------    --------------  -----  \n",
      " 0   Pclass    418 non-null    int64  \n",
      " 1   Name      418 non-null    object \n",
      " 2   Sex       418 non-null    object \n",
      " 3   Age       418 non-null    int64  \n",
      " 4   SibSp     418 non-null    int64  \n",
      " 5   Parch     418 non-null    int64  \n",
      " 6   Ticket    418 non-null    object \n",
      " 7   Fare      418 non-null    float64\n",
      " 8   Cabin     91 non-null     object \n",
      " 9   Embarked  418 non-null    object \n",
      "dtypes: float64(1), int64(4), object(5)\n",
      "memory usage: 35.9+ KB\n"
     ]
    }
   ],
   "source": [
    "test.info()"
   ]
  },
  {
   "cell_type": "code",
   "execution_count": 42,
   "id": "be79e09b",
   "metadata": {
    "ExecuteTime": {
     "end_time": "2023-09-11T00:23:04.998636Z",
     "start_time": "2023-09-11T00:23:04.983651Z"
    }
   },
   "outputs": [
    {
     "name": "stdout",
     "output_type": "stream",
     "text": [
      "<class 'pandas.core.frame.DataFrame'>\n",
      "Int64Index: 891 entries, 1 to 891\n",
      "Data columns (total 11 columns):\n",
      " #   Column    Non-Null Count  Dtype  \n",
      "---  ------    --------------  -----  \n",
      " 0   Survived  891 non-null    int64  \n",
      " 1   Pclass    891 non-null    int64  \n",
      " 2   Name      891 non-null    object \n",
      " 3   Sex       891 non-null    object \n",
      " 4   Age       891 non-null    int64  \n",
      " 5   SibSp     891 non-null    int64  \n",
      " 6   Parch     891 non-null    int64  \n",
      " 7   Ticket    891 non-null    object \n",
      " 8   Fare      891 non-null    float64\n",
      " 9   Cabin     204 non-null    object \n",
      " 10  Embarked  891 non-null    object \n",
      "dtypes: float64(1), int64(5), object(5)\n",
      "memory usage: 83.5+ KB\n"
     ]
    }
   ],
   "source": [
    "train.info()"
   ]
  },
  {
   "cell_type": "markdown",
   "id": "e13c42f3",
   "metadata": {},
   "source": [
    "**Cabin 채워주기**\n",
    "- train / test 모두 결측치가 많다. ( 이럴 경우 컬럼을 삭제하는 것도 고려한다.)\n",
    "- 일단은 결측치에 임의의 값을 넣어보고 시각화까지 해서 사용여부를 판단하자. "
   ]
  },
  {
   "cell_type": "code",
   "execution_count": 43,
   "id": "d298500e",
   "metadata": {
    "ExecuteTime": {
     "end_time": "2023-09-11T00:23:05.014593Z",
     "start_time": "2023-09-11T00:23:04.999620Z"
    }
   },
   "outputs": [
    {
     "data": {
      "text/plain": [
       "array([nan, 'C85', 'C123', 'E46', 'G6', 'C103', 'D56', 'A6',\n",
       "       'C23 C25 C27', 'B78', 'D33', 'B30', 'C52', 'B28', 'C83', 'F33',\n",
       "       'F G73', 'E31', 'A5', 'D10 D12', 'D26', 'C110', 'B58 B60', 'E101',\n",
       "       'F E69', 'D47', 'B86', 'F2', 'C2', 'E33', 'B19', 'A7', 'C49', 'F4',\n",
       "       'A32', 'B4', 'B80', 'A31', 'D36', 'D15', 'C93', 'C78', 'D35',\n",
       "       'C87', 'B77', 'E67', 'B94', 'C125', 'C99', 'C118', 'D7', 'A19',\n",
       "       'B49', 'D', 'C22 C26', 'C106', 'C65', 'E36', 'C54',\n",
       "       'B57 B59 B63 B66', 'C7', 'E34', 'C32', 'B18', 'C124', 'C91', 'E40',\n",
       "       'T', 'C128', 'D37', 'B35', 'E50', 'C82', 'B96 B98', 'E10', 'E44',\n",
       "       'A34', 'C104', 'C111', 'C92', 'E38', 'D21', 'E12', 'E63', 'A14',\n",
       "       'B37', 'C30', 'D20', 'B79', 'E25', 'D46', 'B73', 'C95', 'B38',\n",
       "       'B39', 'B22', 'C86', 'C70', 'A16', 'C101', 'C68', 'A10', 'E68',\n",
       "       'B41', 'A20', 'D19', 'D50', 'D9', 'A23', 'B50', 'A26', 'D48',\n",
       "       'E58', 'C126', 'B71', 'B51 B53 B55', 'D49', 'B5', 'B20', 'F G63',\n",
       "       'C62 C64', 'E24', 'C90', 'C45', 'E8', 'B101', 'D45', 'C46', 'D30',\n",
       "       'E121', 'D11', 'E77', 'F38', 'B3', 'D6', 'B82 B84', 'D17', 'A36',\n",
       "       'B102', 'B69', 'E49', 'C47', 'D28', 'E17', 'A24', 'C50', 'B42',\n",
       "       'C148'], dtype=object)"
      ]
     },
     "execution_count": 43,
     "metadata": {},
     "output_type": "execute_result"
    }
   ],
   "source": [
    "# Cabin 컬럼의 고윳값 살펴보기 \n",
    "train['Cabin'].unique()"
   ]
  },
  {
   "cell_type": "markdown",
   "id": "d075cea7",
   "metadata": {},
   "source": [
    "- 데이터의 모양이 알파벳과 숫자 순으로 이뤄졌다. \n",
    "- 여러개가 묶인 데이터는 모두 같은 알파벳을 사용한다. \n",
    "- 타이타닉호의 단면도와 정보를 찾아보니 알파벳은 층수 / 숫자는 방번호를 이야기한다. \n",
    "- 알파벳을 가지고 와서 층수 정보를 활용할 수 있을까? : 가능할 것 같다. "
   ]
  },
  {
   "cell_type": "code",
   "execution_count": 44,
   "id": "f0515689",
   "metadata": {
    "ExecuteTime": {
     "end_time": "2023-09-11T00:23:05.029530Z",
     "start_time": "2023-09-11T00:23:05.015565Z"
    }
   },
   "outputs": [
    {
     "data": {
      "text/plain": [
       "B96 B98        4\n",
       "G6             4\n",
       "C23 C25 C27    4\n",
       "C22 C26        3\n",
       "F33            3\n",
       "              ..\n",
       "E34            1\n",
       "C7             1\n",
       "C54            1\n",
       "E36            1\n",
       "C148           1\n",
       "Name: Cabin, Length: 147, dtype: int64"
      ]
     },
     "execution_count": 44,
     "metadata": {},
     "output_type": "execute_result"
    }
   ],
   "source": [
    "train['Cabin'].value_counts()"
   ]
  },
  {
   "cell_type": "markdown",
   "id": "fd16986d",
   "metadata": {},
   "source": [
    "- 데이터가 고유값이 너무 많다. (데이터가 넓고 얕게 분포되어 있다.)\n",
    "- 알파벳만 빼와서 사용하면 어떤 형태가 되는지 살펴보자. "
   ]
  },
  {
   "cell_type": "code",
   "execution_count": 45,
   "id": "a5d47191",
   "metadata": {
    "ExecuteTime": {
     "end_time": "2023-09-11T00:23:05.044513Z",
     "start_time": "2023-09-11T00:23:05.033517Z"
    }
   },
   "outputs": [],
   "source": [
    "# 우선 결측치부터 채우고 시작하자!\n",
    "# 임의의 문자 'M' 을 넣어서 채워주고 Deck 컬럼을 생성하자. \n",
    "train['Deck']=train['Cabin'].fillna('M')\n",
    "test['Deck']=test['Cabin'].fillna('M')"
   ]
  },
  {
   "cell_type": "code",
   "execution_count": 46,
   "id": "f8b08cfe",
   "metadata": {
    "ExecuteTime": {
     "end_time": "2023-09-11T00:23:05.060444Z",
     "start_time": "2023-09-11T00:23:05.045486Z"
    }
   },
   "outputs": [
    {
     "name": "stdout",
     "output_type": "stream",
     "text": [
      "<class 'pandas.core.frame.DataFrame'>\n",
      "Int64Index: 891 entries, 1 to 891\n",
      "Data columns (total 12 columns):\n",
      " #   Column    Non-Null Count  Dtype  \n",
      "---  ------    --------------  -----  \n",
      " 0   Survived  891 non-null    int64  \n",
      " 1   Pclass    891 non-null    int64  \n",
      " 2   Name      891 non-null    object \n",
      " 3   Sex       891 non-null    object \n",
      " 4   Age       891 non-null    int64  \n",
      " 5   SibSp     891 non-null    int64  \n",
      " 6   Parch     891 non-null    int64  \n",
      " 7   Ticket    891 non-null    object \n",
      " 8   Fare      891 non-null    float64\n",
      " 9   Cabin     204 non-null    object \n",
      " 10  Embarked  891 non-null    object \n",
      " 11  Deck      891 non-null    object \n",
      "dtypes: float64(1), int64(5), object(6)\n",
      "memory usage: 90.5+ KB\n"
     ]
    }
   ],
   "source": [
    "train.info()"
   ]
  },
  {
   "cell_type": "code",
   "execution_count": 47,
   "id": "8429a5ba",
   "metadata": {
    "ExecuteTime": {
     "end_time": "2023-09-11T00:23:05.075430Z",
     "start_time": "2023-09-11T00:23:05.061442Z"
    }
   },
   "outputs": [
    {
     "name": "stdout",
     "output_type": "stream",
     "text": [
      "<class 'pandas.core.frame.DataFrame'>\n",
      "Int64Index: 418 entries, 892 to 1309\n",
      "Data columns (total 11 columns):\n",
      " #   Column    Non-Null Count  Dtype  \n",
      "---  ------    --------------  -----  \n",
      " 0   Pclass    418 non-null    int64  \n",
      " 1   Name      418 non-null    object \n",
      " 2   Sex       418 non-null    object \n",
      " 3   Age       418 non-null    int64  \n",
      " 4   SibSp     418 non-null    int64  \n",
      " 5   Parch     418 non-null    int64  \n",
      " 6   Ticket    418 non-null    object \n",
      " 7   Fare      418 non-null    float64\n",
      " 8   Cabin     91 non-null     object \n",
      " 9   Embarked  418 non-null    object \n",
      " 10  Deck      418 non-null    object \n",
      "dtypes: float64(1), int64(4), object(6)\n",
      "memory usage: 39.2+ KB\n"
     ]
    }
   ],
   "source": [
    "test.info()"
   ]
  },
  {
   "cell_type": "code",
   "execution_count": 48,
   "id": "130a032c",
   "metadata": {
    "ExecuteTime": {
     "end_time": "2023-09-11T00:23:05.091388Z",
     "start_time": "2023-09-11T00:23:05.077430Z"
    }
   },
   "outputs": [],
   "source": [
    "# Deck 컬럼에서 맨 앞 영문자만 따오자! \n",
    "train['Deck']=train['Deck'].str[0]\n",
    "test['Deck']=test['Deck'].str[0]"
   ]
  },
  {
   "cell_type": "code",
   "execution_count": 49,
   "id": "ee131ad4",
   "metadata": {
    "ExecuteTime": {
     "end_time": "2023-09-11T00:23:05.106348Z",
     "start_time": "2023-09-11T00:23:05.092366Z"
    }
   },
   "outputs": [
    {
     "data": {
      "text/plain": [
       "PassengerId\n",
       "1      M\n",
       "2      C\n",
       "3      M\n",
       "4      C\n",
       "5      M\n",
       "      ..\n",
       "887    M\n",
       "888    B\n",
       "889    M\n",
       "890    C\n",
       "891    M\n",
       "Name: Deck, Length: 891, dtype: object"
      ]
     },
     "execution_count": 49,
     "metadata": {},
     "output_type": "execute_result"
    }
   ],
   "source": [
    "train['Deck']"
   ]
  },
  {
   "cell_type": "code",
   "execution_count": 50,
   "id": "a1e28ca2",
   "metadata": {
    "ExecuteTime": {
     "end_time": "2023-09-11T00:23:05.122285Z",
     "start_time": "2023-09-11T00:23:05.107319Z"
    }
   },
   "outputs": [],
   "source": [
    "# train / test info() 확인 "
   ]
  },
  {
   "cell_type": "code",
   "execution_count": 51,
   "id": "44be12e8",
   "metadata": {
    "ExecuteTime": {
     "end_time": "2023-09-11T00:23:05.137239Z",
     "start_time": "2023-09-11T00:23:05.124274Z"
    }
   },
   "outputs": [
    {
     "name": "stdout",
     "output_type": "stream",
     "text": [
      "<class 'pandas.core.frame.DataFrame'>\n",
      "Int64Index: 891 entries, 1 to 891\n",
      "Data columns (total 12 columns):\n",
      " #   Column    Non-Null Count  Dtype  \n",
      "---  ------    --------------  -----  \n",
      " 0   Survived  891 non-null    int64  \n",
      " 1   Pclass    891 non-null    int64  \n",
      " 2   Name      891 non-null    object \n",
      " 3   Sex       891 non-null    object \n",
      " 4   Age       891 non-null    int64  \n",
      " 5   SibSp     891 non-null    int64  \n",
      " 6   Parch     891 non-null    int64  \n",
      " 7   Ticket    891 non-null    object \n",
      " 8   Fare      891 non-null    float64\n",
      " 9   Cabin     204 non-null    object \n",
      " 10  Embarked  891 non-null    object \n",
      " 11  Deck      891 non-null    object \n",
      "dtypes: float64(1), int64(5), object(6)\n",
      "memory usage: 90.5+ KB\n"
     ]
    }
   ],
   "source": [
    "train.info()"
   ]
  },
  {
   "cell_type": "code",
   "execution_count": 52,
   "id": "7fb6ece9",
   "metadata": {
    "ExecuteTime": {
     "end_time": "2023-09-11T00:23:05.152706Z",
     "start_time": "2023-09-11T00:23:05.139235Z"
    }
   },
   "outputs": [
    {
     "name": "stdout",
     "output_type": "stream",
     "text": [
      "<class 'pandas.core.frame.DataFrame'>\n",
      "Int64Index: 418 entries, 892 to 1309\n",
      "Data columns (total 11 columns):\n",
      " #   Column    Non-Null Count  Dtype  \n",
      "---  ------    --------------  -----  \n",
      " 0   Pclass    418 non-null    int64  \n",
      " 1   Name      418 non-null    object \n",
      " 2   Sex       418 non-null    object \n",
      " 3   Age       418 non-null    int64  \n",
      " 4   SibSp     418 non-null    int64  \n",
      " 5   Parch     418 non-null    int64  \n",
      " 6   Ticket    418 non-null    object \n",
      " 7   Fare      418 non-null    float64\n",
      " 8   Cabin     91 non-null     object \n",
      " 9   Embarked  418 non-null    object \n",
      " 10  Deck      418 non-null    object \n",
      "dtypes: float64(1), int64(4), object(6)\n",
      "memory usage: 39.2+ KB\n"
     ]
    }
   ],
   "source": [
    "test.info()"
   ]
  },
  {
   "cell_type": "markdown",
   "id": "ee3b7c35",
   "metadata": {},
   "source": [
    "### 탐색적 데이터 분석 (EDA) "
   ]
  },
  {
   "cell_type": "markdown",
   "id": "00f79c74",
   "metadata": {},
   "source": [
    "**Deck 컬럼 살펴보기**"
   ]
  },
  {
   "cell_type": "code",
   "execution_count": 53,
   "id": "c2765e6c",
   "metadata": {
    "ExecuteTime": {
     "end_time": "2023-09-11T00:23:05.168665Z",
     "start_time": "2023-09-11T00:23:05.155699Z"
    }
   },
   "outputs": [
    {
     "data": {
      "text/html": [
       "<div>\n",
       "<style scoped>\n",
       "    .dataframe tbody tr th:only-of-type {\n",
       "        vertical-align: middle;\n",
       "    }\n",
       "\n",
       "    .dataframe tbody tr th {\n",
       "        vertical-align: top;\n",
       "    }\n",
       "\n",
       "    .dataframe thead th {\n",
       "        text-align: right;\n",
       "    }\n",
       "</style>\n",
       "<table border=\"1\" class=\"dataframe\">\n",
       "  <thead>\n",
       "    <tr style=\"text-align: right;\">\n",
       "      <th></th>\n",
       "      <th></th>\n",
       "      <th>Name</th>\n",
       "    </tr>\n",
       "    <tr>\n",
       "      <th>Deck</th>\n",
       "      <th>Survived</th>\n",
       "      <th></th>\n",
       "    </tr>\n",
       "  </thead>\n",
       "  <tbody>\n",
       "    <tr>\n",
       "      <th rowspan=\"2\" valign=\"top\">A</th>\n",
       "      <th>0</th>\n",
       "      <td>8</td>\n",
       "    </tr>\n",
       "    <tr>\n",
       "      <th>1</th>\n",
       "      <td>7</td>\n",
       "    </tr>\n",
       "    <tr>\n",
       "      <th rowspan=\"2\" valign=\"top\">B</th>\n",
       "      <th>0</th>\n",
       "      <td>12</td>\n",
       "    </tr>\n",
       "    <tr>\n",
       "      <th>1</th>\n",
       "      <td>35</td>\n",
       "    </tr>\n",
       "    <tr>\n",
       "      <th rowspan=\"2\" valign=\"top\">C</th>\n",
       "      <th>0</th>\n",
       "      <td>24</td>\n",
       "    </tr>\n",
       "    <tr>\n",
       "      <th>1</th>\n",
       "      <td>35</td>\n",
       "    </tr>\n",
       "    <tr>\n",
       "      <th rowspan=\"2\" valign=\"top\">D</th>\n",
       "      <th>0</th>\n",
       "      <td>8</td>\n",
       "    </tr>\n",
       "    <tr>\n",
       "      <th>1</th>\n",
       "      <td>25</td>\n",
       "    </tr>\n",
       "    <tr>\n",
       "      <th rowspan=\"2\" valign=\"top\">E</th>\n",
       "      <th>0</th>\n",
       "      <td>8</td>\n",
       "    </tr>\n",
       "    <tr>\n",
       "      <th>1</th>\n",
       "      <td>24</td>\n",
       "    </tr>\n",
       "    <tr>\n",
       "      <th rowspan=\"2\" valign=\"top\">F</th>\n",
       "      <th>0</th>\n",
       "      <td>5</td>\n",
       "    </tr>\n",
       "    <tr>\n",
       "      <th>1</th>\n",
       "      <td>8</td>\n",
       "    </tr>\n",
       "    <tr>\n",
       "      <th rowspan=\"2\" valign=\"top\">G</th>\n",
       "      <th>0</th>\n",
       "      <td>2</td>\n",
       "    </tr>\n",
       "    <tr>\n",
       "      <th>1</th>\n",
       "      <td>2</td>\n",
       "    </tr>\n",
       "    <tr>\n",
       "      <th rowspan=\"2\" valign=\"top\">M</th>\n",
       "      <th>0</th>\n",
       "      <td>481</td>\n",
       "    </tr>\n",
       "    <tr>\n",
       "      <th>1</th>\n",
       "      <td>206</td>\n",
       "    </tr>\n",
       "    <tr>\n",
       "      <th>T</th>\n",
       "      <th>0</th>\n",
       "      <td>1</td>\n",
       "    </tr>\n",
       "  </tbody>\n",
       "</table>\n",
       "</div>"
      ],
      "text/plain": [
       "               Name\n",
       "Deck Survived      \n",
       "A    0            8\n",
       "     1            7\n",
       "B    0           12\n",
       "     1           35\n",
       "C    0           24\n",
       "     1           35\n",
       "D    0            8\n",
       "     1           25\n",
       "E    0            8\n",
       "     1           24\n",
       "F    0            5\n",
       "     1            8\n",
       "G    0            2\n",
       "     1            2\n",
       "M    0          481\n",
       "     1          206\n",
       "T    0            1"
      ]
     },
     "execution_count": 53,
     "metadata": {},
     "output_type": "execute_result"
    }
   ],
   "source": [
    "# groupby : \n",
    "train_deck=train[['Deck','Survived','Name']].groupby(['Deck','Survived']).count()\n",
    "train_deck"
   ]
  },
  {
   "cell_type": "code",
   "execution_count": 54,
   "id": "250c8788",
   "metadata": {
    "ExecuteTime": {
     "end_time": "2023-09-11T00:23:05.184622Z",
     "start_time": "2023-09-11T00:23:05.170660Z"
    }
   },
   "outputs": [
    {
     "data": {
      "text/html": [
       "<div>\n",
       "<style scoped>\n",
       "    .dataframe tbody tr th:only-of-type {\n",
       "        vertical-align: middle;\n",
       "    }\n",
       "\n",
       "    .dataframe tbody tr th {\n",
       "        vertical-align: top;\n",
       "    }\n",
       "\n",
       "    .dataframe thead th {\n",
       "        text-align: right;\n",
       "    }\n",
       "</style>\n",
       "<table border=\"1\" class=\"dataframe\">\n",
       "  <thead>\n",
       "    <tr style=\"text-align: right;\">\n",
       "      <th></th>\n",
       "      <th></th>\n",
       "      <th>Name</th>\n",
       "    </tr>\n",
       "    <tr>\n",
       "      <th>Deck</th>\n",
       "      <th>Survived</th>\n",
       "      <th></th>\n",
       "    </tr>\n",
       "  </thead>\n",
       "  <tbody>\n",
       "    <tr>\n",
       "      <th rowspan=\"2\" valign=\"top\">A</th>\n",
       "      <th>0</th>\n",
       "      <td>8</td>\n",
       "    </tr>\n",
       "    <tr>\n",
       "      <th>1</th>\n",
       "      <td>7</td>\n",
       "    </tr>\n",
       "    <tr>\n",
       "      <th rowspan=\"2\" valign=\"top\">B</th>\n",
       "      <th>0</th>\n",
       "      <td>12</td>\n",
       "    </tr>\n",
       "    <tr>\n",
       "      <th>1</th>\n",
       "      <td>35</td>\n",
       "    </tr>\n",
       "    <tr>\n",
       "      <th rowspan=\"2\" valign=\"top\">C</th>\n",
       "      <th>0</th>\n",
       "      <td>24</td>\n",
       "    </tr>\n",
       "    <tr>\n",
       "      <th>1</th>\n",
       "      <td>35</td>\n",
       "    </tr>\n",
       "    <tr>\n",
       "      <th rowspan=\"2\" valign=\"top\">D</th>\n",
       "      <th>0</th>\n",
       "      <td>8</td>\n",
       "    </tr>\n",
       "    <tr>\n",
       "      <th>1</th>\n",
       "      <td>25</td>\n",
       "    </tr>\n",
       "    <tr>\n",
       "      <th rowspan=\"2\" valign=\"top\">E</th>\n",
       "      <th>0</th>\n",
       "      <td>8</td>\n",
       "    </tr>\n",
       "    <tr>\n",
       "      <th>1</th>\n",
       "      <td>24</td>\n",
       "    </tr>\n",
       "    <tr>\n",
       "      <th rowspan=\"2\" valign=\"top\">F</th>\n",
       "      <th>0</th>\n",
       "      <td>5</td>\n",
       "    </tr>\n",
       "    <tr>\n",
       "      <th>1</th>\n",
       "      <td>8</td>\n",
       "    </tr>\n",
       "    <tr>\n",
       "      <th rowspan=\"2\" valign=\"top\">G</th>\n",
       "      <th>0</th>\n",
       "      <td>2</td>\n",
       "    </tr>\n",
       "    <tr>\n",
       "      <th>1</th>\n",
       "      <td>2</td>\n",
       "    </tr>\n",
       "    <tr>\n",
       "      <th rowspan=\"2\" valign=\"top\">M</th>\n",
       "      <th>0</th>\n",
       "      <td>481</td>\n",
       "    </tr>\n",
       "    <tr>\n",
       "      <th>1</th>\n",
       "      <td>206</td>\n",
       "    </tr>\n",
       "    <tr>\n",
       "      <th>T</th>\n",
       "      <th>0</th>\n",
       "      <td>1</td>\n",
       "    </tr>\n",
       "  </tbody>\n",
       "</table>\n",
       "</div>"
      ],
      "text/plain": [
       "               Name\n",
       "Deck Survived      \n",
       "A    0            8\n",
       "     1            7\n",
       "B    0           12\n",
       "     1           35\n",
       "C    0           24\n",
       "     1           35\n",
       "D    0            8\n",
       "     1           25\n",
       "E    0            8\n",
       "     1           24\n",
       "F    0            5\n",
       "     1            8\n",
       "G    0            2\n",
       "     1            2\n",
       "M    0          481\n",
       "     1          206\n",
       "T    0            1"
      ]
     },
     "execution_count": 54,
     "metadata": {},
     "output_type": "execute_result"
    }
   ],
   "source": [
    "pt3=train.pivot_table(values='Name', # 데이터로 사용할 컬럼 지정\n",
    "                     index=['Deck', 'Survived'], # 인덱스를 설정하겠다!\n",
    "                     # 생존 여부에 영향을 많이 미치는 성별도 추가해보겠다. \n",
    "                     # 인덱스를 설정할 때 1차로 Pclass 로 나눈뒤 성별로 한 번더 나누겠다. \n",
    "                     aggfunc='count' # 데이터 요약시 사용하는 함수를 지정 \n",
    "                     # (mean : 평균 / sum : 합 / count : 갯수)\n",
    "                     )\n",
    "pt3"
   ]
  },
  {
   "cell_type": "code",
   "execution_count": 55,
   "id": "6c67b1db",
   "metadata": {
    "ExecuteTime": {
     "end_time": "2023-09-11T00:23:05.356161Z",
     "start_time": "2023-09-11T00:23:05.187614Z"
    }
   },
   "outputs": [
    {
     "data": {
      "text/plain": [
       "<AxesSubplot:xlabel='Deck', ylabel='count'>"
      ]
     },
     "execution_count": 55,
     "metadata": {},
     "output_type": "execute_result"
    },
    {
     "data": {
      "image/png": "[encoded data removed]",
      "text/plain": [
       "<Figure size 640x480 with 1 Axes>"
      ]
     },
     "metadata": {},
     "output_type": "display_data"
    }
   ],
   "source": [
    "# seaborn 라이브러리를 이용해서 시각화를 진행해보자\n",
    "sns.countplot(data=train,\n",
    "             x='Deck',\n",
    "             hue='Survived')"
   ]
  },
  {
   "cell_type": "markdown",
   "id": "135fd1c0",
   "metadata": {},
   "source": [
    "- M 이라는 곳에서 상대적으로 사람이 많이 죽었음. (결측치가 있는 부분)\n",
    "- 한 번 사용해보자!"
   ]
  },
  {
   "cell_type": "markdown",
   "id": "e6a3b6f8",
   "metadata": {},
   "source": [
    "**Pclass 살펴보기**"
   ]
  },
  {
   "cell_type": "code",
   "execution_count": 56,
   "id": "1c73268a",
   "metadata": {
    "ExecuteTime": {
     "end_time": "2023-09-11T00:23:05.465895Z",
     "start_time": "2023-09-11T00:23:05.357159Z"
    }
   },
   "outputs": [
    {
     "data": {
      "text/plain": [
       "<AxesSubplot:xlabel='Pclass', ylabel='count'>"
      ]
     },
     "execution_count": 56,
     "metadata": {},
     "output_type": "execute_result"
    },
    {
     "data": {
      "image/png": "[encoded data removed]",
      "text/plain": [
       "<Figure size 640x480 with 1 Axes>"
      ]
     },
     "metadata": {},
     "output_type": "display_data"
    }
   ],
   "source": [
    "sns.countplot(data=train,\n",
    "             x='Pclass',\n",
    "             hue='Survived')"
   ]
  },
  {
   "cell_type": "markdown",
   "id": "657635ad",
   "metadata": {},
   "source": [
    "- 1 등급의 사람이 많이 살았고 3 등급의 사람이 많이 죽었음. "
   ]
  },
  {
   "cell_type": "markdown",
   "id": "4e072016",
   "metadata": {},
   "source": [
    "**Deck 와 Pclass 를 동시에 시각화 해보자**"
   ]
  },
  {
   "cell_type": "code",
   "execution_count": 57,
   "id": "d50adc55",
   "metadata": {
    "ExecuteTime": {
     "end_time": "2023-09-11T00:23:05.636416Z",
     "start_time": "2023-09-11T00:23:05.467863Z"
    }
   },
   "outputs": [
    {
     "data": {
      "text/plain": [
       "<AxesSubplot:xlabel='Deck', ylabel='count'>"
      ]
     },
     "execution_count": 57,
     "metadata": {},
     "output_type": "execute_result"
    },
    {
     "data": {
      "image/png": "[encoded data removed]",
      "text/plain": [
       "<Figure size 640x480 with 1 Axes>"
      ]
     },
     "metadata": {},
     "output_type": "display_data"
    }
   ],
   "source": [
    "sns.countplot(data=train,\n",
    "             x='Deck',\n",
    "             hue='Pclass')"
   ]
  },
  {
   "cell_type": "markdown",
   "id": "1a74ccd1",
   "metadata": {},
   "source": [
    "- Deck 이 'M' 인 데이터 (결측치인 부분) 에는 3등급 사람이 많이 있었다. \n",
    "- 3 등급의 사람들이 생존율이 낮았다. \n",
    "- 당연히 Deck 이 'M' 인 사람들도 생존율이 낮을 수 밖에 없었다. "
   ]
  },
  {
   "cell_type": "code",
   "execution_count": 58,
   "id": "d2e12d5b",
   "metadata": {
    "ExecuteTime": {
     "end_time": "2023-09-11T00:23:05.651943Z",
     "start_time": "2023-09-11T00:23:05.638411Z"
    }
   },
   "outputs": [
    {
     "name": "stdout",
     "output_type": "stream",
     "text": [
      "<class 'pandas.core.frame.DataFrame'>\n",
      "Int64Index: 891 entries, 1 to 891\n",
      "Data columns (total 12 columns):\n",
      " #   Column    Non-Null Count  Dtype  \n",
      "---  ------    --------------  -----  \n",
      " 0   Survived  891 non-null    int64  \n",
      " 1   Pclass    891 non-null    int64  \n",
      " 2   Name      891 non-null    object \n",
      " 3   Sex       891 non-null    object \n",
      " 4   Age       891 non-null    int64  \n",
      " 5   SibSp     891 non-null    int64  \n",
      " 6   Parch     891 non-null    int64  \n",
      " 7   Ticket    891 non-null    object \n",
      " 8   Fare      891 non-null    float64\n",
      " 9   Cabin     204 non-null    object \n",
      " 10  Embarked  891 non-null    object \n",
      " 11  Deck      891 non-null    object \n",
      "dtypes: float64(1), int64(5), object(6)\n",
      "memory usage: 90.5+ KB\n"
     ]
    }
   ],
   "source": [
    "train.info()"
   ]
  },
  {
   "cell_type": "code",
   "execution_count": 59,
   "id": "22379d5d",
   "metadata": {
    "ExecuteTime": {
     "end_time": "2023-09-11T00:23:05.761592Z",
     "start_time": "2023-09-11T00:23:05.652883Z"
    }
   },
   "outputs": [
    {
     "data": {
      "text/plain": [
       "<AxesSubplot:xlabel='Sex', ylabel='count'>"
      ]
     },
     "execution_count": 59,
     "metadata": {},
     "output_type": "execute_result"
    },
    {
     "data": {
      "image/png": "[encoded data removed]",
      "text/plain": [
       "<Figure size 640x480 with 1 Axes>"
      ]
     },
     "metadata": {},
     "output_type": "display_data"
    }
   ],
   "source": [
    "# 성별과 승선지를 시각화 해보자\n",
    "sns.countplot(data=train,\n",
    "             x='Sex',\n",
    "             hue='Embarked')"
   ]
  },
  {
   "cell_type": "markdown",
   "id": "3a07d8d4",
   "metadata": {},
   "source": [
    "- 성별과 승선지는 고른 비율이 나타내고 있음\n",
    "- 풀이 : 남녀모두 사우스햄튼에서 많이 탔다"
   ]
  },
  {
   "cell_type": "code",
   "execution_count": 60,
   "id": "f3f1bcc1",
   "metadata": {
    "ExecuteTime": {
     "end_time": "2023-09-11T00:23:05.887256Z",
     "start_time": "2023-09-11T00:23:05.763588Z"
    }
   },
   "outputs": [
    {
     "data": {
      "text/plain": [
       "<AxesSubplot:xlabel='Embarked', ylabel='count'>"
      ]
     },
     "execution_count": 60,
     "metadata": {},
     "output_type": "execute_result"
    },
    {
     "data": {
      "image/png": "[encoded data removed]",
      "text/plain": [
       "<Figure size 640x480 with 1 Axes>"
      ]
     },
     "metadata": {},
     "output_type": "display_data"
    }
   ],
   "source": [
    "# 승선지와 생존을 시각화 해보자\n",
    "sns.countplot(data=train,\n",
    "             x='Embarked',\n",
    "             hue='Survived')"
   ]
  },
  {
   "cell_type": "markdown",
   "id": "5e9881c9",
   "metadata": {},
   "source": [
    "- 승선지와 생존은 고른 비율을 나타내고 있음\n",
    "- 풀이 : 쉘부르크를 제외한 승선지는 사망자가 많았다. 사우스햄튼에서 많이 사망함)"
   ]
  },
  {
   "cell_type": "code",
   "execution_count": 61,
   "id": "163cd7c9",
   "metadata": {
    "ExecuteTime": {
     "end_time": "2023-09-11T00:23:05.994968Z",
     "start_time": "2023-09-11T00:23:05.888253Z"
    }
   },
   "outputs": [
    {
     "data": {
      "text/plain": [
       "<AxesSubplot:xlabel='Sex', ylabel='count'>"
      ]
     },
     "execution_count": 61,
     "metadata": {},
     "output_type": "execute_result"
    },
    {
     "data": {
      "image/png": "[encoded data removed]",
      "text/plain": [
       "<Figure size 640x480 with 1 Axes>"
      ]
     },
     "metadata": {},
     "output_type": "display_data"
    }
   ],
   "source": [
    "# 성별과 생존을 시각화 해보자 \n",
    "sns.countplot(data=train,\n",
    "             x='Sex',\n",
    "             hue='Survived')"
   ]
  },
  {
   "cell_type": "markdown",
   "id": "0658a3ee",
   "metadata": {},
   "source": [
    "- 성별과 생존은 남자의 사망이 월등히 많음\n",
    "- 풀이 : 남자가 많이 사망하고 여자가 많이 생존함. "
   ]
  },
  {
   "cell_type": "code",
   "execution_count": 62,
   "id": "1ccb81dd",
   "metadata": {
    "ExecuteTime": {
     "end_time": "2023-09-11T00:23:06.119634Z",
     "start_time": "2023-09-11T00:23:05.996963Z"
    }
   },
   "outputs": [
    {
     "data": {
      "text/plain": [
       "<AxesSubplot:xlabel='Pclass', ylabel='count'>"
      ]
     },
     "execution_count": 62,
     "metadata": {},
     "output_type": "execute_result"
    },
    {
     "data": {
      "image/png": "[encoded data removed]",
      "text/plain": [
       "<Figure size 640x480 with 1 Axes>"
      ]
     },
     "metadata": {},
     "output_type": "display_data"
    }
   ],
   "source": [
    "# 승객 등급과 승선지를 시각화 해보자\n",
    "sns.countplot(data=train,\n",
    "             x='Pclass',\n",
    "             hue='Embarked')"
   ]
  },
  {
   "cell_type": "markdown",
   "id": "2456a3bd",
   "metadata": {},
   "source": [
    "- 승객 등급과 승선지는 등급이 낮을수록 사망이 높았고, 승객 등급이 3등급이면서 승선지가 '퀸즈타운'인 승객의 비율이 높게 나타남\n",
    "- 풀이 : 3등급에 사우스햄튼 탑승자가 많다!"
   ]
  },
  {
   "cell_type": "code",
   "execution_count": 63,
   "id": "a115b0d6",
   "metadata": {
    "ExecuteTime": {
     "end_time": "2023-09-11T00:23:06.292173Z",
     "start_time": "2023-09-11T00:23:06.121630Z"
    }
   },
   "outputs": [
    {
     "data": {
      "text/plain": [
       "<AxesSubplot:xlabel='Deck', ylabel='count'>"
      ]
     },
     "execution_count": 63,
     "metadata": {},
     "output_type": "execute_result"
    },
    {
     "data": {
      "image/png": "[encoded data removed]",
      "text/plain": [
       "<Figure size 640x480 with 1 Axes>"
      ]
     },
     "metadata": {},
     "output_type": "display_data"
    }
   ],
   "source": [
    "# Deck 와 승선지를 시각화 해보자\n",
    "sns.countplot(data=train,\n",
    "             x='Deck',\n",
    "             hue='Embarked')"
   ]
  },
  {
   "cell_type": "markdown",
   "id": "676282ef",
   "metadata": {},
   "source": [
    "- 갑판(입석)과 승선지는 비율이 골고루 나타났음\n",
    "- Deck 이 M 인 사람은 사우스햄튼에서 많이 탔다. "
   ]
  },
  {
   "cell_type": "markdown",
   "id": "5f49bef2",
   "metadata": {},
   "source": [
    "**Age 컬럼 시각화**"
   ]
  },
  {
   "cell_type": "code",
   "execution_count": 64,
   "id": "adbca1d3",
   "metadata": {
    "ExecuteTime": {
     "end_time": "2023-09-11T00:23:06.432796Z",
     "start_time": "2023-09-11T00:23:06.293170Z"
    }
   },
   "outputs": [
    {
     "data": {
      "image/png": "[encoded data removed]",
      "text/plain": [
       "<Figure size 1500x500 with 1 Axes>"
      ]
     },
     "metadata": {},
     "output_type": "display_data"
    }
   ],
   "source": [
    "plt.figure(figsize=(15,5))\n",
    "# 바이올린 플롯 : 바이올린 모양으로 데이터의 분포와 밀도를 보기 쉽게 나타낸 차트\n",
    "# 데이터가 많은 부분은 두께가 두껍게 / 작게 분포하는 부분은 얇게 나타냄 \n",
    "sns.violinplot(data=train,\n",
    "              x='Sex',\n",
    "              y='Age',\n",
    "               hue='Survived', \n",
    "               split=True\n",
    "              )\n",
    "plt.grid()\n",
    "\n",
    "# 가운데 하얀색 점 : 중앙값 \n",
    "# 바이올린 내부의 두꺼운 선 : 사분위수의 범위 (1사분위 3사분위 사이)\n",
    "# 바이올린 내부의 얇은 선 : 신뢰구간 (95% 정도의 신뢰성이 있는 데이터다! 라는걸 표현)\n",
    "\n",
    "# 수치형 데이터는 연속적인 값을 가지고 있다. 그래서 유니크 값이 많으면 \n",
    "# 막대그래프의 막대가 많아진다. (보기 어려워진다.)\n",
    "# 연속된 데이터를 시각화 할때는 곡선형 그래프를 많이 이용한다. "
   ]
  },
  {
   "cell_type": "markdown",
   "id": "257e2080",
   "metadata": {},
   "source": [
    "- 20 대 에서 40 대가 많이 사망함 / 전체적인 탑승자도 많았음. \n",
    "- 나이 많은 사람들의 생존율이 높다. \n",
    "- 20 세 이하 미성년자는 남자의 생존 비율이 더 높다. "
   ]
  },
  {
   "cell_type": "markdown",
   "id": "bd88c542",
   "metadata": {},
   "source": [
    "**Fard 살펴보기**"
   ]
  },
  {
   "cell_type": "code",
   "execution_count": 65,
   "id": "0e3d379e",
   "metadata": {
    "ExecuteTime": {
     "end_time": "2023-09-11T00:23:06.591371Z",
     "start_time": "2023-09-11T00:23:06.434793Z"
    }
   },
   "outputs": [
    {
     "data": {
      "image/png": "[encoded data removed]",
      "text/plain": [
       "<Figure size 1500x500 with 1 Axes>"
      ]
     },
     "metadata": {},
     "output_type": "display_data"
    }
   ],
   "source": [
    "plt.figure(figsize=(15,5))\n",
    "sns.violinplot(data=train,\n",
    "              x='Sex',\n",
    "              y='Fare',\n",
    "               hue='Survived', \n",
    "               split=True\n",
    "              )\n",
    "plt.grid()"
   ]
  },
  {
   "cell_type": "markdown",
   "id": "daa34223",
   "metadata": {},
   "source": [
    "- 돈을 적게 낸 사람이 많이 죽었다. "
   ]
  },
  {
   "cell_type": "code",
   "execution_count": 66,
   "id": "4ac8afd0",
   "metadata": {
    "ExecuteTime": {
     "end_time": "2023-09-11T00:23:06.607329Z",
     "start_time": "2023-09-11T00:23:06.592369Z"
    }
   },
   "outputs": [
    {
     "name": "stdout",
     "output_type": "stream",
     "text": [
      "<class 'pandas.core.frame.DataFrame'>\n",
      "Int64Index: 891 entries, 1 to 891\n",
      "Data columns (total 12 columns):\n",
      " #   Column    Non-Null Count  Dtype  \n",
      "---  ------    --------------  -----  \n",
      " 0   Survived  891 non-null    int64  \n",
      " 1   Pclass    891 non-null    int64  \n",
      " 2   Name      891 non-null    object \n",
      " 3   Sex       891 non-null    object \n",
      " 4   Age       891 non-null    int64  \n",
      " 5   SibSp     891 non-null    int64  \n",
      " 6   Parch     891 non-null    int64  \n",
      " 7   Ticket    891 non-null    object \n",
      " 8   Fare      891 non-null    float64\n",
      " 9   Cabin     204 non-null    object \n",
      " 10  Embarked  891 non-null    object \n",
      " 11  Deck      891 non-null    object \n",
      "dtypes: float64(1), int64(5), object(6)\n",
      "memory usage: 90.5+ KB\n"
     ]
    }
   ],
   "source": [
    "train.info()"
   ]
  },
  {
   "cell_type": "markdown",
   "id": "b827ab69",
   "metadata": {},
   "source": [
    "### SibSp, Parch 살펴보기\n",
    "- SibSp : 함께 탑승한 형제 / 자매 / 배우자 \n",
    "- Parch : 함께 탑승한 부모 / 자식"
   ]
  },
  {
   "cell_type": "code",
   "execution_count": 67,
   "id": "efc665b1",
   "metadata": {
    "ExecuteTime": {
     "end_time": "2023-09-11T00:23:06.623286Z",
     "start_time": "2023-09-11T00:23:06.608326Z"
    }
   },
   "outputs": [],
   "source": [
    "# 컬럼 추가\n",
    "train['Family_Size']=train['Parch']+train['SibSp']+1\n",
    "test['Family_Size']=test['Parch']+test['SibSp']+1"
   ]
  },
  {
   "cell_type": "code",
   "execution_count": 68,
   "id": "7f485eaf",
   "metadata": {
    "ExecuteTime": {
     "end_time": "2023-09-11T00:23:06.780404Z",
     "start_time": "2023-09-11T00:23:06.634256Z"
    }
   },
   "outputs": [
    {
     "data": {
      "image/png": "[encoded data removed]",
      "text/plain": [
       "<Figure size 1500x500 with 1 Axes>"
      ]
     },
     "metadata": {},
     "output_type": "display_data"
    }
   ],
   "source": [
    "plt.figure(figsize=(15,5))\n",
    "sns.violinplot(data=train,\n",
    "              x='Sex',\n",
    "              y='Family_Size',\n",
    "               hue='Survived', \n",
    "               split=True\n",
    "              )\n",
    "plt.grid()"
   ]
  },
  {
   "cell_type": "code",
   "execution_count": 69,
   "id": "e77d139d",
   "metadata": {
    "ExecuteTime": {
     "end_time": "2023-09-11T00:23:06.999821Z",
     "start_time": "2023-09-11T00:23:06.782375Z"
    }
   },
   "outputs": [
    {
     "data": {
      "image/png": "[encoded data removed]",
      "text/plain": [
       "<Figure size 1500x500 with 1 Axes>"
      ]
     },
     "metadata": {},
     "output_type": "display_data"
    }
   ],
   "source": [
    "plt.figure(figsize=(15,5))\n",
    "sns.countplot(data=train,\n",
    "              x='Family_Size',\n",
    "               hue='Survived', \n",
    "             )\n",
    "plt.show()"
   ]
  },
  {
   "cell_type": "markdown",
   "id": "e69b7a6f",
   "metadata": {},
   "source": [
    "- 혼자 왔을 때 많이 죽었다. \n",
    "- 가족이 2 ~ 4 명 사이일 때 생존율이 올라갔다. \n",
    "- 5명 이상일때는 사망율이 올라갔다. "
   ]
  },
  {
   "cell_type": "code",
   "execution_count": 70,
   "id": "65efefc0",
   "metadata": {
    "ExecuteTime": {
     "end_time": "2023-09-11T00:23:07.015780Z",
     "start_time": "2023-09-11T00:23:07.000794Z"
    }
   },
   "outputs": [],
   "source": [
    "# 가족 사이즈가 1 이면 Alone / 2 ~ 4 이면 Small / 5 명 이상이면 Large\n",
    "# 전체 가족의 숫자를 범주화 시켜서 Family_Group 이라는 컬럼을 생성\n",
    "# Binning : 수치형 데이터를 범주형 데이터로 바꿔주는 작업 \n",
    "# 사소한 관찰의 오류를 줄여주기 위해 실행 \n",
    "bins=[0,1,4,11]\n",
    "labels=['Alone','Small','Large']\n",
    "\n",
    "train['Family_Group']=pd.cut(train['Family_Size'],\n",
    "                            bins=bins,\n",
    "                            labels=labels\n",
    "                            )\n",
    "test['Family_Group']=pd.cut(test['Family_Size'],\n",
    "                            bins=bins,\n",
    "                            labels=labels\n",
    "                            )"
   ]
  },
  {
   "cell_type": "code",
   "execution_count": 71,
   "id": "9729421f",
   "metadata": {
    "ExecuteTime": {
     "end_time": "2023-09-11T00:23:07.030741Z",
     "start_time": "2023-09-11T00:23:07.017749Z"
    }
   },
   "outputs": [
    {
     "name": "stdout",
     "output_type": "stream",
     "text": [
      "<class 'pandas.core.frame.DataFrame'>\n",
      "Int64Index: 891 entries, 1 to 891\n",
      "Data columns (total 14 columns):\n",
      " #   Column        Non-Null Count  Dtype   \n",
      "---  ------        --------------  -----   \n",
      " 0   Survived      891 non-null    int64   \n",
      " 1   Pclass        891 non-null    int64   \n",
      " 2   Name          891 non-null    object  \n",
      " 3   Sex           891 non-null    object  \n",
      " 4   Age           891 non-null    int64   \n",
      " 5   SibSp         891 non-null    int64   \n",
      " 6   Parch         891 non-null    int64   \n",
      " 7   Ticket        891 non-null    object  \n",
      " 8   Fare          891 non-null    float64 \n",
      " 9   Cabin         204 non-null    object  \n",
      " 10  Embarked      891 non-null    object  \n",
      " 11  Deck          891 non-null    object  \n",
      " 12  Family_Size   891 non-null    int64   \n",
      " 13  Family_Group  891 non-null    category\n",
      "dtypes: category(1), float64(1), int64(6), object(6)\n",
      "memory usage: 98.5+ KB\n"
     ]
    }
   ],
   "source": [
    "train.info()"
   ]
  },
  {
   "cell_type": "code",
   "execution_count": 72,
   "id": "91cbe591",
   "metadata": {
    "ExecuteTime": {
     "end_time": "2023-09-11T00:23:07.046696Z",
     "start_time": "2023-09-11T00:23:07.033707Z"
    }
   },
   "outputs": [
    {
     "name": "stdout",
     "output_type": "stream",
     "text": [
      "<class 'pandas.core.frame.DataFrame'>\n",
      "Int64Index: 891 entries, 1 to 891\n",
      "Data columns (total 14 columns):\n",
      " #   Column        Non-Null Count  Dtype   \n",
      "---  ------        --------------  -----   \n",
      " 0   Survived      891 non-null    int64   \n",
      " 1   Pclass        891 non-null    int64   \n",
      " 2   Name          891 non-null    object  \n",
      " 3   Sex           891 non-null    object  \n",
      " 4   Age           891 non-null    int64   \n",
      " 5   SibSp         891 non-null    int64   \n",
      " 6   Parch         891 non-null    int64   \n",
      " 7   Ticket        891 non-null    object  \n",
      " 8   Fare          891 non-null    float64 \n",
      " 9   Cabin         204 non-null    object  \n",
      " 10  Embarked      891 non-null    object  \n",
      " 11  Deck          891 non-null    object  \n",
      " 12  Family_Size   891 non-null    int64   \n",
      " 13  Family_Group  891 non-null    category\n",
      "dtypes: category(1), float64(1), int64(6), object(6)\n",
      "memory usage: 98.5+ KB\n"
     ]
    }
   ],
   "source": [
    "train.info()"
   ]
  },
  {
   "cell_type": "code",
   "execution_count": 73,
   "id": "fa13d532",
   "metadata": {
    "ExecuteTime": {
     "end_time": "2023-09-11T00:23:07.061631Z",
     "start_time": "2023-09-11T00:23:07.048666Z"
    }
   },
   "outputs": [
    {
     "data": {
      "text/plain": [
       "PassengerId\n",
       "1      Small\n",
       "2      Small\n",
       "3      Alone\n",
       "4      Small\n",
       "5      Alone\n",
       "       ...  \n",
       "887    Alone\n",
       "888    Alone\n",
       "889    Small\n",
       "890    Alone\n",
       "891    Alone\n",
       "Name: Family_Group, Length: 891, dtype: category\n",
       "Categories (3, object): ['Alone' < 'Small' < 'Large']"
      ]
     },
     "execution_count": 73,
     "metadata": {},
     "output_type": "execute_result"
    }
   ],
   "source": [
    "train['Family_Group']"
   ]
  },
  {
   "cell_type": "code",
   "execution_count": 74,
   "id": "a213d4a9",
   "metadata": {
    "ExecuteTime": {
     "end_time": "2023-09-11T00:23:07.077588Z",
     "start_time": "2023-09-11T00:23:07.063628Z"
    }
   },
   "outputs": [
    {
     "data": {
      "text/plain": [
       "PassengerId\n",
       "1      2\n",
       "2      2\n",
       "3      1\n",
       "4      2\n",
       "5      1\n",
       "      ..\n",
       "887    1\n",
       "888    1\n",
       "889    4\n",
       "890    1\n",
       "891    1\n",
       "Name: Family_Size, Length: 891, dtype: int64"
      ]
     },
     "execution_count": 74,
     "metadata": {},
     "output_type": "execute_result"
    }
   ],
   "source": [
    "train['Family_Size']"
   ]
  },
  {
   "cell_type": "code",
   "execution_count": 75,
   "id": "0671fd77",
   "metadata": {
    "ExecuteTime": {
     "end_time": "2023-09-11T00:23:07.186803Z",
     "start_time": "2023-09-11T00:23:07.079583Z"
    }
   },
   "outputs": [
    {
     "data": {
      "image/png": "[encoded data removed]",
      "text/plain": [
       "<Figure size 640x480 with 1 Axes>"
      ]
     },
     "metadata": {},
     "output_type": "display_data"
    }
   ],
   "source": [
    "sns.countplot(data=train,\n",
    "              x='Family_Group',\n",
    "               hue='Survived', \n",
    "             )\n",
    "plt.show()"
   ]
  },
  {
   "cell_type": "code",
   "execution_count": 76,
   "id": "4e3d93dc",
   "metadata": {
    "ExecuteTime": {
     "end_time": "2023-09-11T00:23:07.201791Z",
     "start_time": "2023-09-11T00:23:07.187800Z"
    }
   },
   "outputs": [
    {
     "name": "stdout",
     "output_type": "stream",
     "text": [
      "<class 'pandas.core.frame.DataFrame'>\n",
      "Int64Index: 891 entries, 1 to 891\n",
      "Data columns (total 14 columns):\n",
      " #   Column        Non-Null Count  Dtype   \n",
      "---  ------        --------------  -----   \n",
      " 0   Survived      891 non-null    int64   \n",
      " 1   Pclass        891 non-null    int64   \n",
      " 2   Name          891 non-null    object  \n",
      " 3   Sex           891 non-null    object  \n",
      " 4   Age           891 non-null    int64   \n",
      " 5   SibSp         891 non-null    int64   \n",
      " 6   Parch         891 non-null    int64   \n",
      " 7   Ticket        891 non-null    object  \n",
      " 8   Fare          891 non-null    float64 \n",
      " 9   Cabin         204 non-null    object  \n",
      " 10  Embarked      891 non-null    object  \n",
      " 11  Deck          891 non-null    object  \n",
      " 12  Family_Size   891 non-null    int64   \n",
      " 13  Family_Group  891 non-null    category\n",
      "dtypes: category(1), float64(1), int64(6), object(6)\n",
      "memory usage: 98.5+ KB\n"
     ]
    }
   ],
   "source": [
    "train.info()"
   ]
  },
  {
   "cell_type": "markdown",
   "id": "248eed82",
   "metadata": {},
   "source": [
    "### Name 다뤄보기\n",
    "- 텍스트 데이터인 Name 을 다뤄보자"
   ]
  },
  {
   "cell_type": "code",
   "execution_count": 77,
   "id": "859bec95",
   "metadata": {
    "ExecuteTime": {
     "end_time": "2023-09-11T00:23:07.217747Z",
     "start_time": "2023-09-11T00:23:07.202760Z"
    }
   },
   "outputs": [
    {
     "data": {
      "text/plain": [
       "PassengerId\n",
       "1                                Braund, Mr. Owen Harris\n",
       "2      Cumings, Mrs. John Bradley (Florence Briggs Th...\n",
       "3                                 Heikkinen, Miss. Laina\n",
       "4           Futrelle, Mrs. Jacques Heath (Lily May Peel)\n",
       "5                               Allen, Mr. William Henry\n",
       "                             ...                        \n",
       "887                                Montvila, Rev. Juozas\n",
       "888                         Graham, Miss. Margaret Edith\n",
       "889             Johnston, Miss. Catherine Helen \"Carrie\"\n",
       "890                                Behr, Mr. Karl Howell\n",
       "891                                  Dooley, Mr. Patrick\n",
       "Name: Name, Length: 891, dtype: object"
      ]
     },
     "execution_count": 77,
     "metadata": {},
     "output_type": "execute_result"
    }
   ],
   "source": [
    "train['Name']"
   ]
  },
  {
   "cell_type": "code",
   "execution_count": 78,
   "id": "2273e040",
   "metadata": {
    "ExecuteTime": {
     "end_time": "2023-09-11T00:23:07.232706Z",
     "start_time": "2023-09-11T00:23:07.220715Z"
    }
   },
   "outputs": [
    {
     "data": {
      "text/plain": [
       "891"
      ]
     },
     "execution_count": 78,
     "metadata": {},
     "output_type": "execute_result"
    }
   ],
   "source": [
    "len(train['Name'].unique())"
   ]
  },
  {
   "cell_type": "markdown",
   "id": "9aa66678",
   "metadata": {},
   "source": [
    "- 외국의 이름은 미들네임 (중간호칭) 이 있다. \n",
    "- 미들네임은 성별 / 결혼 유무 / 신분 / 직업을 표시해주는 부분이다. \n",
    "- 미들네임만 추출해서 사용해보자. "
   ]
  },
  {
   "cell_type": "code",
   "execution_count": 79,
   "id": "44adf812",
   "metadata": {
    "ExecuteTime": {
     "end_time": "2023-09-11T00:23:07.248664Z",
     "start_time": "2023-09-11T00:23:07.234675Z"
    }
   },
   "outputs": [
    {
     "data": {
      "text/plain": [
       "'Braund, Mr. Owen Harris'"
      ]
     },
     "execution_count": 79,
     "metadata": {},
     "output_type": "execute_result"
    }
   ],
   "source": [
    "train['Name'][1]"
   ]
  },
  {
   "cell_type": "code",
   "execution_count": 80,
   "id": "da9208d5",
   "metadata": {
    "ExecuteTime": {
     "end_time": "2023-09-11T00:23:07.264102Z",
     "start_time": "2023-09-11T00:23:07.249636Z"
    }
   },
   "outputs": [
    {
     "data": {
      "text/plain": [
       "['Braund', ' Mr. Owen Harris']"
      ]
     },
     "execution_count": 80,
     "metadata": {},
     "output_type": "execute_result"
    }
   ],
   "source": [
    "train['Name'][1].split(',')"
   ]
  },
  {
   "cell_type": "code",
   "execution_count": 81,
   "id": "762e27fd",
   "metadata": {
    "ExecuteTime": {
     "end_time": "2023-09-11T00:23:07.280090Z",
     "start_time": "2023-09-11T00:23:07.266098Z"
    }
   },
   "outputs": [
    {
     "data": {
      "text/plain": [
       "' Mr. Owen Harris'"
      ]
     },
     "execution_count": 81,
     "metadata": {},
     "output_type": "execute_result"
    }
   ],
   "source": [
    "train['Name'][1].split(',')[1]"
   ]
  },
  {
   "cell_type": "code",
   "execution_count": 82,
   "id": "a99331d2",
   "metadata": {
    "ExecuteTime": {
     "end_time": "2023-09-11T00:23:07.296017Z",
     "start_time": "2023-09-11T00:23:07.281057Z"
    }
   },
   "outputs": [
    {
     "data": {
      "text/plain": [
       "[' Mr', ' Owen Harris']"
      ]
     },
     "execution_count": 82,
     "metadata": {},
     "output_type": "execute_result"
    }
   ],
   "source": [
    "train['Name'][1].split(',')[1].split('.')"
   ]
  },
  {
   "cell_type": "code",
   "execution_count": 83,
   "id": "471deb9c",
   "metadata": {
    "ExecuteTime": {
     "end_time": "2023-09-11T00:23:07.311975Z",
     "start_time": "2023-09-11T00:23:07.297016Z"
    }
   },
   "outputs": [
    {
     "data": {
      "text/plain": [
       "' Mr'"
      ]
     },
     "execution_count": 83,
     "metadata": {},
     "output_type": "execute_result"
    }
   ],
   "source": [
    "train['Name'][1].split(',')[1].split('.')[0]"
   ]
  },
  {
   "cell_type": "code",
   "execution_count": 84,
   "id": "09c128d2",
   "metadata": {
    "ExecuteTime": {
     "end_time": "2023-09-11T00:23:07.327932Z",
     "start_time": "2023-09-11T00:23:07.313969Z"
    }
   },
   "outputs": [
    {
     "data": {
      "text/plain": [
       "'Mr'"
      ]
     },
     "execution_count": 84,
     "metadata": {},
     "output_type": "execute_result"
    }
   ],
   "source": [
    "# strip() : 특정 문자열의 최선두와 최후미의 공백을 제거해주는 함수 \n",
    "train['Name'][1].split(',')[1].split('.')[0].strip()"
   ]
  },
  {
   "cell_type": "code",
   "execution_count": 85,
   "id": "feba8aac",
   "metadata": {
    "ExecuteTime": {
     "end_time": "2023-09-11T00:23:07.343889Z",
     "start_time": "2023-09-11T00:23:07.328932Z"
    }
   },
   "outputs": [],
   "source": [
    "# 이름을 쪼개주는 함수를 만들자!\n",
    "def split_title(data):\n",
    "    result=data.split(',')[1].split('.')[0].strip()\n",
    "    return result"
   ]
  },
  {
   "cell_type": "code",
   "execution_count": 86,
   "id": "5580b69a",
   "metadata": {
    "ExecuteTime": {
     "end_time": "2023-09-11T00:23:07.359846Z",
     "start_time": "2023-09-11T00:23:07.345884Z"
    }
   },
   "outputs": [],
   "source": [
    "train['Title']=train['Name'].apply(split_title)\n",
    "test['Title']=test['Name'].apply(split_title)\n",
    "# train.apply 였다면 '2차원 데이터프레임'이 들어가서 축설정이 필요했다 (axis 가 필요했다)\n",
    "# train['Name'].apply 였다면 '1차원 시리즈'가 들어가서 축설정이 필요없다 "
   ]
  },
  {
   "cell_type": "code",
   "execution_count": 87,
   "id": "910e85ec",
   "metadata": {
    "ExecuteTime": {
     "end_time": "2023-09-11T00:23:07.375318Z",
     "start_time": "2023-09-11T00:23:07.362391Z"
    }
   },
   "outputs": [
    {
     "data": {
      "text/plain": [
       "array(['Mr', 'Mrs', 'Miss', 'Master', 'Don', 'Rev', 'Dr', 'Mme', 'Ms',\n",
       "       'Major', 'Lady', 'Sir', 'Mlle', 'Col', 'Capt', 'the Countess',\n",
       "       'Jonkheer'], dtype=object)"
      ]
     },
     "execution_count": 87,
     "metadata": {},
     "output_type": "execute_result"
    }
   ],
   "source": [
    "train['Title'].unique()"
   ]
  },
  {
   "cell_type": "code",
   "execution_count": 88,
   "id": "4e33c771",
   "metadata": {
    "ExecuteTime": {
     "end_time": "2023-09-11T00:23:07.391275Z",
     "start_time": "2023-09-11T00:23:07.376316Z"
    }
   },
   "outputs": [
    {
     "data": {
      "text/plain": [
       "array(['Mr', 'Mrs', 'Miss', 'Master', 'Ms', 'Col', 'Rev', 'Dr', 'Dona'],\n",
       "      dtype=object)"
      ]
     },
     "execution_count": 88,
     "metadata": {},
     "output_type": "execute_result"
    }
   ],
   "source": [
    "test['Title'].unique()"
   ]
  },
  {
   "cell_type": "code",
   "execution_count": 89,
   "id": "6fbdcc23",
   "metadata": {
    "ExecuteTime": {
     "end_time": "2023-09-11T00:23:07.597231Z",
     "start_time": "2023-09-11T00:23:07.393271Z"
    }
   },
   "outputs": [
    {
     "data": {
      "text/plain": [
       "<AxesSubplot:xlabel='Title', ylabel='count'>"
      ]
     },
     "execution_count": 89,
     "metadata": {},
     "output_type": "execute_result"
    },
    {
     "data": {
      "image/png": "[encoded data removed]",
      "text/plain": [
       "<Figure size 1500x500 with 1 Axes>"
      ]
     },
     "metadata": {},
     "output_type": "display_data"
    }
   ],
   "source": [
    "plt.figure(figsize=(15,5))\n",
    "sns.countplot(data=train,\n",
    "             x='Title',\n",
    "             hue='Survived')"
   ]
  },
  {
   "cell_type": "markdown",
   "id": "f20acbb8",
   "metadata": {},
   "source": [
    "- Title 호칭 정리\n",
    "    - 'Mr' : 결혼한 남자 \n",
    "    - 'Mrs' : 결혼한 여자\n",
    "    - 'Miss' : 결혼 안한 여자 => 미혼의 여성 \n",
    "    - 'Master' : 결혼 안한 남성 => 어린 미성년자\n",
    "    - 'Don' : 남자에 대한 호칭 \n",
    "    - 'Rev' : 목사\n",
    "    - 'Dr' : 박사 / 의사라는 뜻이 있음 \n",
    "    - 'Mme' : 기혼 여성을 높여 부르는 말\n",
    "    - 'Ms' : 결혼 여부와 상관 없이 여성을 부르는 호칭 \n",
    "    - 'Major' : 소령 / 시장 \n",
    "    - 'Lady' : 아가씨 \n",
    "    - 'Sir' : 기사 작위\n",
    "    - 'Mlle' : 마드모아젤 / 프랑스에서 미혼 여성에게 일반적으로 붙는 호칭 \n",
    "    - 'Col' : 육군 대령\n",
    "    - 'Capt' : 선장 / 대위 \n",
    "    - 'the Countess' : 주지사 \n",
    "    - 'Jonkheer' : 작위가 없는 무명 귀족 "
   ]
  },
  {
   "cell_type": "markdown",
   "id": "562de105",
   "metadata": {},
   "source": [
    "- Mr, Mrs, Miss, Master, Rev 를 제외한 모든 호칭은 상대적으로 갯수가 적으니까 Other 라고 묶어서 활용해보자. "
   ]
  },
  {
   "cell_type": "code",
   "execution_count": 90,
   "id": "3add205e",
   "metadata": {
    "ExecuteTime": {
     "end_time": "2023-09-11T00:23:07.613188Z",
     "start_time": "2023-09-11T00:23:07.598230Z"
    }
   },
   "outputs": [
    {
     "data": {
      "text/plain": [
       "['Mr',\n",
       " 'Mrs',\n",
       " 'Miss',\n",
       " 'Master',\n",
       " 'Rev',\n",
       " 'Don',\n",
       " 'Dr',\n",
       " 'Mme',\n",
       " 'Ms',\n",
       " 'Major',\n",
       " 'Lady',\n",
       " 'Sir',\n",
       " 'Mlle',\n",
       " 'Col',\n",
       " 'Capt',\n",
       " 'the Countess',\n",
       " 'Jonkheer']"
      ]
     },
     "execution_count": 90,
     "metadata": {},
     "output_type": "execute_result"
    }
   ],
   "source": [
    "# train['Title'] 의 unique 값을 그대로 복사해와서 title 이라는 리스트에 담아주기 \n",
    "# Don / Rev 라는 호칭의 순서를 바꿔주자 (zip 함수를 사용할 때 순서를 맞춰주기 위해서)\n",
    "title=['Mr', 'Mrs', 'Miss', 'Master', 'Rev', 'Don', 'Dr', 'Mme', 'Ms',\n",
    "       'Major', 'Lady', 'Sir', 'Mlle', 'Col', 'Capt', 'the Countess',\n",
    "       'Jonkheer']\n",
    "title"
   ]
  },
  {
   "cell_type": "code",
   "execution_count": 91,
   "id": "667b92fb",
   "metadata": {
    "ExecuteTime": {
     "end_time": "2023-09-11T00:23:07.628148Z",
     "start_time": "2023-09-11T00:23:07.614186Z"
    }
   },
   "outputs": [
    {
     "data": {
      "text/plain": [
       "['Mr',\n",
       " 'Mrs',\n",
       " 'Miss',\n",
       " 'Master',\n",
       " 'Rev',\n",
       " 'Other',\n",
       " 'Other',\n",
       " 'Other',\n",
       " 'Other',\n",
       " 'Other',\n",
       " 'Other',\n",
       " 'Other',\n",
       " 'Other',\n",
       " 'Other',\n",
       " 'Other',\n",
       " 'Other',\n",
       " 'Other']"
      ]
     },
     "execution_count": 91,
     "metadata": {},
     "output_type": "execute_result"
    }
   ],
   "source": [
    "convert_title=['Mr','Mrs','Miss','Master','Rev']+['Other']*12\n",
    "convert_title"
   ]
  },
  {
   "cell_type": "code",
   "execution_count": 92,
   "id": "af55a9b1",
   "metadata": {
    "ExecuteTime": {
     "end_time": "2023-09-11T00:23:07.644106Z",
     "start_time": "2023-09-11T00:23:07.629146Z"
    }
   },
   "outputs": [
    {
     "data": {
      "text/plain": [
       "{'Mr': 'Mr',\n",
       " 'Mrs': 'Mrs',\n",
       " 'Miss': 'Miss',\n",
       " 'Master': 'Master',\n",
       " 'Rev': 'Rev',\n",
       " 'Don': 'Other',\n",
       " 'Dr': 'Other',\n",
       " 'Mme': 'Other',\n",
       " 'Ms': 'Other',\n",
       " 'Major': 'Other',\n",
       " 'Lady': 'Other',\n",
       " 'Sir': 'Other',\n",
       " 'Mlle': 'Other',\n",
       " 'Col': 'Other',\n",
       " 'Capt': 'Other',\n",
       " 'the Countess': 'Other',\n",
       " 'Jonkheer': 'Other'}"
      ]
     },
     "execution_count": 92,
     "metadata": {},
     "output_type": "execute_result"
    }
   ],
   "source": [
    "# dict(zip()) 함수를 이용해서 리스트형태인 title 과 convert_title 을 차례대로 \n",
    "# key 와 value 로 가지는 딕셔너리로 만들겠다! \n",
    "title_dict=dict(zip(title, convert_title))\n",
    "title_dict"
   ]
  },
  {
   "cell_type": "code",
   "execution_count": 93,
   "id": "e5f86daa",
   "metadata": {
    "ExecuteTime": {
     "end_time": "2023-09-11T00:23:07.660063Z",
     "start_time": "2023-09-11T00:23:07.646101Z"
    }
   },
   "outputs": [
    {
     "data": {
      "text/plain": [
       "{'Mr': 'Mr',\n",
       " 'Mrs': 'Mrs',\n",
       " 'Miss': 'Miss',\n",
       " 'Master': 'Master',\n",
       " 'Rev': 'Rev',\n",
       " 'Don': 'Other',\n",
       " 'Dr': 'Other',\n",
       " 'Mme': 'Other',\n",
       " 'Ms': 'Other',\n",
       " 'Major': 'Other',\n",
       " 'Lady': 'Other',\n",
       " 'Sir': 'Other',\n",
       " 'Mlle': 'Other',\n",
       " 'Col': 'Other',\n",
       " 'Capt': 'Other',\n",
       " 'the Countess': 'Other',\n",
       " 'Jonkheer': 'Other',\n",
       " 'Dona': 'Other'}"
      ]
     },
     "execution_count": 93,
     "metadata": {},
     "output_type": "execute_result"
    }
   ],
   "source": [
    "title_dict['Dona']='Other'\n",
    "title_dict"
   ]
  },
  {
   "cell_type": "code",
   "execution_count": 94,
   "id": "362bfc28",
   "metadata": {
    "ExecuteTime": {
     "end_time": "2023-09-11T00:23:07.676020Z",
     "start_time": "2023-09-11T00:23:07.662058Z"
    }
   },
   "outputs": [
    {
     "data": {
      "text/plain": [
       "array(['Mr', 'Mrs', 'Miss', 'Master', 'Other', 'Rev'], dtype=object)"
      ]
     },
     "execution_count": 94,
     "metadata": {},
     "output_type": "execute_result"
    }
   ],
   "source": [
    "# 실제 데이터프레임 title 컬럼에 있는 내부의 value 값을 title_dict 를 이용해서 변환시켜주자 \n",
    "train['Title']=train['Title'].map(title_dict)\n",
    "train['Title'].unique()"
   ]
  },
  {
   "cell_type": "code",
   "execution_count": 95,
   "id": "ee652d05",
   "metadata": {
    "ExecuteTime": {
     "end_time": "2023-09-11T00:23:07.691979Z",
     "start_time": "2023-09-11T00:23:07.677018Z"
    }
   },
   "outputs": [
    {
     "data": {
      "text/plain": [
       "array(['Mr', 'Mrs', 'Miss', 'Master', 'Other', 'Rev'], dtype=object)"
      ]
     },
     "execution_count": 95,
     "metadata": {},
     "output_type": "execute_result"
    }
   ],
   "source": [
    "test['Title']=test['Title'].map(title_dict)\n",
    "test['Title'].unique()"
   ]
  },
  {
   "cell_type": "markdown",
   "id": "14983dda",
   "metadata": {},
   "source": [
    "**Ticket 살펴보기**"
   ]
  },
  {
   "cell_type": "code",
   "execution_count": 96,
   "id": "758a8c6c",
   "metadata": {
    "ExecuteTime": {
     "end_time": "2023-09-11T00:23:07.707935Z",
     "start_time": "2023-09-11T00:23:07.693982Z"
    }
   },
   "outputs": [
    {
     "data": {
      "text/plain": [
       "array(['A/5 21171', 'PC 17599', 'STON/O2. 3101282', '113803', '373450',\n",
       "       '330877', '17463', '349909', '347742', '237736', 'PP 9549',\n",
       "       '113783', 'A/5. 2151', '347082', '350406', '248706', '382652',\n",
       "       '244373', '345763', '2649', '239865', '248698', '330923', '113788',\n",
       "       '347077', '2631', '19950', '330959', '349216', 'PC 17601',\n",
       "       'PC 17569', '335677', 'C.A. 24579', 'PC 17604', '113789', '2677',\n",
       "       'A./5. 2152', '345764', '2651', '7546', '11668', '349253',\n",
       "       'SC/Paris 2123', '330958', 'S.C./A.4. 23567', '370371', '14311',\n",
       "       '2662', '349237', '3101295', 'A/4. 39886', 'PC 17572', '2926',\n",
       "       '113509', '19947', 'C.A. 31026', '2697', 'C.A. 34651', 'CA 2144',\n",
       "       '2669', '113572', '36973', '347088', 'PC 17605', '2661',\n",
       "       'C.A. 29395', 'S.P. 3464', '3101281', '315151', 'C.A. 33111',\n",
       "       'S.O.C. 14879', '2680', '1601', '348123', '349208', '374746',\n",
       "       '248738', '364516', '345767', '345779', '330932', '113059',\n",
       "       'SO/C 14885', '3101278', 'W./C. 6608', 'SOTON/OQ 392086', '343275',\n",
       "       '343276', '347466', 'W.E.P. 5734', 'C.A. 2315', '364500', '374910',\n",
       "       'PC 17754', 'PC 17759', '231919', '244367', '349245', '349215',\n",
       "       '35281', '7540', '3101276', '349207', '343120', '312991', '349249',\n",
       "       '371110', '110465', '2665', '324669', '4136', '2627',\n",
       "       'STON/O 2. 3101294', '370369', 'PC 17558', 'A4. 54510', '27267',\n",
       "       '370372', 'C 17369', '2668', '347061', '349241',\n",
       "       'SOTON/O.Q. 3101307', 'A/5. 3337', '228414', 'C.A. 29178',\n",
       "       'SC/PARIS 2133', '11752', '7534', 'PC 17593', '2678', '347081',\n",
       "       'STON/O2. 3101279', '365222', '231945', 'C.A. 33112', '350043',\n",
       "       '230080', '244310', 'S.O.P. 1166', '113776', 'A.5. 11206',\n",
       "       'A/5. 851', 'Fa 265302', 'PC 17597', '35851', 'SOTON/OQ 392090',\n",
       "       '315037', 'CA. 2343', '371362', 'C.A. 33595', '347068', '315093',\n",
       "       '363291', '113505', 'PC 17318', '111240', 'STON/O 2. 3101280',\n",
       "       '17764', '350404', '4133', 'PC 17595', '250653', 'LINE',\n",
       "       'SC/PARIS 2131', '230136', '315153', '113767', '370365', '111428',\n",
       "       '364849', '349247', '234604', '28424', '350046', 'PC 17610',\n",
       "       '368703', '4579', '370370', '248747', '345770', '3101264', '2628',\n",
       "       'A/5 3540', '347054', '2699', '367231', '112277',\n",
       "       'SOTON/O.Q. 3101311', 'F.C.C. 13528', 'A/5 21174', '250646',\n",
       "       '367229', '35273', 'STON/O2. 3101283', '243847', '11813',\n",
       "       'W/C 14208', 'SOTON/OQ 392089', '220367', '21440', '349234',\n",
       "       '19943', 'PP 4348', 'SW/PP 751', 'A/5 21173', '236171', '347067',\n",
       "       '237442', 'C.A. 29566', 'W./C. 6609', '26707', 'C.A. 31921',\n",
       "       '28665', 'SCO/W 1585', '367230', 'W./C. 14263',\n",
       "       'STON/O 2. 3101275', '2694', '19928', '347071', '250649', '11751',\n",
       "       '244252', '362316', '113514', 'A/5. 3336', '370129', '2650',\n",
       "       'PC 17585', '110152', 'PC 17755', '230433', '384461', '110413',\n",
       "       '112059', '382649', 'C.A. 17248', '347083', 'PC 17582', 'PC 17760',\n",
       "       '113798', '250644', 'PC 17596', '370375', '13502', '347073',\n",
       "       '239853', 'C.A. 2673', '336439', '347464', '345778', 'A/5. 10482',\n",
       "       '113056', '349239', '345774', '349206', '237798', '370373',\n",
       "       '19877', '11967', 'SC/Paris 2163', '349236', '349233', 'PC 17612',\n",
       "       '2693', '113781', '19988', '9234', '367226', '226593', 'A/5 2466',\n",
       "       '17421', 'PC 17758', 'P/PP 3381', 'PC 17485', '11767', 'PC 17608',\n",
       "       '250651', '349243', 'F.C.C. 13529', '347470', '29011', '36928',\n",
       "       '16966', 'A/5 21172', '349219', '234818', '345364', '28551',\n",
       "       '111361', '113043', 'PC 17611', '349225', '7598', '113784',\n",
       "       '248740', '244361', '229236', '248733', '31418', '386525',\n",
       "       'C.A. 37671', '315088', '7267', '113510', '2695', '2647', '345783',\n",
       "       '237671', '330931', '330980', 'SC/PARIS 2167', '2691',\n",
       "       'SOTON/O.Q. 3101310', 'C 7076', '110813', '2626', '14313',\n",
       "       'PC 17477', '11765', '3101267', '323951', 'C 7077', '113503',\n",
       "       '2648', '347069', 'PC 17757', '2653', 'STON/O 2. 3101293',\n",
       "       '349227', '27849', '367655', 'SC 1748', '113760', '350034',\n",
       "       '3101277', '350052', '350407', '28403', '244278', '240929',\n",
       "       'STON/O 2. 3101289', '341826', '4137', '315096', '28664', '347064',\n",
       "       '29106', '312992', '349222', '394140', 'STON/O 2. 3101269',\n",
       "       '343095', '28220', '250652', '28228', '345773', '349254',\n",
       "       'A/5. 13032', '315082', '347080', 'A/4. 34244', '2003', '250655',\n",
       "       '364851', 'SOTON/O.Q. 392078', '110564', '376564', 'SC/AH 3085',\n",
       "       'STON/O 2. 3101274', '13507', 'C.A. 18723', '345769', '347076',\n",
       "       '230434', '65306', '33638', '113794', '2666', '113786', '65303',\n",
       "       '113051', '17453', 'A/5 2817', '349240', '13509', '17464',\n",
       "       'F.C.C. 13531', '371060', '19952', '364506', '111320', '234360',\n",
       "       'A/S 2816', 'SOTON/O.Q. 3101306', '113792', '36209', '323592',\n",
       "       '315089', 'SC/AH Basle 541', '7553', '31027', '3460', '350060',\n",
       "       '3101298', '239854', 'A/5 3594', '4134', '11771', 'A.5. 18509',\n",
       "       '65304', 'SOTON/OQ 3101317', '113787', 'PC 17609', 'A/4 45380',\n",
       "       '36947', 'C.A. 6212', '350035', '315086', '364846', '330909',\n",
       "       '4135', '26360', '111427', 'C 4001', '382651', 'SOTON/OQ 3101316',\n",
       "       'PC 17473', 'PC 17603', '349209', '36967', 'C.A. 34260', '226875',\n",
       "       '349242', '12749', '349252', '2624', '2700', '367232',\n",
       "       'W./C. 14258', 'PC 17483', '3101296', '29104', '2641', '2690',\n",
       "       '315084', '113050', 'PC 17761', '364498', '13568', 'WE/P 5735',\n",
       "       '2908', '693', 'SC/PARIS 2146', '244358', '330979', '2620',\n",
       "       '347085', '113807', '11755', '345572', '372622', '349251',\n",
       "       '218629', 'SOTON/OQ 392082', 'SOTON/O.Q. 392087', 'A/4 48871',\n",
       "       '349205', '2686', '350417', 'S.W./PP 752', '11769', 'PC 17474',\n",
       "       '14312', 'A/4. 20589', '358585', '243880', '2689',\n",
       "       'STON/O 2. 3101286', '237789', '13049', '3411', '237565', '13567',\n",
       "       '14973', 'A./5. 3235', 'STON/O 2. 3101273', 'A/5 3902', '364848',\n",
       "       'SC/AH 29037', '248727', '2664', '349214', '113796', '364511',\n",
       "       '111426', '349910', '349246', '113804', 'SOTON/O.Q. 3101305',\n",
       "       '370377', '364512', '220845', '31028', '2659', '11753', '350029',\n",
       "       '54636', '36963', '219533', '349224', '334912', '27042', '347743',\n",
       "       '13214', '112052', '237668', 'STON/O 2. 3101292', '350050',\n",
       "       '349231', '13213', 'S.O./P.P. 751', 'CA. 2314', '349221', '8475',\n",
       "       '330919', '365226', '349223', '29751', '2623', '5727', '349210',\n",
       "       'STON/O 2. 3101285', '234686', '312993', 'A/5 3536', '19996',\n",
       "       '29750', 'F.C. 12750', 'C.A. 24580', '244270', '239856', '349912',\n",
       "       '342826', '4138', '330935', '6563', '349228', '350036', '24160',\n",
       "       '17474', '349256', '2672', '113800', '248731', '363592', '35852',\n",
       "       '348121', 'PC 17475', '36864', '350025', '223596', 'PC 17476',\n",
       "       'PC 17482', '113028', '7545', '250647', '348124', '34218', '36568',\n",
       "       '347062', '350048', '12233', '250643', '113806', '315094', '36866',\n",
       "       '236853', 'STON/O2. 3101271', '239855', '28425', '233639',\n",
       "       '349201', '349218', '16988', '376566', 'STON/O 2. 3101288',\n",
       "       '250648', '113773', '335097', '29103', '392096', '345780',\n",
       "       '349204', '350042', '29108', '363294', 'SOTON/O2 3101272', '2663',\n",
       "       '347074', '112379', '364850', '8471', '345781', '350047',\n",
       "       'S.O./P.P. 3', '2674', '29105', '347078', '383121', '36865',\n",
       "       '2687', '113501', 'W./C. 6607', 'SOTON/O.Q. 3101312', '374887',\n",
       "       '3101265', '12460', 'PC 17600', '349203', '28213', '17465',\n",
       "       '349244', '2685', '2625', '347089', '347063', '112050', '347087',\n",
       "       '248723', '3474', '28206', '364499', '112058', 'STON/O2. 3101290',\n",
       "       'S.C./PARIS 2079', 'C 7075', '315098', '19972', '368323', '367228',\n",
       "       '2671', '347468', '2223', 'PC 17756', '315097', '392092', '11774',\n",
       "       'SOTON/O2 3101287', '2683', '315090', 'C.A. 5547', '349213',\n",
       "       '347060', 'PC 17592', '392091', '113055', '2629', '350026',\n",
       "       '28134', '17466', '233866', '236852', 'SC/PARIS 2149', 'PC 17590',\n",
       "       '345777', '349248', '695', '345765', '2667', '349212', '349217',\n",
       "       '349257', '7552', 'C.A./SOTON 34068', 'SOTON/OQ 392076', '211536',\n",
       "       '112053', '111369', '370376'], dtype=object)"
      ]
     },
     "execution_count": 96,
     "metadata": {},
     "output_type": "execute_result"
    }
   ],
   "source": [
    "train['Ticket'].unique()"
   ]
  },
  {
   "cell_type": "markdown",
   "id": "42875c44",
   "metadata": {},
   "source": [
    "- Ticket 은 데이터가 너무 넓고 얕게 분포가 되어있다. \n",
    "- Cabin 처럼 특정한 패턴을 가지고 있지도 않다. \n",
    "- 사용할 수 없는 것으로 판단을 하고 삭제를 진행하자. "
   ]
  },
  {
   "cell_type": "code",
   "execution_count": 97,
   "id": "75a68332",
   "metadata": {
    "ExecuteTime": {
     "end_time": "2023-09-11T00:23:07.723893Z",
     "start_time": "2023-09-11T00:23:07.709930Z"
    }
   },
   "outputs": [
    {
     "name": "stdout",
     "output_type": "stream",
     "text": [
      "<class 'pandas.core.frame.DataFrame'>\n",
      "Int64Index: 891 entries, 1 to 891\n",
      "Data columns (total 15 columns):\n",
      " #   Column        Non-Null Count  Dtype   \n",
      "---  ------        --------------  -----   \n",
      " 0   Survived      891 non-null    int64   \n",
      " 1   Pclass        891 non-null    int64   \n",
      " 2   Name          891 non-null    object  \n",
      " 3   Sex           891 non-null    object  \n",
      " 4   Age           891 non-null    int64   \n",
      " 5   SibSp         891 non-null    int64   \n",
      " 6   Parch         891 non-null    int64   \n",
      " 7   Ticket        891 non-null    object  \n",
      " 8   Fare          891 non-null    float64 \n",
      " 9   Cabin         204 non-null    object  \n",
      " 10  Embarked      891 non-null    object  \n",
      " 11  Deck          891 non-null    object  \n",
      " 12  Family_Size   891 non-null    int64   \n",
      " 13  Family_Group  891 non-null    category\n",
      " 14  Title         891 non-null    object  \n",
      "dtypes: category(1), float64(1), int64(6), object(7)\n",
      "memory usage: 137.7+ KB\n"
     ]
    }
   ],
   "source": [
    "train.info()"
   ]
  },
  {
   "cell_type": "code",
   "execution_count": 98,
   "id": "a0bca703",
   "metadata": {
    "ExecuteTime": {
     "end_time": "2023-09-11T00:23:07.739850Z",
     "start_time": "2023-09-11T00:23:07.725888Z"
    }
   },
   "outputs": [
    {
     "name": "stdout",
     "output_type": "stream",
     "text": [
      "<class 'pandas.core.frame.DataFrame'>\n",
      "Int64Index: 418 entries, 892 to 1309\n",
      "Data columns (total 14 columns):\n",
      " #   Column        Non-Null Count  Dtype   \n",
      "---  ------        --------------  -----   \n",
      " 0   Pclass        418 non-null    int64   \n",
      " 1   Name          418 non-null    object  \n",
      " 2   Sex           418 non-null    object  \n",
      " 3   Age           418 non-null    int64   \n",
      " 4   SibSp         418 non-null    int64   \n",
      " 5   Parch         418 non-null    int64   \n",
      " 6   Ticket        418 non-null    object  \n",
      " 7   Fare          418 non-null    float64 \n",
      " 8   Cabin         91 non-null     object  \n",
      " 9   Embarked      418 non-null    object  \n",
      " 10  Deck          418 non-null    object  \n",
      " 11  Family_Size   418 non-null    int64   \n",
      " 12  Family_Group  418 non-null    category\n",
      " 13  Title         418 non-null    object  \n",
      "dtypes: category(1), float64(1), int64(5), object(7)\n",
      "memory usage: 46.3+ KB\n"
     ]
    }
   ],
   "source": [
    "test.info()"
   ]
  },
  {
   "cell_type": "markdown",
   "id": "19b58a71",
   "metadata": {},
   "source": [
    "**필요없는 컬럼 삭제**\n",
    "- train : Ticket, Name, SibSp, Parch, Cabin, Family_Size\n",
    "- test : Ticket, Name, SibSp, Parch, Cabin, Family_Size"
   ]
  },
  {
   "cell_type": "code",
   "execution_count": 99,
   "id": "b752e74a",
   "metadata": {
    "ExecuteTime": {
     "end_time": "2023-09-11T00:23:07.771765Z",
     "start_time": "2023-09-11T00:23:07.740847Z"
    }
   },
   "outputs": [],
   "source": [
    "train.drop(['Ticket', 'Name', 'SibSp', 'Parch', 'Cabin', 'Family_Size'],axis=1,inplace=True)\n",
    "test.drop(['Ticket', 'Name', 'SibSp', 'Parch', 'Cabin', 'Family_Size'],axis=1,inplace=True)"
   ]
  },
  {
   "cell_type": "code",
   "execution_count": 100,
   "id": "8ea1a2d7",
   "metadata": {
    "ExecuteTime": {
     "end_time": "2023-09-11T00:23:07.787722Z",
     "start_time": "2023-09-11T00:23:07.772762Z"
    }
   },
   "outputs": [
    {
     "name": "stdout",
     "output_type": "stream",
     "text": [
      "<class 'pandas.core.frame.DataFrame'>\n",
      "Int64Index: 891 entries, 1 to 891\n",
      "Data columns (total 9 columns):\n",
      " #   Column        Non-Null Count  Dtype   \n",
      "---  ------        --------------  -----   \n",
      " 0   Survived      891 non-null    int64   \n",
      " 1   Pclass        891 non-null    int64   \n",
      " 2   Sex           891 non-null    object  \n",
      " 3   Age           891 non-null    int64   \n",
      " 4   Fare          891 non-null    float64 \n",
      " 5   Embarked      891 non-null    object  \n",
      " 6   Deck          891 non-null    object  \n",
      " 7   Family_Group  891 non-null    category\n",
      " 8   Title         891 non-null    object  \n",
      "dtypes: category(1), float64(1), int64(3), object(4)\n",
      "memory usage: 95.9+ KB\n"
     ]
    }
   ],
   "source": [
    "train.info()"
   ]
  },
  {
   "cell_type": "code",
   "execution_count": 101,
   "id": "58567be4",
   "metadata": {
    "ExecuteTime": {
     "end_time": "2023-09-11T00:23:07.803679Z",
     "start_time": "2023-09-11T00:23:07.788719Z"
    }
   },
   "outputs": [
    {
     "name": "stdout",
     "output_type": "stream",
     "text": [
      "<class 'pandas.core.frame.DataFrame'>\n",
      "Int64Index: 418 entries, 892 to 1309\n",
      "Data columns (total 8 columns):\n",
      " #   Column        Non-Null Count  Dtype   \n",
      "---  ------        --------------  -----   \n",
      " 0   Pclass        418 non-null    int64   \n",
      " 1   Sex           418 non-null    object  \n",
      " 2   Age           418 non-null    int64   \n",
      " 3   Fare          418 non-null    float64 \n",
      " 4   Embarked      418 non-null    object  \n",
      " 5   Deck          418 non-null    object  \n",
      " 6   Family_Group  418 non-null    category\n",
      " 7   Title         418 non-null    object  \n",
      "dtypes: category(1), float64(1), int64(2), object(4)\n",
      "memory usage: 26.7+ KB\n"
     ]
    }
   ],
   "source": [
    "test.info()"
   ]
  },
  {
   "cell_type": "markdown",
   "id": "18fe5bf1",
   "metadata": {},
   "source": [
    "### 모델링\n",
    "- 데이터 분리"
   ]
  },
  {
   "cell_type": "code",
   "execution_count": 102,
   "id": "05bc5b9f",
   "metadata": {
    "ExecuteTime": {
     "end_time": "2023-09-11T00:23:07.834597Z",
     "start_time": "2023-09-11T00:23:07.805674Z"
    }
   },
   "outputs": [
    {
     "data": {
      "text/html": [
       "<div>\n",
       "<style scoped>\n",
       "    .dataframe tbody tr th:only-of-type {\n",
       "        vertical-align: middle;\n",
       "    }\n",
       "\n",
       "    .dataframe tbody tr th {\n",
       "        vertical-align: top;\n",
       "    }\n",
       "\n",
       "    .dataframe thead th {\n",
       "        text-align: right;\n",
       "    }\n",
       "</style>\n",
       "<table border=\"1\" class=\"dataframe\">\n",
       "  <thead>\n",
       "    <tr style=\"text-align: right;\">\n",
       "      <th></th>\n",
       "      <th>Survived</th>\n",
       "      <th>Pclass</th>\n",
       "      <th>Sex</th>\n",
       "      <th>Age</th>\n",
       "      <th>Fare</th>\n",
       "      <th>Embarked</th>\n",
       "      <th>Deck</th>\n",
       "      <th>Family_Group</th>\n",
       "      <th>Title</th>\n",
       "    </tr>\n",
       "    <tr>\n",
       "      <th>PassengerId</th>\n",
       "      <th></th>\n",
       "      <th></th>\n",
       "      <th></th>\n",
       "      <th></th>\n",
       "      <th></th>\n",
       "      <th></th>\n",
       "      <th></th>\n",
       "      <th></th>\n",
       "      <th></th>\n",
       "    </tr>\n",
       "  </thead>\n",
       "  <tbody>\n",
       "    <tr>\n",
       "      <th>1</th>\n",
       "      <td>0</td>\n",
       "      <td>3</td>\n",
       "      <td>male</td>\n",
       "      <td>22</td>\n",
       "      <td>7.2500</td>\n",
       "      <td>S</td>\n",
       "      <td>M</td>\n",
       "      <td>Small</td>\n",
       "      <td>Mr</td>\n",
       "    </tr>\n",
       "    <tr>\n",
       "      <th>2</th>\n",
       "      <td>1</td>\n",
       "      <td>1</td>\n",
       "      <td>female</td>\n",
       "      <td>38</td>\n",
       "      <td>71.2833</td>\n",
       "      <td>C</td>\n",
       "      <td>C</td>\n",
       "      <td>Small</td>\n",
       "      <td>Mrs</td>\n",
       "    </tr>\n",
       "    <tr>\n",
       "      <th>3</th>\n",
       "      <td>1</td>\n",
       "      <td>3</td>\n",
       "      <td>female</td>\n",
       "      <td>26</td>\n",
       "      <td>7.9250</td>\n",
       "      <td>S</td>\n",
       "      <td>M</td>\n",
       "      <td>Alone</td>\n",
       "      <td>Miss</td>\n",
       "    </tr>\n",
       "    <tr>\n",
       "      <th>4</th>\n",
       "      <td>1</td>\n",
       "      <td>1</td>\n",
       "      <td>female</td>\n",
       "      <td>35</td>\n",
       "      <td>53.1000</td>\n",
       "      <td>S</td>\n",
       "      <td>C</td>\n",
       "      <td>Small</td>\n",
       "      <td>Mrs</td>\n",
       "    </tr>\n",
       "    <tr>\n",
       "      <th>5</th>\n",
       "      <td>0</td>\n",
       "      <td>3</td>\n",
       "      <td>male</td>\n",
       "      <td>35</td>\n",
       "      <td>8.0500</td>\n",
       "      <td>S</td>\n",
       "      <td>M</td>\n",
       "      <td>Alone</td>\n",
       "      <td>Mr</td>\n",
       "    </tr>\n",
       "    <tr>\n",
       "      <th>...</th>\n",
       "      <td>...</td>\n",
       "      <td>...</td>\n",
       "      <td>...</td>\n",
       "      <td>...</td>\n",
       "      <td>...</td>\n",
       "      <td>...</td>\n",
       "      <td>...</td>\n",
       "      <td>...</td>\n",
       "      <td>...</td>\n",
       "    </tr>\n",
       "    <tr>\n",
       "      <th>887</th>\n",
       "      <td>0</td>\n",
       "      <td>2</td>\n",
       "      <td>male</td>\n",
       "      <td>27</td>\n",
       "      <td>13.0000</td>\n",
       "      <td>S</td>\n",
       "      <td>M</td>\n",
       "      <td>Alone</td>\n",
       "      <td>Rev</td>\n",
       "    </tr>\n",
       "    <tr>\n",
       "      <th>888</th>\n",
       "      <td>1</td>\n",
       "      <td>1</td>\n",
       "      <td>female</td>\n",
       "      <td>19</td>\n",
       "      <td>30.0000</td>\n",
       "      <td>S</td>\n",
       "      <td>B</td>\n",
       "      <td>Alone</td>\n",
       "      <td>Miss</td>\n",
       "    </tr>\n",
       "    <tr>\n",
       "      <th>889</th>\n",
       "      <td>0</td>\n",
       "      <td>3</td>\n",
       "      <td>female</td>\n",
       "      <td>21</td>\n",
       "      <td>23.4500</td>\n",
       "      <td>S</td>\n",
       "      <td>M</td>\n",
       "      <td>Small</td>\n",
       "      <td>Miss</td>\n",
       "    </tr>\n",
       "    <tr>\n",
       "      <th>890</th>\n",
       "      <td>1</td>\n",
       "      <td>1</td>\n",
       "      <td>male</td>\n",
       "      <td>26</td>\n",
       "      <td>30.0000</td>\n",
       "      <td>C</td>\n",
       "      <td>C</td>\n",
       "      <td>Alone</td>\n",
       "      <td>Mr</td>\n",
       "    </tr>\n",
       "    <tr>\n",
       "      <th>891</th>\n",
       "      <td>0</td>\n",
       "      <td>3</td>\n",
       "      <td>male</td>\n",
       "      <td>32</td>\n",
       "      <td>7.7500</td>\n",
       "      <td>Q</td>\n",
       "      <td>M</td>\n",
       "      <td>Alone</td>\n",
       "      <td>Mr</td>\n",
       "    </tr>\n",
       "  </tbody>\n",
       "</table>\n",
       "<p>891 rows × 9 columns</p>\n",
       "</div>"
      ],
      "text/plain": [
       "             Survived  Pclass     Sex  Age     Fare Embarked Deck  \\\n",
       "PassengerId                                                         \n",
       "1                   0       3    male   22   7.2500        S    M   \n",
       "2                   1       1  female   38  71.2833        C    C   \n",
       "3                   1       3  female   26   7.9250        S    M   \n",
       "4                   1       1  female   35  53.1000        S    C   \n",
       "5                   0       3    male   35   8.0500        S    M   \n",
       "...               ...     ...     ...  ...      ...      ...  ...   \n",
       "887                 0       2    male   27  13.0000        S    M   \n",
       "888                 1       1  female   19  30.0000        S    B   \n",
       "889                 0       3  female   21  23.4500        S    M   \n",
       "890                 1       1    male   26  30.0000        C    C   \n",
       "891                 0       3    male   32   7.7500        Q    M   \n",
       "\n",
       "            Family_Group Title  \n",
       "PassengerId                     \n",
       "1                  Small    Mr  \n",
       "2                  Small   Mrs  \n",
       "3                  Alone  Miss  \n",
       "4                  Small   Mrs  \n",
       "5                  Alone    Mr  \n",
       "...                  ...   ...  \n",
       "887                Alone   Rev  \n",
       "888                Alone  Miss  \n",
       "889                Small  Miss  \n",
       "890                Alone    Mr  \n",
       "891                Alone    Mr  \n",
       "\n",
       "[891 rows x 9 columns]"
      ]
     },
     "metadata": {},
     "output_type": "display_data"
    },
    {
     "data": {
      "text/html": [
       "<div>\n",
       "<style scoped>\n",
       "    .dataframe tbody tr th:only-of-type {\n",
       "        vertical-align: middle;\n",
       "    }\n",
       "\n",
       "    .dataframe tbody tr th {\n",
       "        vertical-align: top;\n",
       "    }\n",
       "\n",
       "    .dataframe thead th {\n",
       "        text-align: right;\n",
       "    }\n",
       "</style>\n",
       "<table border=\"1\" class=\"dataframe\">\n",
       "  <thead>\n",
       "    <tr style=\"text-align: right;\">\n",
       "      <th></th>\n",
       "      <th>Pclass</th>\n",
       "      <th>Sex</th>\n",
       "      <th>Age</th>\n",
       "      <th>Fare</th>\n",
       "      <th>Embarked</th>\n",
       "      <th>Deck</th>\n",
       "      <th>Family_Group</th>\n",
       "      <th>Title</th>\n",
       "    </tr>\n",
       "    <tr>\n",
       "      <th>PassengerId</th>\n",
       "      <th></th>\n",
       "      <th></th>\n",
       "      <th></th>\n",
       "      <th></th>\n",
       "      <th></th>\n",
       "      <th></th>\n",
       "      <th></th>\n",
       "      <th></th>\n",
       "    </tr>\n",
       "  </thead>\n",
       "  <tbody>\n",
       "    <tr>\n",
       "      <th>892</th>\n",
       "      <td>3</td>\n",
       "      <td>male</td>\n",
       "      <td>34</td>\n",
       "      <td>7.8292</td>\n",
       "      <td>Q</td>\n",
       "      <td>M</td>\n",
       "      <td>Alone</td>\n",
       "      <td>Mr</td>\n",
       "    </tr>\n",
       "    <tr>\n",
       "      <th>893</th>\n",
       "      <td>3</td>\n",
       "      <td>female</td>\n",
       "      <td>47</td>\n",
       "      <td>7.0000</td>\n",
       "      <td>S</td>\n",
       "      <td>M</td>\n",
       "      <td>Small</td>\n",
       "      <td>Mrs</td>\n",
       "    </tr>\n",
       "    <tr>\n",
       "      <th>894</th>\n",
       "      <td>2</td>\n",
       "      <td>male</td>\n",
       "      <td>62</td>\n",
       "      <td>9.6875</td>\n",
       "      <td>Q</td>\n",
       "      <td>M</td>\n",
       "      <td>Alone</td>\n",
       "      <td>Mr</td>\n",
       "    </tr>\n",
       "    <tr>\n",
       "      <th>895</th>\n",
       "      <td>3</td>\n",
       "      <td>male</td>\n",
       "      <td>27</td>\n",
       "      <td>8.6625</td>\n",
       "      <td>S</td>\n",
       "      <td>M</td>\n",
       "      <td>Alone</td>\n",
       "      <td>Mr</td>\n",
       "    </tr>\n",
       "    <tr>\n",
       "      <th>896</th>\n",
       "      <td>3</td>\n",
       "      <td>female</td>\n",
       "      <td>22</td>\n",
       "      <td>12.2875</td>\n",
       "      <td>S</td>\n",
       "      <td>M</td>\n",
       "      <td>Small</td>\n",
       "      <td>Mrs</td>\n",
       "    </tr>\n",
       "    <tr>\n",
       "      <th>...</th>\n",
       "      <td>...</td>\n",
       "      <td>...</td>\n",
       "      <td>...</td>\n",
       "      <td>...</td>\n",
       "      <td>...</td>\n",
       "      <td>...</td>\n",
       "      <td>...</td>\n",
       "      <td>...</td>\n",
       "    </tr>\n",
       "    <tr>\n",
       "      <th>1305</th>\n",
       "      <td>3</td>\n",
       "      <td>male</td>\n",
       "      <td>26</td>\n",
       "      <td>8.0500</td>\n",
       "      <td>S</td>\n",
       "      <td>M</td>\n",
       "      <td>Alone</td>\n",
       "      <td>Mr</td>\n",
       "    </tr>\n",
       "    <tr>\n",
       "      <th>1306</th>\n",
       "      <td>1</td>\n",
       "      <td>female</td>\n",
       "      <td>39</td>\n",
       "      <td>108.9000</td>\n",
       "      <td>C</td>\n",
       "      <td>C</td>\n",
       "      <td>Alone</td>\n",
       "      <td>Other</td>\n",
       "    </tr>\n",
       "    <tr>\n",
       "      <th>1307</th>\n",
       "      <td>3</td>\n",
       "      <td>male</td>\n",
       "      <td>38</td>\n",
       "      <td>7.2500</td>\n",
       "      <td>S</td>\n",
       "      <td>M</td>\n",
       "      <td>Alone</td>\n",
       "      <td>Mr</td>\n",
       "    </tr>\n",
       "    <tr>\n",
       "      <th>1308</th>\n",
       "      <td>3</td>\n",
       "      <td>male</td>\n",
       "      <td>26</td>\n",
       "      <td>8.0500</td>\n",
       "      <td>S</td>\n",
       "      <td>M</td>\n",
       "      <td>Alone</td>\n",
       "      <td>Mr</td>\n",
       "    </tr>\n",
       "    <tr>\n",
       "      <th>1309</th>\n",
       "      <td>3</td>\n",
       "      <td>male</td>\n",
       "      <td>26</td>\n",
       "      <td>22.3583</td>\n",
       "      <td>C</td>\n",
       "      <td>M</td>\n",
       "      <td>Small</td>\n",
       "      <td>Master</td>\n",
       "    </tr>\n",
       "  </tbody>\n",
       "</table>\n",
       "<p>418 rows × 8 columns</p>\n",
       "</div>"
      ],
      "text/plain": [
       "             Pclass     Sex  Age      Fare Embarked Deck Family_Group   Title\n",
       "PassengerId                                                                  \n",
       "892               3    male   34    7.8292        Q    M        Alone      Mr\n",
       "893               3  female   47    7.0000        S    M        Small     Mrs\n",
       "894               2    male   62    9.6875        Q    M        Alone      Mr\n",
       "895               3    male   27    8.6625        S    M        Alone      Mr\n",
       "896               3  female   22   12.2875        S    M        Small     Mrs\n",
       "...             ...     ...  ...       ...      ...  ...          ...     ...\n",
       "1305              3    male   26    8.0500        S    M        Alone      Mr\n",
       "1306              1  female   39  108.9000        C    C        Alone   Other\n",
       "1307              3    male   38    7.2500        S    M        Alone      Mr\n",
       "1308              3    male   26    8.0500        S    M        Alone      Mr\n",
       "1309              3    male   26   22.3583        C    M        Small  Master\n",
       "\n",
       "[418 rows x 8 columns]"
      ]
     },
     "metadata": {},
     "output_type": "display_data"
    }
   ],
   "source": [
    "# 데이터 문제 / 정답 분리\n",
    "# hint = train 에는 있고 test 에는 없는 컬럼이 있다. 이게 정답이다. 'Survived' \n",
    "display(train,test)"
   ]
  },
  {
   "cell_type": "code",
   "execution_count": 103,
   "id": "25434236",
   "metadata": {
    "ExecuteTime": {
     "end_time": "2023-09-11T00:23:07.850553Z",
     "start_time": "2023-09-11T00:23:07.836591Z"
    }
   },
   "outputs": [
    {
     "data": {
      "text/html": [
       "<div>\n",
       "<style scoped>\n",
       "    .dataframe tbody tr th:only-of-type {\n",
       "        vertical-align: middle;\n",
       "    }\n",
       "\n",
       "    .dataframe tbody tr th {\n",
       "        vertical-align: top;\n",
       "    }\n",
       "\n",
       "    .dataframe thead th {\n",
       "        text-align: right;\n",
       "    }\n",
       "</style>\n",
       "<table border=\"1\" class=\"dataframe\">\n",
       "  <thead>\n",
       "    <tr style=\"text-align: right;\">\n",
       "      <th></th>\n",
       "      <th>Pclass</th>\n",
       "      <th>Sex</th>\n",
       "      <th>Age</th>\n",
       "      <th>Fare</th>\n",
       "      <th>Embarked</th>\n",
       "      <th>Deck</th>\n",
       "      <th>Family_Group</th>\n",
       "      <th>Title</th>\n",
       "    </tr>\n",
       "    <tr>\n",
       "      <th>PassengerId</th>\n",
       "      <th></th>\n",
       "      <th></th>\n",
       "      <th></th>\n",
       "      <th></th>\n",
       "      <th></th>\n",
       "      <th></th>\n",
       "      <th></th>\n",
       "      <th></th>\n",
       "    </tr>\n",
       "  </thead>\n",
       "  <tbody>\n",
       "    <tr>\n",
       "      <th>1</th>\n",
       "      <td>3</td>\n",
       "      <td>male</td>\n",
       "      <td>22</td>\n",
       "      <td>7.2500</td>\n",
       "      <td>S</td>\n",
       "      <td>M</td>\n",
       "      <td>Small</td>\n",
       "      <td>Mr</td>\n",
       "    </tr>\n",
       "    <tr>\n",
       "      <th>2</th>\n",
       "      <td>1</td>\n",
       "      <td>female</td>\n",
       "      <td>38</td>\n",
       "      <td>71.2833</td>\n",
       "      <td>C</td>\n",
       "      <td>C</td>\n",
       "      <td>Small</td>\n",
       "      <td>Mrs</td>\n",
       "    </tr>\n",
       "    <tr>\n",
       "      <th>3</th>\n",
       "      <td>3</td>\n",
       "      <td>female</td>\n",
       "      <td>26</td>\n",
       "      <td>7.9250</td>\n",
       "      <td>S</td>\n",
       "      <td>M</td>\n",
       "      <td>Alone</td>\n",
       "      <td>Miss</td>\n",
       "    </tr>\n",
       "    <tr>\n",
       "      <th>4</th>\n",
       "      <td>1</td>\n",
       "      <td>female</td>\n",
       "      <td>35</td>\n",
       "      <td>53.1000</td>\n",
       "      <td>S</td>\n",
       "      <td>C</td>\n",
       "      <td>Small</td>\n",
       "      <td>Mrs</td>\n",
       "    </tr>\n",
       "    <tr>\n",
       "      <th>5</th>\n",
       "      <td>3</td>\n",
       "      <td>male</td>\n",
       "      <td>35</td>\n",
       "      <td>8.0500</td>\n",
       "      <td>S</td>\n",
       "      <td>M</td>\n",
       "      <td>Alone</td>\n",
       "      <td>Mr</td>\n",
       "    </tr>\n",
       "    <tr>\n",
       "      <th>...</th>\n",
       "      <td>...</td>\n",
       "      <td>...</td>\n",
       "      <td>...</td>\n",
       "      <td>...</td>\n",
       "      <td>...</td>\n",
       "      <td>...</td>\n",
       "      <td>...</td>\n",
       "      <td>...</td>\n",
       "    </tr>\n",
       "    <tr>\n",
       "      <th>887</th>\n",
       "      <td>2</td>\n",
       "      <td>male</td>\n",
       "      <td>27</td>\n",
       "      <td>13.0000</td>\n",
       "      <td>S</td>\n",
       "      <td>M</td>\n",
       "      <td>Alone</td>\n",
       "      <td>Rev</td>\n",
       "    </tr>\n",
       "    <tr>\n",
       "      <th>888</th>\n",
       "      <td>1</td>\n",
       "      <td>female</td>\n",
       "      <td>19</td>\n",
       "      <td>30.0000</td>\n",
       "      <td>S</td>\n",
       "      <td>B</td>\n",
       "      <td>Alone</td>\n",
       "      <td>Miss</td>\n",
       "    </tr>\n",
       "    <tr>\n",
       "      <th>889</th>\n",
       "      <td>3</td>\n",
       "      <td>female</td>\n",
       "      <td>21</td>\n",
       "      <td>23.4500</td>\n",
       "      <td>S</td>\n",
       "      <td>M</td>\n",
       "      <td>Small</td>\n",
       "      <td>Miss</td>\n",
       "    </tr>\n",
       "    <tr>\n",
       "      <th>890</th>\n",
       "      <td>1</td>\n",
       "      <td>male</td>\n",
       "      <td>26</td>\n",
       "      <td>30.0000</td>\n",
       "      <td>C</td>\n",
       "      <td>C</td>\n",
       "      <td>Alone</td>\n",
       "      <td>Mr</td>\n",
       "    </tr>\n",
       "    <tr>\n",
       "      <th>891</th>\n",
       "      <td>3</td>\n",
       "      <td>male</td>\n",
       "      <td>32</td>\n",
       "      <td>7.7500</td>\n",
       "      <td>Q</td>\n",
       "      <td>M</td>\n",
       "      <td>Alone</td>\n",
       "      <td>Mr</td>\n",
       "    </tr>\n",
       "  </tbody>\n",
       "</table>\n",
       "<p>891 rows × 8 columns</p>\n",
       "</div>"
      ],
      "text/plain": [
       "             Pclass     Sex  Age     Fare Embarked Deck Family_Group Title\n",
       "PassengerId                                                               \n",
       "1                 3    male   22   7.2500        S    M        Small    Mr\n",
       "2                 1  female   38  71.2833        C    C        Small   Mrs\n",
       "3                 3  female   26   7.9250        S    M        Alone  Miss\n",
       "4                 1  female   35  53.1000        S    C        Small   Mrs\n",
       "5                 3    male   35   8.0500        S    M        Alone    Mr\n",
       "...             ...     ...  ...      ...      ...  ...          ...   ...\n",
       "887               2    male   27  13.0000        S    M        Alone   Rev\n",
       "888               1  female   19  30.0000        S    B        Alone  Miss\n",
       "889               3  female   21  23.4500        S    M        Small  Miss\n",
       "890               1    male   26  30.0000        C    C        Alone    Mr\n",
       "891               3    male   32   7.7500        Q    M        Alone    Mr\n",
       "\n",
       "[891 rows x 8 columns]"
      ]
     },
     "execution_count": 103,
     "metadata": {},
     "output_type": "execute_result"
    }
   ],
   "source": [
    "train_edit=train.iloc[:,1:]\n",
    "train_edit"
   ]
  },
  {
   "cell_type": "code",
   "execution_count": 104,
   "id": "4a0c51b9",
   "metadata": {
    "ExecuteTime": {
     "end_time": "2023-09-11T00:23:07.881471Z",
     "start_time": "2023-09-11T00:23:07.851559Z"
    }
   },
   "outputs": [
    {
     "data": {
      "text/html": [
       "<div>\n",
       "<style scoped>\n",
       "    .dataframe tbody tr th:only-of-type {\n",
       "        vertical-align: middle;\n",
       "    }\n",
       "\n",
       "    .dataframe tbody tr th {\n",
       "        vertical-align: top;\n",
       "    }\n",
       "\n",
       "    .dataframe thead th {\n",
       "        text-align: right;\n",
       "    }\n",
       "</style>\n",
       "<table border=\"1\" class=\"dataframe\">\n",
       "  <thead>\n",
       "    <tr style=\"text-align: right;\">\n",
       "      <th></th>\n",
       "      <th>Pclass</th>\n",
       "      <th>Sex</th>\n",
       "      <th>Age</th>\n",
       "      <th>Fare</th>\n",
       "      <th>Embarked</th>\n",
       "      <th>Deck</th>\n",
       "      <th>Family_Group</th>\n",
       "      <th>Title</th>\n",
       "    </tr>\n",
       "    <tr>\n",
       "      <th>PassengerId</th>\n",
       "      <th></th>\n",
       "      <th></th>\n",
       "      <th></th>\n",
       "      <th></th>\n",
       "      <th></th>\n",
       "      <th></th>\n",
       "      <th></th>\n",
       "      <th></th>\n",
       "    </tr>\n",
       "  </thead>\n",
       "  <tbody>\n",
       "    <tr>\n",
       "      <th>1</th>\n",
       "      <td>3</td>\n",
       "      <td>male</td>\n",
       "      <td>22</td>\n",
       "      <td>7.2500</td>\n",
       "      <td>S</td>\n",
       "      <td>M</td>\n",
       "      <td>Small</td>\n",
       "      <td>Mr</td>\n",
       "    </tr>\n",
       "    <tr>\n",
       "      <th>2</th>\n",
       "      <td>1</td>\n",
       "      <td>female</td>\n",
       "      <td>38</td>\n",
       "      <td>71.2833</td>\n",
       "      <td>C</td>\n",
       "      <td>C</td>\n",
       "      <td>Small</td>\n",
       "      <td>Mrs</td>\n",
       "    </tr>\n",
       "    <tr>\n",
       "      <th>3</th>\n",
       "      <td>3</td>\n",
       "      <td>female</td>\n",
       "      <td>26</td>\n",
       "      <td>7.9250</td>\n",
       "      <td>S</td>\n",
       "      <td>M</td>\n",
       "      <td>Alone</td>\n",
       "      <td>Miss</td>\n",
       "    </tr>\n",
       "    <tr>\n",
       "      <th>4</th>\n",
       "      <td>1</td>\n",
       "      <td>female</td>\n",
       "      <td>35</td>\n",
       "      <td>53.1000</td>\n",
       "      <td>S</td>\n",
       "      <td>C</td>\n",
       "      <td>Small</td>\n",
       "      <td>Mrs</td>\n",
       "    </tr>\n",
       "    <tr>\n",
       "      <th>5</th>\n",
       "      <td>3</td>\n",
       "      <td>male</td>\n",
       "      <td>35</td>\n",
       "      <td>8.0500</td>\n",
       "      <td>S</td>\n",
       "      <td>M</td>\n",
       "      <td>Alone</td>\n",
       "      <td>Mr</td>\n",
       "    </tr>\n",
       "    <tr>\n",
       "      <th>...</th>\n",
       "      <td>...</td>\n",
       "      <td>...</td>\n",
       "      <td>...</td>\n",
       "      <td>...</td>\n",
       "      <td>...</td>\n",
       "      <td>...</td>\n",
       "      <td>...</td>\n",
       "      <td>...</td>\n",
       "    </tr>\n",
       "    <tr>\n",
       "      <th>887</th>\n",
       "      <td>2</td>\n",
       "      <td>male</td>\n",
       "      <td>27</td>\n",
       "      <td>13.0000</td>\n",
       "      <td>S</td>\n",
       "      <td>M</td>\n",
       "      <td>Alone</td>\n",
       "      <td>Rev</td>\n",
       "    </tr>\n",
       "    <tr>\n",
       "      <th>888</th>\n",
       "      <td>1</td>\n",
       "      <td>female</td>\n",
       "      <td>19</td>\n",
       "      <td>30.0000</td>\n",
       "      <td>S</td>\n",
       "      <td>B</td>\n",
       "      <td>Alone</td>\n",
       "      <td>Miss</td>\n",
       "    </tr>\n",
       "    <tr>\n",
       "      <th>889</th>\n",
       "      <td>3</td>\n",
       "      <td>female</td>\n",
       "      <td>21</td>\n",
       "      <td>23.4500</td>\n",
       "      <td>S</td>\n",
       "      <td>M</td>\n",
       "      <td>Small</td>\n",
       "      <td>Miss</td>\n",
       "    </tr>\n",
       "    <tr>\n",
       "      <th>890</th>\n",
       "      <td>1</td>\n",
       "      <td>male</td>\n",
       "      <td>26</td>\n",
       "      <td>30.0000</td>\n",
       "      <td>C</td>\n",
       "      <td>C</td>\n",
       "      <td>Alone</td>\n",
       "      <td>Mr</td>\n",
       "    </tr>\n",
       "    <tr>\n",
       "      <th>891</th>\n",
       "      <td>3</td>\n",
       "      <td>male</td>\n",
       "      <td>32</td>\n",
       "      <td>7.7500</td>\n",
       "      <td>Q</td>\n",
       "      <td>M</td>\n",
       "      <td>Alone</td>\n",
       "      <td>Mr</td>\n",
       "    </tr>\n",
       "  </tbody>\n",
       "</table>\n",
       "<p>891 rows × 8 columns</p>\n",
       "</div>"
      ],
      "text/plain": [
       "             Pclass     Sex  Age     Fare Embarked Deck Family_Group Title\n",
       "PassengerId                                                               \n",
       "1                 3    male   22   7.2500        S    M        Small    Mr\n",
       "2                 1  female   38  71.2833        C    C        Small   Mrs\n",
       "3                 3  female   26   7.9250        S    M        Alone  Miss\n",
       "4                 1  female   35  53.1000        S    C        Small   Mrs\n",
       "5                 3    male   35   8.0500        S    M        Alone    Mr\n",
       "...             ...     ...  ...      ...      ...  ...          ...   ...\n",
       "887               2    male   27  13.0000        S    M        Alone   Rev\n",
       "888               1  female   19  30.0000        S    B        Alone  Miss\n",
       "889               3  female   21  23.4500        S    M        Small  Miss\n",
       "890               1    male   26  30.0000        C    C        Alone    Mr\n",
       "891               3    male   32   7.7500        Q    M        Alone    Mr\n",
       "\n",
       "[891 rows x 8 columns]"
      ]
     },
     "metadata": {},
     "output_type": "display_data"
    },
    {
     "data": {
      "text/html": [
       "<div>\n",
       "<style scoped>\n",
       "    .dataframe tbody tr th:only-of-type {\n",
       "        vertical-align: middle;\n",
       "    }\n",
       "\n",
       "    .dataframe tbody tr th {\n",
       "        vertical-align: top;\n",
       "    }\n",
       "\n",
       "    .dataframe thead th {\n",
       "        text-align: right;\n",
       "    }\n",
       "</style>\n",
       "<table border=\"1\" class=\"dataframe\">\n",
       "  <thead>\n",
       "    <tr style=\"text-align: right;\">\n",
       "      <th></th>\n",
       "      <th>Pclass</th>\n",
       "      <th>Sex</th>\n",
       "      <th>Age</th>\n",
       "      <th>Fare</th>\n",
       "      <th>Embarked</th>\n",
       "      <th>Deck</th>\n",
       "      <th>Family_Group</th>\n",
       "      <th>Title</th>\n",
       "    </tr>\n",
       "    <tr>\n",
       "      <th>PassengerId</th>\n",
       "      <th></th>\n",
       "      <th></th>\n",
       "      <th></th>\n",
       "      <th></th>\n",
       "      <th></th>\n",
       "      <th></th>\n",
       "      <th></th>\n",
       "      <th></th>\n",
       "    </tr>\n",
       "  </thead>\n",
       "  <tbody>\n",
       "    <tr>\n",
       "      <th>892</th>\n",
       "      <td>3</td>\n",
       "      <td>male</td>\n",
       "      <td>34</td>\n",
       "      <td>7.8292</td>\n",
       "      <td>Q</td>\n",
       "      <td>M</td>\n",
       "      <td>Alone</td>\n",
       "      <td>Mr</td>\n",
       "    </tr>\n",
       "    <tr>\n",
       "      <th>893</th>\n",
       "      <td>3</td>\n",
       "      <td>female</td>\n",
       "      <td>47</td>\n",
       "      <td>7.0000</td>\n",
       "      <td>S</td>\n",
       "      <td>M</td>\n",
       "      <td>Small</td>\n",
       "      <td>Mrs</td>\n",
       "    </tr>\n",
       "    <tr>\n",
       "      <th>894</th>\n",
       "      <td>2</td>\n",
       "      <td>male</td>\n",
       "      <td>62</td>\n",
       "      <td>9.6875</td>\n",
       "      <td>Q</td>\n",
       "      <td>M</td>\n",
       "      <td>Alone</td>\n",
       "      <td>Mr</td>\n",
       "    </tr>\n",
       "    <tr>\n",
       "      <th>895</th>\n",
       "      <td>3</td>\n",
       "      <td>male</td>\n",
       "      <td>27</td>\n",
       "      <td>8.6625</td>\n",
       "      <td>S</td>\n",
       "      <td>M</td>\n",
       "      <td>Alone</td>\n",
       "      <td>Mr</td>\n",
       "    </tr>\n",
       "    <tr>\n",
       "      <th>896</th>\n",
       "      <td>3</td>\n",
       "      <td>female</td>\n",
       "      <td>22</td>\n",
       "      <td>12.2875</td>\n",
       "      <td>S</td>\n",
       "      <td>M</td>\n",
       "      <td>Small</td>\n",
       "      <td>Mrs</td>\n",
       "    </tr>\n",
       "    <tr>\n",
       "      <th>...</th>\n",
       "      <td>...</td>\n",
       "      <td>...</td>\n",
       "      <td>...</td>\n",
       "      <td>...</td>\n",
       "      <td>...</td>\n",
       "      <td>...</td>\n",
       "      <td>...</td>\n",
       "      <td>...</td>\n",
       "    </tr>\n",
       "    <tr>\n",
       "      <th>1305</th>\n",
       "      <td>3</td>\n",
       "      <td>male</td>\n",
       "      <td>26</td>\n",
       "      <td>8.0500</td>\n",
       "      <td>S</td>\n",
       "      <td>M</td>\n",
       "      <td>Alone</td>\n",
       "      <td>Mr</td>\n",
       "    </tr>\n",
       "    <tr>\n",
       "      <th>1306</th>\n",
       "      <td>1</td>\n",
       "      <td>female</td>\n",
       "      <td>39</td>\n",
       "      <td>108.9000</td>\n",
       "      <td>C</td>\n",
       "      <td>C</td>\n",
       "      <td>Alone</td>\n",
       "      <td>Other</td>\n",
       "    </tr>\n",
       "    <tr>\n",
       "      <th>1307</th>\n",
       "      <td>3</td>\n",
       "      <td>male</td>\n",
       "      <td>38</td>\n",
       "      <td>7.2500</td>\n",
       "      <td>S</td>\n",
       "      <td>M</td>\n",
       "      <td>Alone</td>\n",
       "      <td>Mr</td>\n",
       "    </tr>\n",
       "    <tr>\n",
       "      <th>1308</th>\n",
       "      <td>3</td>\n",
       "      <td>male</td>\n",
       "      <td>26</td>\n",
       "      <td>8.0500</td>\n",
       "      <td>S</td>\n",
       "      <td>M</td>\n",
       "      <td>Alone</td>\n",
       "      <td>Mr</td>\n",
       "    </tr>\n",
       "    <tr>\n",
       "      <th>1309</th>\n",
       "      <td>3</td>\n",
       "      <td>male</td>\n",
       "      <td>26</td>\n",
       "      <td>22.3583</td>\n",
       "      <td>C</td>\n",
       "      <td>M</td>\n",
       "      <td>Small</td>\n",
       "      <td>Master</td>\n",
       "    </tr>\n",
       "  </tbody>\n",
       "</table>\n",
       "<p>418 rows × 8 columns</p>\n",
       "</div>"
      ],
      "text/plain": [
       "             Pclass     Sex  Age      Fare Embarked Deck Family_Group   Title\n",
       "PassengerId                                                                  \n",
       "892               3    male   34    7.8292        Q    M        Alone      Mr\n",
       "893               3  female   47    7.0000        S    M        Small     Mrs\n",
       "894               2    male   62    9.6875        Q    M        Alone      Mr\n",
       "895               3    male   27    8.6625        S    M        Alone      Mr\n",
       "896               3  female   22   12.2875        S    M        Small     Mrs\n",
       "...             ...     ...  ...       ...      ...  ...          ...     ...\n",
       "1305              3    male   26    8.0500        S    M        Alone      Mr\n",
       "1306              1  female   39  108.9000        C    C        Alone   Other\n",
       "1307              3    male   38    7.2500        S    M        Alone      Mr\n",
       "1308              3    male   26    8.0500        S    M        Alone      Mr\n",
       "1309              3    male   26   22.3583        C    M        Small  Master\n",
       "\n",
       "[418 rows x 8 columns]"
      ]
     },
     "metadata": {},
     "output_type": "display_data"
    }
   ],
   "source": [
    "display(train_edit,test)"
   ]
  },
  {
   "attachments": {
    "KakaoTalk_20230907_153900442.png": {
     "image/png": "[encoded data removed]"
    }
   },
   "cell_type": "markdown",
   "id": "bdf7497b",
   "metadata": {},
   "source": [
    "![KakaoTalk_20230907_153900442.png](attachment:KakaoTalk_20230907_153900442.png)"
   ]
  },
  {
   "cell_type": "code",
   "execution_count": 105,
   "id": "9265a2d2",
   "metadata": {
    "ExecuteTime": {
     "end_time": "2023-09-11T00:23:07.897428Z",
     "start_time": "2023-09-11T00:23:07.883472Z"
    }
   },
   "outputs": [],
   "source": [
    "# 데이터 문제 / 정답 분리\n",
    "# hint : train 에는 있고 test 에는 없는 컬럼이 있다. 이게 정답이다. 'Survived' \n",
    "X_train=train.drop('Survived', axis=1)\n",
    "y_train=train['Survived']\n",
    "X_test=test"
   ]
  },
  {
   "cell_type": "code",
   "execution_count": 106,
   "id": "625e900d",
   "metadata": {
    "ExecuteTime": {
     "end_time": "2023-09-11T00:23:07.913386Z",
     "start_time": "2023-09-11T00:23:07.898429Z"
    }
   },
   "outputs": [
    {
     "data": {
      "text/plain": [
       "((891, 8), (891,), (418, 8))"
      ]
     },
     "execution_count": 106,
     "metadata": {},
     "output_type": "execute_result"
    }
   ],
   "source": [
    "X_train.shape, y_train.shape, X_test.shape"
   ]
  },
  {
   "cell_type": "code",
   "execution_count": 107,
   "id": "aa1bbf61",
   "metadata": {
    "ExecuteTime": {
     "end_time": "2023-09-11T00:23:07.929343Z",
     "start_time": "2023-09-11T00:23:07.915380Z"
    }
   },
   "outputs": [
    {
     "data": {
      "text/html": [
       "<div>\n",
       "<style scoped>\n",
       "    .dataframe tbody tr th:only-of-type {\n",
       "        vertical-align: middle;\n",
       "    }\n",
       "\n",
       "    .dataframe tbody tr th {\n",
       "        vertical-align: top;\n",
       "    }\n",
       "\n",
       "    .dataframe thead th {\n",
       "        text-align: right;\n",
       "    }\n",
       "</style>\n",
       "<table border=\"1\" class=\"dataframe\">\n",
       "  <thead>\n",
       "    <tr style=\"text-align: right;\">\n",
       "      <th></th>\n",
       "      <th>Pclass</th>\n",
       "      <th>Sex</th>\n",
       "      <th>Age</th>\n",
       "      <th>Fare</th>\n",
       "      <th>Embarked</th>\n",
       "      <th>Deck</th>\n",
       "      <th>Family_Group</th>\n",
       "      <th>Title</th>\n",
       "    </tr>\n",
       "    <tr>\n",
       "      <th>PassengerId</th>\n",
       "      <th></th>\n",
       "      <th></th>\n",
       "      <th></th>\n",
       "      <th></th>\n",
       "      <th></th>\n",
       "      <th></th>\n",
       "      <th></th>\n",
       "      <th></th>\n",
       "    </tr>\n",
       "  </thead>\n",
       "  <tbody>\n",
       "    <tr>\n",
       "      <th>1</th>\n",
       "      <td>3</td>\n",
       "      <td>male</td>\n",
       "      <td>22</td>\n",
       "      <td>7.2500</td>\n",
       "      <td>S</td>\n",
       "      <td>M</td>\n",
       "      <td>Small</td>\n",
       "      <td>Mr</td>\n",
       "    </tr>\n",
       "    <tr>\n",
       "      <th>2</th>\n",
       "      <td>1</td>\n",
       "      <td>female</td>\n",
       "      <td>38</td>\n",
       "      <td>71.2833</td>\n",
       "      <td>C</td>\n",
       "      <td>C</td>\n",
       "      <td>Small</td>\n",
       "      <td>Mrs</td>\n",
       "    </tr>\n",
       "    <tr>\n",
       "      <th>3</th>\n",
       "      <td>3</td>\n",
       "      <td>female</td>\n",
       "      <td>26</td>\n",
       "      <td>7.9250</td>\n",
       "      <td>S</td>\n",
       "      <td>M</td>\n",
       "      <td>Alone</td>\n",
       "      <td>Miss</td>\n",
       "    </tr>\n",
       "    <tr>\n",
       "      <th>4</th>\n",
       "      <td>1</td>\n",
       "      <td>female</td>\n",
       "      <td>35</td>\n",
       "      <td>53.1000</td>\n",
       "      <td>S</td>\n",
       "      <td>C</td>\n",
       "      <td>Small</td>\n",
       "      <td>Mrs</td>\n",
       "    </tr>\n",
       "    <tr>\n",
       "      <th>5</th>\n",
       "      <td>3</td>\n",
       "      <td>male</td>\n",
       "      <td>35</td>\n",
       "      <td>8.0500</td>\n",
       "      <td>S</td>\n",
       "      <td>M</td>\n",
       "      <td>Alone</td>\n",
       "      <td>Mr</td>\n",
       "    </tr>\n",
       "    <tr>\n",
       "      <th>...</th>\n",
       "      <td>...</td>\n",
       "      <td>...</td>\n",
       "      <td>...</td>\n",
       "      <td>...</td>\n",
       "      <td>...</td>\n",
       "      <td>...</td>\n",
       "      <td>...</td>\n",
       "      <td>...</td>\n",
       "    </tr>\n",
       "    <tr>\n",
       "      <th>887</th>\n",
       "      <td>2</td>\n",
       "      <td>male</td>\n",
       "      <td>27</td>\n",
       "      <td>13.0000</td>\n",
       "      <td>S</td>\n",
       "      <td>M</td>\n",
       "      <td>Alone</td>\n",
       "      <td>Rev</td>\n",
       "    </tr>\n",
       "    <tr>\n",
       "      <th>888</th>\n",
       "      <td>1</td>\n",
       "      <td>female</td>\n",
       "      <td>19</td>\n",
       "      <td>30.0000</td>\n",
       "      <td>S</td>\n",
       "      <td>B</td>\n",
       "      <td>Alone</td>\n",
       "      <td>Miss</td>\n",
       "    </tr>\n",
       "    <tr>\n",
       "      <th>889</th>\n",
       "      <td>3</td>\n",
       "      <td>female</td>\n",
       "      <td>21</td>\n",
       "      <td>23.4500</td>\n",
       "      <td>S</td>\n",
       "      <td>M</td>\n",
       "      <td>Small</td>\n",
       "      <td>Miss</td>\n",
       "    </tr>\n",
       "    <tr>\n",
       "      <th>890</th>\n",
       "      <td>1</td>\n",
       "      <td>male</td>\n",
       "      <td>26</td>\n",
       "      <td>30.0000</td>\n",
       "      <td>C</td>\n",
       "      <td>C</td>\n",
       "      <td>Alone</td>\n",
       "      <td>Mr</td>\n",
       "    </tr>\n",
       "    <tr>\n",
       "      <th>891</th>\n",
       "      <td>3</td>\n",
       "      <td>male</td>\n",
       "      <td>32</td>\n",
       "      <td>7.7500</td>\n",
       "      <td>Q</td>\n",
       "      <td>M</td>\n",
       "      <td>Alone</td>\n",
       "      <td>Mr</td>\n",
       "    </tr>\n",
       "  </tbody>\n",
       "</table>\n",
       "<p>891 rows × 8 columns</p>\n",
       "</div>"
      ],
      "text/plain": [
       "             Pclass     Sex  Age     Fare Embarked Deck Family_Group Title\n",
       "PassengerId                                                               \n",
       "1                 3    male   22   7.2500        S    M        Small    Mr\n",
       "2                 1  female   38  71.2833        C    C        Small   Mrs\n",
       "3                 3  female   26   7.9250        S    M        Alone  Miss\n",
       "4                 1  female   35  53.1000        S    C        Small   Mrs\n",
       "5                 3    male   35   8.0500        S    M        Alone    Mr\n",
       "...             ...     ...  ...      ...      ...  ...          ...   ...\n",
       "887               2    male   27  13.0000        S    M        Alone   Rev\n",
       "888               1  female   19  30.0000        S    B        Alone  Miss\n",
       "889               3  female   21  23.4500        S    M        Small  Miss\n",
       "890               1    male   26  30.0000        C    C        Alone    Mr\n",
       "891               3    male   32   7.7500        Q    M        Alone    Mr\n",
       "\n",
       "[891 rows x 8 columns]"
      ]
     },
     "execution_count": 107,
     "metadata": {},
     "output_type": "execute_result"
    }
   ],
   "source": [
    "X_train"
   ]
  },
  {
   "cell_type": "markdown",
   "id": "b5c000c7",
   "metadata": {},
   "source": [
    "**문자형의 데이터를 원-핫 인코딩 진행**\n",
    "- pd.get_dummies() 사용"
   ]
  },
  {
   "cell_type": "code",
   "execution_count": 108,
   "id": "0bbafc44",
   "metadata": {
    "ExecuteTime": {
     "end_time": "2023-09-11T00:23:07.944303Z",
     "start_time": "2023-09-11T00:23:07.931339Z"
    }
   },
   "outputs": [],
   "source": [
    "# 원 - 핫 인코딩\n",
    "# get_dummies 를 사용하면 문자형 데이터는 전부 원핫 인코딩이 진행된다. \n",
    "# 숫자 데이터는? 그대로 사용한다. \n",
    "X_train=pd.get_dummies(X_train)\n",
    "X_test=pd.get_dummies(X_test)"
   ]
  },
  {
   "cell_type": "code",
   "execution_count": 109,
   "id": "64f6b578",
   "metadata": {
    "ExecuteTime": {
     "end_time": "2023-09-11T00:23:07.959263Z",
     "start_time": "2023-09-11T00:23:07.945300Z"
    }
   },
   "outputs": [
    {
     "data": {
      "text/html": [
       "<div>\n",
       "<style scoped>\n",
       "    .dataframe tbody tr th:only-of-type {\n",
       "        vertical-align: middle;\n",
       "    }\n",
       "\n",
       "    .dataframe tbody tr th {\n",
       "        vertical-align: top;\n",
       "    }\n",
       "\n",
       "    .dataframe thead th {\n",
       "        text-align: right;\n",
       "    }\n",
       "</style>\n",
       "<table border=\"1\" class=\"dataframe\">\n",
       "  <thead>\n",
       "    <tr style=\"text-align: right;\">\n",
       "      <th></th>\n",
       "      <th>Pclass</th>\n",
       "      <th>Age</th>\n",
       "      <th>Fare</th>\n",
       "      <th>Sex_female</th>\n",
       "      <th>Sex_male</th>\n",
       "      <th>Embarked_C</th>\n",
       "      <th>Embarked_Q</th>\n",
       "      <th>Embarked_S</th>\n",
       "      <th>Deck_A</th>\n",
       "      <th>Deck_B</th>\n",
       "      <th>...</th>\n",
       "      <th>Deck_T</th>\n",
       "      <th>Family_Group_Alone</th>\n",
       "      <th>Family_Group_Small</th>\n",
       "      <th>Family_Group_Large</th>\n",
       "      <th>Title_Master</th>\n",
       "      <th>Title_Miss</th>\n",
       "      <th>Title_Mr</th>\n",
       "      <th>Title_Mrs</th>\n",
       "      <th>Title_Other</th>\n",
       "      <th>Title_Rev</th>\n",
       "    </tr>\n",
       "    <tr>\n",
       "      <th>PassengerId</th>\n",
       "      <th></th>\n",
       "      <th></th>\n",
       "      <th></th>\n",
       "      <th></th>\n",
       "      <th></th>\n",
       "      <th></th>\n",
       "      <th></th>\n",
       "      <th></th>\n",
       "      <th></th>\n",
       "      <th></th>\n",
       "      <th></th>\n",
       "      <th></th>\n",
       "      <th></th>\n",
       "      <th></th>\n",
       "      <th></th>\n",
       "      <th></th>\n",
       "      <th></th>\n",
       "      <th></th>\n",
       "      <th></th>\n",
       "      <th></th>\n",
       "      <th></th>\n",
       "    </tr>\n",
       "  </thead>\n",
       "  <tbody>\n",
       "    <tr>\n",
       "      <th>1</th>\n",
       "      <td>3</td>\n",
       "      <td>22</td>\n",
       "      <td>7.2500</td>\n",
       "      <td>0</td>\n",
       "      <td>1</td>\n",
       "      <td>0</td>\n",
       "      <td>0</td>\n",
       "      <td>1</td>\n",
       "      <td>0</td>\n",
       "      <td>0</td>\n",
       "      <td>...</td>\n",
       "      <td>0</td>\n",
       "      <td>0</td>\n",
       "      <td>1</td>\n",
       "      <td>0</td>\n",
       "      <td>0</td>\n",
       "      <td>0</td>\n",
       "      <td>1</td>\n",
       "      <td>0</td>\n",
       "      <td>0</td>\n",
       "      <td>0</td>\n",
       "    </tr>\n",
       "    <tr>\n",
       "      <th>2</th>\n",
       "      <td>1</td>\n",
       "      <td>38</td>\n",
       "      <td>71.2833</td>\n",
       "      <td>1</td>\n",
       "      <td>0</td>\n",
       "      <td>1</td>\n",
       "      <td>0</td>\n",
       "      <td>0</td>\n",
       "      <td>0</td>\n",
       "      <td>0</td>\n",
       "      <td>...</td>\n",
       "      <td>0</td>\n",
       "      <td>0</td>\n",
       "      <td>1</td>\n",
       "      <td>0</td>\n",
       "      <td>0</td>\n",
       "      <td>0</td>\n",
       "      <td>0</td>\n",
       "      <td>1</td>\n",
       "      <td>0</td>\n",
       "      <td>0</td>\n",
       "    </tr>\n",
       "    <tr>\n",
       "      <th>3</th>\n",
       "      <td>3</td>\n",
       "      <td>26</td>\n",
       "      <td>7.9250</td>\n",
       "      <td>1</td>\n",
       "      <td>0</td>\n",
       "      <td>0</td>\n",
       "      <td>0</td>\n",
       "      <td>1</td>\n",
       "      <td>0</td>\n",
       "      <td>0</td>\n",
       "      <td>...</td>\n",
       "      <td>0</td>\n",
       "      <td>1</td>\n",
       "      <td>0</td>\n",
       "      <td>0</td>\n",
       "      <td>0</td>\n",
       "      <td>1</td>\n",
       "      <td>0</td>\n",
       "      <td>0</td>\n",
       "      <td>0</td>\n",
       "      <td>0</td>\n",
       "    </tr>\n",
       "    <tr>\n",
       "      <th>4</th>\n",
       "      <td>1</td>\n",
       "      <td>35</td>\n",
       "      <td>53.1000</td>\n",
       "      <td>1</td>\n",
       "      <td>0</td>\n",
       "      <td>0</td>\n",
       "      <td>0</td>\n",
       "      <td>1</td>\n",
       "      <td>0</td>\n",
       "      <td>0</td>\n",
       "      <td>...</td>\n",
       "      <td>0</td>\n",
       "      <td>0</td>\n",
       "      <td>1</td>\n",
       "      <td>0</td>\n",
       "      <td>0</td>\n",
       "      <td>0</td>\n",
       "      <td>0</td>\n",
       "      <td>1</td>\n",
       "      <td>0</td>\n",
       "      <td>0</td>\n",
       "    </tr>\n",
       "    <tr>\n",
       "      <th>5</th>\n",
       "      <td>3</td>\n",
       "      <td>35</td>\n",
       "      <td>8.0500</td>\n",
       "      <td>0</td>\n",
       "      <td>1</td>\n",
       "      <td>0</td>\n",
       "      <td>0</td>\n",
       "      <td>1</td>\n",
       "      <td>0</td>\n",
       "      <td>0</td>\n",
       "      <td>...</td>\n",
       "      <td>0</td>\n",
       "      <td>1</td>\n",
       "      <td>0</td>\n",
       "      <td>0</td>\n",
       "      <td>0</td>\n",
       "      <td>0</td>\n",
       "      <td>1</td>\n",
       "      <td>0</td>\n",
       "      <td>0</td>\n",
       "      <td>0</td>\n",
       "    </tr>\n",
       "  </tbody>\n",
       "</table>\n",
       "<p>5 rows × 26 columns</p>\n",
       "</div>"
      ],
      "text/plain": [
       "             Pclass  Age     Fare  Sex_female  Sex_male  Embarked_C  \\\n",
       "PassengerId                                                           \n",
       "1                 3   22   7.2500           0         1           0   \n",
       "2                 1   38  71.2833           1         0           1   \n",
       "3                 3   26   7.9250           1         0           0   \n",
       "4                 1   35  53.1000           1         0           0   \n",
       "5                 3   35   8.0500           0         1           0   \n",
       "\n",
       "             Embarked_Q  Embarked_S  Deck_A  Deck_B  ...  Deck_T  \\\n",
       "PassengerId                                          ...           \n",
       "1                     0           1       0       0  ...       0   \n",
       "2                     0           0       0       0  ...       0   \n",
       "3                     0           1       0       0  ...       0   \n",
       "4                     0           1       0       0  ...       0   \n",
       "5                     0           1       0       0  ...       0   \n",
       "\n",
       "             Family_Group_Alone  Family_Group_Small  Family_Group_Large  \\\n",
       "PassengerId                                                               \n",
       "1                             0                   1                   0   \n",
       "2                             0                   1                   0   \n",
       "3                             1                   0                   0   \n",
       "4                             0                   1                   0   \n",
       "5                             1                   0                   0   \n",
       "\n",
       "             Title_Master  Title_Miss  Title_Mr  Title_Mrs  Title_Other  \\\n",
       "PassengerId                                                               \n",
       "1                       0           0         1          0            0   \n",
       "2                       0           0         0          1            0   \n",
       "3                       0           1         0          0            0   \n",
       "4                       0           0         0          1            0   \n",
       "5                       0           0         1          0            0   \n",
       "\n",
       "             Title_Rev  \n",
       "PassengerId             \n",
       "1                    0  \n",
       "2                    0  \n",
       "3                    0  \n",
       "4                    0  \n",
       "5                    0  \n",
       "\n",
       "[5 rows x 26 columns]"
      ]
     },
     "execution_count": 109,
     "metadata": {},
     "output_type": "execute_result"
    }
   ],
   "source": [
    "X_train.head()"
   ]
  },
  {
   "cell_type": "code",
   "execution_count": 110,
   "id": "63783c37",
   "metadata": {
    "ExecuteTime": {
     "end_time": "2023-09-11T00:23:07.990180Z",
     "start_time": "2023-09-11T00:23:07.961259Z"
    }
   },
   "outputs": [
    {
     "data": {
      "text/html": [
       "<div>\n",
       "<style scoped>\n",
       "    .dataframe tbody tr th:only-of-type {\n",
       "        vertical-align: middle;\n",
       "    }\n",
       "\n",
       "    .dataframe tbody tr th {\n",
       "        vertical-align: top;\n",
       "    }\n",
       "\n",
       "    .dataframe thead th {\n",
       "        text-align: right;\n",
       "    }\n",
       "</style>\n",
       "<table border=\"1\" class=\"dataframe\">\n",
       "  <thead>\n",
       "    <tr style=\"text-align: right;\">\n",
       "      <th></th>\n",
       "      <th>Pclass</th>\n",
       "      <th>Age</th>\n",
       "      <th>Fare</th>\n",
       "      <th>Sex_female</th>\n",
       "      <th>Sex_male</th>\n",
       "      <th>Embarked_C</th>\n",
       "      <th>Embarked_Q</th>\n",
       "      <th>Embarked_S</th>\n",
       "      <th>Deck_A</th>\n",
       "      <th>Deck_B</th>\n",
       "      <th>...</th>\n",
       "      <th>Deck_M</th>\n",
       "      <th>Family_Group_Alone</th>\n",
       "      <th>Family_Group_Small</th>\n",
       "      <th>Family_Group_Large</th>\n",
       "      <th>Title_Master</th>\n",
       "      <th>Title_Miss</th>\n",
       "      <th>Title_Mr</th>\n",
       "      <th>Title_Mrs</th>\n",
       "      <th>Title_Other</th>\n",
       "      <th>Title_Rev</th>\n",
       "    </tr>\n",
       "    <tr>\n",
       "      <th>PassengerId</th>\n",
       "      <th></th>\n",
       "      <th></th>\n",
       "      <th></th>\n",
       "      <th></th>\n",
       "      <th></th>\n",
       "      <th></th>\n",
       "      <th></th>\n",
       "      <th></th>\n",
       "      <th></th>\n",
       "      <th></th>\n",
       "      <th></th>\n",
       "      <th></th>\n",
       "      <th></th>\n",
       "      <th></th>\n",
       "      <th></th>\n",
       "      <th></th>\n",
       "      <th></th>\n",
       "      <th></th>\n",
       "      <th></th>\n",
       "      <th></th>\n",
       "      <th></th>\n",
       "    </tr>\n",
       "  </thead>\n",
       "  <tbody>\n",
       "    <tr>\n",
       "      <th>892</th>\n",
       "      <td>3</td>\n",
       "      <td>34</td>\n",
       "      <td>7.8292</td>\n",
       "      <td>0</td>\n",
       "      <td>1</td>\n",
       "      <td>0</td>\n",
       "      <td>1</td>\n",
       "      <td>0</td>\n",
       "      <td>0</td>\n",
       "      <td>0</td>\n",
       "      <td>...</td>\n",
       "      <td>1</td>\n",
       "      <td>1</td>\n",
       "      <td>0</td>\n",
       "      <td>0</td>\n",
       "      <td>0</td>\n",
       "      <td>0</td>\n",
       "      <td>1</td>\n",
       "      <td>0</td>\n",
       "      <td>0</td>\n",
       "      <td>0</td>\n",
       "    </tr>\n",
       "    <tr>\n",
       "      <th>893</th>\n",
       "      <td>3</td>\n",
       "      <td>47</td>\n",
       "      <td>7.0000</td>\n",
       "      <td>1</td>\n",
       "      <td>0</td>\n",
       "      <td>0</td>\n",
       "      <td>0</td>\n",
       "      <td>1</td>\n",
       "      <td>0</td>\n",
       "      <td>0</td>\n",
       "      <td>...</td>\n",
       "      <td>1</td>\n",
       "      <td>0</td>\n",
       "      <td>1</td>\n",
       "      <td>0</td>\n",
       "      <td>0</td>\n",
       "      <td>0</td>\n",
       "      <td>0</td>\n",
       "      <td>1</td>\n",
       "      <td>0</td>\n",
       "      <td>0</td>\n",
       "    </tr>\n",
       "    <tr>\n",
       "      <th>894</th>\n",
       "      <td>2</td>\n",
       "      <td>62</td>\n",
       "      <td>9.6875</td>\n",
       "      <td>0</td>\n",
       "      <td>1</td>\n",
       "      <td>0</td>\n",
       "      <td>1</td>\n",
       "      <td>0</td>\n",
       "      <td>0</td>\n",
       "      <td>0</td>\n",
       "      <td>...</td>\n",
       "      <td>1</td>\n",
       "      <td>1</td>\n",
       "      <td>0</td>\n",
       "      <td>0</td>\n",
       "      <td>0</td>\n",
       "      <td>0</td>\n",
       "      <td>1</td>\n",
       "      <td>0</td>\n",
       "      <td>0</td>\n",
       "      <td>0</td>\n",
       "    </tr>\n",
       "    <tr>\n",
       "      <th>895</th>\n",
       "      <td>3</td>\n",
       "      <td>27</td>\n",
       "      <td>8.6625</td>\n",
       "      <td>0</td>\n",
       "      <td>1</td>\n",
       "      <td>0</td>\n",
       "      <td>0</td>\n",
       "      <td>1</td>\n",
       "      <td>0</td>\n",
       "      <td>0</td>\n",
       "      <td>...</td>\n",
       "      <td>1</td>\n",
       "      <td>1</td>\n",
       "      <td>0</td>\n",
       "      <td>0</td>\n",
       "      <td>0</td>\n",
       "      <td>0</td>\n",
       "      <td>1</td>\n",
       "      <td>0</td>\n",
       "      <td>0</td>\n",
       "      <td>0</td>\n",
       "    </tr>\n",
       "    <tr>\n",
       "      <th>896</th>\n",
       "      <td>3</td>\n",
       "      <td>22</td>\n",
       "      <td>12.2875</td>\n",
       "      <td>1</td>\n",
       "      <td>0</td>\n",
       "      <td>0</td>\n",
       "      <td>0</td>\n",
       "      <td>1</td>\n",
       "      <td>0</td>\n",
       "      <td>0</td>\n",
       "      <td>...</td>\n",
       "      <td>1</td>\n",
       "      <td>0</td>\n",
       "      <td>1</td>\n",
       "      <td>0</td>\n",
       "      <td>0</td>\n",
       "      <td>0</td>\n",
       "      <td>0</td>\n",
       "      <td>1</td>\n",
       "      <td>0</td>\n",
       "      <td>0</td>\n",
       "    </tr>\n",
       "  </tbody>\n",
       "</table>\n",
       "<p>5 rows × 25 columns</p>\n",
       "</div>"
      ],
      "text/plain": [
       "             Pclass  Age     Fare  Sex_female  Sex_male  Embarked_C  \\\n",
       "PassengerId                                                           \n",
       "892               3   34   7.8292           0         1           0   \n",
       "893               3   47   7.0000           1         0           0   \n",
       "894               2   62   9.6875           0         1           0   \n",
       "895               3   27   8.6625           0         1           0   \n",
       "896               3   22  12.2875           1         0           0   \n",
       "\n",
       "             Embarked_Q  Embarked_S  Deck_A  Deck_B  ...  Deck_M  \\\n",
       "PassengerId                                          ...           \n",
       "892                   1           0       0       0  ...       1   \n",
       "893                   0           1       0       0  ...       1   \n",
       "894                   1           0       0       0  ...       1   \n",
       "895                   0           1       0       0  ...       1   \n",
       "896                   0           1       0       0  ...       1   \n",
       "\n",
       "             Family_Group_Alone  Family_Group_Small  Family_Group_Large  \\\n",
       "PassengerId                                                               \n",
       "892                           1                   0                   0   \n",
       "893                           0                   1                   0   \n",
       "894                           1                   0                   0   \n",
       "895                           1                   0                   0   \n",
       "896                           0                   1                   0   \n",
       "\n",
       "             Title_Master  Title_Miss  Title_Mr  Title_Mrs  Title_Other  \\\n",
       "PassengerId                                                               \n",
       "892                     0           0         1          0            0   \n",
       "893                     0           0         0          1            0   \n",
       "894                     0           0         1          0            0   \n",
       "895                     0           0         1          0            0   \n",
       "896                     0           0         0          1            0   \n",
       "\n",
       "             Title_Rev  \n",
       "PassengerId             \n",
       "892                  0  \n",
       "893                  0  \n",
       "894                  0  \n",
       "895                  0  \n",
       "896                  0  \n",
       "\n",
       "[5 rows x 25 columns]"
      ]
     },
     "execution_count": 110,
     "metadata": {},
     "output_type": "execute_result"
    }
   ],
   "source": [
    "X_test.head()"
   ]
  },
  {
   "cell_type": "code",
   "execution_count": 111,
   "id": "abaccf3e",
   "metadata": {
    "ExecuteTime": {
     "end_time": "2023-09-11T00:23:08.005140Z",
     "start_time": "2023-09-11T00:23:07.993173Z"
    }
   },
   "outputs": [
    {
     "name": "stdout",
     "output_type": "stream",
     "text": [
      "<class 'pandas.core.frame.DataFrame'>\n",
      "Int64Index: 891 entries, 1 to 891\n",
      "Data columns (total 26 columns):\n",
      " #   Column              Non-Null Count  Dtype  \n",
      "---  ------              --------------  -----  \n",
      " 0   Pclass              891 non-null    int64  \n",
      " 1   Age                 891 non-null    int64  \n",
      " 2   Fare                891 non-null    float64\n",
      " 3   Sex_female          891 non-null    uint8  \n",
      " 4   Sex_male            891 non-null    uint8  \n",
      " 5   Embarked_C          891 non-null    uint8  \n",
      " 6   Embarked_Q          891 non-null    uint8  \n",
      " 7   Embarked_S          891 non-null    uint8  \n",
      " 8   Deck_A              891 non-null    uint8  \n",
      " 9   Deck_B              891 non-null    uint8  \n",
      " 10  Deck_C              891 non-null    uint8  \n",
      " 11  Deck_D              891 non-null    uint8  \n",
      " 12  Deck_E              891 non-null    uint8  \n",
      " 13  Deck_F              891 non-null    uint8  \n",
      " 14  Deck_G              891 non-null    uint8  \n",
      " 15  Deck_M              891 non-null    uint8  \n",
      " 16  Deck_T              891 non-null    uint8  \n",
      " 17  Family_Group_Alone  891 non-null    uint8  \n",
      " 18  Family_Group_Small  891 non-null    uint8  \n",
      " 19  Family_Group_Large  891 non-null    uint8  \n",
      " 20  Title_Master        891 non-null    uint8  \n",
      " 21  Title_Miss          891 non-null    uint8  \n",
      " 22  Title_Mr            891 non-null    uint8  \n",
      " 23  Title_Mrs           891 non-null    uint8  \n",
      " 24  Title_Other         891 non-null    uint8  \n",
      " 25  Title_Rev           891 non-null    uint8  \n",
      "dtypes: float64(1), int64(2), uint8(23)\n",
      "memory usage: 80.1 KB\n"
     ]
    }
   ],
   "source": [
    "# info 함수로 확인하기 : X_train\n",
    "X_train.info()"
   ]
  },
  {
   "cell_type": "code",
   "execution_count": 112,
   "id": "f3605fbd",
   "metadata": {
    "ExecuteTime": {
     "end_time": "2023-09-11T00:23:08.021098Z",
     "start_time": "2023-09-11T00:23:08.006138Z"
    }
   },
   "outputs": [
    {
     "name": "stdout",
     "output_type": "stream",
     "text": [
      "<class 'pandas.core.frame.DataFrame'>\n",
      "Int64Index: 418 entries, 892 to 1309\n",
      "Data columns (total 25 columns):\n",
      " #   Column              Non-Null Count  Dtype  \n",
      "---  ------              --------------  -----  \n",
      " 0   Pclass              418 non-null    int64  \n",
      " 1   Age                 418 non-null    int64  \n",
      " 2   Fare                418 non-null    float64\n",
      " 3   Sex_female          418 non-null    uint8  \n",
      " 4   Sex_male            418 non-null    uint8  \n",
      " 5   Embarked_C          418 non-null    uint8  \n",
      " 6   Embarked_Q          418 non-null    uint8  \n",
      " 7   Embarked_S          418 non-null    uint8  \n",
      " 8   Deck_A              418 non-null    uint8  \n",
      " 9   Deck_B              418 non-null    uint8  \n",
      " 10  Deck_C              418 non-null    uint8  \n",
      " 11  Deck_D              418 non-null    uint8  \n",
      " 12  Deck_E              418 non-null    uint8  \n",
      " 13  Deck_F              418 non-null    uint8  \n",
      " 14  Deck_G              418 non-null    uint8  \n",
      " 15  Deck_M              418 non-null    uint8  \n",
      " 16  Family_Group_Alone  418 non-null    uint8  \n",
      " 17  Family_Group_Small  418 non-null    uint8  \n",
      " 18  Family_Group_Large  418 non-null    uint8  \n",
      " 19  Title_Master        418 non-null    uint8  \n",
      " 20  Title_Miss          418 non-null    uint8  \n",
      " 21  Title_Mr            418 non-null    uint8  \n",
      " 22  Title_Mrs           418 non-null    uint8  \n",
      " 23  Title_Other         418 non-null    uint8  \n",
      " 24  Title_Rev           418 non-null    uint8  \n",
      "dtypes: float64(1), int64(2), uint8(22)\n",
      "memory usage: 22.0 KB\n"
     ]
    }
   ],
   "source": [
    "# info 함수로 확인하기 : X_test \n",
    "X_test.info()"
   ]
  },
  {
   "cell_type": "code",
   "execution_count": 113,
   "id": "cc0f3e82",
   "metadata": {
    "ExecuteTime": {
     "end_time": "2023-09-11T00:23:08.037055Z",
     "start_time": "2023-09-11T00:23:08.023093Z"
    }
   },
   "outputs": [
    {
     "data": {
      "text/plain": [
       "((891, 26), (418, 25))"
      ]
     },
     "execution_count": 113,
     "metadata": {},
     "output_type": "execute_result"
    }
   ],
   "source": [
    "# shape 찍어보기 \n",
    "X_train.shape, X_test.shape"
   ]
  },
  {
   "cell_type": "markdown",
   "id": "0281bd80",
   "metadata": {},
   "source": [
    "- 인코딩 이후에 X_train / X_test 의 컬럼수가 차이가 난다."
   ]
  },
  {
   "cell_type": "code",
   "execution_count": 114,
   "id": "d49aedc7",
   "metadata": {
    "ExecuteTime": {
     "end_time": "2023-09-11T00:23:08.053023Z",
     "start_time": "2023-09-11T00:23:08.039050Z"
    }
   },
   "outputs": [
    {
     "data": {
      "text/plain": [
       "{'Deck_T'}"
      ]
     },
     "execution_count": 114,
     "metadata": {},
     "output_type": "execute_result"
    }
   ],
   "source": [
    "# set : 중복이 없는 요소들로만 구성된 집합의 형태로 바꿔주는 함수 \n",
    "set(X_train.columns) - set(X_test.columns)"
   ]
  },
  {
   "cell_type": "code",
   "execution_count": 115,
   "id": "36412919",
   "metadata": {
    "ExecuteTime": {
     "end_time": "2023-09-11T00:23:08.067972Z",
     "start_time": "2023-09-11T00:23:08.055008Z"
    }
   },
   "outputs": [
    {
     "data": {
      "text/html": [
       "<div>\n",
       "<style scoped>\n",
       "    .dataframe tbody tr th:only-of-type {\n",
       "        vertical-align: middle;\n",
       "    }\n",
       "\n",
       "    .dataframe tbody tr th {\n",
       "        vertical-align: top;\n",
       "    }\n",
       "\n",
       "    .dataframe thead th {\n",
       "        text-align: right;\n",
       "    }\n",
       "</style>\n",
       "<table border=\"1\" class=\"dataframe\">\n",
       "  <thead>\n",
       "    <tr style=\"text-align: right;\">\n",
       "      <th></th>\n",
       "      <th>Survived</th>\n",
       "      <th>Pclass</th>\n",
       "      <th>Sex</th>\n",
       "      <th>Age</th>\n",
       "      <th>Fare</th>\n",
       "      <th>Embarked</th>\n",
       "      <th>Deck</th>\n",
       "      <th>Family_Group</th>\n",
       "      <th>Title</th>\n",
       "    </tr>\n",
       "    <tr>\n",
       "      <th>PassengerId</th>\n",
       "      <th></th>\n",
       "      <th></th>\n",
       "      <th></th>\n",
       "      <th></th>\n",
       "      <th></th>\n",
       "      <th></th>\n",
       "      <th></th>\n",
       "      <th></th>\n",
       "      <th></th>\n",
       "    </tr>\n",
       "  </thead>\n",
       "  <tbody>\n",
       "    <tr>\n",
       "      <th>340</th>\n",
       "      <td>0</td>\n",
       "      <td>1</td>\n",
       "      <td>male</td>\n",
       "      <td>45</td>\n",
       "      <td>35.5</td>\n",
       "      <td>S</td>\n",
       "      <td>T</td>\n",
       "      <td>Alone</td>\n",
       "      <td>Mr</td>\n",
       "    </tr>\n",
       "  </tbody>\n",
       "</table>\n",
       "</div>"
      ],
      "text/plain": [
       "             Survived  Pclass   Sex  Age  Fare Embarked Deck Family_Group  \\\n",
       "PassengerId                                                                 \n",
       "340                 0       1  male   45  35.5        S    T        Alone   \n",
       "\n",
       "            Title  \n",
       "PassengerId        \n",
       "340            Mr  "
      ]
     },
     "execution_count": 115,
     "metadata": {},
     "output_type": "execute_result"
    }
   ],
   "source": [
    "# 불리언 인덱싱을 통해서 Deck 이 T 인 사람이 누구인지 보자 \n",
    "train[train['Deck']=='T']"
   ]
  },
  {
   "cell_type": "markdown",
   "id": "645fb994",
   "metadata": {},
   "source": [
    "- Deck_T 라는 데이터는 train 에 1 개만 존재하는 데이터였다. \n",
    "- 원 핫 인코딩의 특성상 값이 존재하면 1 / 존재하지 않으면 0 \n",
    "- 그러면 test 에는 Deck_T 라는 데이터가 존재하지 않았다. \n",
    "- 무슨 값으로 채워주자? => 0 으로 채워주자. "
   ]
  },
  {
   "cell_type": "code",
   "execution_count": 116,
   "id": "a7fd2c45",
   "metadata": {
    "ExecuteTime": {
     "end_time": "2023-09-11T00:23:08.083955Z",
     "start_time": "2023-09-11T00:23:08.069967Z"
    }
   },
   "outputs": [],
   "source": [
    "X_test['Deck_T']=0"
   ]
  },
  {
   "cell_type": "code",
   "execution_count": 177,
   "id": "98096bc0",
   "metadata": {
    "ExecuteTime": {
     "end_time": "2023-09-13T02:36:48.913044Z",
     "start_time": "2023-09-13T02:36:48.885145Z"
    }
   },
   "outputs": [
    {
     "data": {
      "text/plain": [
       "PassengerId\n",
       "892     0\n",
       "893     0\n",
       "894     0\n",
       "895     0\n",
       "896     0\n",
       "       ..\n",
       "1305    0\n",
       "1306    0\n",
       "1307    0\n",
       "1308    0\n",
       "1309    0\n",
       "Name: Deck_T, Length: 418, dtype: int64"
      ]
     },
     "execution_count": 177,
     "metadata": {},
     "output_type": "execute_result"
    }
   ],
   "source": [
    "X_test['Deck_T']"
   ]
  },
  {
   "cell_type": "code",
   "execution_count": 117,
   "id": "a7f6f2b8",
   "metadata": {
    "ExecuteTime": {
     "end_time": "2023-09-11T00:23:08.098916Z",
     "start_time": "2023-09-11T00:23:08.084926Z"
    }
   },
   "outputs": [
    {
     "name": "stdout",
     "output_type": "stream",
     "text": [
      "<class 'pandas.core.frame.DataFrame'>\n",
      "Int64Index: 891 entries, 1 to 891\n",
      "Data columns (total 26 columns):\n",
      " #   Column              Non-Null Count  Dtype  \n",
      "---  ------              --------------  -----  \n",
      " 0   Pclass              891 non-null    int64  \n",
      " 1   Age                 891 non-null    int64  \n",
      " 2   Fare                891 non-null    float64\n",
      " 3   Sex_female          891 non-null    uint8  \n",
      " 4   Sex_male            891 non-null    uint8  \n",
      " 5   Embarked_C          891 non-null    uint8  \n",
      " 6   Embarked_Q          891 non-null    uint8  \n",
      " 7   Embarked_S          891 non-null    uint8  \n",
      " 8   Deck_A              891 non-null    uint8  \n",
      " 9   Deck_B              891 non-null    uint8  \n",
      " 10  Deck_C              891 non-null    uint8  \n",
      " 11  Deck_D              891 non-null    uint8  \n",
      " 12  Deck_E              891 non-null    uint8  \n",
      " 13  Deck_F              891 non-null    uint8  \n",
      " 14  Deck_G              891 non-null    uint8  \n",
      " 15  Deck_M              891 non-null    uint8  \n",
      " 16  Deck_T              891 non-null    uint8  \n",
      " 17  Family_Group_Alone  891 non-null    uint8  \n",
      " 18  Family_Group_Small  891 non-null    uint8  \n",
      " 19  Family_Group_Large  891 non-null    uint8  \n",
      " 20  Title_Master        891 non-null    uint8  \n",
      " 21  Title_Miss          891 non-null    uint8  \n",
      " 22  Title_Mr            891 non-null    uint8  \n",
      " 23  Title_Mrs           891 non-null    uint8  \n",
      " 24  Title_Other         891 non-null    uint8  \n",
      " 25  Title_Rev           891 non-null    uint8  \n",
      "dtypes: float64(1), int64(2), uint8(23)\n",
      "memory usage: 80.1 KB\n"
     ]
    }
   ],
   "source": [
    "X_train.info()"
   ]
  },
  {
   "cell_type": "code",
   "execution_count": 118,
   "id": "a3a2c0b0",
   "metadata": {
    "ExecuteTime": {
     "end_time": "2023-09-11T00:23:08.114877Z",
     "start_time": "2023-09-11T00:23:08.100884Z"
    }
   },
   "outputs": [
    {
     "name": "stdout",
     "output_type": "stream",
     "text": [
      "<class 'pandas.core.frame.DataFrame'>\n",
      "Int64Index: 418 entries, 892 to 1309\n",
      "Data columns (total 26 columns):\n",
      " #   Column              Non-Null Count  Dtype  \n",
      "---  ------              --------------  -----  \n",
      " 0   Pclass              418 non-null    int64  \n",
      " 1   Age                 418 non-null    int64  \n",
      " 2   Fare                418 non-null    float64\n",
      " 3   Sex_female          418 non-null    uint8  \n",
      " 4   Sex_male            418 non-null    uint8  \n",
      " 5   Embarked_C          418 non-null    uint8  \n",
      " 6   Embarked_Q          418 non-null    uint8  \n",
      " 7   Embarked_S          418 non-null    uint8  \n",
      " 8   Deck_A              418 non-null    uint8  \n",
      " 9   Deck_B              418 non-null    uint8  \n",
      " 10  Deck_C              418 non-null    uint8  \n",
      " 11  Deck_D              418 non-null    uint8  \n",
      " 12  Deck_E              418 non-null    uint8  \n",
      " 13  Deck_F              418 non-null    uint8  \n",
      " 14  Deck_G              418 non-null    uint8  \n",
      " 15  Deck_M              418 non-null    uint8  \n",
      " 16  Family_Group_Alone  418 non-null    uint8  \n",
      " 17  Family_Group_Small  418 non-null    uint8  \n",
      " 18  Family_Group_Large  418 non-null    uint8  \n",
      " 19  Title_Master        418 non-null    uint8  \n",
      " 20  Title_Miss          418 non-null    uint8  \n",
      " 21  Title_Mr            418 non-null    uint8  \n",
      " 22  Title_Mrs           418 non-null    uint8  \n",
      " 23  Title_Other         418 non-null    uint8  \n",
      " 24  Title_Rev           418 non-null    uint8  \n",
      " 25  Deck_T              418 non-null    int64  \n",
      "dtypes: float64(1), int64(3), uint8(22)\n",
      "memory usage: 25.3 KB\n"
     ]
    }
   ],
   "source": [
    "X_test.info()"
   ]
  },
  {
   "cell_type": "code",
   "execution_count": 119,
   "id": "82a84b4b",
   "metadata": {
    "ExecuteTime": {
     "end_time": "2023-09-11T00:23:08.129831Z",
     "start_time": "2023-09-11T00:23:08.115857Z"
    }
   },
   "outputs": [
    {
     "data": {
      "text/plain": [
       "Index(['Pclass', 'Age', 'Fare', 'Sex_female', 'Sex_male', 'Embarked_C',\n",
       "       'Embarked_Q', 'Embarked_S', 'Deck_A', 'Deck_B', 'Deck_C', 'Deck_D',\n",
       "       'Deck_E', 'Deck_F', 'Deck_G', 'Deck_M', 'Deck_T', 'Family_Group_Alone',\n",
       "       'Family_Group_Small', 'Family_Group_Large', 'Title_Master',\n",
       "       'Title_Miss', 'Title_Mr', 'Title_Mrs', 'Title_Other', 'Title_Rev'],\n",
       "      dtype='object')"
      ]
     },
     "execution_count": 119,
     "metadata": {},
     "output_type": "execute_result"
    }
   ],
   "source": [
    "# Deck_T 를 추가해서 컬럼의 갯수를 맞추줬다. \n",
    "# 하지만, 순서가 달르다. \n",
    "# 원활한 기계학습을 위해 순서까지 맞춰보자 \n",
    "X_train.columns"
   ]
  },
  {
   "cell_type": "code",
   "execution_count": 120,
   "id": "cc9bbc61",
   "metadata": {
    "ExecuteTime": {
     "end_time": "2023-09-11T00:23:08.144793Z",
     "start_time": "2023-09-11T00:23:08.130804Z"
    }
   },
   "outputs": [],
   "source": [
    "X_test=X_test[X_train.columns]"
   ]
  },
  {
   "cell_type": "code",
   "execution_count": 121,
   "id": "d59a302e",
   "metadata": {
    "ExecuteTime": {
     "end_time": "2023-09-11T00:23:08.160749Z",
     "start_time": "2023-09-11T00:23:08.145764Z"
    }
   },
   "outputs": [
    {
     "name": "stdout",
     "output_type": "stream",
     "text": [
      "<class 'pandas.core.frame.DataFrame'>\n",
      "Int64Index: 418 entries, 892 to 1309\n",
      "Data columns (total 26 columns):\n",
      " #   Column              Non-Null Count  Dtype  \n",
      "---  ------              --------------  -----  \n",
      " 0   Pclass              418 non-null    int64  \n",
      " 1   Age                 418 non-null    int64  \n",
      " 2   Fare                418 non-null    float64\n",
      " 3   Sex_female          418 non-null    uint8  \n",
      " 4   Sex_male            418 non-null    uint8  \n",
      " 5   Embarked_C          418 non-null    uint8  \n",
      " 6   Embarked_Q          418 non-null    uint8  \n",
      " 7   Embarked_S          418 non-null    uint8  \n",
      " 8   Deck_A              418 non-null    uint8  \n",
      " 9   Deck_B              418 non-null    uint8  \n",
      " 10  Deck_C              418 non-null    uint8  \n",
      " 11  Deck_D              418 non-null    uint8  \n",
      " 12  Deck_E              418 non-null    uint8  \n",
      " 13  Deck_F              418 non-null    uint8  \n",
      " 14  Deck_G              418 non-null    uint8  \n",
      " 15  Deck_M              418 non-null    uint8  \n",
      " 16  Deck_T              418 non-null    int64  \n",
      " 17  Family_Group_Alone  418 non-null    uint8  \n",
      " 18  Family_Group_Small  418 non-null    uint8  \n",
      " 19  Family_Group_Large  418 non-null    uint8  \n",
      " 20  Title_Master        418 non-null    uint8  \n",
      " 21  Title_Miss          418 non-null    uint8  \n",
      " 22  Title_Mr            418 non-null    uint8  \n",
      " 23  Title_Mrs           418 non-null    uint8  \n",
      " 24  Title_Other         418 non-null    uint8  \n",
      " 25  Title_Rev           418 non-null    uint8  \n",
      "dtypes: float64(1), int64(3), uint8(22)\n",
      "memory usage: 25.3 KB\n"
     ]
    }
   ],
   "source": [
    "X_test.info()"
   ]
  },
  {
   "cell_type": "markdown",
   "id": "b4133f8c",
   "metadata": {},
   "source": [
    "- 모델링을 위한 데이터 가공이 끝났다. "
   ]
  },
  {
   "cell_type": "markdown",
   "id": "5565aad8",
   "metadata": {},
   "source": [
    "### 모델 선택 \n",
    "- KNN / DT 모델 사용해보기 "
   ]
  },
  {
   "cell_type": "code",
   "execution_count": 122,
   "id": "cdc3a6d5",
   "metadata": {
    "ExecuteTime": {
     "end_time": "2023-09-11T00:23:08.336254Z",
     "start_time": "2023-09-11T00:23:08.161722Z"
    }
   },
   "outputs": [],
   "source": [
    "# KNN 모델\n",
    "# 최근접 이웃 알고리즘 - 주변의 이웃의 값을 보고 새로운 데이터를 예측 \n",
    "# 이때 n_neighbors 라는 하이퍼 파라미터를 조절해주는데 살펴볼 이웃의 갯수를 지정해주는 \n",
    "# 어떤걸 가지고 이웃을 판별하는가? => 거리 기반 모델 \n",
    "# 모델 import \n",
    "from sklearn.neighbors import KNeighborsClassifier # knn 분류 모델 "
   ]
  },
  {
   "cell_type": "code",
   "execution_count": 123,
   "id": "3a9535de",
   "metadata": {
    "ExecuteTime": {
     "end_time": "2023-09-11T00:23:08.351214Z",
     "start_time": "2023-09-11T00:23:08.338250Z"
    }
   },
   "outputs": [],
   "source": [
    "# 경고 무시 코드 \n",
    "import warnings\n",
    "warnings.filterwarnings('ignore')"
   ]
  },
  {
   "cell_type": "code",
   "execution_count": 124,
   "id": "fb8ae6ac",
   "metadata": {
    "ExecuteTime": {
     "end_time": "2023-09-11T00:23:08.367171Z",
     "start_time": "2023-09-11T00:23:08.354207Z"
    }
   },
   "outputs": [],
   "source": [
    "# 모델 객체 생성\n",
    "# knn_ta_01 이라는 변수에 주변 이웃값을 3개 살펴보는 knn 분류 모델을 저장하세요. \n",
    "knn_ta_01=KNeighborsClassifier(n_neighbors=3)"
   ]
  },
  {
   "cell_type": "code",
   "execution_count": 125,
   "id": "01110836",
   "metadata": {
    "ExecuteTime": {
     "end_time": "2023-09-11T00:23:08.382531Z",
     "start_time": "2023-09-11T00:23:08.368169Z"
    }
   },
   "outputs": [],
   "source": [
    "# 교차 검증 - cross_val_scoreabs\n",
    "from sklearn.model_selection import cross_val_score"
   ]
  },
  {
   "cell_type": "code",
   "execution_count": 126,
   "id": "ccce5721",
   "metadata": {
    "ExecuteTime": {
     "end_time": "2023-09-11T00:23:08.446359Z",
     "start_time": "2023-09-11T00:23:08.384527Z"
    }
   },
   "outputs": [
    {
     "data": {
      "text/plain": [
       "array([0.7150838 , 0.70786517, 0.74719101, 0.75280899, 0.73033708])"
      ]
     },
     "execution_count": 126,
     "metadata": {},
     "output_type": "execute_result"
    }
   ],
   "source": [
    "rs_knn_01=cross_val_score(knn_ta_01,X_train,y_train,cv=5)\n",
    "rs_knn_01"
   ]
  },
  {
   "cell_type": "code",
   "execution_count": 127,
   "id": "2b8e1e79",
   "metadata": {
    "ExecuteTime": {
     "end_time": "2023-09-11T00:23:08.462320Z",
     "start_time": "2023-09-11T00:23:08.447357Z"
    }
   },
   "outputs": [
    {
     "data": {
      "text/plain": [
       "0.7306572092147385"
      ]
     },
     "execution_count": 127,
     "metadata": {},
     "output_type": "execute_result"
    }
   ],
   "source": [
    "rs_knn_01.mean()"
   ]
  },
  {
   "cell_type": "code",
   "execution_count": 128,
   "id": "17c68069",
   "metadata": {
    "ExecuteTime": {
     "end_time": "2023-09-11T00:23:08.477781Z",
     "start_time": "2023-09-11T00:23:08.465309Z"
    }
   },
   "outputs": [
    {
     "data": {
      "text/plain": [
       "KNeighborsClassifier(n_neighbors=3)"
      ]
     },
     "execution_count": 128,
     "metadata": {},
     "output_type": "execute_result"
    }
   ],
   "source": [
    "# 모델 학습\n",
    "knn_ta_01.fit(X_train,y_train)"
   ]
  },
  {
   "cell_type": "code",
   "execution_count": 129,
   "id": "f0a8b307",
   "metadata": {
    "ExecuteTime": {
     "end_time": "2023-09-11T00:23:08.508705Z",
     "start_time": "2023-09-11T00:23:08.478779Z"
    }
   },
   "outputs": [
    {
     "data": {
      "text/plain": [
       "array([0, 0, 1, 1, 0, 0, 0, 1, 0, 1, 0, 0, 1, 0, 1, 1, 0, 1, 1, 0, 0, 0,\n",
       "       1, 1, 1, 0, 1, 0, 1, 0, 1, 1, 1, 1, 1, 0, 0, 0, 0, 1, 0, 0, 0, 1,\n",
       "       1, 0, 1, 0, 1, 1, 1, 0, 1, 1, 0, 0, 0, 0, 0, 1, 0, 1, 0, 1, 1, 0,\n",
       "       0, 0, 0, 1, 0, 0, 0, 0, 1, 1, 0, 0, 0, 0, 1, 1, 1, 0, 0, 0, 1, 1,\n",
       "       1, 1, 0, 0, 1, 0, 0, 0, 1, 0, 0, 0, 1, 0, 0, 0, 1, 0, 0, 0, 0, 0,\n",
       "       0, 1, 1, 1, 1, 0, 0, 1, 1, 1, 0, 0, 1, 0, 0, 0, 0, 1, 1, 0, 0, 0,\n",
       "       0, 0, 0, 0, 0, 0, 1, 0, 0, 1, 1, 1, 1, 0, 0, 0, 0, 1, 0, 0, 0, 1,\n",
       "       0, 0, 1, 1, 1, 0, 1, 1, 1, 0, 1, 0, 1, 0, 1, 1, 0, 0, 0, 0, 0, 0,\n",
       "       0, 0, 0, 1, 0, 1, 1, 0, 1, 0, 1, 0, 0, 0, 0, 0, 1, 0, 0, 0, 1, 1,\n",
       "       0, 0, 1, 1, 0, 1, 0, 0, 0, 0, 1, 0, 0, 0, 0, 0, 0, 0, 1, 1, 1, 0,\n",
       "       1, 0, 0, 0, 0, 0, 0, 1, 0, 0, 1, 0, 0, 0, 1, 0, 1, 0, 0, 0, 0, 0,\n",
       "       1, 0, 0, 0, 1, 0, 1, 0, 1, 0, 1, 0, 0, 0, 0, 0, 0, 0, 0, 0, 1, 1,\n",
       "       1, 0, 0, 0, 0, 0, 1, 0, 1, 1, 0, 1, 0, 0, 1, 0, 0, 1, 1, 0, 0, 0,\n",
       "       0, 0, 0, 0, 0, 0, 0, 1, 0, 0, 0, 0, 0, 0, 0, 0, 0, 0, 1, 0, 0, 1,\n",
       "       1, 0, 0, 0, 0, 0, 1, 1, 1, 0, 1, 1, 0, 0, 0, 1, 1, 0, 0, 1, 1, 0,\n",
       "       0, 1, 0, 0, 1, 0, 1, 0, 1, 0, 0, 0, 0, 1, 1, 1, 0, 0, 0, 1, 1, 0,\n",
       "       0, 0, 1, 1, 1, 0, 0, 0, 0, 0, 1, 1, 1, 0, 0, 0, 1, 0, 0, 1, 0, 1,\n",
       "       1, 1, 1, 0, 1, 1, 0, 0, 0, 1, 0, 1, 0, 0, 0, 1, 1, 0, 0, 0, 0, 1,\n",
       "       0, 1, 0, 0, 0, 0, 1, 0, 0, 0, 0, 1, 1, 1, 1, 1, 0, 0, 1, 0, 0, 0],\n",
       "      dtype=int64)"
      ]
     },
     "execution_count": 129,
     "metadata": {},
     "output_type": "execute_result"
    }
   ],
   "source": [
    "# 모델 예측 \n",
    "pre=knn_ta_01.predict(X_test)\n",
    "pre"
   ]
  },
  {
   "cell_type": "code",
   "execution_count": 130,
   "id": "a6ef5c90",
   "metadata": {
    "ExecuteTime": {
     "end_time": "2023-09-11T00:23:08.523659Z",
     "start_time": "2023-09-11T00:23:08.511691Z"
    }
   },
   "outputs": [
    {
     "data": {
      "text/html": [
       "<div>\n",
       "<style scoped>\n",
       "    .dataframe tbody tr th:only-of-type {\n",
       "        vertical-align: middle;\n",
       "    }\n",
       "\n",
       "    .dataframe tbody tr th {\n",
       "        vertical-align: top;\n",
       "    }\n",
       "\n",
       "    .dataframe thead th {\n",
       "        text-align: right;\n",
       "    }\n",
       "</style>\n",
       "<table border=\"1\" class=\"dataframe\">\n",
       "  <thead>\n",
       "    <tr style=\"text-align: right;\">\n",
       "      <th></th>\n",
       "      <th>PassengerId</th>\n",
       "      <th>Survived</th>\n",
       "    </tr>\n",
       "  </thead>\n",
       "  <tbody>\n",
       "    <tr>\n",
       "      <th>0</th>\n",
       "      <td>892</td>\n",
       "      <td>0</td>\n",
       "    </tr>\n",
       "    <tr>\n",
       "      <th>1</th>\n",
       "      <td>893</td>\n",
       "      <td>1</td>\n",
       "    </tr>\n",
       "    <tr>\n",
       "      <th>2</th>\n",
       "      <td>894</td>\n",
       "      <td>0</td>\n",
       "    </tr>\n",
       "    <tr>\n",
       "      <th>3</th>\n",
       "      <td>895</td>\n",
       "      <td>0</td>\n",
       "    </tr>\n",
       "    <tr>\n",
       "      <th>4</th>\n",
       "      <td>896</td>\n",
       "      <td>1</td>\n",
       "    </tr>\n",
       "    <tr>\n",
       "      <th>...</th>\n",
       "      <td>...</td>\n",
       "      <td>...</td>\n",
       "    </tr>\n",
       "    <tr>\n",
       "      <th>413</th>\n",
       "      <td>1305</td>\n",
       "      <td>0</td>\n",
       "    </tr>\n",
       "    <tr>\n",
       "      <th>414</th>\n",
       "      <td>1306</td>\n",
       "      <td>1</td>\n",
       "    </tr>\n",
       "    <tr>\n",
       "      <th>415</th>\n",
       "      <td>1307</td>\n",
       "      <td>0</td>\n",
       "    </tr>\n",
       "    <tr>\n",
       "      <th>416</th>\n",
       "      <td>1308</td>\n",
       "      <td>0</td>\n",
       "    </tr>\n",
       "    <tr>\n",
       "      <th>417</th>\n",
       "      <td>1309</td>\n",
       "      <td>0</td>\n",
       "    </tr>\n",
       "  </tbody>\n",
       "</table>\n",
       "<p>418 rows × 2 columns</p>\n",
       "</div>"
      ],
      "text/plain": [
       "     PassengerId  Survived\n",
       "0            892         0\n",
       "1            893         1\n",
       "2            894         0\n",
       "3            895         0\n",
       "4            896         1\n",
       "..           ...       ...\n",
       "413         1305         0\n",
       "414         1306         1\n",
       "415         1307         0\n",
       "416         1308         0\n",
       "417         1309         0\n",
       "\n",
       "[418 rows x 2 columns]"
      ]
     },
     "execution_count": 130,
     "metadata": {},
     "output_type": "execute_result"
    }
   ],
   "source": [
    "# Kaggle 제출용 파일을 만들어 보자. \n",
    "submission_knn01=pd.read_csv('./data/gender_submission.csv')\n",
    "submission_knn01"
   ]
  },
  {
   "cell_type": "code",
   "execution_count": 131,
   "id": "c6388779",
   "metadata": {
    "ExecuteTime": {
     "end_time": "2023-09-11T00:23:08.539616Z",
     "start_time": "2023-09-11T00:23:08.524657Z"
    }
   },
   "outputs": [],
   "source": [
    "# 기존 답안지에 우리가 예측한 값을 덮어 씌우자\n",
    "submission_knn01['Survived']=pre"
   ]
  },
  {
   "cell_type": "code",
   "execution_count": 132,
   "id": "d36f1986",
   "metadata": {
    "ExecuteTime": {
     "end_time": "2023-09-11T00:23:08.555573Z",
     "start_time": "2023-09-11T00:23:08.540614Z"
    }
   },
   "outputs": [
    {
     "data": {
      "text/html": [
       "<div>\n",
       "<style scoped>\n",
       "    .dataframe tbody tr th:only-of-type {\n",
       "        vertical-align: middle;\n",
       "    }\n",
       "\n",
       "    .dataframe tbody tr th {\n",
       "        vertical-align: top;\n",
       "    }\n",
       "\n",
       "    .dataframe thead th {\n",
       "        text-align: right;\n",
       "    }\n",
       "</style>\n",
       "<table border=\"1\" class=\"dataframe\">\n",
       "  <thead>\n",
       "    <tr style=\"text-align: right;\">\n",
       "      <th></th>\n",
       "      <th>PassengerId</th>\n",
       "      <th>Survived</th>\n",
       "    </tr>\n",
       "  </thead>\n",
       "  <tbody>\n",
       "    <tr>\n",
       "      <th>0</th>\n",
       "      <td>892</td>\n",
       "      <td>0</td>\n",
       "    </tr>\n",
       "    <tr>\n",
       "      <th>1</th>\n",
       "      <td>893</td>\n",
       "      <td>0</td>\n",
       "    </tr>\n",
       "    <tr>\n",
       "      <th>2</th>\n",
       "      <td>894</td>\n",
       "      <td>1</td>\n",
       "    </tr>\n",
       "    <tr>\n",
       "      <th>3</th>\n",
       "      <td>895</td>\n",
       "      <td>1</td>\n",
       "    </tr>\n",
       "    <tr>\n",
       "      <th>4</th>\n",
       "      <td>896</td>\n",
       "      <td>0</td>\n",
       "    </tr>\n",
       "    <tr>\n",
       "      <th>...</th>\n",
       "      <td>...</td>\n",
       "      <td>...</td>\n",
       "    </tr>\n",
       "    <tr>\n",
       "      <th>413</th>\n",
       "      <td>1305</td>\n",
       "      <td>0</td>\n",
       "    </tr>\n",
       "    <tr>\n",
       "      <th>414</th>\n",
       "      <td>1306</td>\n",
       "      <td>1</td>\n",
       "    </tr>\n",
       "    <tr>\n",
       "      <th>415</th>\n",
       "      <td>1307</td>\n",
       "      <td>0</td>\n",
       "    </tr>\n",
       "    <tr>\n",
       "      <th>416</th>\n",
       "      <td>1308</td>\n",
       "      <td>0</td>\n",
       "    </tr>\n",
       "    <tr>\n",
       "      <th>417</th>\n",
       "      <td>1309</td>\n",
       "      <td>0</td>\n",
       "    </tr>\n",
       "  </tbody>\n",
       "</table>\n",
       "<p>418 rows × 2 columns</p>\n",
       "</div>"
      ],
      "text/plain": [
       "     PassengerId  Survived\n",
       "0            892         0\n",
       "1            893         0\n",
       "2            894         1\n",
       "3            895         1\n",
       "4            896         0\n",
       "..           ...       ...\n",
       "413         1305         0\n",
       "414         1306         1\n",
       "415         1307         0\n",
       "416         1308         0\n",
       "417         1309         0\n",
       "\n",
       "[418 rows x 2 columns]"
      ]
     },
     "execution_count": 132,
     "metadata": {},
     "output_type": "execute_result"
    }
   ],
   "source": [
    "submission_knn01"
   ]
  },
  {
   "cell_type": "code",
   "execution_count": 133,
   "id": "a4d759c4",
   "metadata": {
    "ExecuteTime": {
     "end_time": "2023-09-11T00:23:08.571532Z",
     "start_time": "2023-09-11T00:23:08.557569Z"
    }
   },
   "outputs": [],
   "source": [
    "submission_knn01.to_csv('./data/knn_ta_01.csv', index=False)"
   ]
  },
  {
   "cell_type": "markdown",
   "id": "b109c7b7",
   "metadata": {},
   "source": [
    "- 현재 knn 모델은 성능이 좋지 못하다. \n",
    "- 데이터 스케일링을 이용해서 데이터를 깔끔하게 만들어주고 예측을 진행해보자"
   ]
  },
  {
   "cell_type": "markdown",
   "id": "dee6aa59",
   "metadata": {},
   "source": [
    "**데이터 스케일링**"
   ]
  },
  {
   "cell_type": "code",
   "execution_count": 134,
   "id": "b768cfc1",
   "metadata": {
    "ExecuteTime": {
     "end_time": "2023-09-11T00:23:08.586491Z",
     "start_time": "2023-09-11T00:23:08.573525Z"
    }
   },
   "outputs": [],
   "source": [
    "# 스케일링 모델 import \n",
    "from sklearn.preprocessing import StandardScaler"
   ]
  },
  {
   "cell_type": "code",
   "execution_count": 135,
   "id": "0d811b4d",
   "metadata": {
    "ExecuteTime": {
     "end_time": "2023-09-11T00:23:08.601451Z",
     "start_time": "2023-09-11T00:23:08.587488Z"
    }
   },
   "outputs": [],
   "source": [
    "# 스케일러 객체 생성\n",
    "ss_scale=StandardScaler()"
   ]
  },
  {
   "cell_type": "code",
   "execution_count": 136,
   "id": "628444e4",
   "metadata": {
    "ExecuteTime": {
     "end_time": "2023-09-11T00:23:08.616411Z",
     "start_time": "2023-09-11T00:23:08.602449Z"
    }
   },
   "outputs": [
    {
     "data": {
      "text/plain": [
       "StandardScaler()"
      ]
     },
     "execution_count": 136,
     "metadata": {},
     "output_type": "execute_result"
    }
   ],
   "source": [
    "# 스케일러 값을 학습\n",
    "ss_scale.fit(X_train)"
   ]
  },
  {
   "cell_type": "code",
   "execution_count": 137,
   "id": "3ec4f969",
   "metadata": {
    "ExecuteTime": {
     "end_time": "2023-09-11T00:23:08.632368Z",
     "start_time": "2023-09-11T00:23:08.617409Z"
    }
   },
   "outputs": [],
   "source": [
    "# 실제 데이터를 스케일러 값으로 변환 \n",
    "X_train_ss=ss_scale.transform(X_train)\n",
    "X_test_ss=ss_scale.transform(X_test)"
   ]
  },
  {
   "cell_type": "code",
   "execution_count": 138,
   "id": "c7f435ea",
   "metadata": {
    "ExecuteTime": {
     "end_time": "2023-09-11T00:23:08.647328Z",
     "start_time": "2023-09-11T00:23:08.633366Z"
    }
   },
   "outputs": [],
   "source": [
    "# 모델 생성\n",
    "knn_ta_02=KNeighborsClassifier(n_neighbors=3)"
   ]
  },
  {
   "cell_type": "code",
   "execution_count": 139,
   "id": "0cb4b530",
   "metadata": {
    "ExecuteTime": {
     "end_time": "2023-09-11T00:23:08.663321Z",
     "start_time": "2023-09-11T00:23:08.648326Z"
    }
   },
   "outputs": [
    {
     "data": {
      "text/plain": [
       "KNeighborsClassifier(n_neighbors=3)"
      ]
     },
     "execution_count": 139,
     "metadata": {},
     "output_type": "execute_result"
    }
   ],
   "source": [
    "# 학습 진행\n",
    "knn_ta_02.fit(X_train_ss,y_train)"
   ]
  },
  {
   "cell_type": "code",
   "execution_count": 140,
   "id": "adedb76e",
   "metadata": {
    "ExecuteTime": {
     "end_time": "2023-09-11T00:23:08.710802Z",
     "start_time": "2023-09-11T00:23:08.664319Z"
    }
   },
   "outputs": [
    {
     "data": {
      "text/plain": [
       "array([0.79888268, 0.76404494, 0.80337079, 0.78089888, 0.83707865])"
      ]
     },
     "execution_count": 140,
     "metadata": {},
     "output_type": "execute_result"
    }
   ],
   "source": [
    "# 교차검증\n",
    "result=cross_val_score(knn_ta_02, X_train_ss, y_train, cv=5)\n",
    "result"
   ]
  },
  {
   "cell_type": "code",
   "execution_count": 141,
   "id": "c077b9fc",
   "metadata": {
    "ExecuteTime": {
     "end_time": "2023-09-11T00:23:08.726280Z",
     "start_time": "2023-09-11T00:23:08.712304Z"
    }
   },
   "outputs": [
    {
     "data": {
      "text/plain": [
       "0.7968551879982424"
      ]
     },
     "execution_count": 141,
     "metadata": {},
     "output_type": "execute_result"
    }
   ],
   "source": [
    "result.mean()"
   ]
  },
  {
   "cell_type": "code",
   "execution_count": 142,
   "id": "f47b935f",
   "metadata": {
    "ExecuteTime": {
     "end_time": "2023-09-11T00:23:08.758268Z",
     "start_time": "2023-09-11T00:23:08.727278Z"
    }
   },
   "outputs": [
    {
     "data": {
      "text/plain": [
       "array([0, 0, 0, 1, 1, 0, 0, 0, 1, 0, 0, 1, 1, 0, 1, 1, 0, 1, 0, 1, 0, 1,\n",
       "       1, 0, 1, 0, 1, 0, 0, 0, 0, 0, 1, 1, 0, 0, 0, 0, 0, 1, 0, 0, 0, 1,\n",
       "       1, 0, 0, 0, 1, 1, 0, 0, 1, 1, 0, 0, 0, 0, 0, 1, 0, 0, 0, 1, 1, 1,\n",
       "       1, 0, 1, 1, 1, 0, 0, 1, 1, 0, 0, 1, 0, 1, 1, 0, 0, 0, 0, 0, 1, 1,\n",
       "       0, 1, 1, 0, 1, 0, 0, 0, 1, 0, 0, 0, 1, 0, 0, 0, 0, 0, 0, 0, 0, 0,\n",
       "       0, 1, 0, 1, 1, 0, 0, 1, 1, 1, 1, 0, 1, 0, 0, 0, 0, 1, 0, 0, 0, 1,\n",
       "       1, 0, 0, 0, 0, 0, 1, 0, 0, 1, 1, 0, 0, 0, 1, 0, 0, 0, 1, 0, 0, 1,\n",
       "       0, 0, 1, 1, 0, 0, 1, 1, 1, 0, 0, 0, 0, 0, 1, 1, 0, 0, 0, 0, 0, 1,\n",
       "       1, 0, 1, 1, 0, 1, 1, 0, 1, 0, 1, 0, 0, 0, 0, 0, 1, 0, 1, 0, 1, 1,\n",
       "       0, 1, 1, 1, 1, 1, 0, 0, 1, 0, 0, 0, 0, 0, 0, 1, 0, 0, 1, 0, 1, 0,\n",
       "       0, 0, 1, 0, 1, 0, 0, 1, 0, 0, 0, 1, 0, 0, 0, 0, 1, 1, 1, 1, 1, 1,\n",
       "       0, 0, 1, 1, 1, 0, 1, 0, 1, 0, 0, 0, 0, 0, 0, 0, 1, 0, 0, 0, 1, 1,\n",
       "       0, 0, 0, 0, 0, 0, 1, 0, 1, 1, 0, 1, 0, 0, 0, 0, 0, 1, 1, 0, 1, 0,\n",
       "       0, 1, 0, 0, 0, 0, 0, 1, 0, 0, 1, 0, 1, 0, 0, 1, 0, 0, 1, 1, 0, 1,\n",
       "       1, 0, 0, 0, 0, 1, 1, 1, 1, 0, 1, 0, 0, 0, 0, 1, 1, 0, 1, 0, 0, 0,\n",
       "       1, 0, 0, 0, 1, 1, 0, 0, 0, 1, 0, 0, 0, 1, 1, 0, 0, 1, 0, 1, 1, 0,\n",
       "       0, 0, 1, 1, 1, 0, 0, 0, 0, 1, 1, 1, 1, 0, 0, 0, 1, 0, 0, 1, 0, 0,\n",
       "       0, 1, 0, 0, 0, 0, 0, 0, 1, 1, 0, 1, 0, 0, 0, 0, 0, 1, 1, 0, 0, 1,\n",
       "       0, 1, 0, 0, 1, 0, 1, 0, 1, 1, 0, 0, 1, 1, 1, 1, 1, 0, 1, 0, 0, 1],\n",
       "      dtype=int64)"
      ]
     },
     "execution_count": 142,
     "metadata": {},
     "output_type": "execute_result"
    }
   ],
   "source": [
    "pre=knn_ta_02.predict(X_test_ss)\n",
    "pre"
   ]
  },
  {
   "cell_type": "code",
   "execution_count": 143,
   "id": "823ba05a",
   "metadata": {
    "ExecuteTime": {
     "end_time": "2023-09-11T00:23:08.774267Z",
     "start_time": "2023-09-11T00:23:08.759266Z"
    }
   },
   "outputs": [
    {
     "data": {
      "text/html": [
       "<div>\n",
       "<style scoped>\n",
       "    .dataframe tbody tr th:only-of-type {\n",
       "        vertical-align: middle;\n",
       "    }\n",
       "\n",
       "    .dataframe tbody tr th {\n",
       "        vertical-align: top;\n",
       "    }\n",
       "\n",
       "    .dataframe thead th {\n",
       "        text-align: right;\n",
       "    }\n",
       "</style>\n",
       "<table border=\"1\" class=\"dataframe\">\n",
       "  <thead>\n",
       "    <tr style=\"text-align: right;\">\n",
       "      <th></th>\n",
       "      <th>PassengerId</th>\n",
       "      <th>Survived</th>\n",
       "    </tr>\n",
       "  </thead>\n",
       "  <tbody>\n",
       "    <tr>\n",
       "      <th>0</th>\n",
       "      <td>892</td>\n",
       "      <td>0</td>\n",
       "    </tr>\n",
       "    <tr>\n",
       "      <th>1</th>\n",
       "      <td>893</td>\n",
       "      <td>1</td>\n",
       "    </tr>\n",
       "    <tr>\n",
       "      <th>2</th>\n",
       "      <td>894</td>\n",
       "      <td>0</td>\n",
       "    </tr>\n",
       "    <tr>\n",
       "      <th>3</th>\n",
       "      <td>895</td>\n",
       "      <td>0</td>\n",
       "    </tr>\n",
       "    <tr>\n",
       "      <th>4</th>\n",
       "      <td>896</td>\n",
       "      <td>1</td>\n",
       "    </tr>\n",
       "    <tr>\n",
       "      <th>...</th>\n",
       "      <td>...</td>\n",
       "      <td>...</td>\n",
       "    </tr>\n",
       "    <tr>\n",
       "      <th>413</th>\n",
       "      <td>1305</td>\n",
       "      <td>0</td>\n",
       "    </tr>\n",
       "    <tr>\n",
       "      <th>414</th>\n",
       "      <td>1306</td>\n",
       "      <td>1</td>\n",
       "    </tr>\n",
       "    <tr>\n",
       "      <th>415</th>\n",
       "      <td>1307</td>\n",
       "      <td>0</td>\n",
       "    </tr>\n",
       "    <tr>\n",
       "      <th>416</th>\n",
       "      <td>1308</td>\n",
       "      <td>0</td>\n",
       "    </tr>\n",
       "    <tr>\n",
       "      <th>417</th>\n",
       "      <td>1309</td>\n",
       "      <td>0</td>\n",
       "    </tr>\n",
       "  </tbody>\n",
       "</table>\n",
       "<p>418 rows × 2 columns</p>\n",
       "</div>"
      ],
      "text/plain": [
       "     PassengerId  Survived\n",
       "0            892         0\n",
       "1            893         1\n",
       "2            894         0\n",
       "3            895         0\n",
       "4            896         1\n",
       "..           ...       ...\n",
       "413         1305         0\n",
       "414         1306         1\n",
       "415         1307         0\n",
       "416         1308         0\n",
       "417         1309         0\n",
       "\n",
       "[418 rows x 2 columns]"
      ]
     },
     "execution_count": 143,
     "metadata": {},
     "output_type": "execute_result"
    }
   ],
   "source": [
    "# 답안지 작성\n",
    "submission=pd.read_csv('./data/gender_submission.csv')\n",
    "submission"
   ]
  },
  {
   "cell_type": "code",
   "execution_count": 144,
   "id": "c17efc26",
   "metadata": {
    "ExecuteTime": {
     "end_time": "2023-09-11T00:23:08.790240Z",
     "start_time": "2023-09-11T00:23:08.776263Z"
    }
   },
   "outputs": [],
   "source": [
    "submission['Survived']=pre"
   ]
  },
  {
   "cell_type": "code",
   "execution_count": 145,
   "id": "0d0a0dc7",
   "metadata": {
    "ExecuteTime": {
     "end_time": "2023-09-11T00:23:08.806229Z",
     "start_time": "2023-09-11T00:23:08.791258Z"
    }
   },
   "outputs": [],
   "source": [
    "# 파일 내보내기\n",
    "submission.to_csv('./data/knn_ta_02.csv',index=False)"
   ]
  },
  {
   "cell_type": "markdown",
   "id": "0285cf52",
   "metadata": {},
   "source": [
    "**Tree 모델 사용해보기**"
   ]
  },
  {
   "cell_type": "code",
   "execution_count": 146,
   "id": "892aff0a",
   "metadata": {
    "ExecuteTime": {
     "end_time": "2023-09-11T00:23:08.821242Z",
     "start_time": "2023-09-11T00:23:08.807227Z"
    }
   },
   "outputs": [],
   "source": [
    "# 모델 import\n",
    "from sklearn.tree import DecisionTreeClassifier"
   ]
  },
  {
   "cell_type": "code",
   "execution_count": 147,
   "id": "b845c9fe",
   "metadata": {
    "ExecuteTime": {
     "end_time": "2023-09-11T00:23:08.837201Z",
     "start_time": "2023-09-11T00:23:08.822226Z"
    }
   },
   "outputs": [],
   "source": [
    "# 모델 객체 생성\n",
    "tree_ta_01=DecisionTreeClassifier()"
   ]
  },
  {
   "cell_type": "code",
   "execution_count": 148,
   "id": "2fd52e5b",
   "metadata": {
    "ExecuteTime": {
     "end_time": "2023-09-11T00:23:08.884164Z",
     "start_time": "2023-09-11T00:23:08.839197Z"
    }
   },
   "outputs": [
    {
     "data": {
      "text/plain": [
       "array([0.7877095 , 0.76966292, 0.83707865, 0.76966292, 0.79775281])"
      ]
     },
     "execution_count": 148,
     "metadata": {},
     "output_type": "execute_result"
    }
   ],
   "source": [
    "# 교차 검증 : knn 에서는 스케일링 된 데이터를 썼다 / 트리기반 모델은 쓸 필요가 없다. \n",
    "# 원본 데이터는 X_train / 스케일링 된 데이터는 X_train_ss \n",
    "result=cross_val_score(tree_ta_01, X_train, y_train, cv=5)\n",
    "result"
   ]
  },
  {
   "cell_type": "code",
   "execution_count": 149,
   "id": "f07a6ba8",
   "metadata": {
    "ExecuteTime": {
     "end_time": "2023-09-11T00:23:08.899140Z",
     "start_time": "2023-09-11T00:23:08.886159Z"
    }
   },
   "outputs": [
    {
     "data": {
      "text/plain": [
       "0.7923733601154981"
      ]
     },
     "execution_count": 149,
     "metadata": {},
     "output_type": "execute_result"
    }
   ],
   "source": [
    "result.mean()"
   ]
  },
  {
   "cell_type": "code",
   "execution_count": 150,
   "id": "bec26472",
   "metadata": {
    "ExecuteTime": {
     "end_time": "2023-09-11T00:23:08.915129Z",
     "start_time": "2023-09-11T00:23:08.900647Z"
    }
   },
   "outputs": [
    {
     "data": {
      "text/plain": [
       "DecisionTreeClassifier()"
      ]
     },
     "execution_count": 150,
     "metadata": {},
     "output_type": "execute_result"
    }
   ],
   "source": [
    "# 모델 학습 : knn 에서는 스케일링 된 데이터를 썼다 / 트리기반 모델은 쓸 필요가 없다. \n",
    "# 원본 데이터는 X_train / 스케일링 된 데이터는 X_train_ss \n",
    "tree_ta_01.fit(X_train, y_train)"
   ]
  },
  {
   "cell_type": "code",
   "execution_count": 151,
   "id": "2a76fb98",
   "metadata": {
    "ExecuteTime": {
     "end_time": "2023-09-11T00:23:08.930111Z",
     "start_time": "2023-09-11T00:23:08.917125Z"
    },
    "scrolled": false
   },
   "outputs": [
    {
     "data": {
      "text/plain": [
       "array([0, 0, 1, 1, 1, 0, 0, 0, 1, 0, 0, 0, 1, 0, 1, 1, 0, 1, 1, 0, 0, 1,\n",
       "       1, 0, 1, 0, 1, 1, 1, 0, 0, 0, 1, 0, 0, 1, 0, 0, 0, 1, 0, 1, 0, 1,\n",
       "       1, 0, 0, 0, 1, 1, 1, 0, 1, 1, 0, 0, 0, 0, 0, 1, 0, 1, 0, 1, 1, 1,\n",
       "       1, 0, 0, 1, 1, 0, 0, 1, 1, 0, 0, 1, 0, 1, 1, 0, 0, 0, 0, 0, 1, 1,\n",
       "       1, 1, 1, 0, 1, 0, 0, 0, 1, 1, 1, 0, 1, 0, 0, 0, 1, 0, 0, 0, 0, 0,\n",
       "       0, 1, 1, 1, 1, 0, 0, 1, 0, 1, 0, 0, 1, 0, 0, 1, 0, 1, 1, 0, 0, 0,\n",
       "       0, 0, 0, 0, 0, 0, 0, 0, 0, 1, 0, 0, 1, 0, 0, 0, 1, 0, 1, 0, 1, 0,\n",
       "       0, 0, 1, 1, 1, 0, 1, 1, 1, 0, 0, 1, 0, 0, 1, 0, 0, 0, 0, 0, 0, 1,\n",
       "       1, 0, 1, 1, 0, 0, 1, 0, 1, 0, 1, 1, 0, 0, 0, 0, 1, 1, 1, 0, 1, 0,\n",
       "       0, 0, 1, 1, 1, 1, 0, 0, 0, 0, 1, 0, 1, 0, 0, 1, 1, 0, 1, 0, 1, 0,\n",
       "       1, 0, 1, 1, 1, 0, 0, 1, 0, 0, 0, 1, 0, 0, 0, 0, 1, 1, 1, 1, 1, 1,\n",
       "       0, 0, 0, 1, 1, 0, 1, 0, 1, 0, 1, 0, 1, 0, 0, 0, 0, 0, 0, 0, 1, 1,\n",
       "       1, 0, 0, 0, 0, 0, 0, 0, 1, 1, 0, 1, 0, 0, 0, 0, 0, 1, 1, 0, 1, 0,\n",
       "       0, 0, 0, 0, 0, 0, 0, 1, 0, 0, 1, 0, 0, 1, 0, 0, 0, 0, 1, 1, 0, 1,\n",
       "       0, 0, 0, 1, 0, 0, 1, 1, 0, 0, 0, 0, 0, 0, 0, 1, 1, 0, 1, 0, 1, 0,\n",
       "       1, 1, 0, 0, 0, 1, 1, 0, 0, 1, 0, 0, 0, 1, 1, 1, 0, 0, 0, 1, 1, 0,\n",
       "       0, 0, 1, 0, 1, 0, 0, 0, 0, 1, 1, 1, 1, 0, 0, 0, 1, 1, 0, 1, 0, 1,\n",
       "       1, 1, 0, 0, 0, 1, 0, 0, 1, 1, 0, 1, 0, 0, 0, 0, 0, 1, 1, 0, 0, 1,\n",
       "       0, 1, 0, 0, 1, 0, 1, 0, 1, 0, 0, 0, 1, 1, 1, 1, 0, 0, 1, 0, 0, 1],\n",
       "      dtype=int64)"
      ]
     },
     "execution_count": 151,
     "metadata": {},
     "output_type": "execute_result"
    }
   ],
   "source": [
    "# 모델 예측\n",
    "pre=tree_ta_01.predict(X_test)\n",
    "pre"
   ]
  },
  {
   "cell_type": "code",
   "execution_count": 152,
   "id": "7a7a8a0d",
   "metadata": {
    "ExecuteTime": {
     "end_time": "2023-09-11T00:23:08.946086Z",
     "start_time": "2023-09-11T00:23:08.931131Z"
    },
    "scrolled": false
   },
   "outputs": [
    {
     "data": {
      "text/html": [
       "<div>\n",
       "<style scoped>\n",
       "    .dataframe tbody tr th:only-of-type {\n",
       "        vertical-align: middle;\n",
       "    }\n",
       "\n",
       "    .dataframe tbody tr th {\n",
       "        vertical-align: top;\n",
       "    }\n",
       "\n",
       "    .dataframe thead th {\n",
       "        text-align: right;\n",
       "    }\n",
       "</style>\n",
       "<table border=\"1\" class=\"dataframe\">\n",
       "  <thead>\n",
       "    <tr style=\"text-align: right;\">\n",
       "      <th></th>\n",
       "      <th>PassengerId</th>\n",
       "      <th>Survived</th>\n",
       "    </tr>\n",
       "  </thead>\n",
       "  <tbody>\n",
       "    <tr>\n",
       "      <th>0</th>\n",
       "      <td>892</td>\n",
       "      <td>0</td>\n",
       "    </tr>\n",
       "    <tr>\n",
       "      <th>1</th>\n",
       "      <td>893</td>\n",
       "      <td>1</td>\n",
       "    </tr>\n",
       "    <tr>\n",
       "      <th>2</th>\n",
       "      <td>894</td>\n",
       "      <td>0</td>\n",
       "    </tr>\n",
       "    <tr>\n",
       "      <th>3</th>\n",
       "      <td>895</td>\n",
       "      <td>0</td>\n",
       "    </tr>\n",
       "    <tr>\n",
       "      <th>4</th>\n",
       "      <td>896</td>\n",
       "      <td>1</td>\n",
       "    </tr>\n",
       "    <tr>\n",
       "      <th>...</th>\n",
       "      <td>...</td>\n",
       "      <td>...</td>\n",
       "    </tr>\n",
       "    <tr>\n",
       "      <th>413</th>\n",
       "      <td>1305</td>\n",
       "      <td>0</td>\n",
       "    </tr>\n",
       "    <tr>\n",
       "      <th>414</th>\n",
       "      <td>1306</td>\n",
       "      <td>1</td>\n",
       "    </tr>\n",
       "    <tr>\n",
       "      <th>415</th>\n",
       "      <td>1307</td>\n",
       "      <td>0</td>\n",
       "    </tr>\n",
       "    <tr>\n",
       "      <th>416</th>\n",
       "      <td>1308</td>\n",
       "      <td>0</td>\n",
       "    </tr>\n",
       "    <tr>\n",
       "      <th>417</th>\n",
       "      <td>1309</td>\n",
       "      <td>0</td>\n",
       "    </tr>\n",
       "  </tbody>\n",
       "</table>\n",
       "<p>418 rows × 2 columns</p>\n",
       "</div>"
      ],
      "text/plain": [
       "     PassengerId  Survived\n",
       "0            892         0\n",
       "1            893         1\n",
       "2            894         0\n",
       "3            895         0\n",
       "4            896         1\n",
       "..           ...       ...\n",
       "413         1305         0\n",
       "414         1306         1\n",
       "415         1307         0\n",
       "416         1308         0\n",
       "417         1309         0\n",
       "\n",
       "[418 rows x 2 columns]"
      ]
     },
     "execution_count": 152,
     "metadata": {},
     "output_type": "execute_result"
    }
   ],
   "source": [
    "submission=pd.read_csv('./data/gender_submission.csv')\n",
    "submission"
   ]
  },
  {
   "cell_type": "code",
   "execution_count": 153,
   "id": "952839e0",
   "metadata": {
    "ExecuteTime": {
     "end_time": "2023-09-11T00:23:08.961553Z",
     "start_time": "2023-09-11T00:23:08.947085Z"
    }
   },
   "outputs": [],
   "source": [
    "# 답안지 제작후 제출\n",
    "submission['Survived']=pre"
   ]
  },
  {
   "cell_type": "code",
   "execution_count": 154,
   "id": "153f6eaa",
   "metadata": {
    "ExecuteTime": {
     "end_time": "2023-09-11T00:23:08.977510Z",
     "start_time": "2023-09-11T00:23:08.962550Z"
    }
   },
   "outputs": [],
   "source": [
    "submission.to_csv('./data/tree_ta_02.csv', index=False)"
   ]
  },
  {
   "cell_type": "markdown",
   "id": "fa229a4c",
   "metadata": {},
   "source": [
    "**Grid Search 사용해보기**\n",
    "- 모델을 학습시키고 예측하는 기계학습에서 하이퍼 파라미터를 설정하는 것은 중요한 일이다. \n",
    "- 많은 하이퍼 파라미터를 대상으로 가능한 모든 조합을 시도하는 방법론 "
   ]
  },
  {
   "cell_type": "code",
   "execution_count": 155,
   "id": "cb355f86",
   "metadata": {
    "ExecuteTime": {
     "end_time": "2023-09-11T00:23:08.993467Z",
     "start_time": "2023-09-11T00:23:08.979505Z"
    }
   },
   "outputs": [],
   "source": [
    "# Grid_search 모델 import \n",
    "from sklearn.model_selection import GridSearchCV"
   ]
  },
  {
   "cell_type": "code",
   "execution_count": 156,
   "id": "bb1c778d",
   "metadata": {
    "ExecuteTime": {
     "end_time": "2023-09-11T00:23:09.009424Z",
     "start_time": "2023-09-11T00:23:08.994466Z"
    }
   },
   "outputs": [],
   "source": [
    "# GridSearch 에 사용할 모델 객체 생성 \n",
    "tree_ta_02=DecisionTreeClassifier()"
   ]
  },
  {
   "cell_type": "code",
   "execution_count": 157,
   "id": "a9e5f786",
   "metadata": {
    "ExecuteTime": {
     "end_time": "2023-09-11T00:23:09.025382Z",
     "start_time": "2023-09-11T00:23:09.011431Z"
    }
   },
   "outputs": [],
   "source": [
    "# 하이퍼 파라미터 목록 만들어 주기 \n",
    "params_tree={'max_depth' : [1,2,3,4,5],\n",
    "            'min_samples_split' : range(1,151,10),\n",
    "            'max_leaf_nodes' : range(1,51,10),\n",
    "            'min_samples_leaf' : range(1,151,10)}"
   ]
  },
  {
   "cell_type": "code",
   "execution_count": 158,
   "id": "6053fc5c",
   "metadata": {
    "ExecuteTime": {
     "end_time": "2023-09-11T00:23:09.041339Z",
     "start_time": "2023-09-11T00:23:09.027377Z"
    }
   },
   "outputs": [],
   "source": [
    "# 그리드 서치 모델 객체 생성 \n",
    "grid_tree=GridSearchCV(tree_ta_02, # 모델\n",
    "                      param_grid=params_tree,\n",
    "                      cv=5)"
   ]
  },
  {
   "cell_type": "code",
   "execution_count": 159,
   "id": "7fb6cbac",
   "metadata": {
    "ExecuteTime": {
     "end_time": "2023-09-11T00:24:26.901954Z",
     "start_time": "2023-09-11T00:23:09.043334Z"
    }
   },
   "outputs": [
    {
     "data": {
      "text/plain": [
       "GridSearchCV(cv=5, estimator=DecisionTreeClassifier(),\n",
       "             param_grid={'max_depth': [1, 2, 3, 4, 5],\n",
       "                         'max_leaf_nodes': range(1, 51, 10),\n",
       "                         'min_samples_leaf': range(1, 151, 10),\n",
       "                         'min_samples_split': range(1, 151, 10)})"
      ]
     },
     "execution_count": 159,
     "metadata": {},
     "output_type": "execute_result"
    }
   ],
   "source": [
    "grid_tree.fit(X_train, y_train) # 모든 교차검증의 조합식은 현재 28,125 개의 교차검증 \n",
    "# 마지막 총 교차검증 결과는 5625 개가 나옴 "
   ]
  },
  {
   "cell_type": "code",
   "execution_count": 160,
   "id": "6fb82918",
   "metadata": {
    "ExecuteTime": {
     "end_time": "2023-09-11T00:24:26.916935Z",
     "start_time": "2023-09-11T00:24:26.905938Z"
    }
   },
   "outputs": [
    {
     "data": {
      "text/plain": [
       "{'max_depth': 4,\n",
       " 'max_leaf_nodes': 11,\n",
       " 'min_samples_leaf': 1,\n",
       " 'min_samples_split': 11}"
      ]
     },
     "execution_count": 160,
     "metadata": {},
     "output_type": "execute_result"
    }
   ],
   "source": [
    "# best_params_ : Grid Search 이후 찾은 최고의 하이퍼 파라미터 값 \n",
    "grid_tree.best_params_"
   ]
  },
  {
   "cell_type": "code",
   "execution_count": 161,
   "id": "cbbc70f7",
   "metadata": {
    "ExecuteTime": {
     "end_time": "2023-09-11T00:24:26.932055Z",
     "start_time": "2023-09-11T00:24:26.917906Z"
    }
   },
   "outputs": [
    {
     "data": {
      "text/plain": [
       "0.8215240725629277"
      ]
     },
     "execution_count": 161,
     "metadata": {},
     "output_type": "execute_result"
    }
   ],
   "source": [
    "# best_score : 최고의 하이퍼 파라미터를 사용했을때 나오는 교차검증 점수 \n",
    "grid_tree.best_score_"
   ]
  },
  {
   "cell_type": "code",
   "execution_count": 162,
   "id": "6d9c47fe",
   "metadata": {
    "ExecuteTime": {
     "end_time": "2023-09-11T00:24:26.948007Z",
     "start_time": "2023-09-11T00:24:26.935017Z"
    }
   },
   "outputs": [
    {
     "data": {
      "text/plain": [
       "DecisionTreeClassifier(max_depth=4, max_leaf_nodes=11, min_samples_split=11)"
      ]
     },
     "execution_count": 162,
     "metadata": {},
     "output_type": "execute_result"
    }
   ],
   "source": [
    "# best_estimator_ : 최고 성능의 모델 \n",
    "grid_tree.best_estimator_"
   ]
  },
  {
   "cell_type": "code",
   "execution_count": 163,
   "id": "0923cc1d",
   "metadata": {
    "ExecuteTime": {
     "end_time": "2023-09-11T00:24:26.962970Z",
     "start_time": "2023-09-11T00:24:26.950973Z"
    }
   },
   "outputs": [
    {
     "data": {
      "text/plain": [
       "3601"
      ]
     },
     "execution_count": 163,
     "metadata": {},
     "output_type": "execute_result"
    }
   ],
   "source": [
    "grid_tree.best_index_"
   ]
  },
  {
   "cell_type": "code",
   "execution_count": 164,
   "id": "84f8e18e",
   "metadata": {
    "ExecuteTime": {
     "end_time": "2023-09-11T00:24:26.977900Z",
     "start_time": "2023-09-11T00:24:26.964935Z"
    }
   },
   "outputs": [],
   "source": [
    "# 실제 모델 객체 생성 \n",
    "tree_ta_02=grid_tree.best_estimator_"
   ]
  },
  {
   "cell_type": "code",
   "execution_count": 165,
   "id": "a37e3b54",
   "metadata": {
    "ExecuteTime": {
     "end_time": "2023-09-11T00:24:26.993858Z",
     "start_time": "2023-09-11T00:24:26.980893Z"
    }
   },
   "outputs": [
    {
     "data": {
      "text/plain": [
       "DecisionTreeClassifier(max_depth=4, max_leaf_nodes=11, min_samples_split=11)"
      ]
     },
     "execution_count": 165,
     "metadata": {},
     "output_type": "execute_result"
    }
   ],
   "source": [
    "# 모델 학습\n",
    "tree_ta_02.fit(X_train, y_train)"
   ]
  },
  {
   "cell_type": "code",
   "execution_count": 166,
   "id": "60525337",
   "metadata": {
    "ExecuteTime": {
     "end_time": "2023-09-11T00:24:27.009172Z",
     "start_time": "2023-09-11T00:24:26.994855Z"
    }
   },
   "outputs": [
    {
     "data": {
      "text/plain": [
       "array([0, 1, 0, 0, 1, 0, 1, 0, 1, 0, 0, 0, 1, 0, 1, 1, 0, 0, 1, 1, 0, 1,\n",
       "       1, 0, 1, 0, 1, 0, 0, 0, 0, 0, 1, 1, 0, 0, 1, 1, 0, 0, 0, 1, 0, 1,\n",
       "       1, 0, 0, 0, 1, 1, 0, 0, 1, 1, 0, 0, 0, 0, 0, 1, 0, 0, 0, 1, 1, 1,\n",
       "       1, 0, 0, 1, 1, 0, 1, 0, 1, 0, 0, 1, 0, 1, 1, 0, 0, 0, 0, 0, 1, 1,\n",
       "       1, 1, 1, 0, 1, 0, 0, 0, 1, 0, 1, 0, 1, 0, 0, 0, 1, 0, 0, 0, 0, 0,\n",
       "       0, 1, 1, 1, 1, 0, 0, 1, 0, 1, 1, 0, 1, 0, 0, 1, 0, 1, 0, 0, 0, 1,\n",
       "       0, 0, 0, 0, 0, 0, 1, 0, 0, 1, 0, 0, 1, 0, 0, 0, 1, 0, 1, 0, 0, 1,\n",
       "       0, 0, 1, 1, 1, 1, 1, 1, 1, 0, 0, 1, 0, 0, 1, 1, 0, 0, 0, 0, 0, 1,\n",
       "       1, 0, 1, 1, 0, 0, 1, 0, 1, 0, 1, 0, 0, 0, 0, 0, 1, 0, 1, 0, 1, 1,\n",
       "       0, 1, 1, 1, 1, 1, 0, 0, 1, 0, 1, 0, 0, 0, 0, 1, 0, 0, 1, 0, 1, 0,\n",
       "       1, 0, 1, 0, 1, 1, 0, 1, 0, 0, 0, 1, 0, 0, 0, 0, 0, 0, 1, 1, 1, 1,\n",
       "       0, 0, 1, 0, 1, 0, 1, 1, 1, 0, 0, 0, 0, 0, 0, 0, 1, 0, 0, 0, 1, 1,\n",
       "       0, 0, 0, 0, 1, 0, 0, 0, 1, 1, 0, 1, 0, 0, 0, 0, 1, 1, 1, 1, 1, 0,\n",
       "       0, 0, 0, 0, 0, 1, 0, 1, 0, 0, 1, 0, 0, 0, 0, 0, 0, 0, 1, 1, 0, 1,\n",
       "       0, 1, 0, 0, 0, 1, 1, 1, 0, 0, 0, 0, 0, 0, 0, 1, 1, 0, 1, 0, 0, 0,\n",
       "       1, 0, 0, 1, 0, 0, 0, 0, 0, 1, 0, 0, 0, 1, 1, 1, 0, 1, 0, 1, 1, 0,\n",
       "       0, 0, 1, 0, 1, 0, 0, 1, 0, 1, 1, 0, 1, 0, 0, 1, 1, 0, 0, 1, 0, 0,\n",
       "       1, 1, 1, 0, 0, 0, 0, 0, 1, 1, 0, 1, 0, 0, 0, 0, 0, 1, 1, 0, 0, 1,\n",
       "       0, 1, 0, 0, 1, 0, 1, 0, 0, 0, 0, 0, 1, 1, 1, 1, 1, 0, 1, 0, 0, 1],\n",
       "      dtype=int64)"
      ]
     },
     "execution_count": 166,
     "metadata": {},
     "output_type": "execute_result"
    }
   ],
   "source": [
    "# 모델 예측\n",
    "pre=tree_ta_02.predict(X_test)\n",
    "pre"
   ]
  },
  {
   "cell_type": "code",
   "execution_count": 167,
   "id": "7f15c32c",
   "metadata": {
    "ExecuteTime": {
     "end_time": "2023-09-11T00:24:27.025184Z",
     "start_time": "2023-09-11T00:24:27.010194Z"
    }
   },
   "outputs": [
    {
     "data": {
      "text/html": [
       "<div>\n",
       "<style scoped>\n",
       "    .dataframe tbody tr th:only-of-type {\n",
       "        vertical-align: middle;\n",
       "    }\n",
       "\n",
       "    .dataframe tbody tr th {\n",
       "        vertical-align: top;\n",
       "    }\n",
       "\n",
       "    .dataframe thead th {\n",
       "        text-align: right;\n",
       "    }\n",
       "</style>\n",
       "<table border=\"1\" class=\"dataframe\">\n",
       "  <thead>\n",
       "    <tr style=\"text-align: right;\">\n",
       "      <th></th>\n",
       "      <th>PassengerId</th>\n",
       "      <th>Survived</th>\n",
       "    </tr>\n",
       "  </thead>\n",
       "  <tbody>\n",
       "    <tr>\n",
       "      <th>0</th>\n",
       "      <td>892</td>\n",
       "      <td>0</td>\n",
       "    </tr>\n",
       "    <tr>\n",
       "      <th>1</th>\n",
       "      <td>893</td>\n",
       "      <td>1</td>\n",
       "    </tr>\n",
       "    <tr>\n",
       "      <th>2</th>\n",
       "      <td>894</td>\n",
       "      <td>0</td>\n",
       "    </tr>\n",
       "    <tr>\n",
       "      <th>3</th>\n",
       "      <td>895</td>\n",
       "      <td>0</td>\n",
       "    </tr>\n",
       "    <tr>\n",
       "      <th>4</th>\n",
       "      <td>896</td>\n",
       "      <td>1</td>\n",
       "    </tr>\n",
       "    <tr>\n",
       "      <th>...</th>\n",
       "      <td>...</td>\n",
       "      <td>...</td>\n",
       "    </tr>\n",
       "    <tr>\n",
       "      <th>413</th>\n",
       "      <td>1305</td>\n",
       "      <td>0</td>\n",
       "    </tr>\n",
       "    <tr>\n",
       "      <th>414</th>\n",
       "      <td>1306</td>\n",
       "      <td>1</td>\n",
       "    </tr>\n",
       "    <tr>\n",
       "      <th>415</th>\n",
       "      <td>1307</td>\n",
       "      <td>0</td>\n",
       "    </tr>\n",
       "    <tr>\n",
       "      <th>416</th>\n",
       "      <td>1308</td>\n",
       "      <td>0</td>\n",
       "    </tr>\n",
       "    <tr>\n",
       "      <th>417</th>\n",
       "      <td>1309</td>\n",
       "      <td>0</td>\n",
       "    </tr>\n",
       "  </tbody>\n",
       "</table>\n",
       "<p>418 rows × 2 columns</p>\n",
       "</div>"
      ],
      "text/plain": [
       "     PassengerId  Survived\n",
       "0            892         0\n",
       "1            893         1\n",
       "2            894         0\n",
       "3            895         0\n",
       "4            896         1\n",
       "..           ...       ...\n",
       "413         1305         0\n",
       "414         1306         1\n",
       "415         1307         0\n",
       "416         1308         0\n",
       "417         1309         0\n",
       "\n",
       "[418 rows x 2 columns]"
      ]
     },
     "execution_count": 167,
     "metadata": {},
     "output_type": "execute_result"
    }
   ],
   "source": [
    "submission=pd.read_csv('./data/gender_submission.csv')\n",
    "submission"
   ]
  },
  {
   "cell_type": "code",
   "execution_count": 168,
   "id": "0e4f8848",
   "metadata": {
    "ExecuteTime": {
     "end_time": "2023-09-11T00:24:27.040220Z",
     "start_time": "2023-09-11T00:24:27.028151Z"
    }
   },
   "outputs": [],
   "source": [
    "# 답안지 작성 후 제출 \n",
    "submission['Survived']=pre"
   ]
  },
  {
   "cell_type": "code",
   "execution_count": 169,
   "id": "8f65fef2",
   "metadata": {
    "ExecuteTime": {
     "end_time": "2023-09-11T00:24:27.055161Z",
     "start_time": "2023-09-11T00:24:27.041141Z"
    }
   },
   "outputs": [],
   "source": [
    "submission.to_csv('./data/tree_ta_03.csv', index=False)"
   ]
  },
  {
   "cell_type": "code",
   "execution_count": 170,
   "id": "14e6bb20",
   "metadata": {
    "ExecuteTime": {
     "end_time": "2023-09-11T00:24:27.071139Z",
     "start_time": "2023-09-11T00:24:27.056158Z"
    }
   },
   "outputs": [],
   "source": [
    "# 자료 내보내기 \n",
    "# X_train, y_train, X_test => csv 형태로 내보내기\n",
    "X_train.to_csv('X_train.csv',index=False)\n",
    "X_test.to_csv('X_test.csv',index=False)\n",
    "y_train.to_csv('y_train.csv',index=False)"
   ]
  },
  {
   "cell_type": "code",
   "execution_count": 171,
   "id": "daffc8f9",
   "metadata": {
    "ExecuteTime": {
     "end_time": "2023-09-11T00:24:27.087076Z",
     "start_time": "2023-09-11T00:24:27.077104Z"
    }
   },
   "outputs": [],
   "source": [
    "# 하이퍼 파라미터 목록 만들어 주기 \n",
    "params_tree={'max_depth' : [1,2,3,4,5],\n",
    "            'min_samples_split' : range(1,151,5),\n",
    "            'max_leaf_nodes' : range(1,51,5),\n",
    "            'min_samples_leaf' : range(1,151,5)}"
   ]
  },
  {
   "cell_type": "code",
   "execution_count": null,
   "id": "678c14f6",
   "metadata": {},
   "outputs": [],
   "source": []
  }
 ],
 "metadata": {
  "kernelspec": {
   "display_name": "Python 3 (ipykernel)",
   "language": "python",
   "name": "python3"
  },
  "language_info": {
   "codemirror_mode": {
    "name": "ipython",
    "version": 3
   },
   "file_extension": ".py",
   "mimetype": "text/x-python",
   "name": "python",
   "nbconvert_exporter": "python",
   "pygments_lexer": "ipython3",
   "version": "3.9.13"
  },
  "toc": {
   "base_numbering": 1,
   "nav_menu": {},
   "number_sections": true,
   "sideBar": true,
   "skip_h1_title": false,
   "title_cell": "Table of Contents",
   "title_sidebar": "Contents",
   "toc_cell": false,
   "toc_position": {},
   "toc_section_display": true,
   "toc_window_display": false
  },
  "varInspector": {
   "cols": {
    "lenName": 16,
    "lenType": 16,
    "lenVar": 40
   },
   "kernels_config": {
    "python": {
     "delete_cmd_postfix": "",
     "delete_cmd_prefix": "del ",
     "library": "var_list.py",
     "varRefreshCmd": "print(var_dic_list())"
    },
    "r": {
     "delete_cmd_postfix": ") ",
     "delete_cmd_prefix": "rm(",
     "library": "var_list.r",
     "varRefreshCmd": "cat(var_dic_list()) "
    }
   },
   "types_to_exclude": [
    "module",
    "function",
    "builtin_function_or_method",
    "instance",
    "_Feature"
   ],
   "window_display": false
  }
 },
 "nbformat": 4,
 "nbformat_minor": 5
}
