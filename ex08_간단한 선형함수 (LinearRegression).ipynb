{
 "cells": [
  {
   "cell_type": "markdown",
   "id": "f2ea39db",
   "metadata": {},
   "source": [
    "### 선형회귀 이해하기\n",
    "- 성적 데이터를 기반으로 선형회귀를 이해해보자"
   ]
  },
  {
   "cell_type": "code",
   "execution_count": 289,
   "id": "f38e42fb",
   "metadata": {
    "ExecuteTime": {
     "end_time": "2023-09-19T07:11:31.883185Z",
     "start_time": "2023-09-19T07:11:31.878174Z"
    }
   },
   "outputs": [],
   "source": [
    "# 성적 데이터 생성을 위한 라이브러리 꺼내오기\n",
    "import pandas as pd\n",
    "import matplotlib.pyplot as plt"
   ]
  },
  {
   "cell_type": "code",
   "execution_count": 290,
   "id": "506b6d18",
   "metadata": {
    "ExecuteTime": {
     "end_time": "2023-09-19T07:11:31.898120Z",
     "start_time": "2023-09-19T07:11:31.885155Z"
    }
   },
   "outputs": [
    {
     "data": {
      "text/html": [
       "<div>\n",
       "<style scoped>\n",
       "    .dataframe tbody tr th:only-of-type {\n",
       "        vertical-align: middle;\n",
       "    }\n",
       "\n",
       "    .dataframe tbody tr th {\n",
       "        vertical-align: top;\n",
       "    }\n",
       "\n",
       "    .dataframe thead th {\n",
       "        text-align: right;\n",
       "    }\n",
       "</style>\n",
       "<table border=\"1\" class=\"dataframe\">\n",
       "  <thead>\n",
       "    <tr style=\"text-align: right;\">\n",
       "      <th></th>\n",
       "      <th>시간</th>\n",
       "      <th>성적</th>\n",
       "    </tr>\n",
       "  </thead>\n",
       "  <tbody>\n",
       "    <tr>\n",
       "      <th>강진구</th>\n",
       "      <td>2</td>\n",
       "      <td>20</td>\n",
       "    </tr>\n",
       "    <tr>\n",
       "      <th>김동영</th>\n",
       "      <td>4</td>\n",
       "      <td>40</td>\n",
       "    </tr>\n",
       "    <tr>\n",
       "      <th>안현진</th>\n",
       "      <td>8</td>\n",
       "      <td>80</td>\n",
       "    </tr>\n",
       "    <tr>\n",
       "      <th>박현우</th>\n",
       "      <td>9</td>\n",
       "      <td>90</td>\n",
       "    </tr>\n",
       "  </tbody>\n",
       "</table>\n",
       "</div>"
      ],
      "text/plain": [
       "     시간  성적\n",
       "강진구   2  20\n",
       "김동영   4  40\n",
       "안현진   8  80\n",
       "박현우   9  90"
      ]
     },
     "execution_count": 290,
     "metadata": {},
     "output_type": "execute_result"
    }
   ],
   "source": [
    "# 성적 데이터 생성\n",
    "data=pd.DataFrame([[2,20],[4,40],[8,80],[9,90]],\n",
    "            index=['강진구','김동영','안현진','박현우'],\n",
    "            columns=['시간','성적'])\n",
    "data"
   ]
  },
  {
   "cell_type": "code",
   "execution_count": 291,
   "id": "43437b1d",
   "metadata": {
    "ExecuteTime": {
     "end_time": "2023-09-19T07:11:31.914077Z",
     "start_time": "2023-09-19T07:11:31.900115Z"
    }
   },
   "outputs": [
    {
     "data": {
      "text/html": [
       "<div>\n",
       "<style scoped>\n",
       "    .dataframe tbody tr th:only-of-type {\n",
       "        vertical-align: middle;\n",
       "    }\n",
       "\n",
       "    .dataframe tbody tr th {\n",
       "        vertical-align: top;\n",
       "    }\n",
       "\n",
       "    .dataframe thead th {\n",
       "        text-align: right;\n",
       "    }\n",
       "</style>\n",
       "<table border=\"1\" class=\"dataframe\">\n",
       "  <thead>\n",
       "    <tr style=\"text-align: right;\">\n",
       "      <th></th>\n",
       "      <th>시간</th>\n",
       "    </tr>\n",
       "  </thead>\n",
       "  <tbody>\n",
       "    <tr>\n",
       "      <th>강진구</th>\n",
       "      <td>2</td>\n",
       "    </tr>\n",
       "    <tr>\n",
       "      <th>김동영</th>\n",
       "      <td>4</td>\n",
       "    </tr>\n",
       "    <tr>\n",
       "      <th>안현진</th>\n",
       "      <td>8</td>\n",
       "    </tr>\n",
       "    <tr>\n",
       "      <th>박현우</th>\n",
       "      <td>9</td>\n",
       "    </tr>\n",
       "  </tbody>\n",
       "</table>\n",
       "</div>"
      ],
      "text/plain": [
       "     시간\n",
       "강진구   2\n",
       "김동영   4\n",
       "안현진   8\n",
       "박현우   9"
      ]
     },
     "execution_count": 291,
     "metadata": {},
     "output_type": "execute_result"
    }
   ],
   "source": [
    "data[['시간']]"
   ]
  },
  {
   "cell_type": "code",
   "execution_count": 292,
   "id": "56c3faa6",
   "metadata": {
    "ExecuteTime": {
     "end_time": "2023-09-19T07:11:31.930035Z",
     "start_time": "2023-09-19T07:11:31.917070Z"
    }
   },
   "outputs": [
    {
     "data": {
      "text/plain": [
       "강진구    20\n",
       "김동영    40\n",
       "안현진    80\n",
       "박현우    90\n",
       "Name: 성적, dtype: int64"
      ]
     },
     "execution_count": 292,
     "metadata": {},
     "output_type": "execute_result"
    }
   ],
   "source": [
    "data['성적']"
   ]
  },
  {
   "cell_type": "markdown",
   "id": "bcbf895a",
   "metadata": {},
   "source": [
    "#### 수학 공식을 이용한 해석적 모델\n",
    "- LinearRegression"
   ]
  },
  {
   "cell_type": "code",
   "execution_count": 293,
   "id": "629c3b29",
   "metadata": {
    "ExecuteTime": {
     "end_time": "2023-09-19T07:11:31.945993Z",
     "start_time": "2023-09-19T07:11:31.932030Z"
    }
   },
   "outputs": [
    {
     "data": {
      "text/plain": [
       "LinearRegression()"
      ]
     },
     "execution_count": 293,
     "metadata": {},
     "output_type": "execute_result"
    }
   ],
   "source": [
    "from sklearn.linear_model import LinearRegression\n",
    "\n",
    "# 모델 생성, 하이퍼파라미터 설정 X \n",
    "linear_model=LinearRegression()\n",
    "\n",
    "# 학습 \n",
    "linear_model.fit(data[['시간']],data['성적']) # 문제는 2차원, 정답은 1차원 "
   ]
  },
  {
   "cell_type": "markdown",
   "id": "0d68e02d",
   "metadata": {},
   "source": [
    "##### y = ax + b (문제가 1 개 일 때의 선형함수)"
   ]
  },
  {
   "cell_type": "code",
   "execution_count": 294,
   "id": "63275f5d",
   "metadata": {
    "ExecuteTime": {
     "end_time": "2023-09-19T07:11:31.961955Z",
     "start_time": "2023-09-19T07:11:31.946990Z"
    }
   },
   "outputs": [
    {
     "name": "stdout",
     "output_type": "stream",
     "text": [
      "기울기, 가중치 :  [10.]\n",
      "절편, 편향 :  7.105427357601002e-15\n"
     ]
    }
   ],
   "source": [
    "# 기울기 (a), 가중치 (w) 출력\n",
    "print('기울기, 가중치 : ', linear_model.coef_)\n",
    "\n",
    "# 절편, 편향 (b) 출력 \n",
    "print('절편, 편향 : ', linear_model.intercept_)"
   ]
  },
  {
   "cell_type": "code",
   "execution_count": 295,
   "id": "283f21d3",
   "metadata": {
    "ExecuteTime": {
     "end_time": "2023-09-19T07:11:31.977077Z",
     "start_time": "2023-09-19T07:11:31.962947Z"
    }
   },
   "outputs": [
    {
     "name": "stderr",
     "output_type": "stream",
     "text": [
      "C:\\Users\\user\\anaconda3\\lib\\site-packages\\sklearn\\base.py:450: UserWarning: X does not have valid feature names, but LinearRegression was fitted with feature names\n",
      "  warnings.warn(\n"
     ]
    },
    {
     "data": {
      "text/plain": [
       "array([70.])"
      ]
     },
     "execution_count": 295,
     "metadata": {},
     "output_type": "execute_result"
    }
   ],
   "source": [
    "# 원서씨가 7 시간 공부했을 때 몇 점? => 예측 \n",
    "linear_model.predict([[7]])"
   ]
  },
  {
   "cell_type": "markdown",
   "id": "77a8aa4e",
   "metadata": {},
   "source": [
    "#### 경사하강법\n",
    "- 가중치 (w) 의 변화에 따른 비용함수 (cost) 값의 변화 그래프 \n",
    "- 점진적으로 오차가 작은 선형함수를 찾아가는 방법"
   ]
  },
  {
   "cell_type": "markdown",
   "id": "4aaa4240",
   "metadata": {},
   "source": [
    "\n",
    "##### H(x) : 가설함수 "
   ]
  },
  {
   "cell_type": "code",
   "execution_count": 296,
   "id": "c5b8bc70",
   "metadata": {
    "ExecuteTime": {
     "end_time": "2023-09-19T07:11:31.993026Z",
     "start_time": "2023-09-19T07:11:31.981068Z"
    }
   },
   "outputs": [],
   "source": [
    "# 함수 정의 \n",
    "def h(w,x):\n",
    "    return 0.4*w*x+0"
   ]
  },
  {
   "cell_type": "markdown",
   "id": "cfc5f1a0",
   "metadata": {},
   "source": [
    "##### Cost function \n",
    "- cost : 비용 => 오차 "
   ]
  },
  {
   "cell_type": "code",
   "execution_count": 297,
   "id": "ac61edd0",
   "metadata": {
    "ExecuteTime": {
     "end_time": "2023-09-19T07:11:32.008215Z",
     "start_time": "2023-09-19T07:11:31.994999Z"
    }
   },
   "outputs": [],
   "source": [
    "# 비용함수 정의 \n",
    "# 문제값, 실제값 (정답), 가중치 \n",
    "\n",
    "def cost(data,target,weight):\n",
    "    # 예측 값\n",
    "    y_pre=h(weight,data)\n",
    "    # cost 값 (오차) : ((예측값 - 실제값) ** 2).평균함수() => 평균제곱오차 (중요) \n",
    "    error=((y_pre-target)**2).mean()\n",
    "    return error"
   ]
  },
  {
   "cell_type": "code",
   "execution_count": 299,
   "id": "5ad0c2b9",
   "metadata": {
    "ExecuteTime": {
     "end_time": "2023-09-19T07:11:38.185335Z",
     "start_time": "2023-09-19T07:11:38.165397Z"
    }
   },
   "outputs": [
    {
     "data": {
      "text/plain": [
       "1485.0"
      ]
     },
     "execution_count": 299,
     "metadata": {},
     "output_type": "execute_result"
    }
   ],
   "source": [
    "# 가중치에 따른 오차값 확인 \n",
    "cost(data['시간'],data['성적'],10)"
   ]
  },
  {
   "cell_type": "code",
   "execution_count": 300,
   "id": "0144229b",
   "metadata": {
    "ExecuteTime": {
     "end_time": "2023-09-19T07:11:38.307041Z",
     "start_time": "2023-09-19T07:11:38.188304Z"
    },
    "scrolled": false
   },
   "outputs": [
    {
     "data": {
      "image/png": "[encoded data removed]",
      "text/plain": [
       "<Figure size 640x480 with 1 Axes>"
      ]
     },
     "metadata": {},
     "output_type": "display_data"
    }
   ],
   "source": [
    "# 가중치 변화에 따른 비용함수의 변화를 그래프로 그려보자\n",
    "# 1. 가중치 변화값 저장 \n",
    "cost_list=[]\n",
    "for w in range(-10,31): # -10 ~ 30 까지 가중치 변화 \n",
    "    err=cost(data['시간'],data['성적'],w)\n",
    "    cost_list.append(err)\n",
    "\n",
    "# 2. 저장된 값을 이용해서 그래프로 시각화 \n",
    "plt.plot(range(-10,31),cost_list)\n",
    "plt.show()"
   ]
  },
  {
   "cell_type": "code",
   "execution_count": 301,
   "id": "dbbc650f",
   "metadata": {
    "ExecuteTime": {
     "end_time": "2023-09-19T07:11:38.322001Z",
     "start_time": "2023-09-19T07:11:38.309036Z"
    }
   },
   "outputs": [
    {
     "data": {
      "text/plain": [
       "1.0"
      ]
     },
     "execution_count": 301,
     "metadata": {},
     "output_type": "execute_result"
    }
   ],
   "source": [
    "# 분류모델 score : 정확도 \n",
    "# 회귀모델 score : R2score => 유사도 \n",
    "linear_model.score(data[['시간']],data['성적'])"
   ]
  },
  {
   "cell_type": "markdown",
   "id": "ea6ee57d",
   "metadata": {},
   "source": [
    "##### SGDRegressor "
   ]
  },
  {
   "cell_type": "code",
   "execution_count": 302,
   "id": "d9e20931",
   "metadata": {
    "ExecuteTime": {
     "end_time": "2023-09-19T07:11:38.337224Z",
     "start_time": "2023-09-19T07:11:38.324032Z"
    }
   },
   "outputs": [
    {
     "name": "stdout",
     "output_type": "stream",
     "text": [
      "-- Epoch 1\n",
      "Norm: 1.43, NNZs: 1, Bias: 0.190085, T: 4, Avg. loss: 1872.560293\n",
      "Total training time: 0.00 seconds.\n",
      "-- Epoch 2\n",
      "Norm: 2.26, NNZs: 1, Bias: 0.307908, T: 8, Avg. loss: 1412.272017\n",
      "Total training time: 0.00 seconds.\n",
      "-- Epoch 3\n",
      "Norm: 2.96, NNZs: 1, Bias: 0.403684, T: 12, Avg. loss: 1152.526950\n",
      "Total training time: 0.00 seconds.\n",
      "-- Epoch 4\n",
      "Norm: 3.53, NNZs: 1, Bias: 0.483377, T: 16, Avg. loss: 954.056572\n",
      "Total training time: 0.00 seconds.\n",
      "-- Epoch 5\n",
      "Norm: 4.03, NNZs: 1, Bias: 0.552358, T: 20, Avg. loss: 804.546471\n",
      "Total training time: 0.00 seconds.\n",
      "-- Epoch 6\n",
      "Norm: 4.47, NNZs: 1, Bias: 0.612827, T: 24, Avg. loss: 682.834704\n",
      "Total training time: 0.00 seconds.\n",
      "-- Epoch 7\n",
      "Norm: 4.86, NNZs: 1, Bias: 0.666449, T: 28, Avg. loss: 585.478493\n",
      "Total training time: 0.00 seconds.\n",
      "-- Epoch 8\n",
      "Norm: 5.20, NNZs: 1, Bias: 0.714580, T: 32, Avg. loss: 503.958674\n",
      "Total training time: 0.00 seconds.\n",
      "-- Epoch 9\n",
      "Norm: 5.52, NNZs: 1, Bias: 0.757842, T: 36, Avg. loss: 436.796349\n",
      "Total training time: 0.00 seconds.\n",
      "-- Epoch 10\n",
      "Norm: 5.80, NNZs: 1, Bias: 0.797218, T: 40, Avg. loss: 379.600657\n",
      "Total training time: 0.00 seconds.\n",
      "-- Epoch 11\n",
      "Norm: 6.06, NNZs: 1, Bias: 0.832927, T: 44, Avg. loss: 331.605090\n",
      "Total training time: 0.00 seconds.\n",
      "-- Epoch 12\n",
      "Norm: 6.30, NNZs: 1, Bias: 0.865731, T: 48, Avg. loss: 290.254369\n",
      "Total training time: 0.00 seconds.\n",
      "-- Epoch 13\n",
      "Norm: 6.51, NNZs: 1, Bias: 0.895671, T: 52, Avg. loss: 255.106783\n",
      "Total training time: 0.00 seconds.\n",
      "-- Epoch 14\n",
      "Norm: 6.71, NNZs: 1, Bias: 0.923361, T: 56, Avg. loss: 224.562408\n",
      "Total training time: 0.00 seconds.\n",
      "-- Epoch 15\n",
      "Norm: 6.90, NNZs: 1, Bias: 0.948756, T: 60, Avg. loss: 198.348685\n",
      "Total training time: 0.00 seconds.\n",
      "-- Epoch 16\n",
      "Norm: 7.07, NNZs: 1, Bias: 0.972363, T: 64, Avg. loss: 175.413272\n",
      "Total training time: 0.00 seconds.\n",
      "-- Epoch 17\n",
      "Norm: 7.23, NNZs: 1, Bias: 0.994098, T: 68, Avg. loss: 155.579710\n",
      "Total training time: 0.00 seconds.\n",
      "-- Epoch 18\n",
      "Norm: 7.38, NNZs: 1, Bias: 1.014385, T: 72, Avg. loss: 138.130717\n",
      "Total training time: 0.00 seconds.\n",
      "-- Epoch 19\n",
      "Norm: 7.51, NNZs: 1, Bias: 1.033120, T: 76, Avg. loss: 122.947880\n",
      "Total training time: 0.00 seconds.\n",
      "-- Epoch 20\n",
      "Norm: 7.64, NNZs: 1, Bias: 1.050667, T: 80, Avg. loss: 109.528871\n",
      "Total training time: 0.00 seconds.\n",
      "-- Epoch 21\n",
      "Norm: 7.76, NNZs: 1, Bias: 1.066914, T: 84, Avg. loss: 97.791975\n",
      "Total training time: 0.00 seconds.\n",
      "-- Epoch 22\n",
      "Norm: 7.87, NNZs: 1, Bias: 1.082171, T: 88, Avg. loss: 87.377803\n",
      "Total training time: 0.00 seconds.\n",
      "-- Epoch 23\n",
      "Norm: 7.98, NNZs: 1, Bias: 1.096330, T: 92, Avg. loss: 78.228670\n",
      "Total training time: 0.00 seconds.\n",
      "-- Epoch 24\n",
      "Norm: 8.07, NNZs: 1, Bias: 1.109658, T: 96, Avg. loss: 70.082959\n",
      "Total training time: 0.00 seconds.\n",
      "-- Epoch 25\n",
      "Norm: 8.16, NNZs: 1, Bias: 1.122049, T: 100, Avg. loss: 62.899171\n",
      "Total training time: 0.00 seconds.\n",
      "-- Epoch 26\n",
      "Norm: 8.25, NNZs: 1, Bias: 1.133737, T: 104, Avg. loss: 56.484105\n",
      "Total training time: 0.00 seconds.\n",
      "-- Epoch 27\n",
      "Norm: 8.33, NNZs: 1, Bias: 1.144621, T: 108, Avg. loss: 50.807422\n",
      "Total training time: 0.00 seconds.\n",
      "-- Epoch 28\n",
      "Norm: 8.41, NNZs: 1, Bias: 1.154906, T: 112, Avg. loss: 45.724701\n",
      "Total training time: 0.00 seconds.\n",
      "-- Epoch 29\n",
      "Norm: 8.48, NNZs: 1, Bias: 1.164496, T: 116, Avg. loss: 41.213445\n",
      "Total training time: 0.00 seconds.\n",
      "-- Epoch 30\n",
      "Norm: 8.54, NNZs: 1, Bias: 1.173572, T: 120, Avg. loss: 37.164574\n",
      "Total training time: 0.00 seconds.\n",
      "-- Epoch 31\n",
      "Norm: 8.61, NNZs: 1, Bias: 1.182046, T: 124, Avg. loss: 33.561194\n",
      "Total training time: 0.00 seconds.\n",
      "-- Epoch 32\n",
      "Norm: 8.67, NNZs: 1, Bias: 1.190077, T: 128, Avg. loss: 30.320171\n",
      "Total training time: 0.00 seconds.\n",
      "-- Epoch 33\n",
      "Norm: 8.72, NNZs: 1, Bias: 1.197582, T: 132, Avg. loss: 27.428675\n",
      "Total training time: 0.00 seconds.\n",
      "-- Epoch 34\n",
      "Norm: 8.78, NNZs: 1, Bias: 1.204704, T: 136, Avg. loss: 24.822844\n",
      "Total training time: 0.00 seconds.\n",
      "-- Epoch 35\n",
      "Norm: 8.83, NNZs: 1, Bias: 1.211366, T: 140, Avg. loss: 22.492833\n",
      "Total training time: 0.00 seconds.\n",
      "-- Epoch 36\n",
      "Norm: 8.87, NNZs: 1, Bias: 1.217695, T: 144, Avg. loss: 20.389243\n",
      "Total training time: 0.00 seconds.\n",
      "-- Epoch 37\n",
      "Norm: 8.92, NNZs: 1, Bias: 1.223620, T: 148, Avg. loss: 18.504445\n",
      "Total training time: 0.00 seconds.\n",
      "-- Epoch 38\n",
      "Norm: 8.96, NNZs: 1, Bias: 1.229254, T: 152, Avg. loss: 16.799994\n",
      "Total training time: 0.00 seconds.\n",
      "-- Epoch 39\n",
      "Norm: 9.00, NNZs: 1, Bias: 1.234531, T: 156, Avg. loss: 15.269920\n",
      "Total training time: 0.00 seconds.\n",
      "-- Epoch 40\n",
      "Norm: 9.04, NNZs: 1, Bias: 1.239554, T: 160, Avg. loss: 13.884139\n",
      "Total training time: 0.00 seconds.\n",
      "-- Epoch 41\n",
      "Norm: 9.07, NNZs: 1, Bias: 1.244262, T: 164, Avg. loss: 12.637941\n",
      "Total training time: 0.00 seconds.\n",
      "-- Epoch 42\n",
      "Norm: 9.11, NNZs: 1, Bias: 1.248747, T: 168, Avg. loss: 11.507667\n",
      "Total training time: 0.00 seconds.\n",
      "-- Epoch 43\n",
      "Norm: 9.14, NNZs: 1, Bias: 1.252952, T: 172, Avg. loss: 10.489570\n",
      "Total training time: 0.00 seconds.\n",
      "-- Epoch 44\n",
      "Norm: 9.17, NNZs: 1, Bias: 1.256961, T: 176, Avg. loss: 9.564962\n",
      "Total training time: 0.00 seconds.\n",
      "-- Epoch 45\n",
      "Norm: 9.20, NNZs: 1, Bias: 1.260721, T: 180, Avg. loss: 8.730837\n",
      "Total training time: 0.00 seconds.\n",
      "-- Epoch 46\n",
      "Norm: 9.23, NNZs: 1, Bias: 1.264309, T: 184, Avg. loss: 7.972376\n",
      "Total training time: 0.00 seconds.\n",
      "-- Epoch 47\n",
      "Norm: 9.25, NNZs: 1, Bias: 1.267674, T: 188, Avg. loss: 7.287149\n",
      "Total training time: 0.00 seconds.\n",
      "-- Epoch 48\n",
      "Norm: 9.28, NNZs: 1, Bias: 1.270887, T: 192, Avg. loss: 6.663361\n",
      "Total training time: 0.00 seconds.\n",
      "-- Epoch 49\n",
      "Norm: 9.30, NNZs: 1, Bias: 1.273901, T: 196, Avg. loss: 6.099035\n",
      "Total training time: 0.00 seconds.\n",
      "-- Epoch 50\n",
      "Norm: 9.33, NNZs: 1, Bias: 1.276780, T: 200, Avg. loss: 5.584754\n",
      "Total training time: 0.00 seconds.\n",
      "-- Epoch 51\n",
      "Norm: 9.35, NNZs: 1, Bias: 1.279482, T: 204, Avg. loss: 5.118894\n",
      "Total training time: 0.00 seconds.\n",
      "-- Epoch 52\n",
      "Norm: 9.37, NNZs: 1, Bias: 1.282064, T: 208, Avg. loss: 4.693917\n",
      "Total training time: 0.00 seconds.\n",
      "-- Epoch 53\n",
      "Norm: 9.39, NNZs: 1, Bias: 1.284487, T: 212, Avg. loss: 4.308480\n",
      "Total training time: 0.00 seconds.\n",
      "-- Epoch 54\n",
      "Norm: 9.41, NNZs: 1, Bias: 1.286803, T: 216, Avg. loss: 3.956532\n",
      "Total training time: 0.00 seconds.\n",
      "-- Epoch 55\n",
      "Norm: 9.42, NNZs: 1, Bias: 1.288976, T: 220, Avg. loss: 3.636956\n",
      "Total training time: 0.00 seconds.\n",
      "-- Epoch 56\n",
      "Norm: 9.44, NNZs: 1, Bias: 1.291054, T: 224, Avg. loss: 3.344885\n",
      "Total training time: 0.00 seconds.\n",
      "-- Epoch 57\n",
      "Norm: 9.46, NNZs: 1, Bias: 1.293003, T: 228, Avg. loss: 3.079380\n",
      "Total training time: 0.00 seconds.\n",
      "-- Epoch 58\n",
      "Norm: 9.47, NNZs: 1, Bias: 1.294869, T: 232, Avg. loss: 2.836521\n",
      "Total training time: 0.00 seconds.\n",
      "-- Epoch 59\n",
      "Norm: 9.49, NNZs: 1, Bias: 1.296617, T: 236, Avg. loss: 2.615515\n",
      "Total training time: 0.00 seconds.\n",
      "-- Epoch 60\n",
      "Norm: 9.50, NNZs: 1, Bias: 1.298291, T: 240, Avg. loss: 2.413199\n",
      "Total training time: 0.00 seconds.\n",
      "-- Epoch 61\n",
      "Norm: 9.51, NNZs: 1, Bias: 1.299860, T: 244, Avg. loss: 2.228896\n",
      "Total training time: 0.00 seconds.\n",
      "-- Epoch 62\n",
      "Norm: 9.53, NNZs: 1, Bias: 1.301362, T: 248, Avg. loss: 2.060052\n",
      "Total training time: 0.00 seconds.\n",
      "-- Epoch 63\n",
      "Norm: 9.54, NNZs: 1, Bias: 1.302768, T: 252, Avg. loss: 1.906088\n",
      "Total training time: 0.00 seconds.\n",
      "-- Epoch 64\n",
      "Norm: 9.55, NNZs: 1, Bias: 1.304115, T: 256, Avg. loss: 1.764937\n",
      "Total training time: 0.00 seconds.\n",
      "-- Epoch 65\n",
      "Norm: 9.56, NNZs: 1, Bias: 1.305375, T: 260, Avg. loss: 1.636101\n",
      "Total training time: 0.00 seconds.\n",
      "-- Epoch 66\n",
      "Norm: 9.57, NNZs: 1, Bias: 1.306582, T: 264, Avg. loss: 1.517908\n",
      "Total training time: 0.00 seconds.\n",
      "-- Epoch 67\n",
      "Norm: 9.58, NNZs: 1, Bias: 1.307710, T: 268, Avg. loss: 1.409925\n",
      "Total training time: 0.00 seconds.\n",
      "-- Epoch 68\n",
      "Norm: 9.59, NNZs: 1, Bias: 1.308791, T: 272, Avg. loss: 1.310801\n",
      "Total training time: 0.00 seconds.\n",
      "-- Epoch 69\n",
      "Norm: 9.60, NNZs: 1, Bias: 1.309801, T: 276, Avg. loss: 1.220156\n",
      "Total training time: 0.00 seconds.\n",
      "-- Epoch 70\n",
      "Norm: 9.61, NNZs: 1, Bias: 1.310768, T: 280, Avg. loss: 1.136897\n",
      "Total training time: 0.00 seconds.\n",
      "-- Epoch 71\n",
      "Norm: 9.62, NNZs: 1, Bias: 1.311670, T: 284, Avg. loss: 1.060693\n",
      "Total training time: 0.00 seconds.\n",
      "-- Epoch 72\n",
      "Norm: 9.62, NNZs: 1, Bias: 1.312534, T: 288, Avg. loss: 0.990660\n",
      "Total training time: 0.00 seconds.\n",
      "-- Epoch 73\n",
      "Norm: 9.63, NNZs: 1, Bias: 1.313338, T: 292, Avg. loss: 0.926503\n",
      "Total training time: 0.00 seconds.\n",
      "-- Epoch 74\n",
      "Norm: 9.64, NNZs: 1, Bias: 1.314109, T: 296, Avg. loss: 0.867511\n",
      "Total training time: 0.00 seconds.\n",
      "-- Epoch 75\n",
      "Norm: 9.65, NNZs: 1, Bias: 1.314825, T: 300, Avg. loss: 0.813422\n",
      "Total training time: 0.00 seconds.\n",
      "-- Epoch 76\n",
      "Norm: 9.65, NNZs: 1, Bias: 1.315512, T: 304, Avg. loss: 0.763663\n",
      "Total training time: 0.00 seconds.\n",
      "-- Epoch 77\n",
      "Norm: 9.66, NNZs: 1, Bias: 1.316148, T: 308, Avg. loss: 0.718001\n",
      "Total training time: 0.00 seconds.\n",
      "-- Epoch 78\n",
      "Norm: 9.66, NNZs: 1, Bias: 1.316758, T: 312, Avg. loss: 0.675975\n",
      "Total training time: 0.00 seconds.\n",
      "-- Epoch 79\n",
      "Norm: 9.67, NNZs: 1, Bias: 1.317322, T: 316, Avg. loss: 0.637376\n",
      "Total training time: 0.00 seconds.\n",
      "-- Epoch 80\n",
      "Norm: 9.68, NNZs: 1, Bias: 1.317862, T: 320, Avg. loss: 0.601837\n",
      "Total training time: 0.00 seconds.\n",
      "-- Epoch 81\n",
      "Norm: 9.68, NNZs: 1, Bias: 1.318360, T: 324, Avg. loss: 0.569167\n",
      "Total training time: 0.00 seconds.\n",
      "-- Epoch 82\n",
      "Norm: 9.69, NNZs: 1, Bias: 1.318837, T: 328, Avg. loss: 0.539075\n",
      "Total training time: 0.00 seconds.\n",
      "-- Epoch 83\n",
      "Norm: 9.69, NNZs: 1, Bias: 1.319275, T: 332, Avg. loss: 0.511389\n",
      "Total training time: 0.00 seconds.\n",
      "-- Epoch 84\n",
      "Norm: 9.70, NNZs: 1, Bias: 1.319694, T: 336, Avg. loss: 0.485880\n",
      "Total training time: 0.00 seconds.\n",
      "-- Epoch 85\n",
      "Norm: 9.70, NNZs: 1, Bias: 1.320078, T: 340, Avg. loss: 0.462389\n",
      "Total training time: 0.00 seconds.\n",
      "-- Epoch 86\n",
      "Norm: 9.71, NNZs: 1, Bias: 1.320445, T: 344, Avg. loss: 0.440739\n",
      "Total training time: 0.00 seconds.\n",
      "-- Epoch 87\n",
      "Norm: 9.71, NNZs: 1, Bias: 1.320779, T: 348, Avg. loss: 0.420784\n",
      "Total training time: 0.00 seconds.\n",
      "-- Epoch 88\n",
      "Norm: 9.71, NNZs: 1, Bias: 1.321099, T: 352, Avg. loss: 0.402388\n",
      "Total training time: 0.00 seconds.\n",
      "-- Epoch 89\n",
      "Norm: 9.72, NNZs: 1, Bias: 1.321387, T: 356, Avg. loss: 0.385417\n",
      "Total training time: 0.00 seconds.\n",
      "-- Epoch 90\n",
      "Norm: 9.72, NNZs: 1, Bias: 1.321663, T: 360, Avg. loss: 0.369768\n",
      "Total training time: 0.00 seconds.\n",
      "-- Epoch 91\n",
      "Norm: 9.72, NNZs: 1, Bias: 1.321911, T: 364, Avg. loss: 0.355319\n",
      "Total training time: 0.00 seconds.\n",
      "-- Epoch 92\n",
      "Norm: 9.73, NNZs: 1, Bias: 1.322148, T: 368, Avg. loss: 0.341993\n",
      "Total training time: 0.00 seconds.\n",
      "-- Epoch 93\n",
      "Norm: 9.73, NNZs: 1, Bias: 1.322358, T: 372, Avg. loss: 0.329676\n",
      "Total training time: 0.00 seconds.\n",
      "-- Epoch 94\n",
      "Norm: 9.73, NNZs: 1, Bias: 1.322558, T: 376, Avg. loss: 0.318315\n",
      "Total training time: 0.00 seconds.\n",
      "-- Epoch 95\n",
      "Norm: 9.74, NNZs: 1, Bias: 1.322734, T: 380, Avg. loss: 0.307805\n",
      "Total training time: 0.00 seconds.\n",
      "-- Epoch 96\n",
      "Norm: 9.74, NNZs: 1, Bias: 1.322902, T: 384, Avg. loss: 0.298109\n",
      "Total training time: 0.00 seconds.\n",
      "-- Epoch 97\n",
      "Norm: 9.74, NNZs: 1, Bias: 1.323046, T: 388, Avg. loss: 0.289130\n",
      "Total training time: 0.00 seconds.\n",
      "-- Epoch 98\n",
      "Norm: 9.75, NNZs: 1, Bias: 1.323184, T: 392, Avg. loss: 0.280846\n",
      "Total training time: 0.00 seconds.\n",
      "-- Epoch 99\n",
      "Norm: 9.75, NNZs: 1, Bias: 1.323300, T: 396, Avg. loss: 0.273167\n",
      "Total training time: 0.00 seconds.\n",
      "-- Epoch 100\n",
      "Norm: 9.75, NNZs: 1, Bias: 1.323410, T: 400, Avg. loss: 0.266083\n",
      "Total training time: 0.00 seconds.\n",
      "-- Epoch 101\n",
      "Norm: 9.75, NNZs: 1, Bias: 1.323500, T: 404, Avg. loss: 0.259508\n",
      "Total training time: 0.00 seconds.\n",
      "-- Epoch 102\n",
      "Norm: 9.76, NNZs: 1, Bias: 1.323584, T: 408, Avg. loss: 0.253442\n",
      "Total training time: 0.00 seconds.\n",
      "-- Epoch 103\n",
      "Norm: 9.76, NNZs: 1, Bias: 1.323651, T: 412, Avg. loss: 0.247806\n",
      "Total training time: 0.00 seconds.\n",
      "-- Epoch 104\n",
      "Norm: 9.76, NNZs: 1, Bias: 1.323712, T: 416, Avg. loss: 0.242608\n",
      "Total training time: 0.00 seconds.\n",
      "-- Epoch 105\n",
      "Norm: 9.76, NNZs: 1, Bias: 1.323757, T: 420, Avg. loss: 0.237771\n",
      "Total training time: 0.00 seconds.\n",
      "-- Epoch 106\n",
      "Norm: 9.76, NNZs: 1, Bias: 1.323798, T: 424, Avg. loss: 0.233311\n",
      "Total training time: 0.00 seconds.\n",
      "-- Epoch 107\n",
      "Norm: 9.77, NNZs: 1, Bias: 1.323822, T: 428, Avg. loss: 0.229156\n",
      "Total training time: 0.00 seconds.\n",
      "-- Epoch 108\n",
      "Norm: 9.77, NNZs: 1, Bias: 1.323844, T: 432, Avg. loss: 0.225325\n",
      "Total training time: 0.00 seconds.\n",
      "-- Epoch 109\n",
      "Norm: 9.77, NNZs: 1, Bias: 1.323850, T: 436, Avg. loss: 0.221751\n",
      "Total training time: 0.00 seconds.\n",
      "-- Epoch 110\n",
      "Norm: 9.77, NNZs: 1, Bias: 1.323854, T: 440, Avg. loss: 0.218458\n",
      "Total training time: 0.00 seconds.\n",
      "-- Epoch 111\n",
      "Norm: 9.77, NNZs: 1, Bias: 1.323843, T: 444, Avg. loss: 0.215380\n",
      "Total training time: 0.00 seconds.\n",
      "-- Epoch 112\n",
      "Norm: 9.77, NNZs: 1, Bias: 1.323831, T: 448, Avg. loss: 0.212544\n",
      "Total training time: 0.00 seconds.\n",
      "-- Epoch 113\n",
      "Norm: 9.78, NNZs: 1, Bias: 1.323805, T: 452, Avg. loss: 0.209890\n",
      "Total training time: 0.00 seconds.\n",
      "-- Epoch 114\n",
      "Norm: 9.78, NNZs: 1, Bias: 1.323778, T: 456, Avg. loss: 0.207447\n",
      "Total training time: 0.00 seconds.\n",
      "-- Epoch 115\n",
      "Norm: 9.78, NNZs: 1, Bias: 1.323738, T: 460, Avg. loss: 0.205156\n",
      "Total training time: 0.00 seconds.\n",
      "-- Epoch 116\n",
      "Norm: 9.78, NNZs: 1, Bias: 1.323698, T: 464, Avg. loss: 0.203047\n",
      "Total training time: 0.00 seconds.\n",
      "-- Epoch 117\n",
      "Norm: 9.78, NNZs: 1, Bias: 1.323645, T: 468, Avg. loss: 0.201066\n",
      "Total training time: 0.00 seconds.\n",
      "-- Epoch 118\n",
      "Norm: 9.78, NNZs: 1, Bias: 1.323592, T: 472, Avg. loss: 0.199245\n",
      "Total training time: 0.00 seconds.\n",
      "-- Epoch 119\n",
      "Norm: 9.78, NNZs: 1, Bias: 1.323528, T: 476, Avg. loss: 0.197530\n",
      "Total training time: 0.00 seconds.\n",
      "-- Epoch 120\n",
      "Norm: 9.78, NNZs: 1, Bias: 1.323463, T: 480, Avg. loss: 0.195955\n",
      "Total training time: 0.00 seconds.\n",
      "-- Epoch 121\n",
      "Norm: 9.79, NNZs: 1, Bias: 1.323388, T: 484, Avg. loss: 0.194467\n",
      "Total training time: 0.00 seconds.\n",
      "-- Epoch 122\n",
      "Norm: 9.79, NNZs: 1, Bias: 1.323313, T: 488, Avg. loss: 0.193103\n",
      "Total training time: 0.00 seconds.\n",
      "-- Epoch 123\n",
      "Norm: 9.79, NNZs: 1, Bias: 1.323228, T: 492, Avg. loss: 0.191811\n",
      "Total training time: 0.00 seconds.\n",
      "-- Epoch 124\n",
      "Norm: 9.79, NNZs: 1, Bias: 1.323144, T: 496, Avg. loss: 0.190628\n",
      "Total training time: 0.00 seconds.\n",
      "-- Epoch 125\n",
      "Norm: 9.79, NNZs: 1, Bias: 1.323050, T: 500, Avg. loss: 0.189504\n",
      "Total training time: 0.00 seconds.\n",
      "-- Epoch 126\n",
      "Norm: 9.79, NNZs: 1, Bias: 1.322957, T: 504, Avg. loss: 0.188476\n",
      "Total training time: 0.00 seconds.\n",
      "-- Epoch 127\n",
      "Norm: 9.79, NNZs: 1, Bias: 1.322854, T: 508, Avg. loss: 0.187497\n",
      "Total training time: 0.00 seconds.\n",
      "-- Epoch 128\n",
      "Norm: 9.79, NNZs: 1, Bias: 1.322754, T: 512, Avg. loss: 0.186603\n",
      "Total training time: 0.00 seconds.\n",
      "-- Epoch 129\n",
      "Norm: 9.79, NNZs: 1, Bias: 1.322643, T: 516, Avg. loss: 0.185748\n",
      "Total training time: 0.00 seconds.\n",
      "-- Epoch 130\n",
      "Norm: 9.79, NNZs: 1, Bias: 1.322535, T: 520, Avg. loss: 0.184968\n",
      "Total training time: 0.00 seconds.\n",
      "-- Epoch 131\n",
      "Norm: 9.79, NNZs: 1, Bias: 1.322418, T: 524, Avg. loss: 0.184220\n",
      "Total training time: 0.00 seconds.\n",
      "Convergence after 131 epochs took 0.00 seconds\n"
     ]
    },
    {
     "data": {
      "text/plain": [
       "SGDRegressor(eta0=0.001, max_iter=5000, verbose=1)"
      ]
     },
     "execution_count": 302,
     "metadata": {},
     "output_type": "execute_result"
    }
   ],
   "source": [
    "from sklearn.linear_model import SGDRegressor\n",
    "\n",
    "# 모델 생성, 하이퍼파라미터 설정 \n",
    "sgd_model=SGDRegressor(max_iter=5000, # 가중치 업데이트 반복 횟수 (epoch)\n",
    "                       eta0=0.001,    # 학습률 (가중치 변동폭)\n",
    "                       verbose=1)     # 학습 과정 확인 \n",
    "\n",
    "# 학습 \n",
    "sgd_model.fit(data[['시간']],data['성적'])"
   ]
  },
  {
   "cell_type": "code",
   "execution_count": 303,
   "id": "81da4fde",
   "metadata": {
    "ExecuteTime": {
     "end_time": "2023-09-19T07:11:38.353186Z",
     "start_time": "2023-09-19T07:11:38.339105Z"
    }
   },
   "outputs": [
    {
     "name": "stderr",
     "output_type": "stream",
     "text": [
      "C:\\Users\\user\\anaconda3\\lib\\site-packages\\sklearn\\base.py:450: UserWarning: X does not have valid feature names, but SGDRegressor was fitted with feature names\n",
      "  warnings.warn(\n"
     ]
    },
    {
     "data": {
      "text/plain": [
       "array([69.88317042])"
      ]
     },
     "execution_count": 303,
     "metadata": {},
     "output_type": "execute_result"
    }
   ],
   "source": [
    "# 예측 \n",
    "sgd_model.predict([[7]])"
   ]
  },
  {
   "cell_type": "code",
   "execution_count": 304,
   "id": "ca99aec6",
   "metadata": {
    "ExecuteTime": {
     "end_time": "2023-09-19T07:11:38.368475Z",
     "start_time": "2023-09-19T07:11:38.354064Z"
    }
   },
   "outputs": [
    {
     "name": "stdout",
     "output_type": "stream",
     "text": [
      "[9.7943932]\n",
      "[1.32241804]\n"
     ]
    }
   ],
   "source": [
    "# 가중치 (w), 편향 (b) 확인하기 \n",
    "print(sgd_model.coef_)\n",
    "print(sgd_model.intercept_)"
   ]
  },
  {
   "cell_type": "code",
   "execution_count": 305,
   "id": "4f3b4459",
   "metadata": {
    "ExecuteTime": {
     "end_time": "2023-09-19T07:11:38.383431Z",
     "start_time": "2023-09-19T07:11:38.369377Z"
    }
   },
   "outputs": [
    {
     "data": {
      "text/plain": [
       "0.9995532582690322"
      ]
     },
     "execution_count": 305,
     "metadata": {},
     "output_type": "execute_result"
    }
   ],
   "source": [
    "sgd_model.score(data[['시간']],data['성적'])\n",
    "# 1 에 가까울수록 모델이 예측한 성능이 높다고 판단 \n",
    "# 모델의 예측 성능을 판단하는 기준 "
   ]
  },
  {
   "cell_type": "code",
   "execution_count": null,
   "id": "90352371",
   "metadata": {},
   "outputs": [],
   "source": []
  }
 ],
 "metadata": {
  "kernelspec": {
   "display_name": "Python 3 (ipykernel)",
   "language": "python",
   "name": "python3"
  },
  "language_info": {
   "codemirror_mode": {
    "name": "ipython",
    "version": 3
   },
   "file_extension": ".py",
   "mimetype": "text/x-python",
   "name": "python",
   "nbconvert_exporter": "python",
   "pygments_lexer": "ipython3",
   "version": "3.9.13"
  },
  "toc": {
   "base_numbering": 1,
   "nav_menu": {},
   "number_sections": true,
   "sideBar": true,
   "skip_h1_title": false,
   "title_cell": "Table of Contents",
   "title_sidebar": "Contents",
   "toc_cell": false,
   "toc_position": {},
   "toc_section_display": true,
   "toc_window_display": false
  },
  "varInspector": {
   "cols": {
    "lenName": 16,
    "lenType": 16,
    "lenVar": 40
   },
   "kernels_config": {
    "python": {
     "delete_cmd_postfix": "",
     "delete_cmd_prefix": "del ",
     "library": "var_list.py",
     "varRefreshCmd": "print(var_dic_list())"
    },
    "r": {
     "delete_cmd_postfix": ") ",
     "delete_cmd_prefix": "rm(",
     "library": "var_list.r",
     "varRefreshCmd": "cat(var_dic_list()) "
    }
   },
   "types_to_exclude": [
    "module",
    "function",
    "builtin_function_or_method",
    "instance",
    "_Feature"
   ],
   "window_display": false
  }
 },
 "nbformat": 4,
 "nbformat_minor": 5
}
