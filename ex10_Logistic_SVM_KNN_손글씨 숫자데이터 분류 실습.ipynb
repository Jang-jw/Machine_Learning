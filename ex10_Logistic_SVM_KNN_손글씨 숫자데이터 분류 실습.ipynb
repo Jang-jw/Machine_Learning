{
 "cells": [
  {
   "cell_type": "markdown",
   "id": "309d4d4e",
   "metadata": {},
   "source": [
    "### 문제정의\n",
    "- 손 글씨 숫자 (0 ~ 9) 를 분류하는 모델을 만들어보자\n",
    "- 이미지 데이터의 형태를 이해해보자 "
   ]
  },
  {
   "cell_type": "markdown",
   "id": "2fbd7701",
   "metadata": {},
   "source": [
    "### 데이터 수집"
   ]
  },
  {
   "cell_type": "code",
   "execution_count": 5,
   "id": "ea0213e8",
   "metadata": {
    "ExecuteTime": {
     "end_time": "2023-09-20T06:36:03.245384Z",
     "start_time": "2023-09-20T06:36:02.734578Z"
    }
   },
   "outputs": [],
   "source": [
    "import numpy as np\n",
    "import pandas as pd\n",
    "import matplotlib.pyplot as plt"
   ]
  },
  {
   "cell_type": "code",
   "execution_count": 3,
   "id": "9ec98992",
   "metadata": {
    "ExecuteTime": {
     "end_time": "2023-09-20T06:34:02.425553Z",
     "start_time": "2023-09-20T06:34:00.805951Z"
    }
   },
   "outputs": [
    {
     "data": {
      "text/html": [
       "<div>\n",
       "<style scoped>\n",
       "    .dataframe tbody tr th:only-of-type {\n",
       "        vertical-align: middle;\n",
       "    }\n",
       "\n",
       "    .dataframe tbody tr th {\n",
       "        vertical-align: top;\n",
       "    }\n",
       "\n",
       "    .dataframe thead th {\n",
       "        text-align: right;\n",
       "    }\n",
       "</style>\n",
       "<table border=\"1\" class=\"dataframe\">\n",
       "  <thead>\n",
       "    <tr style=\"text-align: right;\">\n",
       "      <th></th>\n",
       "      <th>label</th>\n",
       "      <th>pixel0</th>\n",
       "      <th>pixel1</th>\n",
       "      <th>pixel2</th>\n",
       "      <th>pixel3</th>\n",
       "      <th>pixel4</th>\n",
       "      <th>pixel5</th>\n",
       "      <th>pixel6</th>\n",
       "      <th>pixel7</th>\n",
       "      <th>pixel8</th>\n",
       "      <th>...</th>\n",
       "      <th>pixel774</th>\n",
       "      <th>pixel775</th>\n",
       "      <th>pixel776</th>\n",
       "      <th>pixel777</th>\n",
       "      <th>pixel778</th>\n",
       "      <th>pixel779</th>\n",
       "      <th>pixel780</th>\n",
       "      <th>pixel781</th>\n",
       "      <th>pixel782</th>\n",
       "      <th>pixel783</th>\n",
       "    </tr>\n",
       "  </thead>\n",
       "  <tbody>\n",
       "    <tr>\n",
       "      <th>0</th>\n",
       "      <td>1</td>\n",
       "      <td>0</td>\n",
       "      <td>0</td>\n",
       "      <td>0</td>\n",
       "      <td>0</td>\n",
       "      <td>0</td>\n",
       "      <td>0</td>\n",
       "      <td>0</td>\n",
       "      <td>0</td>\n",
       "      <td>0</td>\n",
       "      <td>...</td>\n",
       "      <td>0</td>\n",
       "      <td>0</td>\n",
       "      <td>0</td>\n",
       "      <td>0</td>\n",
       "      <td>0</td>\n",
       "      <td>0</td>\n",
       "      <td>0</td>\n",
       "      <td>0</td>\n",
       "      <td>0</td>\n",
       "      <td>0</td>\n",
       "    </tr>\n",
       "    <tr>\n",
       "      <th>1</th>\n",
       "      <td>0</td>\n",
       "      <td>0</td>\n",
       "      <td>0</td>\n",
       "      <td>0</td>\n",
       "      <td>0</td>\n",
       "      <td>0</td>\n",
       "      <td>0</td>\n",
       "      <td>0</td>\n",
       "      <td>0</td>\n",
       "      <td>0</td>\n",
       "      <td>...</td>\n",
       "      <td>0</td>\n",
       "      <td>0</td>\n",
       "      <td>0</td>\n",
       "      <td>0</td>\n",
       "      <td>0</td>\n",
       "      <td>0</td>\n",
       "      <td>0</td>\n",
       "      <td>0</td>\n",
       "      <td>0</td>\n",
       "      <td>0</td>\n",
       "    </tr>\n",
       "    <tr>\n",
       "      <th>2</th>\n",
       "      <td>1</td>\n",
       "      <td>0</td>\n",
       "      <td>0</td>\n",
       "      <td>0</td>\n",
       "      <td>0</td>\n",
       "      <td>0</td>\n",
       "      <td>0</td>\n",
       "      <td>0</td>\n",
       "      <td>0</td>\n",
       "      <td>0</td>\n",
       "      <td>...</td>\n",
       "      <td>0</td>\n",
       "      <td>0</td>\n",
       "      <td>0</td>\n",
       "      <td>0</td>\n",
       "      <td>0</td>\n",
       "      <td>0</td>\n",
       "      <td>0</td>\n",
       "      <td>0</td>\n",
       "      <td>0</td>\n",
       "      <td>0</td>\n",
       "    </tr>\n",
       "    <tr>\n",
       "      <th>3</th>\n",
       "      <td>4</td>\n",
       "      <td>0</td>\n",
       "      <td>0</td>\n",
       "      <td>0</td>\n",
       "      <td>0</td>\n",
       "      <td>0</td>\n",
       "      <td>0</td>\n",
       "      <td>0</td>\n",
       "      <td>0</td>\n",
       "      <td>0</td>\n",
       "      <td>...</td>\n",
       "      <td>0</td>\n",
       "      <td>0</td>\n",
       "      <td>0</td>\n",
       "      <td>0</td>\n",
       "      <td>0</td>\n",
       "      <td>0</td>\n",
       "      <td>0</td>\n",
       "      <td>0</td>\n",
       "      <td>0</td>\n",
       "      <td>0</td>\n",
       "    </tr>\n",
       "    <tr>\n",
       "      <th>4</th>\n",
       "      <td>0</td>\n",
       "      <td>0</td>\n",
       "      <td>0</td>\n",
       "      <td>0</td>\n",
       "      <td>0</td>\n",
       "      <td>0</td>\n",
       "      <td>0</td>\n",
       "      <td>0</td>\n",
       "      <td>0</td>\n",
       "      <td>0</td>\n",
       "      <td>...</td>\n",
       "      <td>0</td>\n",
       "      <td>0</td>\n",
       "      <td>0</td>\n",
       "      <td>0</td>\n",
       "      <td>0</td>\n",
       "      <td>0</td>\n",
       "      <td>0</td>\n",
       "      <td>0</td>\n",
       "      <td>0</td>\n",
       "      <td>0</td>\n",
       "    </tr>\n",
       "  </tbody>\n",
       "</table>\n",
       "<p>5 rows × 785 columns</p>\n",
       "</div>"
      ],
      "text/plain": [
       "   label  pixel0  pixel1  pixel2  pixel3  pixel4  pixel5  pixel6  pixel7  \\\n",
       "0      1       0       0       0       0       0       0       0       0   \n",
       "1      0       0       0       0       0       0       0       0       0   \n",
       "2      1       0       0       0       0       0       0       0       0   \n",
       "3      4       0       0       0       0       0       0       0       0   \n",
       "4      0       0       0       0       0       0       0       0       0   \n",
       "\n",
       "   pixel8  ...  pixel774  pixel775  pixel776  pixel777  pixel778  pixel779  \\\n",
       "0       0  ...         0         0         0         0         0         0   \n",
       "1       0  ...         0         0         0         0         0         0   \n",
       "2       0  ...         0         0         0         0         0         0   \n",
       "3       0  ...         0         0         0         0         0         0   \n",
       "4       0  ...         0         0         0         0         0         0   \n",
       "\n",
       "   pixel780  pixel781  pixel782  pixel783  \n",
       "0         0         0         0         0  \n",
       "1         0         0         0         0  \n",
       "2         0         0         0         0  \n",
       "3         0         0         0         0  \n",
       "4         0         0         0         0  \n",
       "\n",
       "[5 rows x 785 columns]"
      ]
     },
     "execution_count": 3,
     "metadata": {},
     "output_type": "execute_result"
    }
   ],
   "source": [
    "data=pd.read_csv('./data/digit_train.csv')\n",
    "data.head()\n",
    "\n",
    "# label : 정답 \n",
    "# pixel 0 ~ 783 : 28 * 28 이미지 데이터"
   ]
  },
  {
   "cell_type": "code",
   "execution_count": 4,
   "id": "953a8d75",
   "metadata": {
    "ExecuteTime": {
     "end_time": "2023-09-20T06:34:08.181413Z",
     "start_time": "2023-09-20T06:34:08.174432Z"
    }
   },
   "outputs": [
    {
     "data": {
      "text/plain": [
       "(42000, 785)"
      ]
     },
     "execution_count": 4,
     "metadata": {},
     "output_type": "execute_result"
    }
   ],
   "source": [
    "data.shape"
   ]
  },
  {
   "cell_type": "code",
   "execution_count": 8,
   "id": "9d2be497",
   "metadata": {
    "ExecuteTime": {
     "end_time": "2023-09-20T06:41:30.955665Z",
     "start_time": "2023-09-20T06:41:30.943723Z"
    },
    "collapsed": true
   },
   "outputs": [
    {
     "data": {
      "text/plain": [
       "pixel0      0\n",
       "pixel1      0\n",
       "pixel2      0\n",
       "pixel3      0\n",
       "pixel4      0\n",
       "           ..\n",
       "pixel779    0\n",
       "pixel780    0\n",
       "pixel781    0\n",
       "pixel782    0\n",
       "pixel783    0\n",
       "Name: 0, Length: 784, dtype: int64"
      ]
     },
     "execution_count": 8,
     "metadata": {},
     "output_type": "execute_result"
    }
   ],
   "source": [
    "# 데이터 시각화 \n",
    "# 이미지 데이터로 첫번째 행의 label 을 제외한 모든 컬럼을 가져오기 \n",
    "\n",
    "img0=data.iloc[0,1:]\n",
    "img0"
   ]
  },
  {
   "cell_type": "code",
   "execution_count": 9,
   "id": "f3cef4a1",
   "metadata": {
    "ExecuteTime": {
     "end_time": "2023-09-20T06:41:56.312884Z",
     "start_time": "2023-09-20T06:41:56.301886Z"
    },
    "collapsed": true
   },
   "outputs": [
    {
     "data": {
      "text/plain": [
       "array([  0,   0,   0,   0,   0,   0,   0,   0,   0,   0,   0,   0,   0,\n",
       "         0,   0,   0,   0,   0,   0,   0,   0,   0,   0,   0,   0,   0,\n",
       "         0,   0,   0,   0,   0,   0,   0,   0,   0,   0,   0,   0,   0,\n",
       "         0,   0,   0,   0,   0,   0,   0,   0,   0,   0,   0,   0,   0,\n",
       "         0,   0,   0,   0,   0,   0,   0,   0,   0,   0,   0,   0,   0,\n",
       "         0,   0,   0,   0,   0,   0,   0,   0,   0,   0,   0,   0,   0,\n",
       "         0,   0,   0,   0,   0,   0,   0,   0,   0,   0,   0,   0,   0,\n",
       "         0,   0,   0,   0,   0,   0,   0,   0,   0,   0,   0,   0,   0,\n",
       "         0,   0,   0,   0,   0,   0,   0,   0,   0,   0,   0,   0,   0,\n",
       "         0,   0,   0,   0,   0,   0,   0,   0,   0,   0,   0,   0,   0,\n",
       "         0,   0, 188, 255,  94,   0,   0,   0,   0,   0,   0,   0,   0,\n",
       "         0,   0,   0,   0,   0,   0,   0,   0,   0,   0,   0,   0,   0,\n",
       "         0,   0,   0, 191, 250, 253,  93,   0,   0,   0,   0,   0,   0,\n",
       "         0,   0,   0,   0,   0,   0,   0,   0,   0,   0,   0,   0,   0,\n",
       "         0,   0,   0,   0, 123, 248, 253, 167,  10,   0,   0,   0,   0,\n",
       "         0,   0,   0,   0,   0,   0,   0,   0,   0,   0,   0,   0,   0,\n",
       "         0,   0,   0,   0,   0,  80, 247, 253, 208,  13,   0,   0,   0,\n",
       "         0,   0,   0,   0,   0,   0,   0,   0,   0,   0,   0,   0,   0,\n",
       "         0,   0,   0,   0,   0,   0,  29, 207, 253, 235,  77,   0,   0,\n",
       "         0,   0,   0,   0,   0,   0,   0,   0,   0,   0,   0,   0,   0,\n",
       "         0,   0,   0,   0,   0,   0,   0,  54, 209, 253, 253,  88,   0,\n",
       "         0,   0,   0,   0,   0,   0,   0,   0,   0,   0,   0,   0,   0,\n",
       "         0,   0,   0,   0,   0,   0,   0,   0,  93, 254, 253, 238, 170,\n",
       "        17,   0,   0,   0,   0,   0,   0,   0,   0,   0,   0,   0,   0,\n",
       "         0,   0,   0,   0,   0,   0,   0,   0,   0,  23, 210, 254, 253,\n",
       "       159,   0,   0,   0,   0,   0,   0,   0,   0,   0,   0,   0,   0,\n",
       "         0,   0,   0,   0,   0,   0,   0,   0,   0,   0,  16, 209, 253,\n",
       "       254, 240,  81,   0,   0,   0,   0,   0,   0,   0,   0,   0,   0,\n",
       "         0,   0,   0,   0,   0,   0,   0,   0,   0,   0,   0,   0,  27,\n",
       "       253, 253, 254,  13,   0,   0,   0,   0,   0,   0,   0,   0,   0,\n",
       "         0,   0,   0,   0,   0,   0,   0,   0,   0,   0,   0,   0,   0,\n",
       "        20, 206, 254, 254, 198,   7,   0,   0,   0,   0,   0,   0,   0,\n",
       "         0,   0,   0,   0,   0,   0,   0,   0,   0,   0,   0,   0,   0,\n",
       "         0,   0, 168, 253, 253, 196,   7,   0,   0,   0,   0,   0,   0,\n",
       "         0,   0,   0,   0,   0,   0,   0,   0,   0,   0,   0,   0,   0,\n",
       "         0,   0,   0,  20, 203, 253, 248,  76,   0,   0,   0,   0,   0,\n",
       "         0,   0,   0,   0,   0,   0,   0,   0,   0,   0,   0,   0,   0,\n",
       "         0,   0,   0,   0,  22, 188, 253, 245,  93,   0,   0,   0,   0,\n",
       "         0,   0,   0,   0,   0,   0,   0,   0,   0,   0,   0,   0,   0,\n",
       "         0,   0,   0,   0,   0,   0, 103, 253, 253, 191,   0,   0,   0,\n",
       "         0,   0,   0,   0,   0,   0,   0,   0,   0,   0,   0,   0,   0,\n",
       "         0,   0,   0,   0,   0,   0,   0,  89, 240, 253, 195,  25,   0,\n",
       "         0,   0,   0,   0,   0,   0,   0,   0,   0,   0,   0,   0,   0,\n",
       "         0,   0,   0,   0,   0,   0,   0,   0,  15, 220, 253, 253,  80,\n",
       "         0,   0,   0,   0,   0,   0,   0,   0,   0,   0,   0,   0,   0,\n",
       "         0,   0,   0,   0,   0,   0,   0,   0,   0,   0,  94, 253, 253,\n",
       "       253,  94,   0,   0,   0,   0,   0,   0,   0,   0,   0,   0,   0,\n",
       "         0,   0,   0,   0,   0,   0,   0,   0,   0,   0,   0,   0,  89,\n",
       "       251, 253, 250, 131,   0,   0,   0,   0,   0,   0,   0,   0,   0,\n",
       "         0,   0,   0,   0,   0,   0,   0,   0,   0,   0,   0,   0,   0,\n",
       "         0,   0, 214, 218,  95,   0,   0,   0,   0,   0,   0,   0,   0,\n",
       "         0,   0,   0,   0,   0,   0,   0,   0,   0,   0,   0,   0,   0,\n",
       "         0,   0,   0,   0,   0,   0,   0,   0,   0,   0,   0,   0,   0,\n",
       "         0,   0,   0,   0,   0,   0,   0,   0,   0,   0,   0,   0,   0,\n",
       "         0,   0,   0,   0,   0,   0,   0,   0,   0,   0,   0,   0,   0,\n",
       "         0,   0,   0,   0,   0,   0,   0,   0,   0,   0,   0,   0,   0,\n",
       "         0,   0,   0,   0,   0,   0,   0,   0,   0,   0,   0,   0,   0,\n",
       "         0,   0,   0,   0,   0,   0,   0,   0,   0,   0,   0,   0,   0,\n",
       "         0,   0,   0,   0,   0,   0,   0,   0,   0,   0,   0,   0,   0,\n",
       "         0,   0,   0,   0,   0,   0,   0,   0,   0,   0,   0,   0,   0,\n",
       "         0,   0,   0,   0], dtype=int64)"
      ]
     },
     "execution_count": 9,
     "metadata": {},
     "output_type": "execute_result"
    }
   ],
   "source": [
    "img0.values"
   ]
  },
  {
   "cell_type": "code",
   "execution_count": 11,
   "id": "b6f9de26",
   "metadata": {
    "ExecuteTime": {
     "end_time": "2023-09-20T06:44:22.921035Z",
     "start_time": "2023-09-20T06:44:22.903048Z"
    }
   },
   "outputs": [],
   "source": [
    "# 리스트 자료형을 28 * 28 의 2차원으로 변환 \n",
    "img0_reshape=img0.values.reshape(28,28)"
   ]
  },
  {
   "cell_type": "code",
   "execution_count": 15,
   "id": "e4c16f1e",
   "metadata": {
    "ExecuteTime": {
     "end_time": "2023-09-20T06:46:33.455721Z",
     "start_time": "2023-09-20T06:46:33.350965Z"
    },
    "collapsed": true
   },
   "outputs": [
    {
     "data": {
      "image/png": "[encoded data removed]",
      "text/plain": [
       "<Figure size 640x480 with 1 Axes>"
      ]
     },
     "metadata": {},
     "output_type": "display_data"
    }
   ],
   "source": [
    "# 이미지 하나를 그려보기\n",
    "plt.imshow(img0_reshape,cmap='gray')\n",
    "plt.show() # 이미지 출력시 불필요한 문자출력 생략 "
   ]
  },
  {
   "cell_type": "code",
   "execution_count": 20,
   "id": "71eb7edc",
   "metadata": {
    "ExecuteTime": {
     "end_time": "2023-09-20T06:49:29.673730Z",
     "start_time": "2023-09-20T06:49:29.581976Z"
    },
    "collapsed": true
   },
   "outputs": [
    {
     "data": {
      "image/png": "[encoded data removed]",
      "text/plain": [
       "<Figure size 640x480 with 1 Axes>"
      ]
     },
     "metadata": {},
     "output_type": "display_data"
    }
   ],
   "source": [
    "# 15000 번째 데이터 가져와서 시각화 해보기\n",
    "plt.imshow(data.iloc[14999,1:].values.reshape(28,28),cmap='gray')\n",
    "plt.show()"
   ]
  },
  {
   "cell_type": "markdown",
   "id": "5e5a441a",
   "metadata": {},
   "source": [
    "### 학습을 위한 데이터 분리 \n",
    "- X, y\n",
    "- 학습(7) : 테스트(3) : train_test.split\n",
    "- random_state : 10 "
   ]
  },
  {
   "cell_type": "code",
   "execution_count": 53,
   "id": "75d14bdd",
   "metadata": {
    "ExecuteTime": {
     "end_time": "2023-09-20T07:32:50.051179Z",
     "start_time": "2023-09-20T07:32:49.806837Z"
    }
   },
   "outputs": [
    {
     "name": "stdout",
     "output_type": "stream",
     "text": [
      "(29400, 784)\n",
      "(12600, 784)\n",
      "(29400,)\n",
      "(12600,)\n"
     ]
    }
   ],
   "source": [
    "# 1. 문제 : X, 정답 : y\n",
    "X=data.iloc[:,1:]\n",
    "y=data.iloc[:,0]\n",
    "\n",
    "# 2. 학습(7) : 테스트(3) 으로 나누기\n",
    "from sklearn.model_selection import train_test_split\n",
    "X_train, X_test, y_train, y_test = train_test_split(X,y,test_size=0.3,random_state=10)\n",
    "\n",
    "# 분리된 데이터 확인 \n",
    "print(X_train.shape)\n",
    "print(X_test.shape)\n",
    "print(y_train.shape)\n",
    "print(y_test.shape)"
   ]
  },
  {
   "cell_type": "markdown",
   "id": "57c31732",
   "metadata": {},
   "source": [
    "### 모델 선택\n",
    "- KNN\n",
    "- Logistic Regression\n",
    "- SVM"
   ]
  },
  {
   "cell_type": "code",
   "execution_count": 54,
   "id": "e9d930ab",
   "metadata": {
    "ExecuteTime": {
     "end_time": "2023-09-20T07:32:50.444309Z",
     "start_time": "2023-09-20T07:32:50.396434Z"
    }
   },
   "outputs": [],
   "source": [
    "from sklearn.neighbors import KNeighborsClassifier\n",
    "from sklearn.linear_model import LogisticRegression\n",
    "from sklearn.svm import LinearSVC\n",
    "\n",
    "# 모델 생성\n",
    "knn_model=KNeighborsClassifier()\n",
    "logi_model=LogisticRegression()\n",
    "svm_model=LinearSVC()"
   ]
  },
  {
   "cell_type": "markdown",
   "id": "5d763176",
   "metadata": {},
   "source": [
    "### 학습 "
   ]
  },
  {
   "cell_type": "code",
   "execution_count": 56,
   "id": "168f48c7",
   "metadata": {
    "ExecuteTime": {
     "end_time": "2023-09-20T07:33:37.427996Z",
     "start_time": "2023-09-20T07:32:52.407244Z"
    }
   },
   "outputs": [
    {
     "name": "stderr",
     "output_type": "stream",
     "text": [
      "C:\\Users\\user\\anaconda3\\lib\\site-packages\\sklearn\\linear_model\\_logistic.py:814: ConvergenceWarning: lbfgs failed to converge (status=1):\n",
      "STOP: TOTAL NO. of ITERATIONS REACHED LIMIT.\n",
      "\n",
      "Increase the number of iterations (max_iter) or scale the data as shown in:\n",
      "    https://scikit-learn.org/stable/modules/preprocessing.html\n",
      "Please also refer to the documentation for alternative solver options:\n",
      "    https://scikit-learn.org/stable/modules/linear_model.html#logistic-regression\n",
      "  n_iter_i = _check_optimize_result(\n",
      "C:\\Users\\user\\anaconda3\\lib\\site-packages\\sklearn\\svm\\_base.py:1206: ConvergenceWarning: Liblinear failed to converge, increase the number of iterations.\n",
      "  warnings.warn(\n"
     ]
    },
    {
     "data": {
      "text/plain": [
       "LinearSVC()"
      ]
     },
     "execution_count": 56,
     "metadata": {},
     "output_type": "execute_result"
    }
   ],
   "source": [
    "knn_model.fit(X_train,y_train)\n",
    "logi_model.fit(X_train,y_train)\n",
    "svm_model.fit(X_train,y_train)"
   ]
  },
  {
   "cell_type": "code",
   "execution_count": 57,
   "id": "6e5ee7f0",
   "metadata": {
    "ExecuteTime": {
     "end_time": "2023-09-20T07:33:48.839133Z",
     "start_time": "2023-09-20T07:33:37.523858Z"
    }
   },
   "outputs": [
    {
     "name": "stderr",
     "output_type": "stream",
     "text": [
      "C:\\Users\\user\\anaconda3\\lib\\site-packages\\sklearn\\neighbors\\_classification.py:228: FutureWarning: Unlike other reduction functions (e.g. `skew`, `kurtosis`), the default behavior of `mode` typically preserves the axis it acts along. In SciPy 1.11.0, this behavior will change: the default value of `keepdims` will become False, the `axis` over which the statistic is taken will be eliminated, and the value None will no longer be accepted. Set `keepdims` to True or False to avoid this warning.\n",
      "  mode, _ = stats.mode(_y[neigh_ind, k], axis=1)\n"
     ]
    },
    {
     "name": "stdout",
     "output_type": "stream",
     "text": [
      "KNN :  0.9657936507936508\n",
      "Logistic :  0.9156349206349207\n",
      "SVM :  0.817936507936508\n"
     ]
    }
   ],
   "source": [
    "print('KNN : ', knn_model.score(X_test,y_test))\n",
    "print('Logistic : ', logi_model.score(X_test,y_test))\n",
    "print('SVM : ', svm_model.score(X_test,y_test))"
   ]
  },
  {
   "cell_type": "markdown",
   "id": "0aad22db",
   "metadata": {},
   "source": [
    "### 데이터 스케일링\n",
    "- 이미지 데이터로 픽셸정보는 0 ~ 255 로 최소 / 최대가 고정되어 있음 \n",
    "- MinMaxScaler 를 사용하여 0 ~ 1 사이의 값으로 모든 픽셸을 조정 \n",
    "- 스케일링의 효과 확인하기\n",
    "    - 학습(연산) 속도 개선\n",
    "    - 값의 변화가 있는지 확인 \n",
    "- 거리기반으로 예측하는 KNN 모델은 값의 변화가 없었음 \n",
    "- KNN : 데이터가 많을수록 속도가 느려짐 => 모든 데이터에 대한 거리를 계산 "
   ]
  },
  {
   "cell_type": "code",
   "execution_count": 58,
   "id": "0804d499",
   "metadata": {
    "ExecuteTime": {
     "end_time": "2023-09-20T07:41:18.334788Z",
     "start_time": "2023-09-20T07:41:18.166119Z"
    }
   },
   "outputs": [
    {
     "data": {
      "text/plain": [
       "MinMaxScaler()"
      ]
     },
     "execution_count": 58,
     "metadata": {},
     "output_type": "execute_result"
    }
   ],
   "source": [
    "from sklearn.preprocessing import MinMaxScaler\n",
    "\n",
    "# 모델 생성 \n",
    "mscaler=MinMaxScaler() \n",
    "\n",
    "# 학습 \n",
    "# 현재 데이터 분포의 최소 / 최대 값 확인\n",
    "# 변환하는 기준값을 X_train 으로 추출 \n",
    "mscaler.fit(X_train)"
   ]
  },
  {
   "cell_type": "code",
   "execution_count": 59,
   "id": "ce6a20a3",
   "metadata": {
    "ExecuteTime": {
     "end_time": "2023-09-20T07:42:43.999669Z",
     "start_time": "2023-09-20T07:42:43.759897Z"
    }
   },
   "outputs": [],
   "source": [
    "# 문제 데이터에 스케일링 적용\n",
    "X_train_trans=mscaler.transform(X_train)\n",
    "X_test_trans=mscaler.transform(X_test)"
   ]
  },
  {
   "cell_type": "code",
   "execution_count": 64,
   "id": "568bc1c5",
   "metadata": {
    "ExecuteTime": {
     "end_time": "2023-09-20T07:45:42.690344Z",
     "start_time": "2023-09-20T07:45:14.231329Z"
    },
    "collapsed": true
   },
   "outputs": [
    {
     "name": "stderr",
     "output_type": "stream",
     "text": [
      "C:\\Users\\user\\anaconda3\\lib\\site-packages\\sklearn\\linear_model\\_logistic.py:814: ConvergenceWarning: lbfgs failed to converge (status=1):\n",
      "STOP: TOTAL NO. of ITERATIONS REACHED LIMIT.\n",
      "\n",
      "Increase the number of iterations (max_iter) or scale the data as shown in:\n",
      "    https://scikit-learn.org/stable/modules/preprocessing.html\n",
      "Please also refer to the documentation for alternative solver options:\n",
      "    https://scikit-learn.org/stable/modules/linear_model.html#logistic-regression\n",
      "  n_iter_i = _check_optimize_result(\n",
      "C:\\Users\\user\\anaconda3\\lib\\site-packages\\sklearn\\svm\\_base.py:1206: ConvergenceWarning: Liblinear failed to converge, increase the number of iterations.\n",
      "  warnings.warn(\n"
     ]
    },
    {
     "data": {
      "text/plain": [
       "LinearSVC()"
      ]
     },
     "execution_count": 64,
     "metadata": {},
     "output_type": "execute_result"
    }
   ],
   "source": [
    "# 스케일링을 적용한 데이터로 다시 학습\n",
    "knn_model.fit(X_train_trans,y_train)\n",
    "logi_model.fit(X_train_trans,y_train)\n",
    "svm_model.fit(X_train_trans,y_train)"
   ]
  },
  {
   "cell_type": "code",
   "execution_count": 65,
   "id": "fff7e564",
   "metadata": {
    "ExecuteTime": {
     "end_time": "2023-09-20T07:46:38.857254Z",
     "start_time": "2023-09-20T07:46:27.168514Z"
    }
   },
   "outputs": [
    {
     "name": "stderr",
     "output_type": "stream",
     "text": [
      "C:\\Users\\user\\anaconda3\\lib\\site-packages\\sklearn\\neighbors\\_classification.py:228: FutureWarning: Unlike other reduction functions (e.g. `skew`, `kurtosis`), the default behavior of `mode` typically preserves the axis it acts along. In SciPy 1.11.0, this behavior will change: the default value of `keepdims` will become False, the `axis` over which the statistic is taken will be eliminated, and the value None will no longer be accepted. Set `keepdims` to True or False to avoid this warning.\n",
      "  mode, _ = stats.mode(_y[neigh_ind, k], axis=1)\n"
     ]
    },
    {
     "name": "stdout",
     "output_type": "stream",
     "text": [
      "KNN :  0.9657936507936508\n",
      "Logistic :  0.9181746031746032\n",
      "SVM :  0.9073015873015873\n"
     ]
    }
   ],
   "source": [
    "# 변화값 확인\n",
    "print('KNN : ', knn_model.score(X_test_trans,y_test))\n",
    "print('Logistic : ', logi_model.score(X_test_trans,y_test))\n",
    "print('SVM : ', svm_model.score(X_test_trans,y_test))"
   ]
  },
  {
   "cell_type": "code",
   "execution_count": 66,
   "id": "c12eea3d",
   "metadata": {
    "ExecuteTime": {
     "end_time": "2023-09-20T08:25:27.143215Z",
     "start_time": "2023-09-20T08:25:27.126253Z"
    }
   },
   "outputs": [],
   "source": [
    "# KNN :  0.9657936507936508\n",
    "# Logistic :  0.9156349206349207\n",
    "# SVM :  0.817936507936508"
   ]
  },
  {
   "cell_type": "markdown",
   "id": "de9276cb",
   "metadata": {},
   "source": [
    "### 평가지표\n",
    "- 회귀 : 오차를 기반으로 하는 평가지표 사용 (MSE, R2score)\n",
    "- 분류 : 맞춘 개수를 기반으로 평가지표 사용\n",
    "    1. 정확도 (Accuracy) : 전체 데이터 중에서 정확히 맞춘 비율 \n",
    "    2. 재현율 (Recall) : 실제 양성중에서 정확히 맞춘 비율 \n",
    "    3. 정밀도 (Precision) : 예측하는 양성중에서 정확히 맞춘 비율 \n",
    "    4. F1-score : 정밀도와 재현율의 조화평균 \n",
    "- SVM : 초평면을 기준으로 소프트 백터의 마진이 클수록 좋은 결정경계"
   ]
  },
  {
   "cell_type": "code",
   "execution_count": 67,
   "id": "524cafa1",
   "metadata": {
    "ExecuteTime": {
     "end_time": "2023-09-20T08:29:05.208460Z",
     "start_time": "2023-09-20T08:29:05.190501Z"
    }
   },
   "outputs": [],
   "source": [
    "# 오차 행렬\n",
    "from sklearn.metrics import confusion_matrix"
   ]
  },
  {
   "cell_type": "code",
   "execution_count": 68,
   "id": "d696e58c",
   "metadata": {
    "ExecuteTime": {
     "end_time": "2023-09-20T08:29:44.678063Z",
     "start_time": "2023-09-20T08:29:44.637191Z"
    }
   },
   "outputs": [],
   "source": [
    "pre=logi_model.predict(X_test_trans)"
   ]
  },
  {
   "cell_type": "code",
   "execution_count": 69,
   "id": "aa768d99",
   "metadata": {
    "ExecuteTime": {
     "end_time": "2023-09-20T08:31:11.208341Z",
     "start_time": "2023-09-20T08:31:11.197395Z"
    }
   },
   "outputs": [
    {
     "data": {
      "text/plain": [
       "array([[1143,    0,    5,    4,    4,   11,   13,    1,    6,    1],\n",
       "       [   0, 1384,    4,    7,    1,    1,    0,    2,   13,    1],\n",
       "       [   3,   15, 1129,   24,   16,    9,   15,   12,   33,    4],\n",
       "       [   6,    5,   30, 1209,    0,   42,    4,    9,   19,    7],\n",
       "       [   2,    7,   11,    2, 1138,    0,   11,    2,    7,   38],\n",
       "       [   9,    4,    9,   41,    6, 1005,   20,    4,   45,    6],\n",
       "       [   6,    2,   11,    0,   10,   14, 1166,    3,    7,    0],\n",
       "       [   5,    8,   14,    7,   12,    4,    2, 1237,    2,   39],\n",
       "       [   7,   29,   17,   57,    6,   32,   14,    6, 1026,   23],\n",
       "       [   5,    4,    5,   24,   39,    7,    0,   50,    9, 1132]],\n",
       "      dtype=int64)"
      ]
     },
     "execution_count": 69,
     "metadata": {},
     "output_type": "execute_result"
    }
   ],
   "source": [
    "# confusion_matrix (실제값, 예측값)\n",
    "test_conf=confusion_matrix(y_test,pre)\n",
    "test_conf"
   ]
  },
  {
   "cell_type": "code",
   "execution_count": 72,
   "id": "c6f2ef7a",
   "metadata": {
    "ExecuteTime": {
     "end_time": "2023-09-20T08:33:22.096751Z",
     "start_time": "2023-09-20T08:33:22.084808Z"
    }
   },
   "outputs": [],
   "source": [
    "# 분류평가지표 4가지를 report 형식으로 확인 \n",
    "from sklearn.metrics import classification_report"
   ]
  },
  {
   "cell_type": "code",
   "execution_count": 74,
   "id": "d1917bd5",
   "metadata": {
    "ExecuteTime": {
     "end_time": "2023-09-20T08:33:59.040399Z",
     "start_time": "2023-09-20T08:33:59.005495Z"
    }
   },
   "outputs": [
    {
     "name": "stdout",
     "output_type": "stream",
     "text": [
      "              precision    recall  f1-score   support\n",
      "\n",
      "           0       0.96      0.96      0.96      1188\n",
      "           1       0.95      0.98      0.96      1413\n",
      "           2       0.91      0.90      0.91      1260\n",
      "           3       0.88      0.91      0.89      1331\n",
      "           4       0.92      0.93      0.93      1218\n",
      "           5       0.89      0.87      0.88      1149\n",
      "           6       0.94      0.96      0.95      1219\n",
      "           7       0.93      0.93      0.93      1330\n",
      "           8       0.88      0.84      0.86      1217\n",
      "           9       0.90      0.89      0.90      1275\n",
      "\n",
      "    accuracy                           0.92     12600\n",
      "   macro avg       0.92      0.92      0.92     12600\n",
      "weighted avg       0.92      0.92      0.92     12600\n",
      "\n"
     ]
    }
   ],
   "source": [
    "print(classification_report(y_test,pre))"
   ]
  },
  {
   "cell_type": "markdown",
   "id": "72a729a9",
   "metadata": {},
   "source": [
    "- support : 데이터의 갯수\n",
    "- accuracy : logi_model 의 예측성능은 92%, 각 숫자가 나올 확률은 다름 \n",
    "- fi-score : 정밀도와 재현율을 고려한 수치, 수치가 높게 나왔다면 두 분류지표 (정밀도, 재현율)도 높음을 알 수 있음\n",
    "- macro avg : 재현율, 정밀도, f1-score 을 구해서 각각 평균을 낸 값 \n",
    "    분류모델이 각 클래스에 대해 얼마나 평균적으로 잘 설명하고 있는지 알고 싶을 때 사용하는 수치 \n",
    "- weighted avg(가중평균) : 개별치(각 숫자) 각각의 중요도, 영향도(빈도) 등에 따라 가중치를 곱해서 구해지는 평균 "
   ]
  },
  {
   "cell_type": "code",
   "execution_count": null,
   "id": "dbc884d8",
   "metadata": {},
   "outputs": [],
   "source": []
  }
 ],
 "metadata": {
  "kernelspec": {
   "display_name": "Python 3 (ipykernel)",
   "language": "python",
   "name": "python3"
  },
  "language_info": {
   "codemirror_mode": {
    "name": "ipython",
    "version": 3
   },
   "file_extension": ".py",
   "mimetype": "text/x-python",
   "name": "python",
   "nbconvert_exporter": "python",
   "pygments_lexer": "ipython3",
   "version": "3.9.13"
  },
  "toc": {
   "base_numbering": 1,
   "nav_menu": {},
   "number_sections": true,
   "sideBar": true,
   "skip_h1_title": false,
   "title_cell": "Table of Contents",
   "title_sidebar": "Contents",
   "toc_cell": false,
   "toc_position": {},
   "toc_section_display": true,
   "toc_window_display": false
  },
  "varInspector": {
   "cols": {
    "lenName": 16,
    "lenType": 16,
    "lenVar": 40
   },
   "kernels_config": {
    "python": {
     "delete_cmd_postfix": "",
     "delete_cmd_prefix": "del ",
     "library": "var_list.py",
     "varRefreshCmd": "print(var_dic_list())"
    },
    "r": {
     "delete_cmd_postfix": ") ",
     "delete_cmd_prefix": "rm(",
     "library": "var_list.r",
     "varRefreshCmd": "cat(var_dic_list()) "
    }
   },
   "types_to_exclude": [
    "module",
    "function",
    "builtin_function_or_method",
    "instance",
    "_Feature"
   ],
   "window_display": false
  }
 },
 "nbformat": 4,
 "nbformat_minor": 5
}
